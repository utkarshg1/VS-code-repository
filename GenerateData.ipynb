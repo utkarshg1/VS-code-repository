{
 "cells": [
  {
   "attachments": {},
   "cell_type": "markdown",
   "metadata": {},
   "source": [
    "## Generating own data in python"
   ]
  },
  {
   "cell_type": "code",
   "execution_count": 1,
   "metadata": {},
   "outputs": [],
   "source": [
    "import numpy as np"
   ]
  },
  {
   "cell_type": "code",
   "execution_count": 2,
   "metadata": {},
   "outputs": [],
   "source": [
    "a = np.array([1,2,3])"
   ]
  },
  {
   "cell_type": "code",
   "execution_count": 3,
   "metadata": {},
   "outputs": [
    {
     "data": {
      "text/plain": [
       "array([1, 2, 3])"
      ]
     },
     "execution_count": 3,
     "metadata": {},
     "output_type": "execute_result"
    }
   ],
   "source": [
    "a"
   ]
  },
  {
   "cell_type": "code",
   "execution_count": 4,
   "metadata": {},
   "outputs": [
    {
     "data": {
      "text/plain": [
       "numpy.ndarray"
      ]
     },
     "execution_count": 4,
     "metadata": {},
     "output_type": "execute_result"
    }
   ],
   "source": [
    "type(a)"
   ]
  },
  {
   "cell_type": "code",
   "execution_count": 5,
   "metadata": {},
   "outputs": [
    {
     "data": {
      "text/plain": [
       "1"
      ]
     },
     "execution_count": 5,
     "metadata": {},
     "output_type": "execute_result"
    }
   ],
   "source": [
    "np.ndim(a)"
   ]
  },
  {
   "cell_type": "code",
   "execution_count": 6,
   "metadata": {},
   "outputs": [],
   "source": [
    "b = np.array([[1,2],\n",
    "              [2,3]])"
   ]
  },
  {
   "cell_type": "code",
   "execution_count": 7,
   "metadata": {},
   "outputs": [
    {
     "data": {
      "text/plain": [
       "array([[1, 2],\n",
       "       [2, 3]])"
      ]
     },
     "execution_count": 7,
     "metadata": {},
     "output_type": "execute_result"
    }
   ],
   "source": [
    "b"
   ]
  },
  {
   "cell_type": "code",
   "execution_count": 8,
   "metadata": {},
   "outputs": [
    {
     "data": {
      "text/plain": [
       "2"
      ]
     },
     "execution_count": 8,
     "metadata": {},
     "output_type": "execute_result"
    }
   ],
   "source": [
    "np.ndim(b)"
   ]
  },
  {
   "attachments": {},
   "cell_type": "markdown",
   "metadata": {},
   "source": [
    "## Generating the data"
   ]
  },
  {
   "cell_type": "code",
   "execution_count": 9,
   "metadata": {},
   "outputs": [],
   "source": [
    "ids = list(range(1,1001,1))"
   ]
  },
  {
   "cell_type": "code",
   "execution_count": 10,
   "metadata": {},
   "outputs": [],
   "source": [
    "names = ['Utkarsh','Raman','Sarthak','Aditi','Rahul','Rakesh','Suresh','Ramesh']\n",
    "names2 = np.random.choice(names,size=1000)"
   ]
  },
  {
   "cell_type": "code",
   "execution_count": 11,
   "metadata": {},
   "outputs": [
    {
     "data": {
      "text/plain": [
       "array(['Raman', 'Ramesh', 'Rakesh', 'Ramesh', 'Raman', 'Suresh',\n",
       "       'Utkarsh', 'Raman', 'Utkarsh', 'Suresh', 'Rahul', 'Sarthak',\n",
       "       'Utkarsh', 'Raman', 'Rakesh', 'Rahul', 'Aditi', 'Rahul', 'Ramesh',\n",
       "       'Raman', 'Rakesh', 'Rahul', 'Suresh', 'Rahul', 'Ramesh', 'Aditi',\n",
       "       'Rahul', 'Utkarsh', 'Ramesh', 'Sarthak', 'Rahul', 'Sarthak',\n",
       "       'Rahul', 'Aditi', 'Utkarsh', 'Ramesh', 'Ramesh', 'Suresh',\n",
       "       'Suresh', 'Sarthak', 'Ramesh', 'Sarthak', 'Utkarsh', 'Suresh',\n",
       "       'Suresh', 'Rahul', 'Utkarsh', 'Rakesh', 'Raman', 'Raman', 'Rakesh',\n",
       "       'Rahul', 'Rahul', 'Ramesh', 'Rakesh', 'Aditi', 'Utkarsh',\n",
       "       'Sarthak', 'Rakesh', 'Rakesh', 'Utkarsh', 'Ramesh', 'Ramesh',\n",
       "       'Raman', 'Raman', 'Raman', 'Aditi', 'Aditi', 'Raman', 'Ramesh',\n",
       "       'Raman', 'Raman', 'Ramesh', 'Utkarsh', 'Ramesh', 'Utkarsh',\n",
       "       'Suresh', 'Sarthak', 'Rakesh', 'Sarthak', 'Suresh', 'Rakesh',\n",
       "       'Aditi', 'Raman', 'Utkarsh', 'Sarthak', 'Aditi', 'Ramesh',\n",
       "       'Sarthak', 'Suresh', 'Aditi', 'Rahul', 'Sarthak', 'Aditi',\n",
       "       'Ramesh', 'Raman', 'Sarthak', 'Raman', 'Rakesh', 'Ramesh',\n",
       "       'Sarthak', 'Utkarsh', 'Raman', 'Rahul', 'Suresh', 'Sarthak',\n",
       "       'Raman', 'Sarthak', 'Suresh', 'Utkarsh', 'Ramesh', 'Rahul',\n",
       "       'Raman', 'Raman', 'Utkarsh', 'Ramesh', 'Aditi', 'Rahul', 'Rahul',\n",
       "       'Rahul', 'Ramesh', 'Sarthak', 'Aditi', 'Suresh', 'Rahul', 'Suresh',\n",
       "       'Aditi', 'Ramesh', 'Suresh', 'Aditi', 'Raman', 'Ramesh', 'Utkarsh',\n",
       "       'Rakesh', 'Rakesh', 'Rakesh', 'Rakesh', 'Sarthak', 'Utkarsh',\n",
       "       'Utkarsh', 'Rahul', 'Rahul', 'Suresh', 'Rakesh', 'Rakesh',\n",
       "       'Sarthak', 'Aditi', 'Utkarsh', 'Rakesh', 'Rakesh', 'Rahul',\n",
       "       'Suresh', 'Rahul', 'Suresh', 'Rahul', 'Aditi', 'Utkarsh', 'Aditi',\n",
       "       'Rakesh', 'Sarthak', 'Ramesh', 'Rakesh', 'Rahul', 'Sarthak',\n",
       "       'Raman', 'Sarthak', 'Rakesh', 'Rahul', 'Suresh', 'Rakesh', 'Raman',\n",
       "       'Rakesh', 'Rakesh', 'Raman', 'Aditi', 'Suresh', 'Raman', 'Ramesh',\n",
       "       'Suresh', 'Ramesh', 'Rahul', 'Sarthak', 'Sarthak', 'Rahul',\n",
       "       'Utkarsh', 'Aditi', 'Suresh', 'Sarthak', 'Ramesh', 'Ramesh',\n",
       "       'Ramesh', 'Suresh', 'Rakesh', 'Suresh', 'Rahul', 'Aditi',\n",
       "       'Utkarsh', 'Rakesh', 'Aditi', 'Raman', 'Aditi', 'Ramesh', 'Rahul',\n",
       "       'Rahul', 'Aditi', 'Raman', 'Sarthak', 'Utkarsh', 'Raman', 'Aditi',\n",
       "       'Suresh', 'Utkarsh', 'Utkarsh', 'Rahul', 'Aditi', 'Utkarsh',\n",
       "       'Suresh', 'Raman', 'Aditi', 'Raman', 'Sarthak', 'Aditi', 'Aditi',\n",
       "       'Utkarsh', 'Ramesh', 'Ramesh', 'Suresh', 'Rahul', 'Ramesh',\n",
       "       'Ramesh', 'Rakesh', 'Ramesh', 'Suresh', 'Ramesh', 'Aditi',\n",
       "       'Sarthak', 'Raman', 'Sarthak', 'Suresh', 'Utkarsh', 'Utkarsh',\n",
       "       'Utkarsh', 'Ramesh', 'Sarthak', 'Aditi', 'Aditi', 'Utkarsh',\n",
       "       'Suresh', 'Rahul', 'Suresh', 'Rakesh', 'Sarthak', 'Utkarsh',\n",
       "       'Rahul', 'Sarthak', 'Rahul', 'Ramesh', 'Utkarsh', 'Raman',\n",
       "       'Ramesh', 'Suresh', 'Rakesh', 'Rakesh', 'Utkarsh', 'Raman',\n",
       "       'Utkarsh', 'Sarthak', 'Utkarsh', 'Suresh', 'Ramesh', 'Utkarsh',\n",
       "       'Rahul', 'Rakesh', 'Rahul', 'Ramesh', 'Sarthak', 'Aditi',\n",
       "       'Sarthak', 'Suresh', 'Aditi', 'Rakesh', 'Sarthak', 'Suresh',\n",
       "       'Rakesh', 'Aditi', 'Suresh', 'Rakesh', 'Rahul', 'Rahul', 'Suresh',\n",
       "       'Suresh', 'Rakesh', 'Rahul', 'Suresh', 'Utkarsh', 'Rakesh',\n",
       "       'Rahul', 'Aditi', 'Rakesh', 'Ramesh', 'Suresh', 'Raman', 'Suresh',\n",
       "       'Raman', 'Aditi', 'Aditi', 'Utkarsh', 'Ramesh', 'Utkarsh',\n",
       "       'Sarthak', 'Sarthak', 'Aditi', 'Aditi', 'Utkarsh', 'Rahul',\n",
       "       'Ramesh', 'Rahul', 'Utkarsh', 'Aditi', 'Utkarsh', 'Aditi',\n",
       "       'Rakesh', 'Raman', 'Aditi', 'Rahul', 'Raman', 'Ramesh', 'Rakesh',\n",
       "       'Utkarsh', 'Sarthak', 'Ramesh', 'Rakesh', 'Rahul', 'Raman',\n",
       "       'Utkarsh', 'Raman', 'Utkarsh', 'Utkarsh', 'Suresh', 'Suresh',\n",
       "       'Raman', 'Aditi', 'Ramesh', 'Ramesh', 'Suresh', 'Rakesh', 'Ramesh',\n",
       "       'Suresh', 'Rahul', 'Utkarsh', 'Rakesh', 'Sarthak', 'Rakesh',\n",
       "       'Rahul', 'Suresh', 'Raman', 'Rakesh', 'Aditi', 'Raman', 'Ramesh',\n",
       "       'Aditi', 'Aditi', 'Rahul', 'Ramesh', 'Suresh', 'Aditi', 'Aditi',\n",
       "       'Aditi', 'Suresh', 'Rahul', 'Aditi', 'Utkarsh', 'Sarthak', 'Aditi',\n",
       "       'Rakesh', 'Rakesh', 'Utkarsh', 'Raman', 'Ramesh', 'Ramesh',\n",
       "       'Rahul', 'Utkarsh', 'Suresh', 'Raman', 'Sarthak', 'Rahul', 'Aditi',\n",
       "       'Raman', 'Rakesh', 'Rakesh', 'Suresh', 'Rahul', 'Rakesh', 'Aditi',\n",
       "       'Sarthak', 'Rahul', 'Rahul', 'Sarthak', 'Utkarsh', 'Suresh',\n",
       "       'Aditi', 'Ramesh', 'Raman', 'Ramesh', 'Suresh', 'Utkarsh',\n",
       "       'Ramesh', 'Aditi', 'Sarthak', 'Aditi', 'Utkarsh', 'Aditi',\n",
       "       'Ramesh', 'Suresh', 'Raman', 'Utkarsh', 'Utkarsh', 'Ramesh',\n",
       "       'Rahul', 'Rahul', 'Rakesh', 'Rakesh', 'Sarthak', 'Rakesh',\n",
       "       'Sarthak', 'Ramesh', 'Suresh', 'Rakesh', 'Aditi', 'Ramesh',\n",
       "       'Aditi', 'Aditi', 'Utkarsh', 'Rakesh', 'Suresh', 'Sarthak',\n",
       "       'Rakesh', 'Suresh', 'Aditi', 'Ramesh', 'Raman', 'Suresh', 'Suresh',\n",
       "       'Aditi', 'Utkarsh', 'Utkarsh', 'Ramesh', 'Suresh', 'Sarthak',\n",
       "       'Ramesh', 'Utkarsh', 'Raman', 'Utkarsh', 'Rakesh', 'Rahul',\n",
       "       'Rakesh', 'Ramesh', 'Sarthak', 'Ramesh', 'Utkarsh', 'Aditi',\n",
       "       'Rakesh', 'Aditi', 'Rakesh', 'Ramesh', 'Sarthak', 'Raman',\n",
       "       'Ramesh', 'Rahul', 'Suresh', 'Aditi', 'Ramesh', 'Suresh', 'Aditi',\n",
       "       'Rahul', 'Aditi', 'Rahul', 'Sarthak', 'Suresh', 'Suresh', 'Suresh',\n",
       "       'Suresh', 'Ramesh', 'Rahul', 'Utkarsh', 'Utkarsh', 'Sarthak',\n",
       "       'Utkarsh', 'Rakesh', 'Aditi', 'Raman', 'Aditi', 'Aditi', 'Aditi',\n",
       "       'Utkarsh', 'Raman', 'Suresh', 'Utkarsh', 'Sarthak', 'Utkarsh',\n",
       "       'Aditi', 'Sarthak', 'Utkarsh', 'Utkarsh', 'Ramesh', 'Aditi',\n",
       "       'Rakesh', 'Raman', 'Ramesh', 'Ramesh', 'Ramesh', 'Suresh',\n",
       "       'Utkarsh', 'Sarthak', 'Aditi', 'Ramesh', 'Ramesh', 'Sarthak',\n",
       "       'Sarthak', 'Raman', 'Suresh', 'Raman', 'Ramesh', 'Suresh', 'Aditi',\n",
       "       'Ramesh', 'Utkarsh', 'Utkarsh', 'Rahul', 'Rakesh', 'Rakesh',\n",
       "       'Sarthak', 'Raman', 'Sarthak', 'Sarthak', 'Utkarsh', 'Sarthak',\n",
       "       'Rahul', 'Ramesh', 'Ramesh', 'Raman', 'Rahul', 'Utkarsh',\n",
       "       'Sarthak', 'Rakesh', 'Utkarsh', 'Raman', 'Suresh', 'Sarthak',\n",
       "       'Utkarsh', 'Aditi', 'Rakesh', 'Utkarsh', 'Rahul', 'Raman',\n",
       "       'Utkarsh', 'Utkarsh', 'Aditi', 'Raman', 'Raman', 'Ramesh',\n",
       "       'Sarthak', 'Suresh', 'Rahul', 'Ramesh', 'Rahul', 'Sarthak',\n",
       "       'Rahul', 'Sarthak', 'Rahul', 'Sarthak', 'Aditi', 'Rahul', 'Ramesh',\n",
       "       'Rahul', 'Sarthak', 'Rakesh', 'Utkarsh', 'Ramesh', 'Raman',\n",
       "       'Rahul', 'Suresh', 'Ramesh', 'Utkarsh', 'Rahul', 'Raman', 'Ramesh',\n",
       "       'Rahul', 'Rahul', 'Sarthak', 'Utkarsh', 'Suresh', 'Aditi',\n",
       "       'Utkarsh', 'Suresh', 'Suresh', 'Ramesh', 'Sarthak', 'Rahul',\n",
       "       'Rahul', 'Aditi', 'Ramesh', 'Raman', 'Utkarsh', 'Sarthak',\n",
       "       'Utkarsh', 'Raman', 'Ramesh', 'Sarthak', 'Raman', 'Rakesh',\n",
       "       'Rahul', 'Raman', 'Ramesh', 'Raman', 'Aditi', 'Raman', 'Ramesh',\n",
       "       'Suresh', 'Sarthak', 'Rahul', 'Rakesh', 'Rakesh', 'Sarthak',\n",
       "       'Rahul', 'Utkarsh', 'Suresh', 'Suresh', 'Raman', 'Ramesh', 'Raman',\n",
       "       'Rahul', 'Utkarsh', 'Aditi', 'Sarthak', 'Suresh', 'Ramesh',\n",
       "       'Aditi', 'Utkarsh', 'Utkarsh', 'Suresh', 'Sarthak', 'Suresh',\n",
       "       'Rahul', 'Suresh', 'Rakesh', 'Rahul', 'Utkarsh', 'Utkarsh',\n",
       "       'Rahul', 'Raman', 'Sarthak', 'Ramesh', 'Rahul', 'Utkarsh',\n",
       "       'Ramesh', 'Raman', 'Rakesh', 'Sarthak', 'Suresh', 'Sarthak',\n",
       "       'Suresh', 'Raman', 'Rahul', 'Ramesh', 'Ramesh', 'Raman', 'Sarthak',\n",
       "       'Aditi', 'Ramesh', 'Suresh', 'Rakesh', 'Aditi', 'Utkarsh', 'Rahul',\n",
       "       'Suresh', 'Utkarsh', 'Rakesh', 'Utkarsh', 'Rakesh', 'Raman',\n",
       "       'Rakesh', 'Rakesh', 'Rahul', 'Utkarsh', 'Suresh', 'Aditi', 'Raman',\n",
       "       'Raman', 'Ramesh', 'Ramesh', 'Utkarsh', 'Raman', 'Rahul', 'Suresh',\n",
       "       'Aditi', 'Raman', 'Raman', 'Suresh', 'Aditi', 'Raman', 'Rakesh',\n",
       "       'Rahul', 'Rakesh', 'Suresh', 'Utkarsh', 'Utkarsh', 'Rahul',\n",
       "       'Rakesh', 'Ramesh', 'Sarthak', 'Rakesh', 'Suresh', 'Rakesh',\n",
       "       'Aditi', 'Raman', 'Suresh', 'Utkarsh', 'Ramesh', 'Rakesh',\n",
       "       'Ramesh', 'Aditi', 'Sarthak', 'Aditi', 'Suresh', 'Ramesh', 'Rahul',\n",
       "       'Rakesh', 'Rahul', 'Rakesh', 'Aditi', 'Raman', 'Rahul', 'Rahul',\n",
       "       'Ramesh', 'Suresh', 'Aditi', 'Utkarsh', 'Suresh', 'Sarthak',\n",
       "       'Rakesh', 'Aditi', 'Aditi', 'Raman', 'Rakesh', 'Aditi', 'Rakesh',\n",
       "       'Ramesh', 'Suresh', 'Aditi', 'Aditi', 'Aditi', 'Rakesh', 'Raman',\n",
       "       'Aditi', 'Sarthak', 'Raman', 'Rahul', 'Rakesh', 'Ramesh',\n",
       "       'Utkarsh', 'Sarthak', 'Utkarsh', 'Aditi', 'Suresh', 'Utkarsh',\n",
       "       'Utkarsh', 'Ramesh', 'Aditi', 'Sarthak', 'Rahul', 'Utkarsh',\n",
       "       'Utkarsh', 'Sarthak', 'Aditi', 'Sarthak', 'Utkarsh', 'Suresh',\n",
       "       'Rakesh', 'Raman', 'Ramesh', 'Sarthak', 'Suresh', 'Aditi', 'Aditi',\n",
       "       'Utkarsh', 'Rakesh', 'Rahul', 'Rahul', 'Raman', 'Rahul', 'Sarthak',\n",
       "       'Ramesh', 'Rahul', 'Sarthak', 'Utkarsh', 'Rakesh', 'Raman',\n",
       "       'Ramesh', 'Sarthak', 'Rakesh', 'Rakesh', 'Rakesh', 'Utkarsh',\n",
       "       'Suresh', 'Sarthak', 'Ramesh', 'Sarthak', 'Utkarsh', 'Rahul',\n",
       "       'Suresh', 'Raman', 'Rahul', 'Raman', 'Rahul', 'Utkarsh', 'Utkarsh',\n",
       "       'Rahul', 'Sarthak', 'Utkarsh', 'Ramesh', 'Aditi', 'Sarthak',\n",
       "       'Raman', 'Ramesh', 'Ramesh', 'Raman', 'Rahul', 'Ramesh', 'Suresh',\n",
       "       'Raman', 'Raman', 'Aditi', 'Aditi', 'Utkarsh', 'Sarthak',\n",
       "       'Sarthak', 'Raman', 'Sarthak', 'Rahul', 'Suresh', 'Sarthak',\n",
       "       'Utkarsh', 'Rahul', 'Sarthak', 'Aditi', 'Ramesh', 'Rahul', 'Raman',\n",
       "       'Rakesh', 'Utkarsh', 'Sarthak', 'Sarthak', 'Sarthak', 'Ramesh',\n",
       "       'Ramesh', 'Ramesh', 'Ramesh', 'Ramesh', 'Ramesh', 'Sarthak',\n",
       "       'Rahul', 'Ramesh', 'Ramesh', 'Ramesh', 'Aditi', 'Aditi', 'Rahul',\n",
       "       'Utkarsh', 'Sarthak', 'Aditi', 'Rakesh', 'Rahul', 'Ramesh',\n",
       "       'Raman', 'Rahul', 'Aditi', 'Utkarsh', 'Rahul', 'Utkarsh',\n",
       "       'Sarthak', 'Rahul', 'Aditi', 'Rahul', 'Suresh', 'Sarthak', 'Aditi',\n",
       "       'Aditi', 'Sarthak', 'Ramesh', 'Rahul', 'Suresh', 'Sarthak',\n",
       "       'Ramesh', 'Ramesh', 'Aditi', 'Raman', 'Rahul', 'Raman', 'Utkarsh',\n",
       "       'Aditi', 'Ramesh', 'Suresh', 'Ramesh', 'Suresh', 'Rahul', 'Suresh',\n",
       "       'Sarthak', 'Rakesh', 'Sarthak', 'Aditi', 'Aditi', 'Rakesh',\n",
       "       'Rahul', 'Rakesh', 'Rahul', 'Utkarsh', 'Ramesh', 'Rakesh',\n",
       "       'Ramesh', 'Sarthak', 'Aditi', 'Suresh', 'Suresh', 'Suresh',\n",
       "       'Rakesh', 'Rahul', 'Rahul', 'Utkarsh', 'Rahul', 'Rahul', 'Utkarsh',\n",
       "       'Raman', 'Utkarsh', 'Utkarsh', 'Aditi', 'Ramesh', 'Ramesh',\n",
       "       'Rakesh', 'Utkarsh', 'Utkarsh', 'Suresh', 'Ramesh', 'Utkarsh',\n",
       "       'Aditi', 'Suresh', 'Utkarsh', 'Sarthak', 'Rakesh', 'Aditi',\n",
       "       'Suresh', 'Rahul', 'Raman', 'Rakesh', 'Sarthak', 'Sarthak',\n",
       "       'Sarthak', 'Suresh', 'Rakesh', 'Raman', 'Rakesh', 'Rahul',\n",
       "       'Sarthak', 'Sarthak', 'Raman', 'Suresh', 'Sarthak', 'Rakesh',\n",
       "       'Suresh', 'Suresh', 'Aditi', 'Rahul', 'Aditi', 'Aditi', 'Rakesh',\n",
       "       'Suresh', 'Aditi', 'Rahul', 'Sarthak', 'Aditi', 'Raman', 'Rakesh',\n",
       "       'Suresh', 'Aditi', 'Rahul', 'Utkarsh', 'Raman', 'Sarthak',\n",
       "       'Rakesh', 'Rahul', 'Aditi', 'Utkarsh', 'Raman', 'Rakesh', 'Ramesh',\n",
       "       'Rakesh', 'Aditi', 'Utkarsh', 'Raman', 'Utkarsh'], dtype='<U7')"
      ]
     },
     "execution_count": 11,
     "metadata": {},
     "output_type": "execute_result"
    }
   ],
   "source": [
    "names2"
   ]
  },
  {
   "cell_type": "code",
   "execution_count": 14,
   "metadata": {},
   "outputs": [],
   "source": [
    "scores = np.random.normal(loc=70,scale=10,size=1000)"
   ]
  },
  {
   "cell_type": "code",
   "execution_count": 15,
   "metadata": {},
   "outputs": [
    {
     "data": {
      "text/plain": [
       "array([66.53533012, 82.15418552, 76.83821021, 70.24371719, 77.89226392,\n",
       "       72.59707428, 72.81771104, 70.78179387, 67.82256138, 67.60212594,\n",
       "       74.50522368, 80.70758588, 71.57658306, 81.95978675, 54.73265422,\n",
       "       49.83535344, 48.60842242, 74.87941962, 77.40939536, 80.80446655,\n",
       "       87.78025599, 74.56883774, 75.0801766 , 62.42703817, 63.17465261,\n",
       "       60.16111805, 79.73739449, 58.79272152, 77.3984663 , 61.85923062,\n",
       "       73.81574894, 68.14924737, 77.85507104, 67.47467056, 64.13659566,\n",
       "       78.87762637, 85.98849589, 71.77897979, 61.82742751, 70.53141599,\n",
       "       72.39175316, 72.40607573, 63.49669264, 94.17983024, 68.83072388,\n",
       "       68.43659297, 68.59280853, 76.18582764, 74.73385449, 67.19270602,\n",
       "       69.31143267, 79.43506863, 88.75599288, 66.8912874 , 58.48276725,\n",
       "       60.85465472, 88.33665416, 65.85987815, 68.36274722, 72.98851916,\n",
       "       51.46736934, 82.51738651, 69.18510846, 63.38561168, 64.34779241,\n",
       "       73.03865515, 82.0300459 , 59.80668943, 73.84267488, 52.91663428,\n",
       "       72.5564088 , 87.45887974, 73.06428086, 64.4572236 , 86.20579488,\n",
       "       68.58789683, 58.88424858, 65.36175831, 61.69713025, 74.27121729,\n",
       "       58.47977345, 63.65790837, 73.64977389, 74.37695555, 62.18101198,\n",
       "       51.76331203, 60.35013627, 66.72384839, 70.88778574, 93.26826801,\n",
       "       71.74657425, 55.55564209, 79.47906371, 71.67039632, 70.06199085,\n",
       "       61.23705886, 63.6303454 , 69.19511717, 69.91931985, 62.33832617,\n",
       "       85.67504982, 74.42958053, 74.10280176, 67.54443656, 80.26664795,\n",
       "       61.82221786, 56.92451976, 83.31792349, 82.24600101, 73.4734993 ,\n",
       "       59.78648748, 68.0183702 , 78.47829862, 74.8993892 , 65.67554307,\n",
       "       70.45382163, 56.96122117, 83.52741473, 76.53334866, 65.83542718,\n",
       "       65.71540558, 82.14296308, 73.1349847 , 77.53222711, 64.43975994,\n",
       "       63.4777081 , 58.66909745, 61.38972454, 83.95389003, 87.68096106,\n",
       "       56.29096405, 67.10939887, 56.15105772, 80.74365608, 74.29473112,\n",
       "       59.81302788, 69.31623951, 93.25176286, 51.47674393, 79.98195437,\n",
       "       82.8488393 , 79.98268736, 55.87169936, 56.78007927, 69.97897856,\n",
       "       80.55027276, 70.23744028, 53.64860028, 70.89641599, 68.80647587,\n",
       "       55.13710725, 83.07065457, 74.91835874, 68.39928112, 68.84830023,\n",
       "       61.49505651, 65.9450598 , 84.66051822, 80.8192962 , 64.34272501,\n",
       "       73.357346  , 75.67910453, 72.47220509, 67.2019394 , 64.94939808,\n",
       "       91.23110622, 73.20912701, 70.00617035, 80.80679699, 61.87141534,\n",
       "       89.8762198 , 83.50954966, 96.04407707, 69.91790108, 58.38342023,\n",
       "       60.51552784, 77.38592413, 64.59616221, 62.45420234, 81.16740133,\n",
       "       57.61713412, 53.64568765, 77.32284871, 60.37702871, 70.58826495,\n",
       "       68.02029542, 59.8903239 , 60.95248219, 74.47410932, 64.09110737,\n",
       "       66.88034144, 93.83359702, 71.44246298, 63.8739855 , 88.68711048,\n",
       "       61.82856692, 71.78207649, 69.02955465, 58.34439173, 59.79538488,\n",
       "       62.25652983, 50.32859169, 59.66592386, 67.1697611 , 62.81013912,\n",
       "       78.37823683, 70.12769136, 68.08423297, 63.62717609, 40.62312954,\n",
       "       65.42153365, 73.23221277, 79.2730015 , 63.22538537, 89.78510162,\n",
       "       64.94394669, 61.34003674, 66.10621566, 74.2803678 , 64.22902523,\n",
       "       57.80130232, 58.46690162, 61.90390658, 77.70859395, 74.0278697 ,\n",
       "       69.66210445, 67.54632264, 88.98356868, 62.61949271, 66.07201155,\n",
       "       78.04972024, 81.37104459, 78.4281644 , 72.71434951, 86.14279686,\n",
       "       63.95990236, 65.27389073, 64.1720094 , 78.37104975, 60.09719894,\n",
       "       74.06421713, 74.78220345, 67.15742995, 70.22742896, 71.85543053,\n",
       "       77.39237872, 55.87598442, 51.27157817, 81.37353067, 85.47906567,\n",
       "       74.56119565, 76.0170387 , 58.34196123, 75.68995468, 71.1562195 ,\n",
       "       66.12247832, 56.85887487, 75.66085302, 84.57675142, 60.07848329,\n",
       "       63.69860443, 81.54529698, 78.89954483, 66.78168501, 68.74473813,\n",
       "       76.7302471 , 66.59594597, 71.62814319, 90.25036506, 64.65818365,\n",
       "       60.89521192, 97.09669645, 77.68010789, 74.51242307, 67.578618  ,\n",
       "       66.92130769, 82.24039425, 66.79416378, 63.6118542 , 62.97712785,\n",
       "       74.28676228, 74.65608792, 63.58995805, 74.0447653 , 64.72646645,\n",
       "       56.33962352, 82.24816931, 70.84922824, 64.96358684, 81.33456602,\n",
       "       52.80439438, 77.73033133, 50.38280075, 66.69020782, 65.2016871 ,\n",
       "       65.86854716, 80.81548858, 66.10356101, 72.3366073 , 76.35487435,\n",
       "       79.55584748, 62.31227773, 77.47031684, 73.33558182, 58.97723376,\n",
       "       69.95542955, 66.18861058, 82.51510376, 86.28819281, 94.05280579,\n",
       "       75.7380887 , 75.59920221, 71.38776394, 72.46157898, 82.15753787,\n",
       "       78.24706135, 69.21606641, 80.82021605, 57.16734136, 69.75770008,\n",
       "       70.72996262, 67.74531717, 71.85550777, 74.7191585 , 59.26544412,\n",
       "       58.34360279, 71.92607273, 61.39411207, 58.53678072, 77.11817507,\n",
       "       54.67644123, 52.80206421, 79.92845855, 63.19468024, 68.43693442,\n",
       "       72.22103645, 61.26974501, 75.68465734, 64.38370778, 90.59607815,\n",
       "       61.04340753, 71.64434105, 74.22777431, 69.95390277, 70.91147021,\n",
       "       66.75565293, 75.65302748, 67.33293925, 62.11653176, 60.42646706,\n",
       "       60.34746514, 69.9938559 , 49.48307669, 87.63913827, 46.13193405,\n",
       "       73.97362757, 46.59415321, 60.61005239, 43.59389183, 71.10271957,\n",
       "       59.70147743, 58.94938908, 69.00298102, 66.73845073, 72.04090639,\n",
       "       63.66851929, 51.14843458, 76.98704996, 69.32328932, 71.02118681,\n",
       "       60.9366292 , 71.13495925, 72.12672153, 82.59192926, 60.13362134,\n",
       "       80.23165068, 63.49103655, 58.52682858, 72.79948673, 72.25394143,\n",
       "       68.23001789, 57.98977905, 61.37027993, 61.45275425, 50.48756829,\n",
       "       62.47207275, 75.05616572, 61.1720412 , 64.87217714, 80.81565217,\n",
       "       78.15560319, 77.74672148, 77.53307839, 81.18458812, 53.14828236,\n",
       "       81.92645872, 67.93310394, 54.47541803, 67.33868545, 68.08202189,\n",
       "       65.00670905, 61.59505265, 60.30534277, 72.11891276, 54.19506142,\n",
       "       80.26439319, 88.82229199, 66.31508576, 78.17665814, 74.02045422,\n",
       "       64.84828675, 68.60331288, 65.35421316, 96.63071205, 68.25987487,\n",
       "       71.61197675, 72.67111173, 81.41006053, 81.41764556, 87.71396286,\n",
       "       58.90393519, 56.859446  , 81.0485662 , 66.28141315, 66.613623  ,\n",
       "       72.70848475, 58.79950281, 77.3800202 , 85.97771649, 71.74832686,\n",
       "       75.31455726, 84.38646825, 57.86015512, 52.86125437, 82.93328464,\n",
       "       74.04158895, 81.81115739, 66.37371835, 76.76110053, 67.52485348,\n",
       "       73.00196622, 69.97768757, 72.51956923, 80.11239779, 76.17576995,\n",
       "       64.21537395, 68.16936892, 72.83168251, 62.4633842 , 60.81189166,\n",
       "       47.22495137, 69.00533357, 68.69746656, 63.83926119, 71.99375592,\n",
       "       65.6119651 , 66.2559275 , 87.81269704, 68.44623638, 67.35507916,\n",
       "       61.89069312, 75.40214396, 86.68211543, 68.59439063, 68.37569473,\n",
       "       61.50555546, 78.53068426, 72.40252043, 60.3875645 , 70.48919249,\n",
       "       86.77021964, 66.03101538, 58.6587989 , 68.61310957, 68.36742035,\n",
       "       63.10181394, 82.45328663, 59.75463588, 57.67888821, 65.00927369,\n",
       "       88.87280861, 68.59426378, 78.381745  , 65.97528047, 75.57325987,\n",
       "       66.97040557, 80.81983959, 64.6337431 , 98.11037721, 73.96836528,\n",
       "       80.54178115, 79.17938491, 48.71475927, 86.58174687, 75.15859373,\n",
       "       70.69100919, 59.87191482, 66.08277371, 58.50935894, 56.26752959,\n",
       "       69.27643933, 87.06190044, 73.53792411, 80.96444301, 88.19821127,\n",
       "       74.56330894, 74.54677003, 65.03832701, 65.80393292, 71.92889597,\n",
       "       62.55147803, 53.85006064, 74.1702914 , 75.99404838, 58.78619557,\n",
       "       66.62631176, 63.32351243, 67.26899314, 65.21726224, 61.74912173,\n",
       "       51.99222784, 87.95423427, 71.29655843, 78.37467609, 58.35882584,\n",
       "       67.66712234, 56.41981129, 65.24735961, 67.79287712, 66.24396967,\n",
       "       58.62446387, 59.76421461, 62.13736303, 87.08580092, 73.22755983,\n",
       "       96.27063593, 64.85036086, 68.94301133, 56.30248433, 67.18454755,\n",
       "       64.29630076, 64.09624109, 78.55894718, 74.41166377, 63.07404515,\n",
       "       52.46832779, 63.7361671 , 67.46617352, 73.5158159 , 79.18090087,\n",
       "       64.8191736 , 77.98826552, 75.44147526, 69.20566466, 65.41552038,\n",
       "       73.96103098, 56.19694914, 66.36595741, 59.33534819, 71.75464402,\n",
       "       81.95204696, 64.64920134, 62.81924117, 51.67832969, 57.46488765,\n",
       "       65.42631587, 72.51315276, 61.85126522, 63.33562155, 73.08265425,\n",
       "       49.70295572, 75.80467319, 77.27326559, 71.26193232, 64.95500228,\n",
       "       63.7924367 , 59.87082092, 71.73190964, 71.72426635, 68.32348118,\n",
       "       66.94436486, 59.26764826, 62.92762133, 75.81665816, 67.18251282,\n",
       "       70.82706322, 65.11150416, 63.29277388, 63.60352785, 68.20968866,\n",
       "       68.52267744, 80.17351098, 68.36685096, 71.01081651, 67.15832776,\n",
       "       74.29235187, 93.22105473, 78.31990089, 66.40186931, 54.74345875,\n",
       "       83.38080149, 68.11112951, 70.91279847, 68.13386632, 78.94084703,\n",
       "       53.00076841, 74.69787848, 57.47394385, 61.62576732, 66.60358136,\n",
       "       56.40815273, 76.36046602, 61.16503098, 85.54318888, 76.73560179,\n",
       "       62.35617374, 74.40396032, 53.10248216, 65.36478417, 68.81661266,\n",
       "       55.59216591, 91.14207786, 83.1217583 , 70.22836029, 65.18019494,\n",
       "       83.16303235, 71.684841  , 57.4242834 , 58.48260635, 67.20039073,\n",
       "       78.20132034, 82.39100651, 72.98805821, 54.33178369, 54.51970148,\n",
       "       64.55914141, 55.14529535, 59.02862836, 66.64226003, 59.73925401,\n",
       "       81.85874911, 68.49001469, 78.04094224, 80.3552221 , 70.96999905,\n",
       "       78.99384818, 75.07596481, 78.8392249 , 63.17944678, 67.89368105,\n",
       "       58.32445089, 60.18078075, 81.5625709 , 69.49904995, 74.3766432 ,\n",
       "       67.46076967, 90.73345732, 74.74622962, 60.65442167, 79.38816228,\n",
       "       68.24988009, 82.53181339, 64.95298042, 68.97891158, 69.33558445,\n",
       "       65.88021711, 83.59980861, 66.09070614, 61.78362452, 83.39350432,\n",
       "       69.3096402 , 69.42312648, 83.71014147, 99.24505305, 57.42622566,\n",
       "       69.17817002, 82.08568303, 80.81669237, 72.4104464 , 71.48256896,\n",
       "       55.96034203, 81.74754488, 76.10139589, 78.56915876, 74.90993303,\n",
       "       68.51442203, 81.75657915, 82.94516386, 78.46692749, 90.7593508 ,\n",
       "       83.75663233, 64.23435239, 65.94197525, 70.71569495, 69.75563767,\n",
       "       67.70838376, 78.40839462, 78.62946011, 82.80458052, 65.33229685,\n",
       "       55.65001713, 45.37911045, 83.53982211, 60.82840727, 87.88545645,\n",
       "       51.7154137 , 66.26462355, 80.50047439, 68.20517864, 60.59906249,\n",
       "       52.26025444, 74.90377587, 74.99552956, 68.45946008, 74.88352644,\n",
       "       64.51060648, 62.19700912, 75.04421107, 82.42083881, 65.13768652,\n",
       "       74.75324765, 65.72503598, 72.93066355, 69.17095109, 68.2024257 ,\n",
       "       54.93778166, 66.43318908, 86.19181269, 80.85935616, 85.00470414,\n",
       "       83.74416501, 69.9494119 , 81.78730012, 65.34551279, 86.59133752,\n",
       "       75.73683714, 78.89535341, 79.97156361, 52.42704161, 74.53807743,\n",
       "       61.09533525, 77.09364662, 68.95724878, 51.93620427, 86.05638499,\n",
       "       91.06719927, 97.33992582, 73.0764561 , 36.1959615 , 64.07163887,\n",
       "       87.79954397, 71.45407665, 77.92919302, 46.89285243, 88.79137628,\n",
       "       70.80017257, 62.02520719, 66.54386793, 67.11285686, 57.47951663,\n",
       "       75.60347497, 76.98973944, 63.24505881, 85.50117381, 50.94300445,\n",
       "       80.52554492, 60.59832025, 72.06132644, 67.35479242, 89.21664062,\n",
       "       47.46751389, 75.29718954, 51.40457492, 53.5192507 , 70.21074127,\n",
       "       45.23925252, 70.15347791, 68.68672542, 69.50865016, 74.17021394,\n",
       "       94.85030543, 79.41358755, 58.90669988, 69.4602562 , 81.6993055 ,\n",
       "       76.84621808, 55.5467154 , 81.35797017, 71.17399179, 73.07547579,\n",
       "       75.51351718, 68.64639808, 81.13290089, 68.44352643, 67.80770031,\n",
       "       97.11286446, 76.45709548, 51.07872706, 79.21100394, 62.95747461,\n",
       "       64.37908013, 61.14963285, 55.68058011, 62.81259153, 66.74245082,\n",
       "       52.18465498, 75.75291359, 74.52351256, 77.99854638, 79.1508138 ,\n",
       "       67.42755568, 65.42752436, 71.79467525, 64.89494164, 67.03423285,\n",
       "       65.54566954, 73.25425142, 77.85374656, 84.3690548 , 72.6652787 ,\n",
       "       66.21276078, 44.86502002, 48.44540904, 64.91628807, 61.08075014,\n",
       "       66.7362087 , 71.66689794, 71.42039836, 70.32851374, 62.75675932,\n",
       "       76.87839151, 51.13427426, 73.85291524, 62.87331586, 79.59813214,\n",
       "       73.67176677, 60.53107944, 78.82232278, 66.76694347, 78.40577926,\n",
       "       73.54778121, 65.82639676, 59.32985814, 82.19944486, 70.64539887,\n",
       "       95.50226581, 72.37815396, 61.56448457, 57.35934469, 83.89863376,\n",
       "       80.89587876, 74.4719142 , 88.0713149 , 66.74443692, 74.16676246,\n",
       "       86.23237666, 67.88874422, 72.26278163, 69.58178895, 81.99327223,\n",
       "       69.5051583 , 66.39655307, 75.79412611, 72.23047717, 74.65244792,\n",
       "       58.89686744, 58.38175743, 62.95763687, 60.50356302, 65.65291909,\n",
       "       71.46563914, 78.6445068 , 54.10888849, 79.25393231, 66.23952171,\n",
       "       81.44683709, 70.44797379, 63.91851509, 46.32745172, 64.20654259,\n",
       "       53.06812108, 68.00277486, 76.565972  , 50.62691615, 73.03560331,\n",
       "       79.29550864, 48.35177377, 70.7602586 , 55.173819  , 59.66965366,\n",
       "       62.41734321, 61.97645329, 86.46113613, 55.31690528, 69.89597312,\n",
       "       60.75242871, 77.83258839, 82.08121947, 70.13274149, 62.72189453,\n",
       "       74.94769109, 63.04526433, 48.02608928, 76.25183523, 67.47184689,\n",
       "       77.28364809, 74.99932267, 70.9841676 , 63.6228609 , 68.91164865,\n",
       "       72.71086526, 74.86575347, 70.93619782, 53.56485567, 58.4487002 ,\n",
       "       66.73176735, 69.80536598, 56.20126135, 63.67618255, 68.15531636,\n",
       "       65.1630194 , 51.0897744 , 67.73665383, 63.96786342, 82.33435909,\n",
       "       68.26769485, 65.27968161, 48.21399441, 62.00200246, 71.2283403 ,\n",
       "       78.6897608 , 64.91558499, 78.74325106, 71.61124881, 72.07250258,\n",
       "       65.61557456, 58.65925867, 85.30995936, 74.01976227, 71.58277644,\n",
       "       80.61669858, 62.23386837, 74.938099  , 71.21695917, 78.72034249,\n",
       "       84.43050843, 73.65462624, 52.4169093 , 76.35042853, 77.38621098,\n",
       "       49.06267747, 68.74078997, 57.84555587, 76.19073542, 72.72880852,\n",
       "       73.75817994, 79.85824591, 75.66402076, 70.08129161, 70.52889156,\n",
       "       47.05092058, 64.42768779, 90.30540025, 77.86701529, 64.44004385,\n",
       "       82.55417053, 61.42437074, 82.40435264, 71.29938346, 78.25792907,\n",
       "       82.22074643, 67.41740983, 51.96329656, 56.35291041, 69.96808203,\n",
       "       74.85622397, 56.91773296, 70.1108856 , 64.76695029, 78.9449023 ,\n",
       "       59.474751  , 70.95911016, 68.04856455, 66.24141844, 72.33543158,\n",
       "       76.00206491, 82.06158465, 78.0695148 , 66.74759677, 76.41898197,\n",
       "       70.96505488, 63.30576431, 81.17107887, 70.00842883, 79.46390886,\n",
       "       60.31076846, 65.22310958, 75.17382783, 72.10168707, 81.10102414])"
      ]
     },
     "execution_count": 15,
     "metadata": {},
     "output_type": "execute_result"
    }
   ],
   "source": [
    "scores"
   ]
  },
  {
   "cell_type": "code",
   "execution_count": 16,
   "metadata": {},
   "outputs": [],
   "source": [
    "import pandas as pd\n",
    "dct = {'id':ids, 'names':names2,'score':scores}"
   ]
  },
  {
   "cell_type": "code",
   "execution_count": 18,
   "metadata": {},
   "outputs": [
    {
     "data": {
      "text/html": [
       "<div>\n",
       "<style scoped>\n",
       "    .dataframe tbody tr th:only-of-type {\n",
       "        vertical-align: middle;\n",
       "    }\n",
       "\n",
       "    .dataframe tbody tr th {\n",
       "        vertical-align: top;\n",
       "    }\n",
       "\n",
       "    .dataframe thead th {\n",
       "        text-align: right;\n",
       "    }\n",
       "</style>\n",
       "<table border=\"1\" class=\"dataframe\">\n",
       "  <thead>\n",
       "    <tr style=\"text-align: right;\">\n",
       "      <th></th>\n",
       "      <th>id</th>\n",
       "      <th>names</th>\n",
       "      <th>score</th>\n",
       "    </tr>\n",
       "  </thead>\n",
       "  <tbody>\n",
       "    <tr>\n",
       "      <th>0</th>\n",
       "      <td>1</td>\n",
       "      <td>Raman</td>\n",
       "      <td>66.535330</td>\n",
       "    </tr>\n",
       "    <tr>\n",
       "      <th>1</th>\n",
       "      <td>2</td>\n",
       "      <td>Ramesh</td>\n",
       "      <td>82.154186</td>\n",
       "    </tr>\n",
       "    <tr>\n",
       "      <th>2</th>\n",
       "      <td>3</td>\n",
       "      <td>Rakesh</td>\n",
       "      <td>76.838210</td>\n",
       "    </tr>\n",
       "    <tr>\n",
       "      <th>3</th>\n",
       "      <td>4</td>\n",
       "      <td>Ramesh</td>\n",
       "      <td>70.243717</td>\n",
       "    </tr>\n",
       "    <tr>\n",
       "      <th>4</th>\n",
       "      <td>5</td>\n",
       "      <td>Raman</td>\n",
       "      <td>77.892264</td>\n",
       "    </tr>\n",
       "    <tr>\n",
       "      <th>...</th>\n",
       "      <td>...</td>\n",
       "      <td>...</td>\n",
       "      <td>...</td>\n",
       "    </tr>\n",
       "    <tr>\n",
       "      <th>995</th>\n",
       "      <td>996</td>\n",
       "      <td>Rakesh</td>\n",
       "      <td>60.310768</td>\n",
       "    </tr>\n",
       "    <tr>\n",
       "      <th>996</th>\n",
       "      <td>997</td>\n",
       "      <td>Aditi</td>\n",
       "      <td>65.223110</td>\n",
       "    </tr>\n",
       "    <tr>\n",
       "      <th>997</th>\n",
       "      <td>998</td>\n",
       "      <td>Utkarsh</td>\n",
       "      <td>75.173828</td>\n",
       "    </tr>\n",
       "    <tr>\n",
       "      <th>998</th>\n",
       "      <td>999</td>\n",
       "      <td>Raman</td>\n",
       "      <td>72.101687</td>\n",
       "    </tr>\n",
       "    <tr>\n",
       "      <th>999</th>\n",
       "      <td>1000</td>\n",
       "      <td>Utkarsh</td>\n",
       "      <td>81.101024</td>\n",
       "    </tr>\n",
       "  </tbody>\n",
       "</table>\n",
       "<p>1000 rows × 3 columns</p>\n",
       "</div>"
      ],
      "text/plain": [
       "       id    names      score\n",
       "0       1    Raman  66.535330\n",
       "1       2   Ramesh  82.154186\n",
       "2       3   Rakesh  76.838210\n",
       "3       4   Ramesh  70.243717\n",
       "4       5    Raman  77.892264\n",
       "..    ...      ...        ...\n",
       "995   996   Rakesh  60.310768\n",
       "996   997    Aditi  65.223110\n",
       "997   998  Utkarsh  75.173828\n",
       "998   999    Raman  72.101687\n",
       "999  1000  Utkarsh  81.101024\n",
       "\n",
       "[1000 rows x 3 columns]"
      ]
     },
     "execution_count": 18,
     "metadata": {},
     "output_type": "execute_result"
    }
   ],
   "source": [
    "import pandas as pd\n",
    "df = pd.DataFrame(dct)\n",
    "df"
   ]
  },
  {
   "cell_type": "code",
   "execution_count": 19,
   "metadata": {},
   "outputs": [],
   "source": [
    "df.to_csv('generated_data.csv',index=False)"
   ]
  },
  {
   "attachments": {},
   "cell_type": "markdown",
   "metadata": {},
   "source": [
    "### Generating integer numbers"
   ]
  },
  {
   "cell_type": "code",
   "execution_count": 20,
   "metadata": {},
   "outputs": [],
   "source": [
    "c = np.random.randint(1,7,size=1000)"
   ]
  },
  {
   "cell_type": "code",
   "execution_count": 21,
   "metadata": {},
   "outputs": [
    {
     "data": {
      "text/plain": [
       "array([4, 6, 6, 2, 6, 2, 1, 6, 2, 2, 3, 3, 2, 4, 6, 3, 3, 6, 4, 2, 5, 4,\n",
       "       2, 4, 3, 6, 1, 5, 2, 4, 3, 3, 6, 1, 2, 2, 1, 1, 2, 5, 6, 6, 6, 4,\n",
       "       2, 6, 4, 1, 4, 6, 3, 6, 4, 1, 1, 3, 4, 3, 4, 3, 6, 4, 5, 4, 4, 5,\n",
       "       5, 3, 2, 6, 5, 1, 3, 5, 4, 3, 4, 4, 5, 1, 1, 1, 5, 5, 4, 6, 3, 4,\n",
       "       3, 3, 4, 1, 5, 5, 5, 6, 6, 1, 2, 5, 5, 4, 2, 2, 1, 3, 5, 4, 1, 5,\n",
       "       4, 3, 3, 4, 1, 4, 3, 4, 3, 4, 4, 3, 3, 3, 5, 5, 5, 5, 2, 1, 3, 4,\n",
       "       5, 2, 4, 2, 2, 2, 6, 5, 2, 1, 5, 3, 2, 1, 3, 2, 2, 2, 1, 1, 3, 5,\n",
       "       6, 6, 5, 5, 1, 5, 5, 1, 6, 1, 5, 1, 4, 4, 5, 5, 1, 4, 5, 6, 1, 5,\n",
       "       6, 3, 3, 6, 5, 4, 6, 2, 5, 2, 2, 3, 6, 3, 1, 1, 3, 3, 2, 2, 4, 6,\n",
       "       2, 5, 3, 2, 3, 5, 1, 5, 2, 3, 1, 1, 1, 6, 6, 6, 3, 4, 4, 3, 6, 3,\n",
       "       4, 1, 6, 4, 2, 6, 1, 1, 1, 3, 2, 6, 4, 5, 3, 1, 2, 3, 4, 2, 1, 3,\n",
       "       4, 4, 6, 2, 3, 1, 2, 5, 4, 5, 1, 3, 6, 6, 1, 1, 3, 2, 3, 3, 6, 2,\n",
       "       5, 2, 3, 1, 3, 5, 1, 4, 5, 4, 6, 5, 5, 2, 1, 5, 3, 5, 5, 2, 3, 5,\n",
       "       3, 3, 1, 3, 2, 3, 6, 2, 3, 5, 1, 5, 2, 6, 3, 6, 2, 1, 5, 2, 6, 5,\n",
       "       4, 4, 3, 3, 2, 1, 5, 5, 4, 6, 1, 2, 3, 6, 4, 1, 2, 4, 6, 1, 2, 6,\n",
       "       2, 1, 3, 1, 1, 5, 3, 3, 4, 6, 6, 6, 5, 6, 3, 5, 3, 2, 6, 3, 2, 5,\n",
       "       6, 4, 3, 3, 3, 4, 3, 3, 3, 4, 3, 1, 1, 4, 5, 5, 3, 6, 5, 6, 3, 3,\n",
       "       3, 1, 1, 3, 5, 5, 4, 5, 1, 2, 4, 3, 2, 5, 3, 3, 3, 1, 6, 2, 1, 6,\n",
       "       1, 4, 5, 5, 3, 5, 4, 4, 5, 4, 3, 4, 6, 5, 4, 6, 4, 4, 6, 4, 4, 5,\n",
       "       5, 2, 5, 3, 3, 4, 3, 6, 3, 2, 5, 5, 2, 4, 2, 5, 3, 3, 4, 3, 4, 1,\n",
       "       1, 3, 1, 6, 6, 2, 3, 5, 5, 5, 3, 1, 3, 3, 2, 4, 1, 3, 3, 6, 1, 4,\n",
       "       3, 4, 1, 2, 1, 5, 2, 3, 1, 4, 4, 1, 1, 2, 5, 2, 2, 1, 5, 3, 2, 2,\n",
       "       5, 4, 3, 2, 6, 1, 2, 6, 4, 3, 2, 2, 1, 6, 5, 3, 4, 4, 6, 1, 1, 4,\n",
       "       5, 1, 4, 6, 1, 4, 4, 3, 3, 6, 6, 1, 2, 4, 2, 2, 1, 2, 4, 3, 6, 4,\n",
       "       2, 5, 4, 1, 5, 6, 4, 1, 2, 4, 2, 5, 6, 3, 6, 1, 4, 5, 6, 6, 4, 6,\n",
       "       4, 2, 6, 4, 6, 1, 1, 3, 1, 6, 2, 6, 4, 4, 5, 2, 1, 3, 6, 4, 5, 4,\n",
       "       3, 4, 3, 1, 3, 4, 2, 6, 6, 1, 6, 4, 6, 2, 3, 3, 2, 3, 2, 3, 6, 6,\n",
       "       5, 1, 3, 5, 6, 2, 1, 5, 1, 6, 6, 5, 2, 5, 3, 4, 6, 3, 6, 2, 5, 5,\n",
       "       4, 2, 3, 5, 6, 4, 5, 4, 6, 6, 4, 4, 1, 3, 2, 4, 6, 1, 3, 4, 1, 4,\n",
       "       6, 5, 1, 5, 2, 2, 4, 6, 1, 3, 5, 6, 5, 4, 6, 6, 3, 4, 4, 3, 3, 3,\n",
       "       5, 6, 5, 4, 2, 2, 4, 1, 2, 2, 5, 6, 3, 6, 6, 6, 2, 6, 1, 1, 1, 6,\n",
       "       4, 1, 2, 3, 4, 4, 3, 4, 6, 5, 2, 2, 3, 5, 6, 5, 5, 3, 4, 4, 1, 4,\n",
       "       4, 5, 3, 1, 5, 4, 6, 4, 5, 2, 5, 6, 1, 4, 1, 3, 5, 2, 4, 5, 1, 5,\n",
       "       3, 5, 3, 4, 5, 2, 5, 3, 5, 2, 5, 3, 5, 4, 2, 6, 4, 5, 4, 4, 5, 2,\n",
       "       4, 3, 6, 6, 3, 1, 3, 2, 2, 4, 6, 3, 4, 4, 4, 5, 6, 1, 6, 3, 3, 3,\n",
       "       3, 5, 2, 2, 2, 5, 3, 5, 2, 2, 4, 1, 6, 2, 2, 1, 3, 3, 1, 6, 5, 5,\n",
       "       4, 3, 3, 4, 3, 2, 6, 1, 2, 5, 4, 1, 2, 6, 1, 3, 3, 4, 4, 1, 4, 3,\n",
       "       5, 6, 6, 6, 3, 4, 2, 3, 4, 3, 1, 6, 3, 4, 2, 5, 5, 5, 2, 1, 3, 1,\n",
       "       4, 2, 4, 4, 5, 1, 6, 5, 2, 5, 3, 3, 5, 1, 4, 3, 2, 6, 6, 3, 3, 4,\n",
       "       3, 1, 6, 5, 2, 3, 6, 3, 2, 4, 6, 2, 6, 2, 5, 5, 1, 5, 3, 2, 3, 5,\n",
       "       3, 4, 4, 5, 4, 3, 3, 6, 2, 6, 5, 6, 1, 3, 2, 1, 2, 5, 4, 6, 3, 2,\n",
       "       2, 6, 4, 3, 6, 2, 4, 2, 4, 5, 2, 5, 6, 3, 5, 2, 1, 1, 1, 5, 6, 3,\n",
       "       6, 4, 5, 4, 4, 3, 2, 2, 1, 3, 4, 4, 4, 6, 6, 4, 2, 5, 1, 2, 5, 5,\n",
       "       6, 1, 6, 3, 3, 6, 3, 5, 3, 6, 4, 1, 6, 6, 1, 1, 2, 6, 1, 5, 2, 2,\n",
       "       1, 4, 4, 6, 6, 5, 3, 2, 1, 4, 1, 3, 1, 2, 2, 6, 4, 1, 6, 4, 4, 3,\n",
       "       5, 2, 4, 5, 6, 1, 1, 1, 4, 4])"
      ]
     },
     "execution_count": 21,
     "metadata": {},
     "output_type": "execute_result"
    }
   ],
   "source": [
    "c"
   ]
  },
  {
   "cell_type": "code",
   "execution_count": null,
   "metadata": {},
   "outputs": [],
   "source": []
  }
 ],
 "metadata": {
  "kernelspec": {
   "display_name": "venv",
   "language": "python",
   "name": "python3"
  },
  "language_info": {
   "codemirror_mode": {
    "name": "ipython",
    "version": 3
   },
   "file_extension": ".py",
   "mimetype": "text/x-python",
   "name": "python",
   "nbconvert_exporter": "python",
   "pygments_lexer": "ipython3",
   "version": "3.10.7"
  },
  "orig_nbformat": 4
 },
 "nbformat": 4,
 "nbformat_minor": 2
}
