{
 "cells": [
  {
   "attachments": {},
   "cell_type": "markdown",
   "metadata": {},
   "source": [
    "# Mutual Information Classification"
   ]
  },
  {
   "cell_type": "code",
   "execution_count": 1,
   "metadata": {},
   "outputs": [],
   "source": [
    "from warnings import filterwarnings\n",
    "filterwarnings('ignore')"
   ]
  },
  {
   "attachments": {},
   "cell_type": "markdown",
   "metadata": {},
   "source": [
    "### Read the titanic dataset"
   ]
  },
  {
   "cell_type": "code",
   "execution_count": 2,
   "metadata": {},
   "outputs": [
    {
     "data": {
      "text/html": [
       "<div>\n",
       "<style scoped>\n",
       "    .dataframe tbody tr th:only-of-type {\n",
       "        vertical-align: middle;\n",
       "    }\n",
       "\n",
       "    .dataframe tbody tr th {\n",
       "        vertical-align: top;\n",
       "    }\n",
       "\n",
       "    .dataframe thead th {\n",
       "        text-align: right;\n",
       "    }\n",
       "</style>\n",
       "<table border=\"1\" class=\"dataframe\">\n",
       "  <thead>\n",
       "    <tr style=\"text-align: right;\">\n",
       "      <th></th>\n",
       "      <th>PassengerId</th>\n",
       "      <th>Survived</th>\n",
       "      <th>Pclass</th>\n",
       "      <th>Name</th>\n",
       "      <th>Sex</th>\n",
       "      <th>Age</th>\n",
       "      <th>SibSp</th>\n",
       "      <th>Parch</th>\n",
       "      <th>Ticket</th>\n",
       "      <th>Fare</th>\n",
       "      <th>Cabin</th>\n",
       "      <th>Embarked</th>\n",
       "    </tr>\n",
       "  </thead>\n",
       "  <tbody>\n",
       "    <tr>\n",
       "      <th>0</th>\n",
       "      <td>1</td>\n",
       "      <td>0</td>\n",
       "      <td>3</td>\n",
       "      <td>Braund, Mr. Owen Harris</td>\n",
       "      <td>male</td>\n",
       "      <td>22.0</td>\n",
       "      <td>1</td>\n",
       "      <td>0</td>\n",
       "      <td>A/5 21171</td>\n",
       "      <td>7.2500</td>\n",
       "      <td>NaN</td>\n",
       "      <td>S</td>\n",
       "    </tr>\n",
       "    <tr>\n",
       "      <th>1</th>\n",
       "      <td>2</td>\n",
       "      <td>1</td>\n",
       "      <td>1</td>\n",
       "      <td>Cumings, Mrs. John Bradley (Florence Briggs Th...</td>\n",
       "      <td>female</td>\n",
       "      <td>38.0</td>\n",
       "      <td>1</td>\n",
       "      <td>0</td>\n",
       "      <td>PC 17599</td>\n",
       "      <td>71.2833</td>\n",
       "      <td>C85</td>\n",
       "      <td>C</td>\n",
       "    </tr>\n",
       "    <tr>\n",
       "      <th>2</th>\n",
       "      <td>3</td>\n",
       "      <td>1</td>\n",
       "      <td>3</td>\n",
       "      <td>Heikkinen, Miss. Laina</td>\n",
       "      <td>female</td>\n",
       "      <td>26.0</td>\n",
       "      <td>0</td>\n",
       "      <td>0</td>\n",
       "      <td>STON/O2. 3101282</td>\n",
       "      <td>7.9250</td>\n",
       "      <td>NaN</td>\n",
       "      <td>S</td>\n",
       "    </tr>\n",
       "    <tr>\n",
       "      <th>3</th>\n",
       "      <td>4</td>\n",
       "      <td>1</td>\n",
       "      <td>1</td>\n",
       "      <td>Futrelle, Mrs. Jacques Heath (Lily May Peel)</td>\n",
       "      <td>female</td>\n",
       "      <td>35.0</td>\n",
       "      <td>1</td>\n",
       "      <td>0</td>\n",
       "      <td>113803</td>\n",
       "      <td>53.1000</td>\n",
       "      <td>C123</td>\n",
       "      <td>S</td>\n",
       "    </tr>\n",
       "    <tr>\n",
       "      <th>4</th>\n",
       "      <td>5</td>\n",
       "      <td>0</td>\n",
       "      <td>3</td>\n",
       "      <td>Allen, Mr. William Henry</td>\n",
       "      <td>male</td>\n",
       "      <td>35.0</td>\n",
       "      <td>0</td>\n",
       "      <td>0</td>\n",
       "      <td>373450</td>\n",
       "      <td>8.0500</td>\n",
       "      <td>NaN</td>\n",
       "      <td>S</td>\n",
       "    </tr>\n",
       "  </tbody>\n",
       "</table>\n",
       "</div>"
      ],
      "text/plain": [
       "   PassengerId  Survived  Pclass  \\\n",
       "0            1         0       3   \n",
       "1            2         1       1   \n",
       "2            3         1       3   \n",
       "3            4         1       1   \n",
       "4            5         0       3   \n",
       "\n",
       "                                                Name     Sex   Age  SibSp  \\\n",
       "0                            Braund, Mr. Owen Harris    male  22.0      1   \n",
       "1  Cumings, Mrs. John Bradley (Florence Briggs Th...  female  38.0      1   \n",
       "2                             Heikkinen, Miss. Laina  female  26.0      0   \n",
       "3       Futrelle, Mrs. Jacques Heath (Lily May Peel)  female  35.0      1   \n",
       "4                           Allen, Mr. William Henry    male  35.0      0   \n",
       "\n",
       "   Parch            Ticket     Fare Cabin Embarked  \n",
       "0      0         A/5 21171   7.2500   NaN        S  \n",
       "1      0          PC 17599  71.2833   C85        C  \n",
       "2      0  STON/O2. 3101282   7.9250   NaN        S  \n",
       "3      0            113803  53.1000  C123        S  \n",
       "4      0            373450   8.0500   NaN        S  "
      ]
     },
     "execution_count": 2,
     "metadata": {},
     "output_type": "execute_result"
    }
   ],
   "source": [
    "import pandas as pd\n",
    "df = pd.read_csv('train_titanic.csv')\n",
    "df.head()"
   ]
  },
  {
   "cell_type": "code",
   "execution_count": 3,
   "metadata": {},
   "outputs": [
    {
     "name": "stdout",
     "output_type": "stream",
     "text": [
      "<class 'pandas.core.frame.DataFrame'>\n",
      "RangeIndex: 891 entries, 0 to 890\n",
      "Data columns (total 12 columns):\n",
      " #   Column       Non-Null Count  Dtype  \n",
      "---  ------       --------------  -----  \n",
      " 0   PassengerId  891 non-null    int64  \n",
      " 1   Survived     891 non-null    int64  \n",
      " 2   Pclass       891 non-null    int64  \n",
      " 3   Name         891 non-null    object \n",
      " 4   Sex          891 non-null    object \n",
      " 5   Age          714 non-null    float64\n",
      " 6   SibSp        891 non-null    int64  \n",
      " 7   Parch        891 non-null    int64  \n",
      " 8   Ticket       891 non-null    object \n",
      " 9   Fare         891 non-null    float64\n",
      " 10  Cabin        204 non-null    object \n",
      " 11  Embarked     889 non-null    object \n",
      "dtypes: float64(2), int64(5), object(5)\n",
      "memory usage: 83.7+ KB\n"
     ]
    }
   ],
   "source": [
    "df.info()"
   ]
  },
  {
   "cell_type": "code",
   "execution_count": 5,
   "metadata": {},
   "outputs": [
    {
     "data": {
      "text/plain": [
       "PassengerId      0\n",
       "Survived         0\n",
       "Pclass           0\n",
       "Name             0\n",
       "Sex              0\n",
       "Age            177\n",
       "SibSp            0\n",
       "Parch            0\n",
       "Ticket           0\n",
       "Fare             0\n",
       "Cabin          687\n",
       "Embarked         2\n",
       "dtype: int64"
      ]
     },
     "execution_count": 5,
     "metadata": {},
     "output_type": "execute_result"
    }
   ],
   "source": [
    "s = df.isna().sum()\n",
    "s"
   ]
  },
  {
   "cell_type": "code",
   "execution_count": 6,
   "metadata": {},
   "outputs": [
    {
     "data": {
      "text/plain": [
       "Age         177\n",
       "Cabin       687\n",
       "Embarked      2\n",
       "dtype: int64"
      ]
     },
     "execution_count": 6,
     "metadata": {},
     "output_type": "execute_result"
    }
   ],
   "source": [
    "s[s>0]"
   ]
  },
  {
   "attachments": {},
   "cell_type": "markdown",
   "metadata": {},
   "source": [
    "### Seperate X and Y"
   ]
  },
  {
   "cell_type": "code",
   "execution_count": 7,
   "metadata": {},
   "outputs": [],
   "source": [
    "X = df.drop(labels=['PassengerId','Name','Survived'],axis=1)\n",
    "Y = df[['Survived']]"
   ]
  },
  {
   "cell_type": "code",
   "execution_count": 8,
   "metadata": {},
   "outputs": [
    {
     "data": {
      "text/html": [
       "<div>\n",
       "<style scoped>\n",
       "    .dataframe tbody tr th:only-of-type {\n",
       "        vertical-align: middle;\n",
       "    }\n",
       "\n",
       "    .dataframe tbody tr th {\n",
       "        vertical-align: top;\n",
       "    }\n",
       "\n",
       "    .dataframe thead th {\n",
       "        text-align: right;\n",
       "    }\n",
       "</style>\n",
       "<table border=\"1\" class=\"dataframe\">\n",
       "  <thead>\n",
       "    <tr style=\"text-align: right;\">\n",
       "      <th></th>\n",
       "      <th>Pclass</th>\n",
       "      <th>Sex</th>\n",
       "      <th>Age</th>\n",
       "      <th>SibSp</th>\n",
       "      <th>Parch</th>\n",
       "      <th>Ticket</th>\n",
       "      <th>Fare</th>\n",
       "      <th>Cabin</th>\n",
       "      <th>Embarked</th>\n",
       "    </tr>\n",
       "  </thead>\n",
       "  <tbody>\n",
       "    <tr>\n",
       "      <th>0</th>\n",
       "      <td>3</td>\n",
       "      <td>male</td>\n",
       "      <td>22.0</td>\n",
       "      <td>1</td>\n",
       "      <td>0</td>\n",
       "      <td>A/5 21171</td>\n",
       "      <td>7.2500</td>\n",
       "      <td>NaN</td>\n",
       "      <td>S</td>\n",
       "    </tr>\n",
       "    <tr>\n",
       "      <th>1</th>\n",
       "      <td>1</td>\n",
       "      <td>female</td>\n",
       "      <td>38.0</td>\n",
       "      <td>1</td>\n",
       "      <td>0</td>\n",
       "      <td>PC 17599</td>\n",
       "      <td>71.2833</td>\n",
       "      <td>C85</td>\n",
       "      <td>C</td>\n",
       "    </tr>\n",
       "    <tr>\n",
       "      <th>2</th>\n",
       "      <td>3</td>\n",
       "      <td>female</td>\n",
       "      <td>26.0</td>\n",
       "      <td>0</td>\n",
       "      <td>0</td>\n",
       "      <td>STON/O2. 3101282</td>\n",
       "      <td>7.9250</td>\n",
       "      <td>NaN</td>\n",
       "      <td>S</td>\n",
       "    </tr>\n",
       "    <tr>\n",
       "      <th>3</th>\n",
       "      <td>1</td>\n",
       "      <td>female</td>\n",
       "      <td>35.0</td>\n",
       "      <td>1</td>\n",
       "      <td>0</td>\n",
       "      <td>113803</td>\n",
       "      <td>53.1000</td>\n",
       "      <td>C123</td>\n",
       "      <td>S</td>\n",
       "    </tr>\n",
       "    <tr>\n",
       "      <th>4</th>\n",
       "      <td>3</td>\n",
       "      <td>male</td>\n",
       "      <td>35.0</td>\n",
       "      <td>0</td>\n",
       "      <td>0</td>\n",
       "      <td>373450</td>\n",
       "      <td>8.0500</td>\n",
       "      <td>NaN</td>\n",
       "      <td>S</td>\n",
       "    </tr>\n",
       "  </tbody>\n",
       "</table>\n",
       "</div>"
      ],
      "text/plain": [
       "   Pclass     Sex   Age  SibSp  Parch            Ticket     Fare Cabin  \\\n",
       "0       3    male  22.0      1      0         A/5 21171   7.2500   NaN   \n",
       "1       1  female  38.0      1      0          PC 17599  71.2833   C85   \n",
       "2       3  female  26.0      0      0  STON/O2. 3101282   7.9250   NaN   \n",
       "3       1  female  35.0      1      0            113803  53.1000  C123   \n",
       "4       3    male  35.0      0      0            373450   8.0500   NaN   \n",
       "\n",
       "  Embarked  \n",
       "0        S  \n",
       "1        C  \n",
       "2        S  \n",
       "3        S  \n",
       "4        S  "
      ]
     },
     "execution_count": 8,
     "metadata": {},
     "output_type": "execute_result"
    }
   ],
   "source": [
    "X.head()"
   ]
  },
  {
   "attachments": {},
   "cell_type": "markdown",
   "metadata": {},
   "source": [
    "### Cat Con seperation"
   ]
  },
  {
   "cell_type": "code",
   "execution_count": 9,
   "metadata": {},
   "outputs": [],
   "source": [
    "cat = list(X.columns[X.dtypes=='object'])\n",
    "con = list(X.columns[X.dtypes!='object'])"
   ]
  },
  {
   "cell_type": "code",
   "execution_count": 10,
   "metadata": {},
   "outputs": [
    {
     "data": {
      "text/plain": [
       "['Sex', 'Ticket', 'Cabin', 'Embarked']"
      ]
     },
     "execution_count": 10,
     "metadata": {},
     "output_type": "execute_result"
    }
   ],
   "source": [
    "cat"
   ]
  },
  {
   "cell_type": "code",
   "execution_count": 11,
   "metadata": {},
   "outputs": [
    {
     "data": {
      "text/plain": [
       "['Pclass', 'Age', 'SibSp', 'Parch', 'Fare']"
      ]
     },
     "execution_count": 11,
     "metadata": {},
     "output_type": "execute_result"
    }
   ],
   "source": [
    "con"
   ]
  },
  {
   "cell_type": "code",
   "execution_count": 12,
   "metadata": {},
   "outputs": [],
   "source": [
    "cat1 = ['Cabin']\n",
    "cat2 = ['Sex','Ticket','Embarked']"
   ]
  },
  {
   "attachments": {},
   "cell_type": "markdown",
   "metadata": {},
   "source": [
    "### Pipeline for feature selection"
   ]
  },
  {
   "cell_type": "code",
   "execution_count": 13,
   "metadata": {},
   "outputs": [],
   "source": [
    "from sklearn.pipeline import Pipeline\n",
    "from sklearn.impute import SimpleImputer\n",
    "from sklearn.preprocessing import OrdinalEncoder, StandardScaler\n",
    "from sklearn.compose import ColumnTransformer"
   ]
  },
  {
   "cell_type": "code",
   "execution_count": 14,
   "metadata": {},
   "outputs": [],
   "source": [
    "num_pipe = Pipeline(steps=[('impute',SimpleImputer(strategy='median')),\n",
    "                           ('scaler',StandardScaler())])\n",
    "\n",
    "cat_pipe1 = Pipeline(steps=[('impute',SimpleImputer(strategy='constant',fill_value='unknown')),\n",
    "                            ('Ordinal',OrdinalEncoder())])\n",
    "\n",
    "cat_pipe2 = Pipeline(steps=[('impute',SimpleImputer(strategy='most_frequent')),\n",
    "                            ('Ordinal',OrdinalEncoder())])\n",
    "\n",
    "pre = ColumnTransformer([('num',num_pipe,con),\n",
    "                         ('cat1',cat_pipe1,cat1),\n",
    "                         ('cat2',cat_pipe2,cat2)])"
   ]
  },
  {
   "cell_type": "code",
   "execution_count": 15,
   "metadata": {},
   "outputs": [
    {
     "data": {
      "text/plain": [
       "array([[ 8.27377244e-01, -5.65736461e-01,  4.32793366e-01, ...,\n",
       "         1.00000000e+00,  5.23000000e+02,  2.00000000e+00],\n",
       "       [-1.56610693e+00,  6.63861032e-01,  4.32793366e-01, ...,\n",
       "         0.00000000e+00,  5.96000000e+02,  0.00000000e+00],\n",
       "       [ 8.27377244e-01, -2.58337088e-01, -4.74545196e-01, ...,\n",
       "         0.00000000e+00,  6.69000000e+02,  2.00000000e+00],\n",
       "       ...,\n",
       "       [ 8.27377244e-01, -1.04637401e-01,  4.32793366e-01, ...,\n",
       "         0.00000000e+00,  6.75000000e+02,  2.00000000e+00],\n",
       "       [-1.56610693e+00, -2.58337088e-01, -4.74545196e-01, ...,\n",
       "         1.00000000e+00,  8.00000000e+00,  0.00000000e+00],\n",
       "       [ 8.27377244e-01,  2.02761972e-01, -4.74545196e-01, ...,\n",
       "         1.00000000e+00,  4.66000000e+02,  1.00000000e+00]])"
      ]
     },
     "execution_count": 15,
     "metadata": {},
     "output_type": "execute_result"
    }
   ],
   "source": [
    "X_pre = pre.fit_transform(X)\n",
    "X_pre"
   ]
  },
  {
   "cell_type": "code",
   "execution_count": 16,
   "metadata": {},
   "outputs": [
    {
     "data": {
      "text/plain": [
       "array(['num__Pclass', 'num__Age', 'num__SibSp', 'num__Parch', 'num__Fare',\n",
       "       'cat1__Cabin', 'cat2__Sex', 'cat2__Ticket', 'cat2__Embarked'],\n",
       "      dtype=object)"
      ]
     },
     "execution_count": 16,
     "metadata": {},
     "output_type": "execute_result"
    }
   ],
   "source": [
    "cols = pre.get_feature_names_out()\n",
    "cols"
   ]
  },
  {
   "cell_type": "code",
   "execution_count": 17,
   "metadata": {},
   "outputs": [
    {
     "data": {
      "text/html": [
       "<div>\n",
       "<style scoped>\n",
       "    .dataframe tbody tr th:only-of-type {\n",
       "        vertical-align: middle;\n",
       "    }\n",
       "\n",
       "    .dataframe tbody tr th {\n",
       "        vertical-align: top;\n",
       "    }\n",
       "\n",
       "    .dataframe thead th {\n",
       "        text-align: right;\n",
       "    }\n",
       "</style>\n",
       "<table border=\"1\" class=\"dataframe\">\n",
       "  <thead>\n",
       "    <tr style=\"text-align: right;\">\n",
       "      <th></th>\n",
       "      <th>num__Pclass</th>\n",
       "      <th>num__Age</th>\n",
       "      <th>num__SibSp</th>\n",
       "      <th>num__Parch</th>\n",
       "      <th>num__Fare</th>\n",
       "      <th>cat1__Cabin</th>\n",
       "      <th>cat2__Sex</th>\n",
       "      <th>cat2__Ticket</th>\n",
       "      <th>cat2__Embarked</th>\n",
       "    </tr>\n",
       "  </thead>\n",
       "  <tbody>\n",
       "    <tr>\n",
       "      <th>0</th>\n",
       "      <td>0.827377</td>\n",
       "      <td>-0.565736</td>\n",
       "      <td>0.432793</td>\n",
       "      <td>-0.473674</td>\n",
       "      <td>-0.502445</td>\n",
       "      <td>147.0</td>\n",
       "      <td>1.0</td>\n",
       "      <td>523.0</td>\n",
       "      <td>2.0</td>\n",
       "    </tr>\n",
       "    <tr>\n",
       "      <th>1</th>\n",
       "      <td>-1.566107</td>\n",
       "      <td>0.663861</td>\n",
       "      <td>0.432793</td>\n",
       "      <td>-0.473674</td>\n",
       "      <td>0.786845</td>\n",
       "      <td>81.0</td>\n",
       "      <td>0.0</td>\n",
       "      <td>596.0</td>\n",
       "      <td>0.0</td>\n",
       "    </tr>\n",
       "    <tr>\n",
       "      <th>2</th>\n",
       "      <td>0.827377</td>\n",
       "      <td>-0.258337</td>\n",
       "      <td>-0.474545</td>\n",
       "      <td>-0.473674</td>\n",
       "      <td>-0.488854</td>\n",
       "      <td>147.0</td>\n",
       "      <td>0.0</td>\n",
       "      <td>669.0</td>\n",
       "      <td>2.0</td>\n",
       "    </tr>\n",
       "    <tr>\n",
       "      <th>3</th>\n",
       "      <td>-1.566107</td>\n",
       "      <td>0.433312</td>\n",
       "      <td>0.432793</td>\n",
       "      <td>-0.473674</td>\n",
       "      <td>0.420730</td>\n",
       "      <td>55.0</td>\n",
       "      <td>0.0</td>\n",
       "      <td>49.0</td>\n",
       "      <td>2.0</td>\n",
       "    </tr>\n",
       "    <tr>\n",
       "      <th>4</th>\n",
       "      <td>0.827377</td>\n",
       "      <td>0.433312</td>\n",
       "      <td>-0.474545</td>\n",
       "      <td>-0.473674</td>\n",
       "      <td>-0.486337</td>\n",
       "      <td>147.0</td>\n",
       "      <td>1.0</td>\n",
       "      <td>472.0</td>\n",
       "      <td>2.0</td>\n",
       "    </tr>\n",
       "  </tbody>\n",
       "</table>\n",
       "</div>"
      ],
      "text/plain": [
       "   num__Pclass  num__Age  num__SibSp  num__Parch  num__Fare  cat1__Cabin  \\\n",
       "0     0.827377 -0.565736    0.432793   -0.473674  -0.502445        147.0   \n",
       "1    -1.566107  0.663861    0.432793   -0.473674   0.786845         81.0   \n",
       "2     0.827377 -0.258337   -0.474545   -0.473674  -0.488854        147.0   \n",
       "3    -1.566107  0.433312    0.432793   -0.473674   0.420730         55.0   \n",
       "4     0.827377  0.433312   -0.474545   -0.473674  -0.486337        147.0   \n",
       "\n",
       "   cat2__Sex  cat2__Ticket  cat2__Embarked  \n",
       "0        1.0         523.0             2.0  \n",
       "1        0.0         596.0             0.0  \n",
       "2        0.0         669.0             2.0  \n",
       "3        0.0          49.0             2.0  \n",
       "4        1.0         472.0             2.0  "
      ]
     },
     "execution_count": 17,
     "metadata": {},
     "output_type": "execute_result"
    }
   ],
   "source": [
    "X_pre = pd.DataFrame(X_pre,columns=cols)\n",
    "X_pre.head()"
   ]
  },
  {
   "attachments": {},
   "cell_type": "markdown",
   "metadata": {},
   "source": [
    "### Calculate Mutual information Scores"
   ]
  },
  {
   "cell_type": "code",
   "execution_count": 18,
   "metadata": {},
   "outputs": [
    {
     "data": {
      "text/plain": [
       "array([0.05055027, 0.04038733, 0.02545178, 0.        , 0.13088336,\n",
       "       0.05284743, 0.12308089, 0.12183   , 0.01016007])"
      ]
     },
     "execution_count": 18,
     "metadata": {},
     "output_type": "execute_result"
    }
   ],
   "source": [
    "from sklearn.feature_selection import mutual_info_classif\n",
    "mi = mutual_info_classif(X_pre,Y)\n",
    "mi"
   ]
  },
  {
   "cell_type": "code",
   "execution_count": 19,
   "metadata": {},
   "outputs": [
    {
     "data": {
      "text/plain": [
       "num__Fare         0.130883\n",
       "cat2__Sex         0.123081\n",
       "cat2__Ticket      0.121830\n",
       "cat1__Cabin       0.052847\n",
       "num__Pclass       0.050550\n",
       "num__Age          0.040387\n",
       "num__SibSp        0.025452\n",
       "cat2__Embarked    0.010160\n",
       "num__Parch        0.000000\n",
       "dtype: float64"
      ]
     },
     "execution_count": 19,
     "metadata": {},
     "output_type": "execute_result"
    }
   ],
   "source": [
    "mi = pd.Series(mi)\n",
    "mi.index=X_pre.columns\n",
    "mi = mi.sort_values(ascending=False)\n",
    "mi"
   ]
  },
  {
   "cell_type": "code",
   "execution_count": 20,
   "metadata": {},
   "outputs": [
    {
     "data": {
      "text/plain": [
       "<Axes: title={'center': 'Mutual Information Scores'}>"
      ]
     },
     "execution_count": 20,
     "metadata": {},
     "output_type": "execute_result"
    },
    {
     "data": {
      "image/png": "[encoded data removed]",
      "text/plain": [
       "<Figure size 640x480 with 1 Axes>"
      ]
     },
     "metadata": {},
     "output_type": "display_data"
    }
   ],
   "source": [
    "mi.plot(kind='bar',title='Mutual Information Scores')"
   ]
  },
  {
   "cell_type": "code",
   "execution_count": 23,
   "metadata": {},
   "outputs": [
    {
     "data": {
      "text/plain": [
       "['num__Fare', 'cat2__Sex', 'cat2__Ticket', 'cat1__Cabin', 'num__Pclass']"
      ]
     },
     "execution_count": 23,
     "metadata": {},
     "output_type": "execute_result"
    }
   ],
   "source": [
    "sel_cols = list(mi[0:5].index)\n",
    "sel_cols"
   ]
  },
  {
   "attachments": {},
   "cell_type": "markdown",
   "metadata": {},
   "source": [
    "### Select K Best"
   ]
  },
  {
   "cell_type": "code",
   "execution_count": 30,
   "metadata": {},
   "outputs": [
    {
     "data": {
      "text/plain": [
       "array(['num__Pclass', 'num__Fare', 'cat1__Cabin', 'cat2__Sex',\n",
       "       'cat2__Ticket'], dtype=object)"
      ]
     },
     "execution_count": 30,
     "metadata": {},
     "output_type": "execute_result"
    }
   ],
   "source": [
    "from sklearn.feature_selection import mutual_info_classif, SelectKBest\n",
    "sel = SelectKBest(mutual_info_classif,k=5)\n",
    "sel_values = sel.fit_transform(X_pre,Y)\n",
    "sel_cols1 = sel.get_feature_names_out()\n",
    "sel_cols1"
   ]
  },
  {
   "cell_type": "code",
   "execution_count": 24,
   "metadata": {},
   "outputs": [
    {
     "data": {
      "text/plain": [
       "'num__Fare'"
      ]
     },
     "execution_count": 24,
     "metadata": {},
     "output_type": "execute_result"
    }
   ],
   "source": [
    "sel_cols[0]"
   ]
  },
  {
   "cell_type": "code",
   "execution_count": 26,
   "metadata": {},
   "outputs": [
    {
     "data": {
      "text/plain": [
       "'Fare'"
      ]
     },
     "execution_count": 26,
     "metadata": {},
     "output_type": "execute_result"
    }
   ],
   "source": [
    "sel_cols[0].split('__')[1]"
   ]
  },
  {
   "cell_type": "code",
   "execution_count": 27,
   "metadata": {},
   "outputs": [],
   "source": [
    "imp_cols = []\n",
    "for i in sel_cols:\n",
    "    s = i.split('__')[1]\n",
    "    imp_cols.append(s)"
   ]
  },
  {
   "cell_type": "code",
   "execution_count": 28,
   "metadata": {},
   "outputs": [
    {
     "data": {
      "text/plain": [
       "['Fare', 'Sex', 'Ticket', 'Cabin', 'Pclass']"
      ]
     },
     "execution_count": 28,
     "metadata": {},
     "output_type": "execute_result"
    }
   ],
   "source": [
    "imp_cols"
   ]
  },
  {
   "cell_type": "code",
   "execution_count": 29,
   "metadata": {},
   "outputs": [
    {
     "data": {
      "text/html": [
       "<div>\n",
       "<style scoped>\n",
       "    .dataframe tbody tr th:only-of-type {\n",
       "        vertical-align: middle;\n",
       "    }\n",
       "\n",
       "    .dataframe tbody tr th {\n",
       "        vertical-align: top;\n",
       "    }\n",
       "\n",
       "    .dataframe thead th {\n",
       "        text-align: right;\n",
       "    }\n",
       "</style>\n",
       "<table border=\"1\" class=\"dataframe\">\n",
       "  <thead>\n",
       "    <tr style=\"text-align: right;\">\n",
       "      <th></th>\n",
       "      <th>Fare</th>\n",
       "      <th>Sex</th>\n",
       "      <th>Ticket</th>\n",
       "      <th>Cabin</th>\n",
       "      <th>Pclass</th>\n",
       "    </tr>\n",
       "  </thead>\n",
       "  <tbody>\n",
       "    <tr>\n",
       "      <th>0</th>\n",
       "      <td>7.2500</td>\n",
       "      <td>male</td>\n",
       "      <td>A/5 21171</td>\n",
       "      <td>NaN</td>\n",
       "      <td>3</td>\n",
       "    </tr>\n",
       "    <tr>\n",
       "      <th>1</th>\n",
       "      <td>71.2833</td>\n",
       "      <td>female</td>\n",
       "      <td>PC 17599</td>\n",
       "      <td>C85</td>\n",
       "      <td>1</td>\n",
       "    </tr>\n",
       "    <tr>\n",
       "      <th>2</th>\n",
       "      <td>7.9250</td>\n",
       "      <td>female</td>\n",
       "      <td>STON/O2. 3101282</td>\n",
       "      <td>NaN</td>\n",
       "      <td>3</td>\n",
       "    </tr>\n",
       "    <tr>\n",
       "      <th>3</th>\n",
       "      <td>53.1000</td>\n",
       "      <td>female</td>\n",
       "      <td>113803</td>\n",
       "      <td>C123</td>\n",
       "      <td>1</td>\n",
       "    </tr>\n",
       "    <tr>\n",
       "      <th>4</th>\n",
       "      <td>8.0500</td>\n",
       "      <td>male</td>\n",
       "      <td>373450</td>\n",
       "      <td>NaN</td>\n",
       "      <td>3</td>\n",
       "    </tr>\n",
       "  </tbody>\n",
       "</table>\n",
       "</div>"
      ],
      "text/plain": [
       "      Fare     Sex            Ticket Cabin  Pclass\n",
       "0   7.2500    male         A/5 21171   NaN       3\n",
       "1  71.2833  female          PC 17599   C85       1\n",
       "2   7.9250  female  STON/O2. 3101282   NaN       3\n",
       "3  53.1000  female            113803  C123       1\n",
       "4   8.0500    male            373450   NaN       3"
      ]
     },
     "execution_count": 29,
     "metadata": {},
     "output_type": "execute_result"
    }
   ],
   "source": [
    "X_sel = X[imp_cols]\n",
    "X_sel.head()"
   ]
  },
  {
   "attachments": {},
   "cell_type": "markdown",
   "metadata": {},
   "source": [
    "### Cat Con Sep Selected cols"
   ]
  },
  {
   "cell_type": "code",
   "execution_count": 31,
   "metadata": {},
   "outputs": [],
   "source": [
    "cat_sel = list(X_sel.columns[X_sel.dtypes=='object'])\n",
    "con_sel = list(X_sel.columns[X_sel.dtypes!='object'])"
   ]
  },
  {
   "cell_type": "code",
   "execution_count": 32,
   "metadata": {},
   "outputs": [
    {
     "data": {
      "text/plain": [
       "['Sex', 'Ticket', 'Cabin']"
      ]
     },
     "execution_count": 32,
     "metadata": {},
     "output_type": "execute_result"
    }
   ],
   "source": [
    "cat_sel"
   ]
  },
  {
   "cell_type": "code",
   "execution_count": 33,
   "metadata": {},
   "outputs": [
    {
     "data": {
      "text/plain": [
       "['Fare', 'Pclass']"
      ]
     },
     "execution_count": 33,
     "metadata": {},
     "output_type": "execute_result"
    }
   ],
   "source": [
    "con_sel"
   ]
  },
  {
   "cell_type": "code",
   "execution_count": 34,
   "metadata": {},
   "outputs": [],
   "source": [
    "cat_sel1 = ['Cabin']\n",
    "cat_sel2 = ['Sex','Ticket']"
   ]
  },
  {
   "attachments": {},
   "cell_type": "markdown",
   "metadata": {},
   "source": [
    "### Create Preprocessing Pipeline for final model"
   ]
  },
  {
   "cell_type": "code",
   "execution_count": 35,
   "metadata": {},
   "outputs": [],
   "source": [
    "from sklearn.preprocessing import OneHotEncoder"
   ]
  },
  {
   "cell_type": "code",
   "execution_count": 36,
   "metadata": {},
   "outputs": [],
   "source": [
    "num_pipe_sel = Pipeline([('impute',SimpleImputer(strategy='median')),\n",
    "                         ('scaler',StandardScaler())])\n",
    "\n",
    "cat_pipe_sel1 = Pipeline([('impute',SimpleImputer(strategy='constant',fill_value='unknown')),\n",
    "                          ('Ohe',OneHotEncoder(handle_unknown='ignore'))])\n",
    "\n",
    "cat_pipe_sel2 = Pipeline([('imupte',SimpleImputer(strategy='most_frequent')),\n",
    "                          ('ohe',OneHotEncoder(handle_unknown='ignore'))])\n",
    "\n",
    "sel_pre = ColumnTransformer([('num',num_pipe_sel,con_sel),\n",
    "                             ('cat1',cat_pipe_sel1,cat_sel1),\n",
    "                             ('cat2',cat_pipe_sel2,cat_sel2)])"
   ]
  },
  {
   "cell_type": "code",
   "execution_count": 38,
   "metadata": {},
   "outputs": [
    {
     "data": {
      "text/plain": [
       "array([[-0.50244517,  0.82737724,  0.        , ...,  0.        ,\n",
       "         0.        ,  0.        ],\n",
       "       [ 0.78684529, -1.56610693,  0.        , ...,  0.        ,\n",
       "         0.        ,  0.        ],\n",
       "       [-0.48885426,  0.82737724,  0.        , ...,  0.        ,\n",
       "         0.        ,  0.        ],\n",
       "       ...,\n",
       "       [-0.17626324,  0.82737724,  0.        , ...,  0.        ,\n",
       "         0.        ,  0.        ],\n",
       "       [-0.04438104, -1.56610693,  0.        , ...,  0.        ,\n",
       "         0.        ,  0.        ],\n",
       "       [-0.49237783,  0.82737724,  0.        , ...,  0.        ,\n",
       "         0.        ,  0.        ]])"
      ]
     },
     "execution_count": 38,
     "metadata": {},
     "output_type": "execute_result"
    }
   ],
   "source": [
    "X_sel_pre = sel_pre.fit_transform(X_sel).toarray()\n",
    "X_sel_pre"
   ]
  },
  {
   "cell_type": "code",
   "execution_count": 40,
   "metadata": {},
   "outputs": [
    {
     "data": {
      "text/plain": [
       "array(['num__Fare', 'num__Pclass', 'cat1__Cabin_A10', 'cat1__Cabin_A14',\n",
       "       'cat1__Cabin_A16', 'cat1__Cabin_A19', 'cat1__Cabin_A20',\n",
       "       'cat1__Cabin_A23', 'cat1__Cabin_A24', 'cat1__Cabin_A26',\n",
       "       'cat1__Cabin_A31', 'cat1__Cabin_A32', 'cat1__Cabin_A34',\n",
       "       'cat1__Cabin_A36', 'cat1__Cabin_A5', 'cat1__Cabin_A6',\n",
       "       'cat1__Cabin_A7', 'cat1__Cabin_B101', 'cat1__Cabin_B102',\n",
       "       'cat1__Cabin_B18', 'cat1__Cabin_B19', 'cat1__Cabin_B20',\n",
       "       'cat1__Cabin_B22', 'cat1__Cabin_B28', 'cat1__Cabin_B3',\n",
       "       'cat1__Cabin_B30', 'cat1__Cabin_B35', 'cat1__Cabin_B37',\n",
       "       'cat1__Cabin_B38', 'cat1__Cabin_B39', 'cat1__Cabin_B4',\n",
       "       'cat1__Cabin_B41', 'cat1__Cabin_B42', 'cat1__Cabin_B49',\n",
       "       'cat1__Cabin_B5', 'cat1__Cabin_B50', 'cat1__Cabin_B51 B53 B55',\n",
       "       'cat1__Cabin_B57 B59 B63 B66', 'cat1__Cabin_B58 B60',\n",
       "       'cat1__Cabin_B69', 'cat1__Cabin_B71', 'cat1__Cabin_B73',\n",
       "       'cat1__Cabin_B77', 'cat1__Cabin_B78', 'cat1__Cabin_B79',\n",
       "       'cat1__Cabin_B80', 'cat1__Cabin_B82 B84', 'cat1__Cabin_B86',\n",
       "       'cat1__Cabin_B94', 'cat1__Cabin_B96 B98', 'cat1__Cabin_C101',\n",
       "       'cat1__Cabin_C103', 'cat1__Cabin_C104', 'cat1__Cabin_C106',\n",
       "       'cat1__Cabin_C110', 'cat1__Cabin_C111', 'cat1__Cabin_C118',\n",
       "       'cat1__Cabin_C123', 'cat1__Cabin_C124', 'cat1__Cabin_C125',\n",
       "       'cat1__Cabin_C126', 'cat1__Cabin_C128', 'cat1__Cabin_C148',\n",
       "       'cat1__Cabin_C2', 'cat1__Cabin_C22 C26', 'cat1__Cabin_C23 C25 C27',\n",
       "       'cat1__Cabin_C30', 'cat1__Cabin_C32', 'cat1__Cabin_C45',\n",
       "       'cat1__Cabin_C46', 'cat1__Cabin_C47', 'cat1__Cabin_C49',\n",
       "       'cat1__Cabin_C50', 'cat1__Cabin_C52', 'cat1__Cabin_C54',\n",
       "       'cat1__Cabin_C62 C64', 'cat1__Cabin_C65', 'cat1__Cabin_C68',\n",
       "       'cat1__Cabin_C7', 'cat1__Cabin_C70', 'cat1__Cabin_C78',\n",
       "       'cat1__Cabin_C82', 'cat1__Cabin_C83', 'cat1__Cabin_C85',\n",
       "       'cat1__Cabin_C86', 'cat1__Cabin_C87', 'cat1__Cabin_C90',\n",
       "       'cat1__Cabin_C91', 'cat1__Cabin_C92', 'cat1__Cabin_C93',\n",
       "       'cat1__Cabin_C95', 'cat1__Cabin_C99', 'cat1__Cabin_D',\n",
       "       'cat1__Cabin_D10 D12', 'cat1__Cabin_D11', 'cat1__Cabin_D15',\n",
       "       'cat1__Cabin_D17', 'cat1__Cabin_D19', 'cat1__Cabin_D20',\n",
       "       'cat1__Cabin_D21', 'cat1__Cabin_D26', 'cat1__Cabin_D28',\n",
       "       'cat1__Cabin_D30', 'cat1__Cabin_D33', 'cat1__Cabin_D35',\n",
       "       'cat1__Cabin_D36', 'cat1__Cabin_D37', 'cat1__Cabin_D45',\n",
       "       'cat1__Cabin_D46', 'cat1__Cabin_D47', 'cat1__Cabin_D48',\n",
       "       'cat1__Cabin_D49', 'cat1__Cabin_D50', 'cat1__Cabin_D56',\n",
       "       'cat1__Cabin_D6', 'cat1__Cabin_D7', 'cat1__Cabin_D9',\n",
       "       'cat1__Cabin_E10', 'cat1__Cabin_E101', 'cat1__Cabin_E12',\n",
       "       'cat1__Cabin_E121', 'cat1__Cabin_E17', 'cat1__Cabin_E24',\n",
       "       'cat1__Cabin_E25', 'cat1__Cabin_E31', 'cat1__Cabin_E33',\n",
       "       'cat1__Cabin_E34', 'cat1__Cabin_E36', 'cat1__Cabin_E38',\n",
       "       'cat1__Cabin_E40', 'cat1__Cabin_E44', 'cat1__Cabin_E46',\n",
       "       'cat1__Cabin_E49', 'cat1__Cabin_E50', 'cat1__Cabin_E58',\n",
       "       'cat1__Cabin_E63', 'cat1__Cabin_E67', 'cat1__Cabin_E68',\n",
       "       'cat1__Cabin_E77', 'cat1__Cabin_E8', 'cat1__Cabin_F E69',\n",
       "       'cat1__Cabin_F G63', 'cat1__Cabin_F G73', 'cat1__Cabin_F2',\n",
       "       'cat1__Cabin_F33', 'cat1__Cabin_F38', 'cat1__Cabin_F4',\n",
       "       'cat1__Cabin_G6', 'cat1__Cabin_T', 'cat1__Cabin_unknown',\n",
       "       'cat2__Sex_female', 'cat2__Sex_male', 'cat2__Ticket_110152',\n",
       "       'cat2__Ticket_110413', 'cat2__Ticket_110465',\n",
       "       'cat2__Ticket_110564', 'cat2__Ticket_110813',\n",
       "       'cat2__Ticket_111240', 'cat2__Ticket_111320',\n",
       "       'cat2__Ticket_111361', 'cat2__Ticket_111369',\n",
       "       'cat2__Ticket_111426', 'cat2__Ticket_111427',\n",
       "       'cat2__Ticket_111428', 'cat2__Ticket_112050',\n",
       "       'cat2__Ticket_112052', 'cat2__Ticket_112053',\n",
       "       'cat2__Ticket_112058', 'cat2__Ticket_112059',\n",
       "       'cat2__Ticket_112277', 'cat2__Ticket_112379',\n",
       "       'cat2__Ticket_113028', 'cat2__Ticket_113043',\n",
       "       'cat2__Ticket_113050', 'cat2__Ticket_113051',\n",
       "       'cat2__Ticket_113055', 'cat2__Ticket_113056',\n",
       "       'cat2__Ticket_113059', 'cat2__Ticket_113501',\n",
       "       'cat2__Ticket_113503', 'cat2__Ticket_113505',\n",
       "       'cat2__Ticket_113509', 'cat2__Ticket_113510',\n",
       "       'cat2__Ticket_113514', 'cat2__Ticket_113572',\n",
       "       'cat2__Ticket_113760', 'cat2__Ticket_113767',\n",
       "       'cat2__Ticket_113773', 'cat2__Ticket_113776',\n",
       "       'cat2__Ticket_113781', 'cat2__Ticket_113783',\n",
       "       'cat2__Ticket_113784', 'cat2__Ticket_113786',\n",
       "       'cat2__Ticket_113787', 'cat2__Ticket_113788',\n",
       "       'cat2__Ticket_113789', 'cat2__Ticket_113792',\n",
       "       'cat2__Ticket_113794', 'cat2__Ticket_113796',\n",
       "       'cat2__Ticket_113798', 'cat2__Ticket_113800',\n",
       "       'cat2__Ticket_113803', 'cat2__Ticket_113804',\n",
       "       'cat2__Ticket_113806', 'cat2__Ticket_113807', 'cat2__Ticket_11668',\n",
       "       'cat2__Ticket_11751', 'cat2__Ticket_11752', 'cat2__Ticket_11753',\n",
       "       'cat2__Ticket_11755', 'cat2__Ticket_11765', 'cat2__Ticket_11767',\n",
       "       'cat2__Ticket_11769', 'cat2__Ticket_11771', 'cat2__Ticket_11774',\n",
       "       'cat2__Ticket_11813', 'cat2__Ticket_11967', 'cat2__Ticket_12233',\n",
       "       'cat2__Ticket_12460', 'cat2__Ticket_12749', 'cat2__Ticket_13049',\n",
       "       'cat2__Ticket_13213', 'cat2__Ticket_13214', 'cat2__Ticket_13502',\n",
       "       'cat2__Ticket_13507', 'cat2__Ticket_13509', 'cat2__Ticket_13567',\n",
       "       'cat2__Ticket_13568', 'cat2__Ticket_14311', 'cat2__Ticket_14312',\n",
       "       'cat2__Ticket_14313', 'cat2__Ticket_14973', 'cat2__Ticket_1601',\n",
       "       'cat2__Ticket_16966', 'cat2__Ticket_16988', 'cat2__Ticket_17421',\n",
       "       'cat2__Ticket_17453', 'cat2__Ticket_17463', 'cat2__Ticket_17464',\n",
       "       'cat2__Ticket_17465', 'cat2__Ticket_17466', 'cat2__Ticket_17474',\n",
       "       'cat2__Ticket_17764', 'cat2__Ticket_19877', 'cat2__Ticket_19928',\n",
       "       'cat2__Ticket_19943', 'cat2__Ticket_19947', 'cat2__Ticket_19950',\n",
       "       'cat2__Ticket_19952', 'cat2__Ticket_19972', 'cat2__Ticket_19988',\n",
       "       'cat2__Ticket_19996', 'cat2__Ticket_2003', 'cat2__Ticket_211536',\n",
       "       'cat2__Ticket_21440', 'cat2__Ticket_218629', 'cat2__Ticket_219533',\n",
       "       'cat2__Ticket_220367', 'cat2__Ticket_220845', 'cat2__Ticket_2223',\n",
       "       'cat2__Ticket_223596', 'cat2__Ticket_226593',\n",
       "       'cat2__Ticket_226875', 'cat2__Ticket_228414',\n",
       "       'cat2__Ticket_229236', 'cat2__Ticket_230080',\n",
       "       'cat2__Ticket_230136', 'cat2__Ticket_230433',\n",
       "       'cat2__Ticket_230434', 'cat2__Ticket_231919',\n",
       "       'cat2__Ticket_231945', 'cat2__Ticket_233639',\n",
       "       'cat2__Ticket_233866', 'cat2__Ticket_234360',\n",
       "       'cat2__Ticket_234604', 'cat2__Ticket_234686',\n",
       "       'cat2__Ticket_234818', 'cat2__Ticket_236171',\n",
       "       'cat2__Ticket_236852', 'cat2__Ticket_236853',\n",
       "       'cat2__Ticket_237442', 'cat2__Ticket_237565',\n",
       "       'cat2__Ticket_237668', 'cat2__Ticket_237671',\n",
       "       'cat2__Ticket_237736', 'cat2__Ticket_237789',\n",
       "       'cat2__Ticket_237798', 'cat2__Ticket_239853',\n",
       "       'cat2__Ticket_239854', 'cat2__Ticket_239855',\n",
       "       'cat2__Ticket_239856', 'cat2__Ticket_239865',\n",
       "       'cat2__Ticket_240929', 'cat2__Ticket_24160', 'cat2__Ticket_243847',\n",
       "       'cat2__Ticket_243880', 'cat2__Ticket_244252',\n",
       "       'cat2__Ticket_244270', 'cat2__Ticket_244278',\n",
       "       'cat2__Ticket_244310', 'cat2__Ticket_244358',\n",
       "       'cat2__Ticket_244361', 'cat2__Ticket_244367',\n",
       "       'cat2__Ticket_244373', 'cat2__Ticket_248698',\n",
       "       'cat2__Ticket_248706', 'cat2__Ticket_248723',\n",
       "       'cat2__Ticket_248727', 'cat2__Ticket_248731',\n",
       "       'cat2__Ticket_248733', 'cat2__Ticket_248738',\n",
       "       'cat2__Ticket_248740', 'cat2__Ticket_248747',\n",
       "       'cat2__Ticket_250643', 'cat2__Ticket_250644',\n",
       "       'cat2__Ticket_250646', 'cat2__Ticket_250647',\n",
       "       'cat2__Ticket_250648', 'cat2__Ticket_250649',\n",
       "       'cat2__Ticket_250651', 'cat2__Ticket_250652',\n",
       "       'cat2__Ticket_250653', 'cat2__Ticket_250655', 'cat2__Ticket_2620',\n",
       "       'cat2__Ticket_2623', 'cat2__Ticket_2624', 'cat2__Ticket_2625',\n",
       "       'cat2__Ticket_2626', 'cat2__Ticket_2627', 'cat2__Ticket_2628',\n",
       "       'cat2__Ticket_2629', 'cat2__Ticket_2631', 'cat2__Ticket_26360',\n",
       "       'cat2__Ticket_2641', 'cat2__Ticket_2647', 'cat2__Ticket_2648',\n",
       "       'cat2__Ticket_2649', 'cat2__Ticket_2650', 'cat2__Ticket_2651',\n",
       "       'cat2__Ticket_2653', 'cat2__Ticket_2659', 'cat2__Ticket_2661',\n",
       "       'cat2__Ticket_2662', 'cat2__Ticket_2663', 'cat2__Ticket_2664',\n",
       "       'cat2__Ticket_2665', 'cat2__Ticket_2666', 'cat2__Ticket_2667',\n",
       "       'cat2__Ticket_2668', 'cat2__Ticket_2669', 'cat2__Ticket_26707',\n",
       "       'cat2__Ticket_2671', 'cat2__Ticket_2672', 'cat2__Ticket_2674',\n",
       "       'cat2__Ticket_2677', 'cat2__Ticket_2678', 'cat2__Ticket_2680',\n",
       "       'cat2__Ticket_2683', 'cat2__Ticket_2685', 'cat2__Ticket_2686',\n",
       "       'cat2__Ticket_2687', 'cat2__Ticket_2689', 'cat2__Ticket_2690',\n",
       "       'cat2__Ticket_2691', 'cat2__Ticket_2693', 'cat2__Ticket_2694',\n",
       "       'cat2__Ticket_2695', 'cat2__Ticket_2697', 'cat2__Ticket_2699',\n",
       "       'cat2__Ticket_2700', 'cat2__Ticket_27042', 'cat2__Ticket_27267',\n",
       "       'cat2__Ticket_27849', 'cat2__Ticket_28134', 'cat2__Ticket_28206',\n",
       "       'cat2__Ticket_28213', 'cat2__Ticket_28220', 'cat2__Ticket_28228',\n",
       "       'cat2__Ticket_28403', 'cat2__Ticket_28424', 'cat2__Ticket_28425',\n",
       "       'cat2__Ticket_28551', 'cat2__Ticket_28664', 'cat2__Ticket_28665',\n",
       "       'cat2__Ticket_29011', 'cat2__Ticket_2908', 'cat2__Ticket_29103',\n",
       "       'cat2__Ticket_29104', 'cat2__Ticket_29105', 'cat2__Ticket_29106',\n",
       "       'cat2__Ticket_29108', 'cat2__Ticket_2926', 'cat2__Ticket_29750',\n",
       "       'cat2__Ticket_29751', 'cat2__Ticket_3101264',\n",
       "       'cat2__Ticket_3101265', 'cat2__Ticket_3101267',\n",
       "       'cat2__Ticket_3101276', 'cat2__Ticket_3101277',\n",
       "       'cat2__Ticket_3101278', 'cat2__Ticket_3101281',\n",
       "       'cat2__Ticket_3101295', 'cat2__Ticket_3101296',\n",
       "       'cat2__Ticket_3101298', 'cat2__Ticket_31027', 'cat2__Ticket_31028',\n",
       "       'cat2__Ticket_312991', 'cat2__Ticket_312992',\n",
       "       'cat2__Ticket_312993', 'cat2__Ticket_31418', 'cat2__Ticket_315037',\n",
       "       'cat2__Ticket_315082', 'cat2__Ticket_315084',\n",
       "       'cat2__Ticket_315086', 'cat2__Ticket_315088',\n",
       "       'cat2__Ticket_315089', 'cat2__Ticket_315090',\n",
       "       'cat2__Ticket_315093', 'cat2__Ticket_315094',\n",
       "       'cat2__Ticket_315096', 'cat2__Ticket_315097',\n",
       "       'cat2__Ticket_315098', 'cat2__Ticket_315151',\n",
       "       'cat2__Ticket_315153', 'cat2__Ticket_323592',\n",
       "       'cat2__Ticket_323951', 'cat2__Ticket_324669',\n",
       "       'cat2__Ticket_330877', 'cat2__Ticket_330909',\n",
       "       'cat2__Ticket_330919', 'cat2__Ticket_330923',\n",
       "       'cat2__Ticket_330931', 'cat2__Ticket_330932',\n",
       "       'cat2__Ticket_330935', 'cat2__Ticket_330958',\n",
       "       'cat2__Ticket_330959', 'cat2__Ticket_330979',\n",
       "       'cat2__Ticket_330980', 'cat2__Ticket_334912',\n",
       "       'cat2__Ticket_335097', 'cat2__Ticket_335677', 'cat2__Ticket_33638',\n",
       "       'cat2__Ticket_336439', 'cat2__Ticket_3411', 'cat2__Ticket_341826',\n",
       "       'cat2__Ticket_34218', 'cat2__Ticket_342826', 'cat2__Ticket_343095',\n",
       "       'cat2__Ticket_343120', 'cat2__Ticket_343275',\n",
       "       'cat2__Ticket_343276', 'cat2__Ticket_345364',\n",
       "       'cat2__Ticket_345572', 'cat2__Ticket_345763',\n",
       "       'cat2__Ticket_345764', 'cat2__Ticket_345765',\n",
       "       'cat2__Ticket_345767', 'cat2__Ticket_345769',\n",
       "       'cat2__Ticket_345770', 'cat2__Ticket_345773',\n",
       "       'cat2__Ticket_345774', 'cat2__Ticket_345777',\n",
       "       'cat2__Ticket_345778', 'cat2__Ticket_345779',\n",
       "       'cat2__Ticket_345780', 'cat2__Ticket_345781',\n",
       "       'cat2__Ticket_345783', 'cat2__Ticket_3460', 'cat2__Ticket_347054',\n",
       "       'cat2__Ticket_347060', 'cat2__Ticket_347061',\n",
       "       'cat2__Ticket_347062', 'cat2__Ticket_347063',\n",
       "       'cat2__Ticket_347064', 'cat2__Ticket_347067',\n",
       "       'cat2__Ticket_347068', 'cat2__Ticket_347069',\n",
       "       'cat2__Ticket_347071', 'cat2__Ticket_347073',\n",
       "       'cat2__Ticket_347074', 'cat2__Ticket_347076',\n",
       "       'cat2__Ticket_347077', 'cat2__Ticket_347078',\n",
       "       'cat2__Ticket_347080', 'cat2__Ticket_347081',\n",
       "       'cat2__Ticket_347082', 'cat2__Ticket_347083',\n",
       "       'cat2__Ticket_347085', 'cat2__Ticket_347087',\n",
       "       'cat2__Ticket_347088', 'cat2__Ticket_347089', 'cat2__Ticket_3474',\n",
       "       'cat2__Ticket_347464', 'cat2__Ticket_347466',\n",
       "       'cat2__Ticket_347468', 'cat2__Ticket_347470',\n",
       "       'cat2__Ticket_347742', 'cat2__Ticket_347743',\n",
       "       'cat2__Ticket_348121', 'cat2__Ticket_348123',\n",
       "       'cat2__Ticket_348124', 'cat2__Ticket_349201',\n",
       "       'cat2__Ticket_349203', 'cat2__Ticket_349204',\n",
       "       'cat2__Ticket_349205', 'cat2__Ticket_349206',\n",
       "       'cat2__Ticket_349207', 'cat2__Ticket_349208',\n",
       "       'cat2__Ticket_349209', 'cat2__Ticket_349210',\n",
       "       'cat2__Ticket_349212', 'cat2__Ticket_349213',\n",
       "       'cat2__Ticket_349214', 'cat2__Ticket_349215',\n",
       "       'cat2__Ticket_349216', 'cat2__Ticket_349217',\n",
       "       'cat2__Ticket_349218', 'cat2__Ticket_349219',\n",
       "       'cat2__Ticket_349221', 'cat2__Ticket_349222',\n",
       "       'cat2__Ticket_349223', 'cat2__Ticket_349224',\n",
       "       'cat2__Ticket_349225', 'cat2__Ticket_349227',\n",
       "       'cat2__Ticket_349228', 'cat2__Ticket_349231',\n",
       "       'cat2__Ticket_349233', 'cat2__Ticket_349234',\n",
       "       'cat2__Ticket_349236', 'cat2__Ticket_349237',\n",
       "       'cat2__Ticket_349239', 'cat2__Ticket_349240',\n",
       "       'cat2__Ticket_349241', 'cat2__Ticket_349242',\n",
       "       'cat2__Ticket_349243', 'cat2__Ticket_349244',\n",
       "       'cat2__Ticket_349245', 'cat2__Ticket_349246',\n",
       "       'cat2__Ticket_349247', 'cat2__Ticket_349248',\n",
       "       'cat2__Ticket_349249', 'cat2__Ticket_349251',\n",
       "       'cat2__Ticket_349252', 'cat2__Ticket_349253',\n",
       "       'cat2__Ticket_349254', 'cat2__Ticket_349256',\n",
       "       'cat2__Ticket_349257', 'cat2__Ticket_349909',\n",
       "       'cat2__Ticket_349910', 'cat2__Ticket_349912',\n",
       "       'cat2__Ticket_350025', 'cat2__Ticket_350026',\n",
       "       'cat2__Ticket_350029', 'cat2__Ticket_350034',\n",
       "       'cat2__Ticket_350035', 'cat2__Ticket_350036',\n",
       "       'cat2__Ticket_350042', 'cat2__Ticket_350043',\n",
       "       'cat2__Ticket_350046', 'cat2__Ticket_350047',\n",
       "       'cat2__Ticket_350048', 'cat2__Ticket_350050',\n",
       "       'cat2__Ticket_350052', 'cat2__Ticket_350060',\n",
       "       'cat2__Ticket_350404', 'cat2__Ticket_350406',\n",
       "       'cat2__Ticket_350407', 'cat2__Ticket_350417', 'cat2__Ticket_35273',\n",
       "       'cat2__Ticket_35281', 'cat2__Ticket_35851', 'cat2__Ticket_35852',\n",
       "       'cat2__Ticket_358585', 'cat2__Ticket_36209', 'cat2__Ticket_362316',\n",
       "       'cat2__Ticket_363291', 'cat2__Ticket_363294',\n",
       "       'cat2__Ticket_363592', 'cat2__Ticket_364498',\n",
       "       'cat2__Ticket_364499', 'cat2__Ticket_364500',\n",
       "       'cat2__Ticket_364506', 'cat2__Ticket_364511',\n",
       "       'cat2__Ticket_364512', 'cat2__Ticket_364516',\n",
       "       'cat2__Ticket_364846', 'cat2__Ticket_364848',\n",
       "       'cat2__Ticket_364849', 'cat2__Ticket_364850',\n",
       "       'cat2__Ticket_364851', 'cat2__Ticket_365222',\n",
       "       'cat2__Ticket_365226', 'cat2__Ticket_36568', 'cat2__Ticket_367226',\n",
       "       'cat2__Ticket_367228', 'cat2__Ticket_367229',\n",
       "       'cat2__Ticket_367230', 'cat2__Ticket_367231',\n",
       "       'cat2__Ticket_367232', 'cat2__Ticket_367655',\n",
       "       'cat2__Ticket_368323', 'cat2__Ticket_36864', 'cat2__Ticket_36865',\n",
       "       'cat2__Ticket_36866', 'cat2__Ticket_368703', 'cat2__Ticket_36928',\n",
       "       'cat2__Ticket_36947', 'cat2__Ticket_36963', 'cat2__Ticket_36967',\n",
       "       'cat2__Ticket_36973', 'cat2__Ticket_370129', 'cat2__Ticket_370365',\n",
       "       'cat2__Ticket_370369', 'cat2__Ticket_370370',\n",
       "       'cat2__Ticket_370371', 'cat2__Ticket_370372',\n",
       "       'cat2__Ticket_370373', 'cat2__Ticket_370375',\n",
       "       'cat2__Ticket_370376', 'cat2__Ticket_370377',\n",
       "       'cat2__Ticket_371060', 'cat2__Ticket_371110',\n",
       "       'cat2__Ticket_371362', 'cat2__Ticket_372622',\n",
       "       'cat2__Ticket_373450', 'cat2__Ticket_374746',\n",
       "       'cat2__Ticket_374887', 'cat2__Ticket_374910',\n",
       "       'cat2__Ticket_376564', 'cat2__Ticket_376566',\n",
       "       'cat2__Ticket_382649', 'cat2__Ticket_382651',\n",
       "       'cat2__Ticket_382652', 'cat2__Ticket_383121',\n",
       "       'cat2__Ticket_384461', 'cat2__Ticket_386525',\n",
       "       'cat2__Ticket_392091', 'cat2__Ticket_392092',\n",
       "       'cat2__Ticket_392096', 'cat2__Ticket_394140', 'cat2__Ticket_4133',\n",
       "       'cat2__Ticket_4134', 'cat2__Ticket_4135', 'cat2__Ticket_4136',\n",
       "       'cat2__Ticket_4137', 'cat2__Ticket_4138', 'cat2__Ticket_4579',\n",
       "       'cat2__Ticket_54636', 'cat2__Ticket_5727', 'cat2__Ticket_65303',\n",
       "       'cat2__Ticket_65304', 'cat2__Ticket_65306', 'cat2__Ticket_6563',\n",
       "       'cat2__Ticket_693', 'cat2__Ticket_695', 'cat2__Ticket_7267',\n",
       "       'cat2__Ticket_7534', 'cat2__Ticket_7540', 'cat2__Ticket_7545',\n",
       "       'cat2__Ticket_7546', 'cat2__Ticket_7552', 'cat2__Ticket_7553',\n",
       "       'cat2__Ticket_7598', 'cat2__Ticket_8471', 'cat2__Ticket_8475',\n",
       "       'cat2__Ticket_9234', 'cat2__Ticket_A./5. 2152',\n",
       "       'cat2__Ticket_A./5. 3235', 'cat2__Ticket_A.5. 11206',\n",
       "       'cat2__Ticket_A.5. 18509', 'cat2__Ticket_A/4 45380',\n",
       "       'cat2__Ticket_A/4 48871', 'cat2__Ticket_A/4. 20589',\n",
       "       'cat2__Ticket_A/4. 34244', 'cat2__Ticket_A/4. 39886',\n",
       "       'cat2__Ticket_A/5 21171', 'cat2__Ticket_A/5 21172',\n",
       "       'cat2__Ticket_A/5 21173', 'cat2__Ticket_A/5 21174',\n",
       "       'cat2__Ticket_A/5 2466', 'cat2__Ticket_A/5 2817',\n",
       "       'cat2__Ticket_A/5 3536', 'cat2__Ticket_A/5 3540',\n",
       "       'cat2__Ticket_A/5 3594', 'cat2__Ticket_A/5 3902',\n",
       "       'cat2__Ticket_A/5. 10482', 'cat2__Ticket_A/5. 13032',\n",
       "       'cat2__Ticket_A/5. 2151', 'cat2__Ticket_A/5. 3336',\n",
       "       'cat2__Ticket_A/5. 3337', 'cat2__Ticket_A/5. 851',\n",
       "       'cat2__Ticket_A/S 2816', 'cat2__Ticket_A4. 54510',\n",
       "       'cat2__Ticket_C 17369', 'cat2__Ticket_C 4001',\n",
       "       'cat2__Ticket_C 7075', 'cat2__Ticket_C 7076',\n",
       "       'cat2__Ticket_C 7077', 'cat2__Ticket_C.A. 17248',\n",
       "       'cat2__Ticket_C.A. 18723', 'cat2__Ticket_C.A. 2315',\n",
       "       'cat2__Ticket_C.A. 24579', 'cat2__Ticket_C.A. 24580',\n",
       "       'cat2__Ticket_C.A. 2673', 'cat2__Ticket_C.A. 29178',\n",
       "       'cat2__Ticket_C.A. 29395', 'cat2__Ticket_C.A. 29566',\n",
       "       'cat2__Ticket_C.A. 31026', 'cat2__Ticket_C.A. 31921',\n",
       "       'cat2__Ticket_C.A. 33111', 'cat2__Ticket_C.A. 33112',\n",
       "       'cat2__Ticket_C.A. 33595', 'cat2__Ticket_C.A. 34260',\n",
       "       'cat2__Ticket_C.A. 34651', 'cat2__Ticket_C.A. 37671',\n",
       "       'cat2__Ticket_C.A. 5547', 'cat2__Ticket_C.A. 6212',\n",
       "       'cat2__Ticket_C.A./SOTON 34068', 'cat2__Ticket_CA 2144',\n",
       "       'cat2__Ticket_CA. 2314', 'cat2__Ticket_CA. 2343',\n",
       "       'cat2__Ticket_F.C. 12750', 'cat2__Ticket_F.C.C. 13528',\n",
       "       'cat2__Ticket_F.C.C. 13529', 'cat2__Ticket_F.C.C. 13531',\n",
       "       'cat2__Ticket_Fa 265302', 'cat2__Ticket_LINE',\n",
       "       'cat2__Ticket_P/PP 3381', 'cat2__Ticket_PC 17318',\n",
       "       'cat2__Ticket_PC 17473', 'cat2__Ticket_PC 17474',\n",
       "       'cat2__Ticket_PC 17475', 'cat2__Ticket_PC 17476',\n",
       "       'cat2__Ticket_PC 17477', 'cat2__Ticket_PC 17482',\n",
       "       'cat2__Ticket_PC 17483', 'cat2__Ticket_PC 17485',\n",
       "       'cat2__Ticket_PC 17558', 'cat2__Ticket_PC 17569',\n",
       "       'cat2__Ticket_PC 17572', 'cat2__Ticket_PC 17582',\n",
       "       'cat2__Ticket_PC 17585', 'cat2__Ticket_PC 17590',\n",
       "       'cat2__Ticket_PC 17592', 'cat2__Ticket_PC 17593',\n",
       "       'cat2__Ticket_PC 17595', 'cat2__Ticket_PC 17596',\n",
       "       'cat2__Ticket_PC 17597', 'cat2__Ticket_PC 17599',\n",
       "       'cat2__Ticket_PC 17600', 'cat2__Ticket_PC 17601',\n",
       "       'cat2__Ticket_PC 17603', 'cat2__Ticket_PC 17604',\n",
       "       'cat2__Ticket_PC 17605', 'cat2__Ticket_PC 17608',\n",
       "       'cat2__Ticket_PC 17609', 'cat2__Ticket_PC 17610',\n",
       "       'cat2__Ticket_PC 17611', 'cat2__Ticket_PC 17612',\n",
       "       'cat2__Ticket_PC 17754', 'cat2__Ticket_PC 17755',\n",
       "       'cat2__Ticket_PC 17756', 'cat2__Ticket_PC 17757',\n",
       "       'cat2__Ticket_PC 17758', 'cat2__Ticket_PC 17759',\n",
       "       'cat2__Ticket_PC 17760', 'cat2__Ticket_PC 17761',\n",
       "       'cat2__Ticket_PP 4348', 'cat2__Ticket_PP 9549',\n",
       "       'cat2__Ticket_S.C./A.4. 23567', 'cat2__Ticket_S.C./PARIS 2079',\n",
       "       'cat2__Ticket_S.O./P.P. 3', 'cat2__Ticket_S.O./P.P. 751',\n",
       "       'cat2__Ticket_S.O.C. 14879', 'cat2__Ticket_S.O.P. 1166',\n",
       "       'cat2__Ticket_S.P. 3464', 'cat2__Ticket_S.W./PP 752',\n",
       "       'cat2__Ticket_SC 1748', 'cat2__Ticket_SC/AH 29037',\n",
       "       'cat2__Ticket_SC/AH 3085', 'cat2__Ticket_SC/AH Basle 541',\n",
       "       'cat2__Ticket_SC/PARIS 2131', 'cat2__Ticket_SC/PARIS 2133',\n",
       "       'cat2__Ticket_SC/PARIS 2146', 'cat2__Ticket_SC/PARIS 2149',\n",
       "       'cat2__Ticket_SC/PARIS 2167', 'cat2__Ticket_SC/Paris 2123',\n",
       "       'cat2__Ticket_SC/Paris 2163', 'cat2__Ticket_SCO/W 1585',\n",
       "       'cat2__Ticket_SO/C 14885', 'cat2__Ticket_SOTON/O.Q. 3101305',\n",
       "       'cat2__Ticket_SOTON/O.Q. 3101306',\n",
       "       'cat2__Ticket_SOTON/O.Q. 3101307',\n",
       "       'cat2__Ticket_SOTON/O.Q. 3101310',\n",
       "       'cat2__Ticket_SOTON/O.Q. 3101311',\n",
       "       'cat2__Ticket_SOTON/O.Q. 3101312',\n",
       "       'cat2__Ticket_SOTON/O.Q. 392078', 'cat2__Ticket_SOTON/O.Q. 392087',\n",
       "       'cat2__Ticket_SOTON/O2 3101272', 'cat2__Ticket_SOTON/O2 3101287',\n",
       "       'cat2__Ticket_SOTON/OQ 3101316', 'cat2__Ticket_SOTON/OQ 3101317',\n",
       "       'cat2__Ticket_SOTON/OQ 392076', 'cat2__Ticket_SOTON/OQ 392082',\n",
       "       'cat2__Ticket_SOTON/OQ 392086', 'cat2__Ticket_SOTON/OQ 392089',\n",
       "       'cat2__Ticket_SOTON/OQ 392090', 'cat2__Ticket_STON/O 2. 3101269',\n",
       "       'cat2__Ticket_STON/O 2. 3101273', 'cat2__Ticket_STON/O 2. 3101274',\n",
       "       'cat2__Ticket_STON/O 2. 3101275', 'cat2__Ticket_STON/O 2. 3101280',\n",
       "       'cat2__Ticket_STON/O 2. 3101285', 'cat2__Ticket_STON/O 2. 3101286',\n",
       "       'cat2__Ticket_STON/O 2. 3101288', 'cat2__Ticket_STON/O 2. 3101289',\n",
       "       'cat2__Ticket_STON/O 2. 3101292', 'cat2__Ticket_STON/O 2. 3101293',\n",
       "       'cat2__Ticket_STON/O 2. 3101294', 'cat2__Ticket_STON/O2. 3101271',\n",
       "       'cat2__Ticket_STON/O2. 3101279', 'cat2__Ticket_STON/O2. 3101282',\n",
       "       'cat2__Ticket_STON/O2. 3101283', 'cat2__Ticket_STON/O2. 3101290',\n",
       "       'cat2__Ticket_SW/PP 751', 'cat2__Ticket_W./C. 14258',\n",
       "       'cat2__Ticket_W./C. 14263', 'cat2__Ticket_W./C. 6607',\n",
       "       'cat2__Ticket_W./C. 6608', 'cat2__Ticket_W./C. 6609',\n",
       "       'cat2__Ticket_W.E.P. 5734', 'cat2__Ticket_W/C 14208',\n",
       "       'cat2__Ticket_WE/P 5735'], dtype=object)"
      ]
     },
     "execution_count": 40,
     "metadata": {},
     "output_type": "execute_result"
    }
   ],
   "source": [
    "cols_sel = sel_pre.get_feature_names_out()\n",
    "cols_sel"
   ]
  },
  {
   "cell_type": "code",
   "execution_count": 41,
   "metadata": {},
   "outputs": [
    {
     "data": {
      "text/html": [
       "<div>\n",
       "<style scoped>\n",
       "    .dataframe tbody tr th:only-of-type {\n",
       "        vertical-align: middle;\n",
       "    }\n",
       "\n",
       "    .dataframe tbody tr th {\n",
       "        vertical-align: top;\n",
       "    }\n",
       "\n",
       "    .dataframe thead th {\n",
       "        text-align: right;\n",
       "    }\n",
       "</style>\n",
       "<table border=\"1\" class=\"dataframe\">\n",
       "  <thead>\n",
       "    <tr style=\"text-align: right;\">\n",
       "      <th></th>\n",
       "      <th>num__Fare</th>\n",
       "      <th>num__Pclass</th>\n",
       "      <th>cat1__Cabin_A10</th>\n",
       "      <th>cat1__Cabin_A14</th>\n",
       "      <th>cat1__Cabin_A16</th>\n",
       "      <th>cat1__Cabin_A19</th>\n",
       "      <th>cat1__Cabin_A20</th>\n",
       "      <th>cat1__Cabin_A23</th>\n",
       "      <th>cat1__Cabin_A24</th>\n",
       "      <th>cat1__Cabin_A26</th>\n",
       "      <th>...</th>\n",
       "      <th>cat2__Ticket_STON/O2. 3101290</th>\n",
       "      <th>cat2__Ticket_SW/PP 751</th>\n",
       "      <th>cat2__Ticket_W./C. 14258</th>\n",
       "      <th>cat2__Ticket_W./C. 14263</th>\n",
       "      <th>cat2__Ticket_W./C. 6607</th>\n",
       "      <th>cat2__Ticket_W./C. 6608</th>\n",
       "      <th>cat2__Ticket_W./C. 6609</th>\n",
       "      <th>cat2__Ticket_W.E.P. 5734</th>\n",
       "      <th>cat2__Ticket_W/C 14208</th>\n",
       "      <th>cat2__Ticket_WE/P 5735</th>\n",
       "    </tr>\n",
       "  </thead>\n",
       "  <tbody>\n",
       "    <tr>\n",
       "      <th>0</th>\n",
       "      <td>-0.502445</td>\n",
       "      <td>0.827377</td>\n",
       "      <td>0.0</td>\n",
       "      <td>0.0</td>\n",
       "      <td>0.0</td>\n",
       "      <td>0.0</td>\n",
       "      <td>0.0</td>\n",
       "      <td>0.0</td>\n",
       "      <td>0.0</td>\n",
       "      <td>0.0</td>\n",
       "      <td>...</td>\n",
       "      <td>0.0</td>\n",
       "      <td>0.0</td>\n",
       "      <td>0.0</td>\n",
       "      <td>0.0</td>\n",
       "      <td>0.0</td>\n",
       "      <td>0.0</td>\n",
       "      <td>0.0</td>\n",
       "      <td>0.0</td>\n",
       "      <td>0.0</td>\n",
       "      <td>0.0</td>\n",
       "    </tr>\n",
       "    <tr>\n",
       "      <th>1</th>\n",
       "      <td>0.786845</td>\n",
       "      <td>-1.566107</td>\n",
       "      <td>0.0</td>\n",
       "      <td>0.0</td>\n",
       "      <td>0.0</td>\n",
       "      <td>0.0</td>\n",
       "      <td>0.0</td>\n",
       "      <td>0.0</td>\n",
       "      <td>0.0</td>\n",
       "      <td>0.0</td>\n",
       "      <td>...</td>\n",
       "      <td>0.0</td>\n",
       "      <td>0.0</td>\n",
       "      <td>0.0</td>\n",
       "      <td>0.0</td>\n",
       "      <td>0.0</td>\n",
       "      <td>0.0</td>\n",
       "      <td>0.0</td>\n",
       "      <td>0.0</td>\n",
       "      <td>0.0</td>\n",
       "      <td>0.0</td>\n",
       "    </tr>\n",
       "    <tr>\n",
       "      <th>2</th>\n",
       "      <td>-0.488854</td>\n",
       "      <td>0.827377</td>\n",
       "      <td>0.0</td>\n",
       "      <td>0.0</td>\n",
       "      <td>0.0</td>\n",
       "      <td>0.0</td>\n",
       "      <td>0.0</td>\n",
       "      <td>0.0</td>\n",
       "      <td>0.0</td>\n",
       "      <td>0.0</td>\n",
       "      <td>...</td>\n",
       "      <td>0.0</td>\n",
       "      <td>0.0</td>\n",
       "      <td>0.0</td>\n",
       "      <td>0.0</td>\n",
       "      <td>0.0</td>\n",
       "      <td>0.0</td>\n",
       "      <td>0.0</td>\n",
       "      <td>0.0</td>\n",
       "      <td>0.0</td>\n",
       "      <td>0.0</td>\n",
       "    </tr>\n",
       "    <tr>\n",
       "      <th>3</th>\n",
       "      <td>0.420730</td>\n",
       "      <td>-1.566107</td>\n",
       "      <td>0.0</td>\n",
       "      <td>0.0</td>\n",
       "      <td>0.0</td>\n",
       "      <td>0.0</td>\n",
       "      <td>0.0</td>\n",
       "      <td>0.0</td>\n",
       "      <td>0.0</td>\n",
       "      <td>0.0</td>\n",
       "      <td>...</td>\n",
       "      <td>0.0</td>\n",
       "      <td>0.0</td>\n",
       "      <td>0.0</td>\n",
       "      <td>0.0</td>\n",
       "      <td>0.0</td>\n",
       "      <td>0.0</td>\n",
       "      <td>0.0</td>\n",
       "      <td>0.0</td>\n",
       "      <td>0.0</td>\n",
       "      <td>0.0</td>\n",
       "    </tr>\n",
       "    <tr>\n",
       "      <th>4</th>\n",
       "      <td>-0.486337</td>\n",
       "      <td>0.827377</td>\n",
       "      <td>0.0</td>\n",
       "      <td>0.0</td>\n",
       "      <td>0.0</td>\n",
       "      <td>0.0</td>\n",
       "      <td>0.0</td>\n",
       "      <td>0.0</td>\n",
       "      <td>0.0</td>\n",
       "      <td>0.0</td>\n",
       "      <td>...</td>\n",
       "      <td>0.0</td>\n",
       "      <td>0.0</td>\n",
       "      <td>0.0</td>\n",
       "      <td>0.0</td>\n",
       "      <td>0.0</td>\n",
       "      <td>0.0</td>\n",
       "      <td>0.0</td>\n",
       "      <td>0.0</td>\n",
       "      <td>0.0</td>\n",
       "      <td>0.0</td>\n",
       "    </tr>\n",
       "  </tbody>\n",
       "</table>\n",
       "<p>5 rows × 833 columns</p>\n",
       "</div>"
      ],
      "text/plain": [
       "   num__Fare  num__Pclass  cat1__Cabin_A10  cat1__Cabin_A14  cat1__Cabin_A16  \\\n",
       "0  -0.502445     0.827377              0.0              0.0              0.0   \n",
       "1   0.786845    -1.566107              0.0              0.0              0.0   \n",
       "2  -0.488854     0.827377              0.0              0.0              0.0   \n",
       "3   0.420730    -1.566107              0.0              0.0              0.0   \n",
       "4  -0.486337     0.827377              0.0              0.0              0.0   \n",
       "\n",
       "   cat1__Cabin_A19  cat1__Cabin_A20  cat1__Cabin_A23  cat1__Cabin_A24  \\\n",
       "0              0.0              0.0              0.0              0.0   \n",
       "1              0.0              0.0              0.0              0.0   \n",
       "2              0.0              0.0              0.0              0.0   \n",
       "3              0.0              0.0              0.0              0.0   \n",
       "4              0.0              0.0              0.0              0.0   \n",
       "\n",
       "   cat1__Cabin_A26  ...  cat2__Ticket_STON/O2. 3101290  \\\n",
       "0              0.0  ...                            0.0   \n",
       "1              0.0  ...                            0.0   \n",
       "2              0.0  ...                            0.0   \n",
       "3              0.0  ...                            0.0   \n",
       "4              0.0  ...                            0.0   \n",
       "\n",
       "   cat2__Ticket_SW/PP 751  cat2__Ticket_W./C. 14258  cat2__Ticket_W./C. 14263  \\\n",
       "0                     0.0                       0.0                       0.0   \n",
       "1                     0.0                       0.0                       0.0   \n",
       "2                     0.0                       0.0                       0.0   \n",
       "3                     0.0                       0.0                       0.0   \n",
       "4                     0.0                       0.0                       0.0   \n",
       "\n",
       "   cat2__Ticket_W./C. 6607  cat2__Ticket_W./C. 6608  cat2__Ticket_W./C. 6609  \\\n",
       "0                      0.0                      0.0                      0.0   \n",
       "1                      0.0                      0.0                      0.0   \n",
       "2                      0.0                      0.0                      0.0   \n",
       "3                      0.0                      0.0                      0.0   \n",
       "4                      0.0                      0.0                      0.0   \n",
       "\n",
       "   cat2__Ticket_W.E.P. 5734  cat2__Ticket_W/C 14208  cat2__Ticket_WE/P 5735  \n",
       "0                       0.0                     0.0                     0.0  \n",
       "1                       0.0                     0.0                     0.0  \n",
       "2                       0.0                     0.0                     0.0  \n",
       "3                       0.0                     0.0                     0.0  \n",
       "4                       0.0                     0.0                     0.0  \n",
       "\n",
       "[5 rows x 833 columns]"
      ]
     },
     "execution_count": 41,
     "metadata": {},
     "output_type": "execute_result"
    }
   ],
   "source": [
    "X_sel_pre = pd.DataFrame(X_sel_pre,columns=cols_sel)\n",
    "X_sel_pre.head()"
   ]
  },
  {
   "attachments": {},
   "cell_type": "markdown",
   "metadata": {},
   "source": [
    "### Apply train test split"
   ]
  },
  {
   "cell_type": "code",
   "execution_count": 42,
   "metadata": {},
   "outputs": [],
   "source": [
    "from sklearn.model_selection import train_test_split\n",
    "xtrain, xtest, ytrain, ytest = train_test_split(X_sel_pre,Y,test_size=0.2,random_state=42)"
   ]
  },
  {
   "cell_type": "code",
   "execution_count": 43,
   "metadata": {},
   "outputs": [
    {
     "data": {
      "text/plain": [
       "(712, 833)"
      ]
     },
     "execution_count": 43,
     "metadata": {},
     "output_type": "execute_result"
    }
   ],
   "source": [
    "xtrain.shape"
   ]
  },
  {
   "cell_type": "code",
   "execution_count": 44,
   "metadata": {},
   "outputs": [
    {
     "data": {
      "text/plain": [
       "(179, 833)"
      ]
     },
     "execution_count": 44,
     "metadata": {},
     "output_type": "execute_result"
    }
   ],
   "source": [
    "xtest.shape"
   ]
  },
  {
   "attachments": {},
   "cell_type": "markdown",
   "metadata": {},
   "source": [
    "### Create a model of GBC"
   ]
  },
  {
   "cell_type": "code",
   "execution_count": 45,
   "metadata": {},
   "outputs": [],
   "source": [
    "params = {'n_estimators':[50,100,200,300],\n",
    "          'learning_rate':[0.01,0.05,0.1],\n",
    "          'max_depth':[3,4,5,6,7,8,9,10]}"
   ]
  },
  {
   "cell_type": "code",
   "execution_count": 46,
   "metadata": {},
   "outputs": [
    {
     "data": {
      "text/html": [
       "<style>#sk-container-id-1 {color: black;background-color: white;}#sk-container-id-1 pre{padding: 0;}#sk-container-id-1 div.sk-toggleable {background-color: white;}#sk-container-id-1 label.sk-toggleable__label {cursor: pointer;display: block;width: 100%;margin-bottom: 0;padding: 0.3em;box-sizing: border-box;text-align: center;}#sk-container-id-1 label.sk-toggleable__label-arrow:before {content: \"▸\";float: left;margin-right: 0.25em;color: #696969;}#sk-container-id-1 label.sk-toggleable__label-arrow:hover:before {color: black;}#sk-container-id-1 div.sk-estimator:hover label.sk-toggleable__label-arrow:before {color: black;}#sk-container-id-1 div.sk-toggleable__content {max-height: 0;max-width: 0;overflow: hidden;text-align: left;background-color: #f0f8ff;}#sk-container-id-1 div.sk-toggleable__content pre {margin: 0.2em;color: black;border-radius: 0.25em;background-color: #f0f8ff;}#sk-container-id-1 input.sk-toggleable__control:checked~div.sk-toggleable__content {max-height: 200px;max-width: 100%;overflow: auto;}#sk-container-id-1 input.sk-toggleable__control:checked~label.sk-toggleable__label-arrow:before {content: \"▾\";}#sk-container-id-1 div.sk-estimator input.sk-toggleable__control:checked~label.sk-toggleable__label {background-color: #d4ebff;}#sk-container-id-1 div.sk-label input.sk-toggleable__control:checked~label.sk-toggleable__label {background-color: #d4ebff;}#sk-container-id-1 input.sk-hidden--visually {border: 0;clip: rect(1px 1px 1px 1px);clip: rect(1px, 1px, 1px, 1px);height: 1px;margin: -1px;overflow: hidden;padding: 0;position: absolute;width: 1px;}#sk-container-id-1 div.sk-estimator {font-family: monospace;background-color: #f0f8ff;border: 1px dotted black;border-radius: 0.25em;box-sizing: border-box;margin-bottom: 0.5em;}#sk-container-id-1 div.sk-estimator:hover {background-color: #d4ebff;}#sk-container-id-1 div.sk-parallel-item::after {content: \"\";width: 100%;border-bottom: 1px solid gray;flex-grow: 1;}#sk-container-id-1 div.sk-label:hover label.sk-toggleable__label {background-color: #d4ebff;}#sk-container-id-1 div.sk-serial::before {content: \"\";position: absolute;border-left: 1px solid gray;box-sizing: border-box;top: 0;bottom: 0;left: 50%;z-index: 0;}#sk-container-id-1 div.sk-serial {display: flex;flex-direction: column;align-items: center;background-color: white;padding-right: 0.2em;padding-left: 0.2em;position: relative;}#sk-container-id-1 div.sk-item {position: relative;z-index: 1;}#sk-container-id-1 div.sk-parallel {display: flex;align-items: stretch;justify-content: center;background-color: white;position: relative;}#sk-container-id-1 div.sk-item::before, #sk-container-id-1 div.sk-parallel-item::before {content: \"\";position: absolute;border-left: 1px solid gray;box-sizing: border-box;top: 0;bottom: 0;left: 50%;z-index: -1;}#sk-container-id-1 div.sk-parallel-item {display: flex;flex-direction: column;z-index: 1;position: relative;background-color: white;}#sk-container-id-1 div.sk-parallel-item:first-child::after {align-self: flex-end;width: 50%;}#sk-container-id-1 div.sk-parallel-item:last-child::after {align-self: flex-start;width: 50%;}#sk-container-id-1 div.sk-parallel-item:only-child::after {width: 0;}#sk-container-id-1 div.sk-dashed-wrapped {border: 1px dashed gray;margin: 0 0.4em 0.5em 0.4em;box-sizing: border-box;padding-bottom: 0.4em;background-color: white;}#sk-container-id-1 div.sk-label label {font-family: monospace;font-weight: bold;display: inline-block;line-height: 1.2em;}#sk-container-id-1 div.sk-label-container {text-align: center;}#sk-container-id-1 div.sk-container {/* jupyter's `normalize.less` sets `[hidden] { display: none; }` but bootstrap.min.css set `[hidden] { display: none !important; }` so we also need the `!important` here to be able to override the default hidden behavior on the sphinx rendered scikit-learn.org. See: https://github.com/scikit-learn/scikit-learn/issues/21755 */display: inline-block !important;position: relative;}#sk-container-id-1 div.sk-text-repr-fallback {display: none;}</style><div id=\"sk-container-id-1\" class=\"sk-top-container\"><div class=\"sk-text-repr-fallback\"><pre>RandomizedSearchCV(cv=5, estimator=GradientBoostingClassifier(),\n",
       "                   param_distributions={&#x27;learning_rate&#x27;: [0.01, 0.05, 0.1],\n",
       "                                        &#x27;max_depth&#x27;: [3, 4, 5, 6, 7, 8, 9, 10],\n",
       "                                        &#x27;n_estimators&#x27;: [50, 100, 200, 300]},\n",
       "                   scoring=&#x27;f1&#x27;)</pre><b>In a Jupyter environment, please rerun this cell to show the HTML representation or trust the notebook. <br />On GitHub, the HTML representation is unable to render, please try loading this page with nbviewer.org.</b></div><div class=\"sk-container\" hidden><div class=\"sk-item sk-dashed-wrapped\"><div class=\"sk-label-container\"><div class=\"sk-label sk-toggleable\"><input class=\"sk-toggleable__control sk-hidden--visually\" id=\"sk-estimator-id-1\" type=\"checkbox\" ><label for=\"sk-estimator-id-1\" class=\"sk-toggleable__label sk-toggleable__label-arrow\">RandomizedSearchCV</label><div class=\"sk-toggleable__content\"><pre>RandomizedSearchCV(cv=5, estimator=GradientBoostingClassifier(),\n",
       "                   param_distributions={&#x27;learning_rate&#x27;: [0.01, 0.05, 0.1],\n",
       "                                        &#x27;max_depth&#x27;: [3, 4, 5, 6, 7, 8, 9, 10],\n",
       "                                        &#x27;n_estimators&#x27;: [50, 100, 200, 300]},\n",
       "                   scoring=&#x27;f1&#x27;)</pre></div></div></div><div class=\"sk-parallel\"><div class=\"sk-parallel-item\"><div class=\"sk-item\"><div class=\"sk-label-container\"><div class=\"sk-label sk-toggleable\"><input class=\"sk-toggleable__control sk-hidden--visually\" id=\"sk-estimator-id-2\" type=\"checkbox\" ><label for=\"sk-estimator-id-2\" class=\"sk-toggleable__label sk-toggleable__label-arrow\">estimator: GradientBoostingClassifier</label><div class=\"sk-toggleable__content\"><pre>GradientBoostingClassifier()</pre></div></div></div><div class=\"sk-serial\"><div class=\"sk-item\"><div class=\"sk-estimator sk-toggleable\"><input class=\"sk-toggleable__control sk-hidden--visually\" id=\"sk-estimator-id-3\" type=\"checkbox\" ><label for=\"sk-estimator-id-3\" class=\"sk-toggleable__label sk-toggleable__label-arrow\">GradientBoostingClassifier</label><div class=\"sk-toggleable__content\"><pre>GradientBoostingClassifier()</pre></div></div></div></div></div></div></div></div></div></div>"
      ],
      "text/plain": [
       "RandomizedSearchCV(cv=5, estimator=GradientBoostingClassifier(),\n",
       "                   param_distributions={'learning_rate': [0.01, 0.05, 0.1],\n",
       "                                        'max_depth': [3, 4, 5, 6, 7, 8, 9, 10],\n",
       "                                        'n_estimators': [50, 100, 200, 300]},\n",
       "                   scoring='f1')"
      ]
     },
     "execution_count": 46,
     "metadata": {},
     "output_type": "execute_result"
    }
   ],
   "source": [
    "from sklearn.ensemble import GradientBoostingClassifier\n",
    "from sklearn.model_selection import RandomizedSearchCV\n",
    "gbc = GradientBoostingClassifier()\n",
    "rscv = RandomizedSearchCV(gbc,param_distributions=params,cv=5,scoring='f1')\n",
    "rscv.fit(xtrain,ytrain)"
   ]
  },
  {
   "cell_type": "code",
   "execution_count": 47,
   "metadata": {},
   "outputs": [
    {
     "data": {
      "text/plain": [
       "{'n_estimators': 50, 'max_depth': 7, 'learning_rate': 0.1}"
      ]
     },
     "execution_count": 47,
     "metadata": {},
     "output_type": "execute_result"
    }
   ],
   "source": [
    "rscv.best_params_"
   ]
  },
  {
   "cell_type": "code",
   "execution_count": 48,
   "metadata": {},
   "outputs": [
    {
     "data": {
      "text/plain": [
       "0.7319675874287525"
      ]
     },
     "execution_count": 48,
     "metadata": {},
     "output_type": "execute_result"
    }
   ],
   "source": [
    "rscv.best_score_"
   ]
  },
  {
   "cell_type": "code",
   "execution_count": 49,
   "metadata": {},
   "outputs": [
    {
     "data": {
      "text/html": [
       "<style>#sk-container-id-2 {color: black;background-color: white;}#sk-container-id-2 pre{padding: 0;}#sk-container-id-2 div.sk-toggleable {background-color: white;}#sk-container-id-2 label.sk-toggleable__label {cursor: pointer;display: block;width: 100%;margin-bottom: 0;padding: 0.3em;box-sizing: border-box;text-align: center;}#sk-container-id-2 label.sk-toggleable__label-arrow:before {content: \"▸\";float: left;margin-right: 0.25em;color: #696969;}#sk-container-id-2 label.sk-toggleable__label-arrow:hover:before {color: black;}#sk-container-id-2 div.sk-estimator:hover label.sk-toggleable__label-arrow:before {color: black;}#sk-container-id-2 div.sk-toggleable__content {max-height: 0;max-width: 0;overflow: hidden;text-align: left;background-color: #f0f8ff;}#sk-container-id-2 div.sk-toggleable__content pre {margin: 0.2em;color: black;border-radius: 0.25em;background-color: #f0f8ff;}#sk-container-id-2 input.sk-toggleable__control:checked~div.sk-toggleable__content {max-height: 200px;max-width: 100%;overflow: auto;}#sk-container-id-2 input.sk-toggleable__control:checked~label.sk-toggleable__label-arrow:before {content: \"▾\";}#sk-container-id-2 div.sk-estimator input.sk-toggleable__control:checked~label.sk-toggleable__label {background-color: #d4ebff;}#sk-container-id-2 div.sk-label input.sk-toggleable__control:checked~label.sk-toggleable__label {background-color: #d4ebff;}#sk-container-id-2 input.sk-hidden--visually {border: 0;clip: rect(1px 1px 1px 1px);clip: rect(1px, 1px, 1px, 1px);height: 1px;margin: -1px;overflow: hidden;padding: 0;position: absolute;width: 1px;}#sk-container-id-2 div.sk-estimator {font-family: monospace;background-color: #f0f8ff;border: 1px dotted black;border-radius: 0.25em;box-sizing: border-box;margin-bottom: 0.5em;}#sk-container-id-2 div.sk-estimator:hover {background-color: #d4ebff;}#sk-container-id-2 div.sk-parallel-item::after {content: \"\";width: 100%;border-bottom: 1px solid gray;flex-grow: 1;}#sk-container-id-2 div.sk-label:hover label.sk-toggleable__label {background-color: #d4ebff;}#sk-container-id-2 div.sk-serial::before {content: \"\";position: absolute;border-left: 1px solid gray;box-sizing: border-box;top: 0;bottom: 0;left: 50%;z-index: 0;}#sk-container-id-2 div.sk-serial {display: flex;flex-direction: column;align-items: center;background-color: white;padding-right: 0.2em;padding-left: 0.2em;position: relative;}#sk-container-id-2 div.sk-item {position: relative;z-index: 1;}#sk-container-id-2 div.sk-parallel {display: flex;align-items: stretch;justify-content: center;background-color: white;position: relative;}#sk-container-id-2 div.sk-item::before, #sk-container-id-2 div.sk-parallel-item::before {content: \"\";position: absolute;border-left: 1px solid gray;box-sizing: border-box;top: 0;bottom: 0;left: 50%;z-index: -1;}#sk-container-id-2 div.sk-parallel-item {display: flex;flex-direction: column;z-index: 1;position: relative;background-color: white;}#sk-container-id-2 div.sk-parallel-item:first-child::after {align-self: flex-end;width: 50%;}#sk-container-id-2 div.sk-parallel-item:last-child::after {align-self: flex-start;width: 50%;}#sk-container-id-2 div.sk-parallel-item:only-child::after {width: 0;}#sk-container-id-2 div.sk-dashed-wrapped {border: 1px dashed gray;margin: 0 0.4em 0.5em 0.4em;box-sizing: border-box;padding-bottom: 0.4em;background-color: white;}#sk-container-id-2 div.sk-label label {font-family: monospace;font-weight: bold;display: inline-block;line-height: 1.2em;}#sk-container-id-2 div.sk-label-container {text-align: center;}#sk-container-id-2 div.sk-container {/* jupyter's `normalize.less` sets `[hidden] { display: none; }` but bootstrap.min.css set `[hidden] { display: none !important; }` so we also need the `!important` here to be able to override the default hidden behavior on the sphinx rendered scikit-learn.org. See: https://github.com/scikit-learn/scikit-learn/issues/21755 */display: inline-block !important;position: relative;}#sk-container-id-2 div.sk-text-repr-fallback {display: none;}</style><div id=\"sk-container-id-2\" class=\"sk-top-container\"><div class=\"sk-text-repr-fallback\"><pre>GradientBoostingClassifier(max_depth=7, n_estimators=50)</pre><b>In a Jupyter environment, please rerun this cell to show the HTML representation or trust the notebook. <br />On GitHub, the HTML representation is unable to render, please try loading this page with nbviewer.org.</b></div><div class=\"sk-container\" hidden><div class=\"sk-item\"><div class=\"sk-estimator sk-toggleable\"><input class=\"sk-toggleable__control sk-hidden--visually\" id=\"sk-estimator-id-4\" type=\"checkbox\" checked><label for=\"sk-estimator-id-4\" class=\"sk-toggleable__label sk-toggleable__label-arrow\">GradientBoostingClassifier</label><div class=\"sk-toggleable__content\"><pre>GradientBoostingClassifier(max_depth=7, n_estimators=50)</pre></div></div></div></div></div>"
      ],
      "text/plain": [
       "GradientBoostingClassifier(max_depth=7, n_estimators=50)"
      ]
     },
     "execution_count": 49,
     "metadata": {},
     "output_type": "execute_result"
    }
   ],
   "source": [
    "best_gbc = rscv.best_estimator_\n",
    "best_gbc"
   ]
  },
  {
   "cell_type": "code",
   "execution_count": 50,
   "metadata": {},
   "outputs": [
    {
     "data": {
      "text/plain": [
       "0.9592696629213483"
      ]
     },
     "execution_count": 50,
     "metadata": {},
     "output_type": "execute_result"
    }
   ],
   "source": [
    "# Training accuracy\n",
    "best_gbc.score(xtrain,ytrain)"
   ]
  },
  {
   "cell_type": "code",
   "execution_count": 51,
   "metadata": {},
   "outputs": [
    {
     "data": {
      "text/plain": [
       "0.8044692737430168"
      ]
     },
     "execution_count": 51,
     "metadata": {},
     "output_type": "execute_result"
    }
   ],
   "source": [
    "# Testing accuracy\n",
    "best_gbc.score(xtest,ytest)"
   ]
  },
  {
   "attachments": {},
   "cell_type": "markdown",
   "metadata": {},
   "source": [
    "### Predict Values for training and testing"
   ]
  },
  {
   "cell_type": "code",
   "execution_count": 52,
   "metadata": {},
   "outputs": [],
   "source": [
    "ypred_tr = best_gbc.predict(xtrain)\n",
    "ypred_ts = best_gbc.predict(xtest)"
   ]
  },
  {
   "cell_type": "code",
   "execution_count": 53,
   "metadata": {},
   "outputs": [
    {
     "data": {
      "text/plain": [
       "array([0, 0, 0, 0, 0], dtype=int64)"
      ]
     },
     "execution_count": 53,
     "metadata": {},
     "output_type": "execute_result"
    }
   ],
   "source": [
    "ypred_tr[0:5]"
   ]
  },
  {
   "cell_type": "code",
   "execution_count": 54,
   "metadata": {},
   "outputs": [
    {
     "data": {
      "text/html": [
       "<div>\n",
       "<style scoped>\n",
       "    .dataframe tbody tr th:only-of-type {\n",
       "        vertical-align: middle;\n",
       "    }\n",
       "\n",
       "    .dataframe tbody tr th {\n",
       "        vertical-align: top;\n",
       "    }\n",
       "\n",
       "    .dataframe thead th {\n",
       "        text-align: right;\n",
       "    }\n",
       "</style>\n",
       "<table border=\"1\" class=\"dataframe\">\n",
       "  <thead>\n",
       "    <tr style=\"text-align: right;\">\n",
       "      <th></th>\n",
       "      <th>Survived</th>\n",
       "    </tr>\n",
       "  </thead>\n",
       "  <tbody>\n",
       "    <tr>\n",
       "      <th>331</th>\n",
       "      <td>0</td>\n",
       "    </tr>\n",
       "    <tr>\n",
       "      <th>733</th>\n",
       "      <td>0</td>\n",
       "    </tr>\n",
       "    <tr>\n",
       "      <th>382</th>\n",
       "      <td>0</td>\n",
       "    </tr>\n",
       "    <tr>\n",
       "      <th>704</th>\n",
       "      <td>0</td>\n",
       "    </tr>\n",
       "    <tr>\n",
       "      <th>813</th>\n",
       "      <td>0</td>\n",
       "    </tr>\n",
       "  </tbody>\n",
       "</table>\n",
       "</div>"
      ],
      "text/plain": [
       "     Survived\n",
       "331         0\n",
       "733         0\n",
       "382         0\n",
       "704         0\n",
       "813         0"
      ]
     },
     "execution_count": 54,
     "metadata": {},
     "output_type": "execute_result"
    }
   ],
   "source": [
    "ytrain.head()"
   ]
  },
  {
   "cell_type": "code",
   "execution_count": 55,
   "metadata": {},
   "outputs": [
    {
     "data": {
      "text/plain": [
       "array([0, 0, 0, 1, 1], dtype=int64)"
      ]
     },
     "execution_count": 55,
     "metadata": {},
     "output_type": "execute_result"
    }
   ],
   "source": [
    "ypred_ts[0:5]"
   ]
  },
  {
   "cell_type": "code",
   "execution_count": 56,
   "metadata": {},
   "outputs": [
    {
     "data": {
      "text/html": [
       "<div>\n",
       "<style scoped>\n",
       "    .dataframe tbody tr th:only-of-type {\n",
       "        vertical-align: middle;\n",
       "    }\n",
       "\n",
       "    .dataframe tbody tr th {\n",
       "        vertical-align: top;\n",
       "    }\n",
       "\n",
       "    .dataframe thead th {\n",
       "        text-align: right;\n",
       "    }\n",
       "</style>\n",
       "<table border=\"1\" class=\"dataframe\">\n",
       "  <thead>\n",
       "    <tr style=\"text-align: right;\">\n",
       "      <th></th>\n",
       "      <th>Survived</th>\n",
       "    </tr>\n",
       "  </thead>\n",
       "  <tbody>\n",
       "    <tr>\n",
       "      <th>709</th>\n",
       "      <td>1</td>\n",
       "    </tr>\n",
       "    <tr>\n",
       "      <th>439</th>\n",
       "      <td>0</td>\n",
       "    </tr>\n",
       "    <tr>\n",
       "      <th>840</th>\n",
       "      <td>0</td>\n",
       "    </tr>\n",
       "    <tr>\n",
       "      <th>720</th>\n",
       "      <td>1</td>\n",
       "    </tr>\n",
       "    <tr>\n",
       "      <th>39</th>\n",
       "      <td>1</td>\n",
       "    </tr>\n",
       "  </tbody>\n",
       "</table>\n",
       "</div>"
      ],
      "text/plain": [
       "     Survived\n",
       "709         1\n",
       "439         0\n",
       "840         0\n",
       "720         1\n",
       "39          1"
      ]
     },
     "execution_count": 56,
     "metadata": {},
     "output_type": "execute_result"
    }
   ],
   "source": [
    "ytest.head()"
   ]
  },
  {
   "attachments": {},
   "cell_type": "markdown",
   "metadata": {},
   "source": [
    "### Plot the confusion matrix for testing"
   ]
  },
  {
   "cell_type": "code",
   "execution_count": 58,
   "metadata": {},
   "outputs": [
    {
     "data": {
      "text/plain": [
       "<sklearn.metrics._plot.confusion_matrix.ConfusionMatrixDisplay at 0x2cc8eb66cb0>"
      ]
     },
     "execution_count": 58,
     "metadata": {},
     "output_type": "execute_result"
    },
    {
     "data": {
      "image/png": "[encoded data removed]",
      "text/plain": [
       "<Figure size 640x480 with 2 Axes>"
      ]
     },
     "metadata": {},
     "output_type": "display_data"
    }
   ],
   "source": [
    "from sklearn.metrics import confusion_matrix, ConfusionMatrixDisplay\n",
    "cf = confusion_matrix(ytest,ypred_ts)\n",
    "cfd = ConfusionMatrixDisplay(cf,display_labels=best_gbc.classes_)\n",
    "cfd.plot()"
   ]
  },
  {
   "attachments": {},
   "cell_type": "markdown",
   "metadata": {},
   "source": [
    "### Classification Report"
   ]
  },
  {
   "cell_type": "code",
   "execution_count": 59,
   "metadata": {},
   "outputs": [
    {
     "name": "stdout",
     "output_type": "stream",
     "text": [
      "              precision    recall  f1-score   support\n",
      "\n",
      "           0       0.80      0.90      0.84       105\n",
      "           1       0.82      0.68      0.74        74\n",
      "\n",
      "    accuracy                           0.80       179\n",
      "   macro avg       0.81      0.79      0.79       179\n",
      "weighted avg       0.81      0.80      0.80       179\n",
      "\n"
     ]
    }
   ],
   "source": [
    "from sklearn.metrics import classification_report\n",
    "print(classification_report(ytest,ypred_ts))"
   ]
  },
  {
   "attachments": {},
   "cell_type": "markdown",
   "metadata": {},
   "source": [
    "### Predicting the new data"
   ]
  },
  {
   "cell_type": "code",
   "execution_count": 60,
   "metadata": {},
   "outputs": [
    {
     "data": {
      "text/html": [
       "<div>\n",
       "<style scoped>\n",
       "    .dataframe tbody tr th:only-of-type {\n",
       "        vertical-align: middle;\n",
       "    }\n",
       "\n",
       "    .dataframe tbody tr th {\n",
       "        vertical-align: top;\n",
       "    }\n",
       "\n",
       "    .dataframe thead th {\n",
       "        text-align: right;\n",
       "    }\n",
       "</style>\n",
       "<table border=\"1\" class=\"dataframe\">\n",
       "  <thead>\n",
       "    <tr style=\"text-align: right;\">\n",
       "      <th></th>\n",
       "      <th>PassengerId</th>\n",
       "      <th>Pclass</th>\n",
       "      <th>Name</th>\n",
       "      <th>Sex</th>\n",
       "      <th>Age</th>\n",
       "      <th>SibSp</th>\n",
       "      <th>Parch</th>\n",
       "      <th>Ticket</th>\n",
       "      <th>Fare</th>\n",
       "      <th>Cabin</th>\n",
       "      <th>Embarked</th>\n",
       "    </tr>\n",
       "  </thead>\n",
       "  <tbody>\n",
       "    <tr>\n",
       "      <th>0</th>\n",
       "      <td>892</td>\n",
       "      <td>3</td>\n",
       "      <td>Kelly, Mr. James</td>\n",
       "      <td>male</td>\n",
       "      <td>34.5</td>\n",
       "      <td>0</td>\n",
       "      <td>0</td>\n",
       "      <td>330911</td>\n",
       "      <td>7.8292</td>\n",
       "      <td>NaN</td>\n",
       "      <td>Q</td>\n",
       "    </tr>\n",
       "    <tr>\n",
       "      <th>1</th>\n",
       "      <td>893</td>\n",
       "      <td>3</td>\n",
       "      <td>Wilkes, Mrs. James (Ellen Needs)</td>\n",
       "      <td>female</td>\n",
       "      <td>47.0</td>\n",
       "      <td>1</td>\n",
       "      <td>0</td>\n",
       "      <td>363272</td>\n",
       "      <td>7.0000</td>\n",
       "      <td>NaN</td>\n",
       "      <td>S</td>\n",
       "    </tr>\n",
       "    <tr>\n",
       "      <th>2</th>\n",
       "      <td>894</td>\n",
       "      <td>2</td>\n",
       "      <td>Myles, Mr. Thomas Francis</td>\n",
       "      <td>male</td>\n",
       "      <td>62.0</td>\n",
       "      <td>0</td>\n",
       "      <td>0</td>\n",
       "      <td>240276</td>\n",
       "      <td>9.6875</td>\n",
       "      <td>NaN</td>\n",
       "      <td>Q</td>\n",
       "    </tr>\n",
       "    <tr>\n",
       "      <th>3</th>\n",
       "      <td>895</td>\n",
       "      <td>3</td>\n",
       "      <td>Wirz, Mr. Albert</td>\n",
       "      <td>male</td>\n",
       "      <td>27.0</td>\n",
       "      <td>0</td>\n",
       "      <td>0</td>\n",
       "      <td>315154</td>\n",
       "      <td>8.6625</td>\n",
       "      <td>NaN</td>\n",
       "      <td>S</td>\n",
       "    </tr>\n",
       "    <tr>\n",
       "      <th>4</th>\n",
       "      <td>896</td>\n",
       "      <td>3</td>\n",
       "      <td>Hirvonen, Mrs. Alexander (Helga E Lindqvist)</td>\n",
       "      <td>female</td>\n",
       "      <td>22.0</td>\n",
       "      <td>1</td>\n",
       "      <td>1</td>\n",
       "      <td>3101298</td>\n",
       "      <td>12.2875</td>\n",
       "      <td>NaN</td>\n",
       "      <td>S</td>\n",
       "    </tr>\n",
       "  </tbody>\n",
       "</table>\n",
       "</div>"
      ],
      "text/plain": [
       "   PassengerId  Pclass                                          Name     Sex  \\\n",
       "0          892       3                              Kelly, Mr. James    male   \n",
       "1          893       3              Wilkes, Mrs. James (Ellen Needs)  female   \n",
       "2          894       2                     Myles, Mr. Thomas Francis    male   \n",
       "3          895       3                              Wirz, Mr. Albert    male   \n",
       "4          896       3  Hirvonen, Mrs. Alexander (Helga E Lindqvist)  female   \n",
       "\n",
       "    Age  SibSp  Parch   Ticket     Fare Cabin Embarked  \n",
       "0  34.5      0      0   330911   7.8292   NaN        Q  \n",
       "1  47.0      1      0   363272   7.0000   NaN        S  \n",
       "2  62.0      0      0   240276   9.6875   NaN        Q  \n",
       "3  27.0      0      0   315154   8.6625   NaN        S  \n",
       "4  22.0      1      1  3101298  12.2875   NaN        S  "
      ]
     },
     "execution_count": 60,
     "metadata": {},
     "output_type": "execute_result"
    }
   ],
   "source": [
    "df2 = pd.read_csv('test_titanic.csv')\n",
    "df2.head()"
   ]
  },
  {
   "cell_type": "code",
   "execution_count": 62,
   "metadata": {},
   "outputs": [
    {
     "data": {
      "text/plain": [
       "array([[-0.49078316,  0.82737724,  0.        , ...,  0.        ,\n",
       "         0.        ,  0.        ],\n",
       "       [-0.50747884,  0.82737724,  0.        , ...,  0.        ,\n",
       "         0.        ,  0.        ],\n",
       "       [-0.45336687, -0.36936484,  0.        , ...,  0.        ,\n",
       "         0.        ,  0.        ],\n",
       "       ...,\n",
       "       [-0.50244517,  0.82737724,  0.        , ...,  0.        ,\n",
       "         0.        ,  0.        ],\n",
       "       [-0.48633742,  0.82737724,  0.        , ...,  0.        ,\n",
       "         0.        ,  0.        ],\n",
       "       [-0.19824428,  0.82737724,  0.        , ...,  0.        ,\n",
       "         0.        ,  0.        ]])"
      ]
     },
     "execution_count": 62,
     "metadata": {},
     "output_type": "execute_result"
    }
   ],
   "source": [
    "xnew = sel_pre.transform(df2).toarray()\n",
    "xnew"
   ]
  },
  {
   "cell_type": "code",
   "execution_count": 63,
   "metadata": {},
   "outputs": [
    {
     "data": {
      "text/html": [
       "<div>\n",
       "<style scoped>\n",
       "    .dataframe tbody tr th:only-of-type {\n",
       "        vertical-align: middle;\n",
       "    }\n",
       "\n",
       "    .dataframe tbody tr th {\n",
       "        vertical-align: top;\n",
       "    }\n",
       "\n",
       "    .dataframe thead th {\n",
       "        text-align: right;\n",
       "    }\n",
       "</style>\n",
       "<table border=\"1\" class=\"dataframe\">\n",
       "  <thead>\n",
       "    <tr style=\"text-align: right;\">\n",
       "      <th></th>\n",
       "      <th>num__Fare</th>\n",
       "      <th>num__Pclass</th>\n",
       "      <th>cat1__Cabin_A10</th>\n",
       "      <th>cat1__Cabin_A14</th>\n",
       "      <th>cat1__Cabin_A16</th>\n",
       "      <th>cat1__Cabin_A19</th>\n",
       "      <th>cat1__Cabin_A20</th>\n",
       "      <th>cat1__Cabin_A23</th>\n",
       "      <th>cat1__Cabin_A24</th>\n",
       "      <th>cat1__Cabin_A26</th>\n",
       "      <th>...</th>\n",
       "      <th>cat2__Ticket_STON/O2. 3101290</th>\n",
       "      <th>cat2__Ticket_SW/PP 751</th>\n",
       "      <th>cat2__Ticket_W./C. 14258</th>\n",
       "      <th>cat2__Ticket_W./C. 14263</th>\n",
       "      <th>cat2__Ticket_W./C. 6607</th>\n",
       "      <th>cat2__Ticket_W./C. 6608</th>\n",
       "      <th>cat2__Ticket_W./C. 6609</th>\n",
       "      <th>cat2__Ticket_W.E.P. 5734</th>\n",
       "      <th>cat2__Ticket_W/C 14208</th>\n",
       "      <th>cat2__Ticket_WE/P 5735</th>\n",
       "    </tr>\n",
       "  </thead>\n",
       "  <tbody>\n",
       "    <tr>\n",
       "      <th>0</th>\n",
       "      <td>-0.490783</td>\n",
       "      <td>0.827377</td>\n",
       "      <td>0.0</td>\n",
       "      <td>0.0</td>\n",
       "      <td>0.0</td>\n",
       "      <td>0.0</td>\n",
       "      <td>0.0</td>\n",
       "      <td>0.0</td>\n",
       "      <td>0.0</td>\n",
       "      <td>0.0</td>\n",
       "      <td>...</td>\n",
       "      <td>0.0</td>\n",
       "      <td>0.0</td>\n",
       "      <td>0.0</td>\n",
       "      <td>0.0</td>\n",
       "      <td>0.0</td>\n",
       "      <td>0.0</td>\n",
       "      <td>0.0</td>\n",
       "      <td>0.0</td>\n",
       "      <td>0.0</td>\n",
       "      <td>0.0</td>\n",
       "    </tr>\n",
       "    <tr>\n",
       "      <th>1</th>\n",
       "      <td>-0.507479</td>\n",
       "      <td>0.827377</td>\n",
       "      <td>0.0</td>\n",
       "      <td>0.0</td>\n",
       "      <td>0.0</td>\n",
       "      <td>0.0</td>\n",
       "      <td>0.0</td>\n",
       "      <td>0.0</td>\n",
       "      <td>0.0</td>\n",
       "      <td>0.0</td>\n",
       "      <td>...</td>\n",
       "      <td>0.0</td>\n",
       "      <td>0.0</td>\n",
       "      <td>0.0</td>\n",
       "      <td>0.0</td>\n",
       "      <td>0.0</td>\n",
       "      <td>0.0</td>\n",
       "      <td>0.0</td>\n",
       "      <td>0.0</td>\n",
       "      <td>0.0</td>\n",
       "      <td>0.0</td>\n",
       "    </tr>\n",
       "    <tr>\n",
       "      <th>2</th>\n",
       "      <td>-0.453367</td>\n",
       "      <td>-0.369365</td>\n",
       "      <td>0.0</td>\n",
       "      <td>0.0</td>\n",
       "      <td>0.0</td>\n",
       "      <td>0.0</td>\n",
       "      <td>0.0</td>\n",
       "      <td>0.0</td>\n",
       "      <td>0.0</td>\n",
       "      <td>0.0</td>\n",
       "      <td>...</td>\n",
       "      <td>0.0</td>\n",
       "      <td>0.0</td>\n",
       "      <td>0.0</td>\n",
       "      <td>0.0</td>\n",
       "      <td>0.0</td>\n",
       "      <td>0.0</td>\n",
       "      <td>0.0</td>\n",
       "      <td>0.0</td>\n",
       "      <td>0.0</td>\n",
       "      <td>0.0</td>\n",
       "    </tr>\n",
       "    <tr>\n",
       "      <th>3</th>\n",
       "      <td>-0.474005</td>\n",
       "      <td>0.827377</td>\n",
       "      <td>0.0</td>\n",
       "      <td>0.0</td>\n",
       "      <td>0.0</td>\n",
       "      <td>0.0</td>\n",
       "      <td>0.0</td>\n",
       "      <td>0.0</td>\n",
       "      <td>0.0</td>\n",
       "      <td>0.0</td>\n",
       "      <td>...</td>\n",
       "      <td>0.0</td>\n",
       "      <td>0.0</td>\n",
       "      <td>0.0</td>\n",
       "      <td>0.0</td>\n",
       "      <td>0.0</td>\n",
       "      <td>0.0</td>\n",
       "      <td>0.0</td>\n",
       "      <td>0.0</td>\n",
       "      <td>0.0</td>\n",
       "      <td>0.0</td>\n",
       "    </tr>\n",
       "    <tr>\n",
       "      <th>4</th>\n",
       "      <td>-0.401017</td>\n",
       "      <td>0.827377</td>\n",
       "      <td>0.0</td>\n",
       "      <td>0.0</td>\n",
       "      <td>0.0</td>\n",
       "      <td>0.0</td>\n",
       "      <td>0.0</td>\n",
       "      <td>0.0</td>\n",
       "      <td>0.0</td>\n",
       "      <td>0.0</td>\n",
       "      <td>...</td>\n",
       "      <td>0.0</td>\n",
       "      <td>0.0</td>\n",
       "      <td>0.0</td>\n",
       "      <td>0.0</td>\n",
       "      <td>0.0</td>\n",
       "      <td>0.0</td>\n",
       "      <td>0.0</td>\n",
       "      <td>0.0</td>\n",
       "      <td>0.0</td>\n",
       "      <td>0.0</td>\n",
       "    </tr>\n",
       "  </tbody>\n",
       "</table>\n",
       "<p>5 rows × 833 columns</p>\n",
       "</div>"
      ],
      "text/plain": [
       "   num__Fare  num__Pclass  cat1__Cabin_A10  cat1__Cabin_A14  cat1__Cabin_A16  \\\n",
       "0  -0.490783     0.827377              0.0              0.0              0.0   \n",
       "1  -0.507479     0.827377              0.0              0.0              0.0   \n",
       "2  -0.453367    -0.369365              0.0              0.0              0.0   \n",
       "3  -0.474005     0.827377              0.0              0.0              0.0   \n",
       "4  -0.401017     0.827377              0.0              0.0              0.0   \n",
       "\n",
       "   cat1__Cabin_A19  cat1__Cabin_A20  cat1__Cabin_A23  cat1__Cabin_A24  \\\n",
       "0              0.0              0.0              0.0              0.0   \n",
       "1              0.0              0.0              0.0              0.0   \n",
       "2              0.0              0.0              0.0              0.0   \n",
       "3              0.0              0.0              0.0              0.0   \n",
       "4              0.0              0.0              0.0              0.0   \n",
       "\n",
       "   cat1__Cabin_A26  ...  cat2__Ticket_STON/O2. 3101290  \\\n",
       "0              0.0  ...                            0.0   \n",
       "1              0.0  ...                            0.0   \n",
       "2              0.0  ...                            0.0   \n",
       "3              0.0  ...                            0.0   \n",
       "4              0.0  ...                            0.0   \n",
       "\n",
       "   cat2__Ticket_SW/PP 751  cat2__Ticket_W./C. 14258  cat2__Ticket_W./C. 14263  \\\n",
       "0                     0.0                       0.0                       0.0   \n",
       "1                     0.0                       0.0                       0.0   \n",
       "2                     0.0                       0.0                       0.0   \n",
       "3                     0.0                       0.0                       0.0   \n",
       "4                     0.0                       0.0                       0.0   \n",
       "\n",
       "   cat2__Ticket_W./C. 6607  cat2__Ticket_W./C. 6608  cat2__Ticket_W./C. 6609  \\\n",
       "0                      0.0                      0.0                      0.0   \n",
       "1                      0.0                      0.0                      0.0   \n",
       "2                      0.0                      0.0                      0.0   \n",
       "3                      0.0                      0.0                      0.0   \n",
       "4                      0.0                      0.0                      0.0   \n",
       "\n",
       "   cat2__Ticket_W.E.P. 5734  cat2__Ticket_W/C 14208  cat2__Ticket_WE/P 5735  \n",
       "0                       0.0                     0.0                     0.0  \n",
       "1                       0.0                     0.0                     0.0  \n",
       "2                       0.0                     0.0                     0.0  \n",
       "3                       0.0                     0.0                     0.0  \n",
       "4                       0.0                     0.0                     0.0  \n",
       "\n",
       "[5 rows x 833 columns]"
      ]
     },
     "execution_count": 63,
     "metadata": {},
     "output_type": "execute_result"
    }
   ],
   "source": [
    "xnew = pd.DataFrame(xnew,columns=cols_sel)\n",
    "xnew.head()"
   ]
  },
  {
   "cell_type": "code",
   "execution_count": 64,
   "metadata": {},
   "outputs": [
    {
     "data": {
      "text/plain": [
       "array([0, 1, 0, 0, 1, 0, 1, 0, 1, 0, 0, 0, 1, 0, 1, 1, 0, 0, 1, 1, 0, 0,\n",
       "       1, 0, 1, 0, 1, 0, 0, 0, 0, 0, 1, 0, 0, 0, 0, 0, 0, 0, 0, 0, 0, 1,\n",
       "       1, 0, 0, 0, 1, 1, 0, 0, 1, 1, 0, 0, 0, 0, 0, 1, 0, 0, 0, 1, 0, 1,\n",
       "       1, 0, 0, 1, 1, 0, 1, 0, 1, 0, 0, 1, 0, 1, 0, 0, 0, 0, 0, 0, 1, 0,\n",
       "       1, 0, 1, 0, 1, 0, 0, 0, 1, 0, 1, 0, 1, 0, 0, 0, 0, 0, 0, 0, 0, 1,\n",
       "       0, 1, 1, 1, 1, 0, 0, 1, 0, 1, 1, 0, 1, 0, 0, 1, 0, 1, 0, 0, 0, 0,\n",
       "       0, 0, 0, 0, 0, 0, 0, 0, 0, 1, 0, 0, 0, 0, 0, 0, 0, 0, 1, 0, 0, 1,\n",
       "       0, 0, 1, 1, 0, 1, 1, 0, 1, 0, 0, 1, 0, 0, 1, 0, 0, 0, 0, 0, 0, 1,\n",
       "       1, 0, 1, 1, 0, 0, 1, 0, 1, 0, 1, 0, 0, 0, 0, 0, 0, 0, 0, 0, 0, 1,\n",
       "       0, 0, 1, 0, 0, 1, 0, 0, 1, 0, 1, 0, 0, 0, 0, 1, 1, 0, 1, 0, 1, 0,\n",
       "       1, 0, 1, 0, 1, 0, 0, 1, 0, 0, 0, 1, 0, 0, 0, 0, 0, 0, 1, 1, 1, 1,\n",
       "       0, 0, 0, 0, 1, 0, 1, 0, 1, 0, 0, 0, 0, 0, 0, 0, 1, 0, 0, 0, 1, 1,\n",
       "       0, 0, 0, 0, 0, 0, 0, 0, 1, 1, 0, 1, 0, 0, 0, 0, 0, 0, 1, 1, 1, 0,\n",
       "       0, 0, 0, 0, 0, 1, 0, 1, 0, 0, 1, 0, 0, 0, 0, 1, 0, 0, 1, 1, 0, 0,\n",
       "       0, 0, 0, 0, 0, 1, 1, 1, 0, 0, 0, 0, 0, 0, 1, 0, 1, 0, 1, 0, 0, 0,\n",
       "       1, 0, 0, 1, 0, 0, 0, 0, 0, 0, 0, 0, 0, 1, 0, 1, 0, 1, 0, 1, 1, 0,\n",
       "       0, 0, 1, 0, 1, 0, 0, 1, 0, 1, 1, 0, 1, 0, 0, 0, 1, 0, 0, 1, 0, 0,\n",
       "       1, 1, 0, 0, 0, 0, 0, 0, 0, 1, 0, 1, 0, 0, 0, 0, 0, 1, 0, 0, 0, 1,\n",
       "       0, 1, 0, 0, 1, 0, 1, 0, 0, 1, 0, 0, 1, 1, 1, 1, 1, 0, 1, 0, 0, 0],\n",
       "      dtype=int64)"
      ]
     },
     "execution_count": 64,
     "metadata": {},
     "output_type": "execute_result"
    }
   ],
   "source": [
    "preds = best_gbc.predict(xnew)\n",
    "preds"
   ]
  },
  {
   "cell_type": "code",
   "execution_count": 72,
   "metadata": {},
   "outputs": [
    {
     "data": {
      "text/plain": [
       "array([[0.91055412, 0.08944588],\n",
       "       [0.1532233 , 0.8467767 ],\n",
       "       [0.90088954, 0.09911046],\n",
       "       [0.90088954, 0.09911046],\n",
       "       [0.25223134, 0.74776866],\n",
       "       [0.90088954, 0.09911046],\n",
       "       [0.1532233 , 0.8467767 ],\n",
       "       [0.88140789, 0.11859211],\n",
       "       [0.1532233 , 0.8467767 ],\n",
       "       [0.88140789, 0.11859211],\n",
       "       [0.91055412, 0.08944588],\n",
       "       [0.88140789, 0.11859211],\n",
       "       [0.04086386, 0.95913614],\n",
       "       [0.88140789, 0.11859211],\n",
       "       [0.04086386, 0.95913614],\n",
       "       [0.05217136, 0.94782864],\n",
       "       [0.88529978, 0.11470022],\n",
       "       [0.91055412, 0.08944588],\n",
       "       [0.35024617, 0.64975383],\n",
       "       [0.1532233 , 0.8467767 ],\n",
       "       [0.87054361, 0.12945639],\n",
       "       [0.91055412, 0.08944588],\n",
       "       [0.05217136, 0.94782864],\n",
       "       [0.87054361, 0.12945639],\n",
       "       [0.04086386, 0.95913614],\n",
       "       [0.88529978, 0.11470022],\n",
       "       [0.04086386, 0.95913614],\n",
       "       [0.91055412, 0.08944588],\n",
       "       [0.67794894, 0.32205106],\n",
       "       [0.88140789, 0.11859211],\n",
       "       [0.88140789, 0.11859211],\n",
       "       [0.87573212, 0.12426788],\n",
       "       [0.13717167, 0.86282833],\n",
       "       [0.90648392, 0.09351608],\n",
       "       [0.66763659, 0.33236341],\n",
       "       [0.91055412, 0.08944588],\n",
       "       [0.7647401 , 0.2352599 ],\n",
       "       [0.7647401 , 0.2352599 ],\n",
       "       [0.90088954, 0.09911046],\n",
       "       [0.53610868, 0.46389132],\n",
       "       [0.88529978, 0.11470022],\n",
       "       [0.68945483, 0.31054517],\n",
       "       [0.91055412, 0.08944588],\n",
       "       [0.05407116, 0.94592884],\n",
       "       [0.04086386, 0.95913614],\n",
       "       [0.88884516, 0.11115484],\n",
       "       [0.68945483, 0.31054517],\n",
       "       [0.91055412, 0.08944588],\n",
       "       [0.04086386, 0.95913614],\n",
       "       [0.12926972, 0.87073028],\n",
       "       [0.66763659, 0.33236341],\n",
       "       [0.88529978, 0.11470022],\n",
       "       [0.05217136, 0.94782864],\n",
       "       [0.04086386, 0.95913614],\n",
       "       [0.88140789, 0.11859211],\n",
       "       [0.88140789, 0.11859211],\n",
       "       [0.91055412, 0.08944588],\n",
       "       [0.89856919, 0.10143081],\n",
       "       [0.88140789, 0.11859211],\n",
       "       [0.04086386, 0.95913614],\n",
       "       [0.91055412, 0.08944588],\n",
       "       [0.88529978, 0.11470022],\n",
       "       [0.91055412, 0.08944588],\n",
       "       [0.1532233 , 0.8467767 ],\n",
       "       [0.7636304 , 0.2363696 ],\n",
       "       [0.05217136, 0.94782864],\n",
       "       [0.39573207, 0.60426793],\n",
       "       [0.87573212, 0.12426788],\n",
       "       [0.68945483, 0.31054517],\n",
       "       [0.04086386, 0.95913614],\n",
       "       [0.30880233, 0.69119767],\n",
       "       [0.91055412, 0.08944588],\n",
       "       [0.35024617, 0.64975383],\n",
       "       [0.68945483, 0.31054517],\n",
       "       [0.04086386, 0.95913614],\n",
       "       [0.7636304 , 0.2363696 ],\n",
       "       [0.90088954, 0.09911046],\n",
       "       [0.04273998, 0.95726002],\n",
       "       [0.88529978, 0.11470022],\n",
       "       [0.30880233, 0.69119767],\n",
       "       [0.88140789, 0.11859211],\n",
       "       [0.7636304 , 0.2363696 ],\n",
       "       [0.88140789, 0.11859211],\n",
       "       [0.91055412, 0.08944588],\n",
       "       [0.89095206, 0.10904794],\n",
       "       [0.88529978, 0.11470022],\n",
       "       [0.39573207, 0.60426793],\n",
       "       [0.7647401 , 0.2352599 ],\n",
       "       [0.30880233, 0.69119767],\n",
       "       [0.88140789, 0.11859211],\n",
       "       [0.25223134, 0.74776866],\n",
       "       [0.91055412, 0.08944588],\n",
       "       [0.04273998, 0.95726002],\n",
       "       [0.90088954, 0.09911046],\n",
       "       [0.88140789, 0.11859211],\n",
       "       [0.91055412, 0.08944588],\n",
       "       [0.04086386, 0.95913614],\n",
       "       [0.88884516, 0.11115484],\n",
       "       [0.39573207, 0.60426793],\n",
       "       [0.90088954, 0.09911046],\n",
       "       [0.04086386, 0.95913614],\n",
       "       [0.88140789, 0.11859211],\n",
       "       [0.91055412, 0.08944588],\n",
       "       [0.91055412, 0.08944588],\n",
       "       [0.54072915, 0.45927085],\n",
       "       [0.88140789, 0.11859211],\n",
       "       [0.91055412, 0.08944588],\n",
       "       [0.91055412, 0.08944588],\n",
       "       [0.90088954, 0.09911046],\n",
       "       [0.36934882, 0.63065118],\n",
       "       [0.88529978, 0.11470022],\n",
       "       [0.39573207, 0.60426793],\n",
       "       [0.04273998, 0.95726002],\n",
       "       [0.1532233 , 0.8467767 ],\n",
       "       [0.04086386, 0.95913614],\n",
       "       [0.88529978, 0.11470022],\n",
       "       [0.91055412, 0.08944588],\n",
       "       [0.17017704, 0.82982296],\n",
       "       [0.66763659, 0.33236341],\n",
       "       [0.05217136, 0.94782864],\n",
       "       [0.05217136, 0.94782864],\n",
       "       [0.91055412, 0.08944588],\n",
       "       [0.04086386, 0.95913614],\n",
       "       [0.91055412, 0.08944588],\n",
       "       [0.91055412, 0.08944588],\n",
       "       [0.20180145, 0.79819855],\n",
       "       [0.91055412, 0.08944588],\n",
       "       [0.16623758, 0.83376242],\n",
       "       [0.88529978, 0.11470022],\n",
       "       [0.90088954, 0.09911046],\n",
       "       [0.90088954, 0.09911046],\n",
       "       [0.68945483, 0.31054517],\n",
       "       [0.90648392, 0.09351608],\n",
       "       [0.91055412, 0.08944588],\n",
       "       [0.91055412, 0.08944588],\n",
       "       [0.91055412, 0.08944588],\n",
       "       [0.91055412, 0.08944588],\n",
       "       [0.88529978, 0.11470022],\n",
       "       [0.7647401 , 0.2352599 ],\n",
       "       [0.87573212, 0.12426788],\n",
       "       [0.90648392, 0.09351608],\n",
       "       [0.04990281, 0.95009719],\n",
       "       [0.7636304 , 0.2363696 ],\n",
       "       [0.88140789, 0.11859211],\n",
       "       [0.88140789, 0.11859211],\n",
       "       [0.88140789, 0.11859211],\n",
       "       [0.67794894, 0.32205106],\n",
       "       [0.90088954, 0.09911046],\n",
       "       [0.88140789, 0.11859211],\n",
       "       [0.88140789, 0.11859211],\n",
       "       [0.04086386, 0.95913614],\n",
       "       [0.91055412, 0.08944588],\n",
       "       [0.88529978, 0.11470022],\n",
       "       [0.25223134, 0.74776866],\n",
       "       [0.87573212, 0.12426788],\n",
       "       [0.91055412, 0.08944588],\n",
       "       [0.04086386, 0.95913614],\n",
       "       [0.39573207, 0.60426793],\n",
       "       [0.68945483, 0.31054517],\n",
       "       [0.25223134, 0.74776866],\n",
       "       [0.1532233 , 0.8467767 ],\n",
       "       [0.88140789, 0.11859211],\n",
       "       [0.05407116, 0.94592884],\n",
       "       [0.91055412, 0.08944588],\n",
       "       [0.88529978, 0.11470022],\n",
       "       [0.18472143, 0.81527857],\n",
       "       [0.67794894, 0.32205106],\n",
       "       [0.87573212, 0.12426788],\n",
       "       [0.05217136, 0.94782864],\n",
       "       [0.70882572, 0.29117428],\n",
       "       [0.91055412, 0.08944588],\n",
       "       [0.91055412, 0.08944588],\n",
       "       [0.88529978, 0.11470022],\n",
       "       [0.91055412, 0.08944588],\n",
       "       [0.87573212, 0.12426788],\n",
       "       [0.05217136, 0.94782864],\n",
       "       [0.03885313, 0.96114687],\n",
       "       [0.66763659, 0.33236341],\n",
       "       [0.04273998, 0.95726002],\n",
       "       [0.04086386, 0.95913614],\n",
       "       [0.88529978, 0.11470022],\n",
       "       [0.66763659, 0.33236341],\n",
       "       [0.04086386, 0.95913614],\n",
       "       [0.91055412, 0.08944588],\n",
       "       [0.04086386, 0.95913614],\n",
       "       [0.88140789, 0.11859211],\n",
       "       [0.05217136, 0.94782864],\n",
       "       [0.90088954, 0.09911046],\n",
       "       [0.90243633, 0.09756367],\n",
       "       [0.88529978, 0.11470022],\n",
       "       [0.88140789, 0.11859211],\n",
       "       [0.88140789, 0.11859211],\n",
       "       [0.88529978, 0.11470022],\n",
       "       [0.88529978, 0.11470022],\n",
       "       [0.87573212, 0.12426788],\n",
       "       [0.91055412, 0.08944588],\n",
       "       [0.55321281, 0.44678719],\n",
       "       [0.39573207, 0.60426793],\n",
       "       [0.89095206, 0.10904794],\n",
       "       [0.7647401 , 0.2352599 ],\n",
       "       [0.20180145, 0.79819855],\n",
       "       [0.88529978, 0.11470022],\n",
       "       [0.7636304 , 0.2363696 ],\n",
       "       [0.05217136, 0.94782864],\n",
       "       [0.89095206, 0.10904794],\n",
       "       [0.88140789, 0.11859211],\n",
       "       [0.30880233, 0.69119767],\n",
       "       [0.89095206, 0.10904794],\n",
       "       [0.04273998, 0.95726002],\n",
       "       [0.91055412, 0.08944588],\n",
       "       [0.88140789, 0.11859211],\n",
       "       [0.91055412, 0.08944588],\n",
       "       [0.87054361, 0.12945639],\n",
       "       [0.05217136, 0.94782864],\n",
       "       [0.39573207, 0.60426793],\n",
       "       [0.67794894, 0.32205106],\n",
       "       [0.39573207, 0.60426793],\n",
       "       [0.87054361, 0.12945639],\n",
       "       [0.04086386, 0.95913614],\n",
       "       [0.90088954, 0.09911046],\n",
       "       [0.05407116, 0.94592884],\n",
       "       [0.90088954, 0.09911046],\n",
       "       [0.04947864, 0.95052136],\n",
       "       [0.91055412, 0.08944588],\n",
       "       [0.05217136, 0.94782864],\n",
       "       [0.67423345, 0.32576655],\n",
       "       [0.91055412, 0.08944588],\n",
       "       [0.30880233, 0.69119767],\n",
       "       [0.88529978, 0.11470022],\n",
       "       [0.88529978, 0.11470022],\n",
       "       [0.87054361, 0.12945639],\n",
       "       [0.05217136, 0.94782864],\n",
       "       [0.91055412, 0.08944588],\n",
       "       [0.91055412, 0.08944588],\n",
       "       [0.66763659, 0.33236341],\n",
       "       [0.91055412, 0.08944588],\n",
       "       [0.66763659, 0.33236341],\n",
       "       [0.91055412, 0.08944588],\n",
       "       [0.05407116, 0.94592884],\n",
       "       [0.04086386, 0.95913614],\n",
       "       [0.05217136, 0.94782864],\n",
       "       [0.05217136, 0.94782864],\n",
       "       [0.55321281, 0.44678719],\n",
       "       [0.91055412, 0.08944588],\n",
       "       [0.88140789, 0.11859211],\n",
       "       [0.67794894, 0.32205106],\n",
       "       [0.05217136, 0.94782864],\n",
       "       [0.87573212, 0.12426788],\n",
       "       [0.05217136, 0.94782864],\n",
       "       [0.73270751, 0.26729249],\n",
       "       [0.05217136, 0.94782864],\n",
       "       [0.88884516, 0.11115484],\n",
       "       [0.55321281, 0.44678719],\n",
       "       [0.90088954, 0.09911046],\n",
       "       [0.90088954, 0.09911046],\n",
       "       [0.91055412, 0.08944588],\n",
       "       [0.91055412, 0.08944588],\n",
       "       [0.90088954, 0.09911046],\n",
       "       [0.05407116, 0.94592884],\n",
       "       [0.91055412, 0.08944588],\n",
       "       [0.88140789, 0.11859211],\n",
       "       [0.91055412, 0.08944588],\n",
       "       [0.05217136, 0.94782864],\n",
       "       [0.25223134, 0.74776866],\n",
       "       [0.88529978, 0.11470022],\n",
       "       [0.91055412, 0.08944588],\n",
       "       [0.91055412, 0.08944588],\n",
       "       [0.91055412, 0.08944588],\n",
       "       [0.7647401 , 0.2352599 ],\n",
       "       [0.90088954, 0.09911046],\n",
       "       [0.66763659, 0.33236341],\n",
       "       [0.91055412, 0.08944588],\n",
       "       [0.04086386, 0.95913614],\n",
       "       [0.20180145, 0.79819855],\n",
       "       [0.91055412, 0.08944588],\n",
       "       [0.05217136, 0.94782864],\n",
       "       [0.89095206, 0.10904794],\n",
       "       [0.88140789, 0.11859211],\n",
       "       [0.88140789, 0.11859211],\n",
       "       [0.89095206, 0.10904794],\n",
       "       [0.7647401 , 0.2352599 ],\n",
       "       [0.88529978, 0.11470022],\n",
       "       [0.30880233, 0.69119767],\n",
       "       [0.3217745 , 0.6782255 ],\n",
       "       [0.18472143, 0.81527857],\n",
       "       [0.91055412, 0.08944588],\n",
       "       [0.91055412, 0.08944588],\n",
       "       [0.66763659, 0.33236341],\n",
       "       [0.89856919, 0.10143081],\n",
       "       [0.90088954, 0.09911046],\n",
       "       [0.87573212, 0.12426788],\n",
       "       [0.3628025 , 0.6371975 ],\n",
       "       [0.91055412, 0.08944588],\n",
       "       [0.48910645, 0.51089355],\n",
       "       [0.90088954, 0.09911046],\n",
       "       [0.91055412, 0.08944588],\n",
       "       [0.05217136, 0.94782864],\n",
       "       [0.88140789, 0.11859211],\n",
       "       [0.87573212, 0.12426788],\n",
       "       [0.91055412, 0.08944588],\n",
       "       [0.91055412, 0.08944588],\n",
       "       [0.36934882, 0.63065118],\n",
       "       [0.88140789, 0.11859211],\n",
       "       [0.90088954, 0.09911046],\n",
       "       [0.30880233, 0.69119767],\n",
       "       [0.04273998, 0.95726002],\n",
       "       [0.55321281, 0.44678719],\n",
       "       [0.90088954, 0.09911046],\n",
       "       [0.66763659, 0.33236341],\n",
       "       [0.73270751, 0.26729249],\n",
       "       [0.90088954, 0.09911046],\n",
       "       [0.91055412, 0.08944588],\n",
       "       [0.91055412, 0.08944588],\n",
       "       [0.30880233, 0.69119767],\n",
       "       [0.04086386, 0.95913614],\n",
       "       [0.1532233 , 0.8467767 ],\n",
       "       [0.55321281, 0.44678719],\n",
       "       [0.89095206, 0.10904794],\n",
       "       [0.91055412, 0.08944588],\n",
       "       [0.87573212, 0.12426788],\n",
       "       [0.91055412, 0.08944588],\n",
       "       [0.89856919, 0.10143081],\n",
       "       [0.46769021, 0.53230979],\n",
       "       [0.88140789, 0.11859211],\n",
       "       [0.04990281, 0.95009719],\n",
       "       [0.91055412, 0.08944588],\n",
       "       [0.04273998, 0.95726002],\n",
       "       [0.87054361, 0.12945639],\n",
       "       [0.88140789, 0.11859211],\n",
       "       [0.88529978, 0.11470022],\n",
       "       [0.03885313, 0.96114687],\n",
       "       [0.68945483, 0.31054517],\n",
       "       [0.91055412, 0.08944588],\n",
       "       [0.16598709, 0.83401291],\n",
       "       [0.91055412, 0.08944588],\n",
       "       [0.63267692, 0.36732308],\n",
       "       [0.88529978, 0.11470022],\n",
       "       [0.91055412, 0.08944588],\n",
       "       [0.87573212, 0.12426788],\n",
       "       [0.91055412, 0.08944588],\n",
       "       [0.89095206, 0.10904794],\n",
       "       [0.91055412, 0.08944588],\n",
       "       [0.87054361, 0.12945639],\n",
       "       [0.03081519, 0.96918481],\n",
       "       [0.88529978, 0.11470022],\n",
       "       [0.1532233 , 0.8467767 ],\n",
       "       [0.88529978, 0.11470022],\n",
       "       [0.1532233 , 0.8467767 ],\n",
       "       [0.88529978, 0.11470022],\n",
       "       [0.05217136, 0.94782864],\n",
       "       [0.04086386, 0.95913614],\n",
       "       [0.89095206, 0.10904794],\n",
       "       [0.87054361, 0.12945639],\n",
       "       [0.87054361, 0.12945639],\n",
       "       [0.13717167, 0.86282833],\n",
       "       [0.68945483, 0.31054517],\n",
       "       [0.04273998, 0.95726002],\n",
       "       [0.91055412, 0.08944588],\n",
       "       [0.91055412, 0.08944588],\n",
       "       [0.20180145, 0.79819855],\n",
       "       [0.87054361, 0.12945639],\n",
       "       [0.03885313, 0.96114687],\n",
       "       [0.05217136, 0.94782864],\n",
       "       [0.90088954, 0.09911046],\n",
       "       [0.0265413 , 0.9734587 ],\n",
       "       [0.90243633, 0.09756367],\n",
       "       [0.88529978, 0.11470022],\n",
       "       [0.90648392, 0.09351608],\n",
       "       [0.04990281, 0.95009719],\n",
       "       [0.88529978, 0.11470022],\n",
       "       [0.88529978, 0.11470022],\n",
       "       [0.04086386, 0.95913614],\n",
       "       [0.89856919, 0.10143081],\n",
       "       [0.88529978, 0.11470022],\n",
       "       [0.02712014, 0.97287986],\n",
       "       [0.04990281, 0.95009719],\n",
       "       [0.7647401 , 0.2352599 ],\n",
       "       [0.88529978, 0.11470022],\n",
       "       [0.67794894, 0.32205106],\n",
       "       [0.87573212, 0.12426788],\n",
       "       [0.91055412, 0.08944588],\n",
       "       [0.91055412, 0.08944588],\n",
       "       [0.73270751, 0.26729249],\n",
       "       [0.20180145, 0.79819855],\n",
       "       [0.88529978, 0.11470022],\n",
       "       [0.04990281, 0.95009719],\n",
       "       [0.91055412, 0.08944588],\n",
       "       [0.88529978, 0.11470022],\n",
       "       [0.91055412, 0.08944588],\n",
       "       [0.88140789, 0.11859211],\n",
       "       [0.66763659, 0.33236341],\n",
       "       [0.04273998, 0.95726002],\n",
       "       [0.88140789, 0.11859211],\n",
       "       [0.89095206, 0.10904794],\n",
       "       [0.88140789, 0.11859211],\n",
       "       [0.04086386, 0.95913614],\n",
       "       [0.91055412, 0.08944588],\n",
       "       [0.02581541, 0.97418459],\n",
       "       [0.91055412, 0.08944588],\n",
       "       [0.91055412, 0.08944588],\n",
       "       [0.04086386, 0.95913614],\n",
       "       [0.88140789, 0.11859211],\n",
       "       [0.04990281, 0.95009719],\n",
       "       [0.87573212, 0.12426788],\n",
       "       [0.68945483, 0.31054517],\n",
       "       [0.36934882, 0.63065118],\n",
       "       [0.89095206, 0.10904794],\n",
       "       [0.7636304 , 0.2363696 ],\n",
       "       [0.1532233 , 0.8467767 ],\n",
       "       [0.25223134, 0.74776866],\n",
       "       [0.30880233, 0.69119767],\n",
       "       [0.04086386, 0.95913614],\n",
       "       [0.39573207, 0.60426793],\n",
       "       [0.90088954, 0.09911046],\n",
       "       [0.04086386, 0.95913614],\n",
       "       [0.91055412, 0.08944588],\n",
       "       [0.90088954, 0.09911046],\n",
       "       [0.88140789, 0.11859211]])"
      ]
     },
     "execution_count": 72,
     "metadata": {},
     "output_type": "execute_result"
    }
   ],
   "source": [
    "probs = best_gbc.predict_proba(xnew)\n",
    "probs"
   ]
  },
  {
   "cell_type": "code",
   "execution_count": 77,
   "metadata": {},
   "outputs": [
    {
     "data": {
      "text/plain": [
       "array([0.08944588, 0.8467767 , 0.09911046, 0.09911046, 0.74776866,\n",
       "       0.09911046, 0.8467767 , 0.11859211, 0.8467767 , 0.11859211,\n",
       "       0.08944588, 0.11859211, 0.95913614, 0.11859211, 0.95913614,\n",
       "       0.94782864, 0.11470022, 0.08944588, 0.64975383, 0.8467767 ,\n",
       "       0.12945639, 0.08944588, 0.94782864, 0.12945639, 0.95913614,\n",
       "       0.11470022, 0.95913614, 0.08944588, 0.32205106, 0.11859211,\n",
       "       0.11859211, 0.12426788, 0.86282833, 0.09351608, 0.33236341,\n",
       "       0.08944588, 0.2352599 , 0.2352599 , 0.09911046, 0.46389132,\n",
       "       0.11470022, 0.31054517, 0.08944588, 0.94592884, 0.95913614,\n",
       "       0.11115484, 0.31054517, 0.08944588, 0.95913614, 0.87073028,\n",
       "       0.33236341, 0.11470022, 0.94782864, 0.95913614, 0.11859211,\n",
       "       0.11859211, 0.08944588, 0.10143081, 0.11859211, 0.95913614,\n",
       "       0.08944588, 0.11470022, 0.08944588, 0.8467767 , 0.2363696 ,\n",
       "       0.94782864, 0.60426793, 0.12426788, 0.31054517, 0.95913614,\n",
       "       0.69119767, 0.08944588, 0.64975383, 0.31054517, 0.95913614,\n",
       "       0.2363696 , 0.09911046, 0.95726002, 0.11470022, 0.69119767,\n",
       "       0.11859211, 0.2363696 , 0.11859211, 0.08944588, 0.10904794,\n",
       "       0.11470022, 0.60426793, 0.2352599 , 0.69119767, 0.11859211,\n",
       "       0.74776866, 0.08944588, 0.95726002, 0.09911046, 0.11859211,\n",
       "       0.08944588, 0.95913614, 0.11115484, 0.60426793, 0.09911046,\n",
       "       0.95913614, 0.11859211, 0.08944588, 0.08944588, 0.45927085,\n",
       "       0.11859211, 0.08944588, 0.08944588, 0.09911046, 0.63065118,\n",
       "       0.11470022, 0.60426793, 0.95726002, 0.8467767 , 0.95913614,\n",
       "       0.11470022, 0.08944588, 0.82982296, 0.33236341, 0.94782864,\n",
       "       0.94782864, 0.08944588, 0.95913614, 0.08944588, 0.08944588,\n",
       "       0.79819855, 0.08944588, 0.83376242, 0.11470022, 0.09911046,\n",
       "       0.09911046, 0.31054517, 0.09351608, 0.08944588, 0.08944588,\n",
       "       0.08944588, 0.08944588, 0.11470022, 0.2352599 , 0.12426788,\n",
       "       0.09351608, 0.95009719, 0.2363696 , 0.11859211, 0.11859211,\n",
       "       0.11859211, 0.32205106, 0.09911046, 0.11859211, 0.11859211,\n",
       "       0.95913614, 0.08944588, 0.11470022, 0.74776866, 0.12426788,\n",
       "       0.08944588, 0.95913614, 0.60426793, 0.31054517, 0.74776866,\n",
       "       0.8467767 , 0.11859211, 0.94592884, 0.08944588, 0.11470022,\n",
       "       0.81527857, 0.32205106, 0.12426788, 0.94782864, 0.29117428,\n",
       "       0.08944588, 0.08944588, 0.11470022, 0.08944588, 0.12426788,\n",
       "       0.94782864, 0.96114687, 0.33236341, 0.95726002, 0.95913614,\n",
       "       0.11470022, 0.33236341, 0.95913614, 0.08944588, 0.95913614,\n",
       "       0.11859211, 0.94782864, 0.09911046, 0.09756367, 0.11470022,\n",
       "       0.11859211, 0.11859211, 0.11470022, 0.11470022, 0.12426788,\n",
       "       0.08944588, 0.44678719, 0.60426793, 0.10904794, 0.2352599 ,\n",
       "       0.79819855, 0.11470022, 0.2363696 , 0.94782864, 0.10904794,\n",
       "       0.11859211, 0.69119767, 0.10904794, 0.95726002, 0.08944588,\n",
       "       0.11859211, 0.08944588, 0.12945639, 0.94782864, 0.60426793,\n",
       "       0.32205106, 0.60426793, 0.12945639, 0.95913614, 0.09911046,\n",
       "       0.94592884, 0.09911046, 0.95052136, 0.08944588, 0.94782864,\n",
       "       0.32576655, 0.08944588, 0.69119767, 0.11470022, 0.11470022,\n",
       "       0.12945639, 0.94782864, 0.08944588, 0.08944588, 0.33236341,\n",
       "       0.08944588, 0.33236341, 0.08944588, 0.94592884, 0.95913614,\n",
       "       0.94782864, 0.94782864, 0.44678719, 0.08944588, 0.11859211,\n",
       "       0.32205106, 0.94782864, 0.12426788, 0.94782864, 0.26729249,\n",
       "       0.94782864, 0.11115484, 0.44678719, 0.09911046, 0.09911046,\n",
       "       0.08944588, 0.08944588, 0.09911046, 0.94592884, 0.08944588,\n",
       "       0.11859211, 0.08944588, 0.94782864, 0.74776866, 0.11470022,\n",
       "       0.08944588, 0.08944588, 0.08944588, 0.2352599 , 0.09911046,\n",
       "       0.33236341, 0.08944588, 0.95913614, 0.79819855, 0.08944588,\n",
       "       0.94782864, 0.10904794, 0.11859211, 0.11859211, 0.10904794,\n",
       "       0.2352599 , 0.11470022, 0.69119767, 0.6782255 , 0.81527857,\n",
       "       0.08944588, 0.08944588, 0.33236341, 0.10143081, 0.09911046,\n",
       "       0.12426788, 0.6371975 , 0.08944588, 0.51089355, 0.09911046,\n",
       "       0.08944588, 0.94782864, 0.11859211, 0.12426788, 0.08944588,\n",
       "       0.08944588, 0.63065118, 0.11859211, 0.09911046, 0.69119767,\n",
       "       0.95726002, 0.44678719, 0.09911046, 0.33236341, 0.26729249,\n",
       "       0.09911046, 0.08944588, 0.08944588, 0.69119767, 0.95913614,\n",
       "       0.8467767 , 0.44678719, 0.10904794, 0.08944588, 0.12426788,\n",
       "       0.08944588, 0.10143081, 0.53230979, 0.11859211, 0.95009719,\n",
       "       0.08944588, 0.95726002, 0.12945639, 0.11859211, 0.11470022,\n",
       "       0.96114687, 0.31054517, 0.08944588, 0.83401291, 0.08944588,\n",
       "       0.36732308, 0.11470022, 0.08944588, 0.12426788, 0.08944588,\n",
       "       0.10904794, 0.08944588, 0.12945639, 0.96918481, 0.11470022,\n",
       "       0.8467767 , 0.11470022, 0.8467767 , 0.11470022, 0.94782864,\n",
       "       0.95913614, 0.10904794, 0.12945639, 0.12945639, 0.86282833,\n",
       "       0.31054517, 0.95726002, 0.08944588, 0.08944588, 0.79819855,\n",
       "       0.12945639, 0.96114687, 0.94782864, 0.09911046, 0.9734587 ,\n",
       "       0.09756367, 0.11470022, 0.09351608, 0.95009719, 0.11470022,\n",
       "       0.11470022, 0.95913614, 0.10143081, 0.11470022, 0.97287986,\n",
       "       0.95009719, 0.2352599 , 0.11470022, 0.32205106, 0.12426788,\n",
       "       0.08944588, 0.08944588, 0.26729249, 0.79819855, 0.11470022,\n",
       "       0.95009719, 0.08944588, 0.11470022, 0.08944588, 0.11859211,\n",
       "       0.33236341, 0.95726002, 0.11859211, 0.10904794, 0.11859211,\n",
       "       0.95913614, 0.08944588, 0.97418459, 0.08944588, 0.08944588,\n",
       "       0.95913614, 0.11859211, 0.95009719, 0.12426788, 0.31054517,\n",
       "       0.63065118, 0.10904794, 0.2363696 , 0.8467767 , 0.74776866,\n",
       "       0.69119767, 0.95913614, 0.60426793, 0.09911046, 0.95913614,\n",
       "       0.08944588, 0.09911046, 0.11859211])"
      ]
     },
     "execution_count": 77,
     "metadata": {},
     "output_type": "execute_result"
    }
   ],
   "source": [
    "probs1 = probs[:,-1]\n",
    "probs1"
   ]
  },
  {
   "cell_type": "code",
   "execution_count": 65,
   "metadata": {},
   "outputs": [
    {
     "data": {
      "text/html": [
       "<div>\n",
       "<style scoped>\n",
       "    .dataframe tbody tr th:only-of-type {\n",
       "        vertical-align: middle;\n",
       "    }\n",
       "\n",
       "    .dataframe tbody tr th {\n",
       "        vertical-align: top;\n",
       "    }\n",
       "\n",
       "    .dataframe thead th {\n",
       "        text-align: right;\n",
       "    }\n",
       "</style>\n",
       "<table border=\"1\" class=\"dataframe\">\n",
       "  <thead>\n",
       "    <tr style=\"text-align: right;\">\n",
       "      <th></th>\n",
       "      <th>PassengerId</th>\n",
       "    </tr>\n",
       "  </thead>\n",
       "  <tbody>\n",
       "    <tr>\n",
       "      <th>0</th>\n",
       "      <td>892</td>\n",
       "    </tr>\n",
       "    <tr>\n",
       "      <th>1</th>\n",
       "      <td>893</td>\n",
       "    </tr>\n",
       "    <tr>\n",
       "      <th>2</th>\n",
       "      <td>894</td>\n",
       "    </tr>\n",
       "    <tr>\n",
       "      <th>3</th>\n",
       "      <td>895</td>\n",
       "    </tr>\n",
       "    <tr>\n",
       "      <th>4</th>\n",
       "      <td>896</td>\n",
       "    </tr>\n",
       "    <tr>\n",
       "      <th>...</th>\n",
       "      <td>...</td>\n",
       "    </tr>\n",
       "    <tr>\n",
       "      <th>413</th>\n",
       "      <td>1305</td>\n",
       "    </tr>\n",
       "    <tr>\n",
       "      <th>414</th>\n",
       "      <td>1306</td>\n",
       "    </tr>\n",
       "    <tr>\n",
       "      <th>415</th>\n",
       "      <td>1307</td>\n",
       "    </tr>\n",
       "    <tr>\n",
       "      <th>416</th>\n",
       "      <td>1308</td>\n",
       "    </tr>\n",
       "    <tr>\n",
       "      <th>417</th>\n",
       "      <td>1309</td>\n",
       "    </tr>\n",
       "  </tbody>\n",
       "</table>\n",
       "<p>418 rows × 1 columns</p>\n",
       "</div>"
      ],
      "text/plain": [
       "     PassengerId\n",
       "0            892\n",
       "1            893\n",
       "2            894\n",
       "3            895\n",
       "4            896\n",
       "..           ...\n",
       "413         1305\n",
       "414         1306\n",
       "415         1307\n",
       "416         1308\n",
       "417         1309\n",
       "\n",
       "[418 rows x 1 columns]"
      ]
     },
     "execution_count": 65,
     "metadata": {},
     "output_type": "execute_result"
    }
   ],
   "source": [
    "final_df = df2[['PassengerId']]\n",
    "final_df"
   ]
  },
  {
   "cell_type": "code",
   "execution_count": 78,
   "metadata": {},
   "outputs": [],
   "source": [
    "final_df['Survived_pred']=preds\n",
    "final_df['Survived_prob']=probs1"
   ]
  },
  {
   "cell_type": "code",
   "execution_count": 79,
   "metadata": {},
   "outputs": [
    {
     "data": {
      "text/html": [
       "<div>\n",
       "<style scoped>\n",
       "    .dataframe tbody tr th:only-of-type {\n",
       "        vertical-align: middle;\n",
       "    }\n",
       "\n",
       "    .dataframe tbody tr th {\n",
       "        vertical-align: top;\n",
       "    }\n",
       "\n",
       "    .dataframe thead th {\n",
       "        text-align: right;\n",
       "    }\n",
       "</style>\n",
       "<table border=\"1\" class=\"dataframe\">\n",
       "  <thead>\n",
       "    <tr style=\"text-align: right;\">\n",
       "      <th></th>\n",
       "      <th>PassengerId</th>\n",
       "      <th>Survived_pred</th>\n",
       "      <th>Survived_prob</th>\n",
       "    </tr>\n",
       "  </thead>\n",
       "  <tbody>\n",
       "    <tr>\n",
       "      <th>0</th>\n",
       "      <td>892</td>\n",
       "      <td>0</td>\n",
       "      <td>0.089446</td>\n",
       "    </tr>\n",
       "    <tr>\n",
       "      <th>1</th>\n",
       "      <td>893</td>\n",
       "      <td>1</td>\n",
       "      <td>0.846777</td>\n",
       "    </tr>\n",
       "    <tr>\n",
       "      <th>2</th>\n",
       "      <td>894</td>\n",
       "      <td>0</td>\n",
       "      <td>0.099110</td>\n",
       "    </tr>\n",
       "    <tr>\n",
       "      <th>3</th>\n",
       "      <td>895</td>\n",
       "      <td>0</td>\n",
       "      <td>0.099110</td>\n",
       "    </tr>\n",
       "    <tr>\n",
       "      <th>4</th>\n",
       "      <td>896</td>\n",
       "      <td>1</td>\n",
       "      <td>0.747769</td>\n",
       "    </tr>\n",
       "    <tr>\n",
       "      <th>...</th>\n",
       "      <td>...</td>\n",
       "      <td>...</td>\n",
       "      <td>...</td>\n",
       "    </tr>\n",
       "    <tr>\n",
       "      <th>413</th>\n",
       "      <td>1305</td>\n",
       "      <td>0</td>\n",
       "      <td>0.099110</td>\n",
       "    </tr>\n",
       "    <tr>\n",
       "      <th>414</th>\n",
       "      <td>1306</td>\n",
       "      <td>1</td>\n",
       "      <td>0.959136</td>\n",
       "    </tr>\n",
       "    <tr>\n",
       "      <th>415</th>\n",
       "      <td>1307</td>\n",
       "      <td>0</td>\n",
       "      <td>0.089446</td>\n",
       "    </tr>\n",
       "    <tr>\n",
       "      <th>416</th>\n",
       "      <td>1308</td>\n",
       "      <td>0</td>\n",
       "      <td>0.099110</td>\n",
       "    </tr>\n",
       "    <tr>\n",
       "      <th>417</th>\n",
       "      <td>1309</td>\n",
       "      <td>0</td>\n",
       "      <td>0.118592</td>\n",
       "    </tr>\n",
       "  </tbody>\n",
       "</table>\n",
       "<p>418 rows × 3 columns</p>\n",
       "</div>"
      ],
      "text/plain": [
       "     PassengerId  Survived_pred  Survived_prob\n",
       "0            892              0       0.089446\n",
       "1            893              1       0.846777\n",
       "2            894              0       0.099110\n",
       "3            895              0       0.099110\n",
       "4            896              1       0.747769\n",
       "..           ...            ...            ...\n",
       "413         1305              0       0.099110\n",
       "414         1306              1       0.959136\n",
       "415         1307              0       0.089446\n",
       "416         1308              0       0.099110\n",
       "417         1309              0       0.118592\n",
       "\n",
       "[418 rows x 3 columns]"
      ]
     },
     "execution_count": 79,
     "metadata": {},
     "output_type": "execute_result"
    }
   ],
   "source": [
    "final_df"
   ]
  },
  {
   "cell_type": "code",
   "execution_count": 80,
   "metadata": {},
   "outputs": [
    {
     "data": {
      "text/plain": [
       "Survived_pred\n",
       "0    281\n",
       "1    137\n",
       "Name: count, dtype: int64"
      ]
     },
     "execution_count": 80,
     "metadata": {},
     "output_type": "execute_result"
    }
   ],
   "source": [
    "final_df['Survived_pred'].value_counts()"
   ]
  },
  {
   "cell_type": "code",
   "execution_count": 81,
   "metadata": {},
   "outputs": [
    {
     "data": {
      "text/plain": [
       "<Axes: xlabel='Survived_pred'>"
      ]
     },
     "execution_count": 81,
     "metadata": {},
     "output_type": "execute_result"
    },
    {
     "data": {
      "image/png": "[encoded data removed]",
      "text/plain": [
       "<Figure size 640x480 with 1 Axes>"
      ]
     },
     "metadata": {},
     "output_type": "display_data"
    }
   ],
   "source": [
    "final_df['Survived_pred'].value_counts().plot(kind='bar')"
   ]
  },
  {
   "attachments": {},
   "cell_type": "markdown",
   "metadata": {},
   "source": [
    "### Saving final df to other csv file"
   ]
  },
  {
   "cell_type": "code",
   "execution_count": 82,
   "metadata": {},
   "outputs": [],
   "source": [
    "final_df.to_csv('Predictions.csv',index=False)"
   ]
  },
  {
   "attachments": {},
   "cell_type": "markdown",
   "metadata": {},
   "source": [
    "### Feature importances "
   ]
  },
  {
   "cell_type": "code",
   "execution_count": 85,
   "metadata": {},
   "outputs": [
    {
     "data": {
      "text/plain": [
       "cat2__Sex_male            0.221550\n",
       "cat2__Sex_female          0.153388\n",
       "num__Fare                 0.116723\n",
       "num__Pclass               0.111299\n",
       "cat1__Cabin_unknown       0.040612\n",
       "                            ...   \n",
       "cat2__Ticket_248706       0.000000\n",
       "cat2__Ticket_248723       0.000000\n",
       "cat2__Ticket_248727       0.000000\n",
       "cat2__Ticket_248731       0.000000\n",
       "cat2__Ticket_WE/P 5735    0.000000\n",
       "Length: 833, dtype: float64"
      ]
     },
     "execution_count": 85,
     "metadata": {},
     "output_type": "execute_result"
    }
   ],
   "source": [
    "imp = best_gbc.feature_importances_\n",
    "imp = pd.Series(imp)\n",
    "imp.index = xtrain.columns\n",
    "imp = imp.sort_values(ascending=False)\n",
    "imp"
   ]
  },
  {
   "cell_type": "code",
   "execution_count": 87,
   "metadata": {},
   "outputs": [
    {
     "data": {
      "text/plain": [
       "<Axes: >"
      ]
     },
     "execution_count": 87,
     "metadata": {},
     "output_type": "execute_result"
    },
    {
     "data": {
      "image/png": "[encoded data removed]",
      "text/plain": [
       "<Figure size 640x480 with 1 Axes>"
      ]
     },
     "metadata": {},
     "output_type": "display_data"
    }
   ],
   "source": [
    "imp[0:3].plot(kind='bar')"
   ]
  }
 ],
 "metadata": {
  "kernelspec": {
   "display_name": "venv",
   "language": "python",
   "name": "python3"
  },
  "language_info": {
   "codemirror_mode": {
    "name": "ipython",
    "version": 3
   },
   "file_extension": ".py",
   "mimetype": "text/x-python",
   "name": "python",
   "nbconvert_exporter": "python",
   "pygments_lexer": "ipython3",
   "version": "3.10.7"
  },
  "orig_nbformat": 4
 },
 "nbformat": 4,
 "nbformat_minor": 2
}
