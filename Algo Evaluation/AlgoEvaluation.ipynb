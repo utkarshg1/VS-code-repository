{
 "cells": [
  {
   "cell_type": "markdown",
   "metadata": {},
   "source": [
    "# Algorithm Evaluation"
   ]
  },
  {
   "cell_type": "code",
   "execution_count": 1,
   "metadata": {},
   "outputs": [],
   "source": [
    "from warnings import filterwarnings\n",
    "filterwarnings('ignore')"
   ]
  },
  {
   "cell_type": "markdown",
   "metadata": {},
   "source": [
    "### Read the dataset"
   ]
  },
  {
   "cell_type": "code",
   "execution_count": 3,
   "metadata": {},
   "outputs": [
    {
     "data": {
      "text/html": [
       "<div>\n",
       "<style scoped>\n",
       "    .dataframe tbody tr th:only-of-type {\n",
       "        vertical-align: middle;\n",
       "    }\n",
       "\n",
       "    .dataframe tbody tr th {\n",
       "        vertical-align: top;\n",
       "    }\n",
       "\n",
       "    .dataframe thead th {\n",
       "        text-align: right;\n",
       "    }\n",
       "</style>\n",
       "<table border=\"1\" class=\"dataframe\">\n",
       "  <thead>\n",
       "    <tr style=\"text-align: right;\">\n",
       "      <th></th>\n",
       "      <th>PassengerId</th>\n",
       "      <th>Survived</th>\n",
       "      <th>Pclass</th>\n",
       "      <th>Name</th>\n",
       "      <th>Sex</th>\n",
       "      <th>Age</th>\n",
       "      <th>SibSp</th>\n",
       "      <th>Parch</th>\n",
       "      <th>Ticket</th>\n",
       "      <th>Fare</th>\n",
       "      <th>Cabin</th>\n",
       "      <th>Embarked</th>\n",
       "    </tr>\n",
       "  </thead>\n",
       "  <tbody>\n",
       "    <tr>\n",
       "      <th>0</th>\n",
       "      <td>1</td>\n",
       "      <td>0</td>\n",
       "      <td>3</td>\n",
       "      <td>Braund, Mr. Owen Harris</td>\n",
       "      <td>male</td>\n",
       "      <td>22.0</td>\n",
       "      <td>1</td>\n",
       "      <td>0</td>\n",
       "      <td>A/5 21171</td>\n",
       "      <td>7.2500</td>\n",
       "      <td>NaN</td>\n",
       "      <td>S</td>\n",
       "    </tr>\n",
       "    <tr>\n",
       "      <th>1</th>\n",
       "      <td>2</td>\n",
       "      <td>1</td>\n",
       "      <td>1</td>\n",
       "      <td>Cumings, Mrs. John Bradley (Florence Briggs Th...</td>\n",
       "      <td>female</td>\n",
       "      <td>38.0</td>\n",
       "      <td>1</td>\n",
       "      <td>0</td>\n",
       "      <td>PC 17599</td>\n",
       "      <td>71.2833</td>\n",
       "      <td>C85</td>\n",
       "      <td>C</td>\n",
       "    </tr>\n",
       "    <tr>\n",
       "      <th>2</th>\n",
       "      <td>3</td>\n",
       "      <td>1</td>\n",
       "      <td>3</td>\n",
       "      <td>Heikkinen, Miss. Laina</td>\n",
       "      <td>female</td>\n",
       "      <td>26.0</td>\n",
       "      <td>0</td>\n",
       "      <td>0</td>\n",
       "      <td>STON/O2. 3101282</td>\n",
       "      <td>7.9250</td>\n",
       "      <td>NaN</td>\n",
       "      <td>S</td>\n",
       "    </tr>\n",
       "    <tr>\n",
       "      <th>3</th>\n",
       "      <td>4</td>\n",
       "      <td>1</td>\n",
       "      <td>1</td>\n",
       "      <td>Futrelle, Mrs. Jacques Heath (Lily May Peel)</td>\n",
       "      <td>female</td>\n",
       "      <td>35.0</td>\n",
       "      <td>1</td>\n",
       "      <td>0</td>\n",
       "      <td>113803</td>\n",
       "      <td>53.1000</td>\n",
       "      <td>C123</td>\n",
       "      <td>S</td>\n",
       "    </tr>\n",
       "    <tr>\n",
       "      <th>4</th>\n",
       "      <td>5</td>\n",
       "      <td>0</td>\n",
       "      <td>3</td>\n",
       "      <td>Allen, Mr. William Henry</td>\n",
       "      <td>male</td>\n",
       "      <td>35.0</td>\n",
       "      <td>0</td>\n",
       "      <td>0</td>\n",
       "      <td>373450</td>\n",
       "      <td>8.0500</td>\n",
       "      <td>NaN</td>\n",
       "      <td>S</td>\n",
       "    </tr>\n",
       "    <tr>\n",
       "      <th>...</th>\n",
       "      <td>...</td>\n",
       "      <td>...</td>\n",
       "      <td>...</td>\n",
       "      <td>...</td>\n",
       "      <td>...</td>\n",
       "      <td>...</td>\n",
       "      <td>...</td>\n",
       "      <td>...</td>\n",
       "      <td>...</td>\n",
       "      <td>...</td>\n",
       "      <td>...</td>\n",
       "      <td>...</td>\n",
       "    </tr>\n",
       "    <tr>\n",
       "      <th>886</th>\n",
       "      <td>887</td>\n",
       "      <td>0</td>\n",
       "      <td>2</td>\n",
       "      <td>Montvila, Rev. Juozas</td>\n",
       "      <td>male</td>\n",
       "      <td>27.0</td>\n",
       "      <td>0</td>\n",
       "      <td>0</td>\n",
       "      <td>211536</td>\n",
       "      <td>13.0000</td>\n",
       "      <td>NaN</td>\n",
       "      <td>S</td>\n",
       "    </tr>\n",
       "    <tr>\n",
       "      <th>887</th>\n",
       "      <td>888</td>\n",
       "      <td>1</td>\n",
       "      <td>1</td>\n",
       "      <td>Graham, Miss. Margaret Edith</td>\n",
       "      <td>female</td>\n",
       "      <td>19.0</td>\n",
       "      <td>0</td>\n",
       "      <td>0</td>\n",
       "      <td>112053</td>\n",
       "      <td>30.0000</td>\n",
       "      <td>B42</td>\n",
       "      <td>S</td>\n",
       "    </tr>\n",
       "    <tr>\n",
       "      <th>888</th>\n",
       "      <td>889</td>\n",
       "      <td>0</td>\n",
       "      <td>3</td>\n",
       "      <td>Johnston, Miss. Catherine Helen \"Carrie\"</td>\n",
       "      <td>female</td>\n",
       "      <td>NaN</td>\n",
       "      <td>1</td>\n",
       "      <td>2</td>\n",
       "      <td>W./C. 6607</td>\n",
       "      <td>23.4500</td>\n",
       "      <td>NaN</td>\n",
       "      <td>S</td>\n",
       "    </tr>\n",
       "    <tr>\n",
       "      <th>889</th>\n",
       "      <td>890</td>\n",
       "      <td>1</td>\n",
       "      <td>1</td>\n",
       "      <td>Behr, Mr. Karl Howell</td>\n",
       "      <td>male</td>\n",
       "      <td>26.0</td>\n",
       "      <td>0</td>\n",
       "      <td>0</td>\n",
       "      <td>111369</td>\n",
       "      <td>30.0000</td>\n",
       "      <td>C148</td>\n",
       "      <td>C</td>\n",
       "    </tr>\n",
       "    <tr>\n",
       "      <th>890</th>\n",
       "      <td>891</td>\n",
       "      <td>0</td>\n",
       "      <td>3</td>\n",
       "      <td>Dooley, Mr. Patrick</td>\n",
       "      <td>male</td>\n",
       "      <td>32.0</td>\n",
       "      <td>0</td>\n",
       "      <td>0</td>\n",
       "      <td>370376</td>\n",
       "      <td>7.7500</td>\n",
       "      <td>NaN</td>\n",
       "      <td>Q</td>\n",
       "    </tr>\n",
       "  </tbody>\n",
       "</table>\n",
       "<p>891 rows × 12 columns</p>\n",
       "</div>"
      ],
      "text/plain": [
       "     PassengerId  Survived  Pclass  \\\n",
       "0              1         0       3   \n",
       "1              2         1       1   \n",
       "2              3         1       3   \n",
       "3              4         1       1   \n",
       "4              5         0       3   \n",
       "..           ...       ...     ...   \n",
       "886          887         0       2   \n",
       "887          888         1       1   \n",
       "888          889         0       3   \n",
       "889          890         1       1   \n",
       "890          891         0       3   \n",
       "\n",
       "                                                  Name     Sex   Age  SibSp  \\\n",
       "0                              Braund, Mr. Owen Harris    male  22.0      1   \n",
       "1    Cumings, Mrs. John Bradley (Florence Briggs Th...  female  38.0      1   \n",
       "2                               Heikkinen, Miss. Laina  female  26.0      0   \n",
       "3         Futrelle, Mrs. Jacques Heath (Lily May Peel)  female  35.0      1   \n",
       "4                             Allen, Mr. William Henry    male  35.0      0   \n",
       "..                                                 ...     ...   ...    ...   \n",
       "886                              Montvila, Rev. Juozas    male  27.0      0   \n",
       "887                       Graham, Miss. Margaret Edith  female  19.0      0   \n",
       "888           Johnston, Miss. Catherine Helen \"Carrie\"  female   NaN      1   \n",
       "889                              Behr, Mr. Karl Howell    male  26.0      0   \n",
       "890                                Dooley, Mr. Patrick    male  32.0      0   \n",
       "\n",
       "     Parch            Ticket     Fare Cabin Embarked  \n",
       "0        0         A/5 21171   7.2500   NaN        S  \n",
       "1        0          PC 17599  71.2833   C85        C  \n",
       "2        0  STON/O2. 3101282   7.9250   NaN        S  \n",
       "3        0            113803  53.1000  C123        S  \n",
       "4        0            373450   8.0500   NaN        S  \n",
       "..     ...               ...      ...   ...      ...  \n",
       "886      0            211536  13.0000   NaN        S  \n",
       "887      0            112053  30.0000   B42        S  \n",
       "888      2        W./C. 6607  23.4500   NaN        S  \n",
       "889      0            111369  30.0000  C148        C  \n",
       "890      0            370376   7.7500   NaN        Q  \n",
       "\n",
       "[891 rows x 12 columns]"
      ]
     },
     "execution_count": 3,
     "metadata": {},
     "output_type": "execute_result"
    }
   ],
   "source": [
    "import pandas as pd\n",
    "df = pd.read_csv('train_titanic.csv')\n",
    "df"
   ]
  },
  {
   "cell_type": "code",
   "execution_count": 4,
   "metadata": {},
   "outputs": [
    {
     "name": "stdout",
     "output_type": "stream",
     "text": [
      "<class 'pandas.core.frame.DataFrame'>\n",
      "RangeIndex: 891 entries, 0 to 890\n",
      "Data columns (total 12 columns):\n",
      " #   Column       Non-Null Count  Dtype  \n",
      "---  ------       --------------  -----  \n",
      " 0   PassengerId  891 non-null    int64  \n",
      " 1   Survived     891 non-null    int64  \n",
      " 2   Pclass       891 non-null    int64  \n",
      " 3   Name         891 non-null    object \n",
      " 4   Sex          891 non-null    object \n",
      " 5   Age          714 non-null    float64\n",
      " 6   SibSp        891 non-null    int64  \n",
      " 7   Parch        891 non-null    int64  \n",
      " 8   Ticket       891 non-null    object \n",
      " 9   Fare         891 non-null    float64\n",
      " 10  Cabin        204 non-null    object \n",
      " 11  Embarked     889 non-null    object \n",
      "dtypes: float64(2), int64(5), object(5)\n",
      "memory usage: 83.7+ KB\n"
     ]
    }
   ],
   "source": [
    "df.info()"
   ]
  },
  {
   "cell_type": "markdown",
   "metadata": {},
   "source": [
    "### Seperate X and Y"
   ]
  },
  {
   "cell_type": "code",
   "execution_count": 5,
   "metadata": {},
   "outputs": [],
   "source": [
    "X = df.drop(labels=['PassengerId','Name','Survived'],axis=1)\n",
    "Y = df[['Survived']]"
   ]
  },
  {
   "cell_type": "code",
   "execution_count": 6,
   "metadata": {},
   "outputs": [
    {
     "data": {
      "text/html": [
       "<div>\n",
       "<style scoped>\n",
       "    .dataframe tbody tr th:only-of-type {\n",
       "        vertical-align: middle;\n",
       "    }\n",
       "\n",
       "    .dataframe tbody tr th {\n",
       "        vertical-align: top;\n",
       "    }\n",
       "\n",
       "    .dataframe thead th {\n",
       "        text-align: right;\n",
       "    }\n",
       "</style>\n",
       "<table border=\"1\" class=\"dataframe\">\n",
       "  <thead>\n",
       "    <tr style=\"text-align: right;\">\n",
       "      <th></th>\n",
       "      <th>Pclass</th>\n",
       "      <th>Sex</th>\n",
       "      <th>Age</th>\n",
       "      <th>SibSp</th>\n",
       "      <th>Parch</th>\n",
       "      <th>Ticket</th>\n",
       "      <th>Fare</th>\n",
       "      <th>Cabin</th>\n",
       "      <th>Embarked</th>\n",
       "    </tr>\n",
       "  </thead>\n",
       "  <tbody>\n",
       "    <tr>\n",
       "      <th>0</th>\n",
       "      <td>3</td>\n",
       "      <td>male</td>\n",
       "      <td>22.0</td>\n",
       "      <td>1</td>\n",
       "      <td>0</td>\n",
       "      <td>A/5 21171</td>\n",
       "      <td>7.2500</td>\n",
       "      <td>NaN</td>\n",
       "      <td>S</td>\n",
       "    </tr>\n",
       "    <tr>\n",
       "      <th>1</th>\n",
       "      <td>1</td>\n",
       "      <td>female</td>\n",
       "      <td>38.0</td>\n",
       "      <td>1</td>\n",
       "      <td>0</td>\n",
       "      <td>PC 17599</td>\n",
       "      <td>71.2833</td>\n",
       "      <td>C85</td>\n",
       "      <td>C</td>\n",
       "    </tr>\n",
       "    <tr>\n",
       "      <th>2</th>\n",
       "      <td>3</td>\n",
       "      <td>female</td>\n",
       "      <td>26.0</td>\n",
       "      <td>0</td>\n",
       "      <td>0</td>\n",
       "      <td>STON/O2. 3101282</td>\n",
       "      <td>7.9250</td>\n",
       "      <td>NaN</td>\n",
       "      <td>S</td>\n",
       "    </tr>\n",
       "    <tr>\n",
       "      <th>3</th>\n",
       "      <td>1</td>\n",
       "      <td>female</td>\n",
       "      <td>35.0</td>\n",
       "      <td>1</td>\n",
       "      <td>0</td>\n",
       "      <td>113803</td>\n",
       "      <td>53.1000</td>\n",
       "      <td>C123</td>\n",
       "      <td>S</td>\n",
       "    </tr>\n",
       "    <tr>\n",
       "      <th>4</th>\n",
       "      <td>3</td>\n",
       "      <td>male</td>\n",
       "      <td>35.0</td>\n",
       "      <td>0</td>\n",
       "      <td>0</td>\n",
       "      <td>373450</td>\n",
       "      <td>8.0500</td>\n",
       "      <td>NaN</td>\n",
       "      <td>S</td>\n",
       "    </tr>\n",
       "  </tbody>\n",
       "</table>\n",
       "</div>"
      ],
      "text/plain": [
       "   Pclass     Sex   Age  SibSp  Parch            Ticket     Fare Cabin  \\\n",
       "0       3    male  22.0      1      0         A/5 21171   7.2500   NaN   \n",
       "1       1  female  38.0      1      0          PC 17599  71.2833   C85   \n",
       "2       3  female  26.0      0      0  STON/O2. 3101282   7.9250   NaN   \n",
       "3       1  female  35.0      1      0            113803  53.1000  C123   \n",
       "4       3    male  35.0      0      0            373450   8.0500   NaN   \n",
       "\n",
       "  Embarked  \n",
       "0        S  \n",
       "1        C  \n",
       "2        S  \n",
       "3        S  \n",
       "4        S  "
      ]
     },
     "execution_count": 6,
     "metadata": {},
     "output_type": "execute_result"
    }
   ],
   "source": [
    "X.head()"
   ]
  },
  {
   "cell_type": "code",
   "execution_count": 7,
   "metadata": {},
   "outputs": [
    {
     "data": {
      "text/html": [
       "<div>\n",
       "<style scoped>\n",
       "    .dataframe tbody tr th:only-of-type {\n",
       "        vertical-align: middle;\n",
       "    }\n",
       "\n",
       "    .dataframe tbody tr th {\n",
       "        vertical-align: top;\n",
       "    }\n",
       "\n",
       "    .dataframe thead th {\n",
       "        text-align: right;\n",
       "    }\n",
       "</style>\n",
       "<table border=\"1\" class=\"dataframe\">\n",
       "  <thead>\n",
       "    <tr style=\"text-align: right;\">\n",
       "      <th></th>\n",
       "      <th>Survived</th>\n",
       "    </tr>\n",
       "  </thead>\n",
       "  <tbody>\n",
       "    <tr>\n",
       "      <th>0</th>\n",
       "      <td>0</td>\n",
       "    </tr>\n",
       "    <tr>\n",
       "      <th>1</th>\n",
       "      <td>1</td>\n",
       "    </tr>\n",
       "    <tr>\n",
       "      <th>2</th>\n",
       "      <td>1</td>\n",
       "    </tr>\n",
       "    <tr>\n",
       "      <th>3</th>\n",
       "      <td>1</td>\n",
       "    </tr>\n",
       "    <tr>\n",
       "      <th>4</th>\n",
       "      <td>0</td>\n",
       "    </tr>\n",
       "  </tbody>\n",
       "</table>\n",
       "</div>"
      ],
      "text/plain": [
       "   Survived\n",
       "0         0\n",
       "1         1\n",
       "2         1\n",
       "3         1\n",
       "4         0"
      ]
     },
     "execution_count": 7,
     "metadata": {},
     "output_type": "execute_result"
    }
   ],
   "source": [
    "Y.head()"
   ]
  },
  {
   "cell_type": "markdown",
   "metadata": {},
   "source": [
    "### Cat Con Seperation X"
   ]
  },
  {
   "cell_type": "code",
   "execution_count": 8,
   "metadata": {},
   "outputs": [],
   "source": [
    "cat = list(X.columns[X.dtypes=='object'])\n",
    "con = list(X.columns[X.dtypes!='object'])"
   ]
  },
  {
   "cell_type": "code",
   "execution_count": 9,
   "metadata": {},
   "outputs": [
    {
     "data": {
      "text/plain": [
       "['Sex', 'Ticket', 'Cabin', 'Embarked']"
      ]
     },
     "execution_count": 9,
     "metadata": {},
     "output_type": "execute_result"
    }
   ],
   "source": [
    "cat"
   ]
  },
  {
   "cell_type": "code",
   "execution_count": 10,
   "metadata": {},
   "outputs": [
    {
     "data": {
      "text/plain": [
       "['Pclass', 'Age', 'SibSp', 'Parch', 'Fare']"
      ]
     },
     "execution_count": 10,
     "metadata": {},
     "output_type": "execute_result"
    }
   ],
   "source": [
    "con"
   ]
  },
  {
   "cell_type": "code",
   "execution_count": 11,
   "metadata": {},
   "outputs": [],
   "source": [
    "cat1 = ['Cabin']\n",
    "cat2 = ['Sex','Ticket','Embarked']"
   ]
  },
  {
   "cell_type": "markdown",
   "metadata": {},
   "source": [
    "### Build Sklearn Pipeline"
   ]
  },
  {
   "cell_type": "code",
   "execution_count": 12,
   "metadata": {},
   "outputs": [],
   "source": [
    "from sklearn.pipeline import Pipeline\n",
    "from sklearn.impute import SimpleImputer\n",
    "from sklearn.preprocessing import OneHotEncoder, StandardScaler\n",
    "from sklearn.compose import ColumnTransformer"
   ]
  },
  {
   "cell_type": "code",
   "execution_count": 13,
   "metadata": {},
   "outputs": [],
   "source": [
    "num_pipe = Pipeline(steps=[('imputer',SimpleImputer(strategy='median')),\n",
    "                           ('scaler',StandardScaler())])\n",
    "\n",
    "cat_pipe1 = Pipeline(steps=[('imputer',SimpleImputer(strategy='constant',fill_value='Unknown')),\n",
    "                           ('ohe',OneHotEncoder(handle_unknown='ignore'))])\n",
    "\n",
    "cat_pipe2 = Pipeline(steps=[('imputer',SimpleImputer(strategy='most_frequent')),\n",
    "                            ('ohe',OneHotEncoder(handle_unknown='ignore'))])\n",
    "\n",
    "pre = ColumnTransformer([('num',num_pipe,con),\n",
    "                         ('cat1',cat_pipe1,cat1),\n",
    "                         ('cat2',cat_pipe2,cat2)])"
   ]
  },
  {
   "cell_type": "code",
   "execution_count": 15,
   "metadata": {},
   "outputs": [
    {
     "data": {
      "text/plain": [
       "array([[ 0.82737724, -0.56573646,  0.43279337, ...,  0.        ,\n",
       "         0.        ,  1.        ],\n",
       "       [-1.56610693,  0.66386103,  0.43279337, ...,  1.        ,\n",
       "         0.        ,  0.        ],\n",
       "       [ 0.82737724, -0.25833709, -0.4745452 , ...,  0.        ,\n",
       "         0.        ,  1.        ],\n",
       "       ...,\n",
       "       [ 0.82737724, -0.1046374 ,  0.43279337, ...,  0.        ,\n",
       "         0.        ,  1.        ],\n",
       "       [-1.56610693, -0.25833709, -0.4745452 , ...,  1.        ,\n",
       "         0.        ,  0.        ],\n",
       "       [ 0.82737724,  0.20276197, -0.4745452 , ...,  0.        ,\n",
       "         1.        ,  0.        ]])"
      ]
     },
     "execution_count": 15,
     "metadata": {},
     "output_type": "execute_result"
    }
   ],
   "source": [
    "X_pre = pre.fit_transform(X).toarray()\n",
    "X_pre"
   ]
  },
  {
   "cell_type": "code",
   "execution_count": 16,
   "metadata": {},
   "outputs": [
    {
     "data": {
      "text/plain": [
       "array(['num__Pclass', 'num__Age', 'num__SibSp', 'num__Parch', 'num__Fare',\n",
       "       'cat1__Cabin_A10', 'cat1__Cabin_A14', 'cat1__Cabin_A16',\n",
       "       'cat1__Cabin_A19', 'cat1__Cabin_A20', 'cat1__Cabin_A23',\n",
       "       'cat1__Cabin_A24', 'cat1__Cabin_A26', 'cat1__Cabin_A31',\n",
       "       'cat1__Cabin_A32', 'cat1__Cabin_A34', 'cat1__Cabin_A36',\n",
       "       'cat1__Cabin_A5', 'cat1__Cabin_A6', 'cat1__Cabin_A7',\n",
       "       'cat1__Cabin_B101', 'cat1__Cabin_B102', 'cat1__Cabin_B18',\n",
       "       'cat1__Cabin_B19', 'cat1__Cabin_B20', 'cat1__Cabin_B22',\n",
       "       'cat1__Cabin_B28', 'cat1__Cabin_B3', 'cat1__Cabin_B30',\n",
       "       'cat1__Cabin_B35', 'cat1__Cabin_B37', 'cat1__Cabin_B38',\n",
       "       'cat1__Cabin_B39', 'cat1__Cabin_B4', 'cat1__Cabin_B41',\n",
       "       'cat1__Cabin_B42', 'cat1__Cabin_B49', 'cat1__Cabin_B5',\n",
       "       'cat1__Cabin_B50', 'cat1__Cabin_B51 B53 B55',\n",
       "       'cat1__Cabin_B57 B59 B63 B66', 'cat1__Cabin_B58 B60',\n",
       "       'cat1__Cabin_B69', 'cat1__Cabin_B71', 'cat1__Cabin_B73',\n",
       "       'cat1__Cabin_B77', 'cat1__Cabin_B78', 'cat1__Cabin_B79',\n",
       "       'cat1__Cabin_B80', 'cat1__Cabin_B82 B84', 'cat1__Cabin_B86',\n",
       "       'cat1__Cabin_B94', 'cat1__Cabin_B96 B98', 'cat1__Cabin_C101',\n",
       "       'cat1__Cabin_C103', 'cat1__Cabin_C104', 'cat1__Cabin_C106',\n",
       "       'cat1__Cabin_C110', 'cat1__Cabin_C111', 'cat1__Cabin_C118',\n",
       "       'cat1__Cabin_C123', 'cat1__Cabin_C124', 'cat1__Cabin_C125',\n",
       "       'cat1__Cabin_C126', 'cat1__Cabin_C128', 'cat1__Cabin_C148',\n",
       "       'cat1__Cabin_C2', 'cat1__Cabin_C22 C26', 'cat1__Cabin_C23 C25 C27',\n",
       "       'cat1__Cabin_C30', 'cat1__Cabin_C32', 'cat1__Cabin_C45',\n",
       "       'cat1__Cabin_C46', 'cat1__Cabin_C47', 'cat1__Cabin_C49',\n",
       "       'cat1__Cabin_C50', 'cat1__Cabin_C52', 'cat1__Cabin_C54',\n",
       "       'cat1__Cabin_C62 C64', 'cat1__Cabin_C65', 'cat1__Cabin_C68',\n",
       "       'cat1__Cabin_C7', 'cat1__Cabin_C70', 'cat1__Cabin_C78',\n",
       "       'cat1__Cabin_C82', 'cat1__Cabin_C83', 'cat1__Cabin_C85',\n",
       "       'cat1__Cabin_C86', 'cat1__Cabin_C87', 'cat1__Cabin_C90',\n",
       "       'cat1__Cabin_C91', 'cat1__Cabin_C92', 'cat1__Cabin_C93',\n",
       "       'cat1__Cabin_C95', 'cat1__Cabin_C99', 'cat1__Cabin_D',\n",
       "       'cat1__Cabin_D10 D12', 'cat1__Cabin_D11', 'cat1__Cabin_D15',\n",
       "       'cat1__Cabin_D17', 'cat1__Cabin_D19', 'cat1__Cabin_D20',\n",
       "       'cat1__Cabin_D21', 'cat1__Cabin_D26', 'cat1__Cabin_D28',\n",
       "       'cat1__Cabin_D30', 'cat1__Cabin_D33', 'cat1__Cabin_D35',\n",
       "       'cat1__Cabin_D36', 'cat1__Cabin_D37', 'cat1__Cabin_D45',\n",
       "       'cat1__Cabin_D46', 'cat1__Cabin_D47', 'cat1__Cabin_D48',\n",
       "       'cat1__Cabin_D49', 'cat1__Cabin_D50', 'cat1__Cabin_D56',\n",
       "       'cat1__Cabin_D6', 'cat1__Cabin_D7', 'cat1__Cabin_D9',\n",
       "       'cat1__Cabin_E10', 'cat1__Cabin_E101', 'cat1__Cabin_E12',\n",
       "       'cat1__Cabin_E121', 'cat1__Cabin_E17', 'cat1__Cabin_E24',\n",
       "       'cat1__Cabin_E25', 'cat1__Cabin_E31', 'cat1__Cabin_E33',\n",
       "       'cat1__Cabin_E34', 'cat1__Cabin_E36', 'cat1__Cabin_E38',\n",
       "       'cat1__Cabin_E40', 'cat1__Cabin_E44', 'cat1__Cabin_E46',\n",
       "       'cat1__Cabin_E49', 'cat1__Cabin_E50', 'cat1__Cabin_E58',\n",
       "       'cat1__Cabin_E63', 'cat1__Cabin_E67', 'cat1__Cabin_E68',\n",
       "       'cat1__Cabin_E77', 'cat1__Cabin_E8', 'cat1__Cabin_F E69',\n",
       "       'cat1__Cabin_F G63', 'cat1__Cabin_F G73', 'cat1__Cabin_F2',\n",
       "       'cat1__Cabin_F33', 'cat1__Cabin_F38', 'cat1__Cabin_F4',\n",
       "       'cat1__Cabin_G6', 'cat1__Cabin_T', 'cat1__Cabin_Unknown',\n",
       "       'cat2__Sex_female', 'cat2__Sex_male', 'cat2__Ticket_110152',\n",
       "       'cat2__Ticket_110413', 'cat2__Ticket_110465',\n",
       "       'cat2__Ticket_110564', 'cat2__Ticket_110813',\n",
       "       'cat2__Ticket_111240', 'cat2__Ticket_111320',\n",
       "       'cat2__Ticket_111361', 'cat2__Ticket_111369',\n",
       "       'cat2__Ticket_111426', 'cat2__Ticket_111427',\n",
       "       'cat2__Ticket_111428', 'cat2__Ticket_112050',\n",
       "       'cat2__Ticket_112052', 'cat2__Ticket_112053',\n",
       "       'cat2__Ticket_112058', 'cat2__Ticket_112059',\n",
       "       'cat2__Ticket_112277', 'cat2__Ticket_112379',\n",
       "       'cat2__Ticket_113028', 'cat2__Ticket_113043',\n",
       "       'cat2__Ticket_113050', 'cat2__Ticket_113051',\n",
       "       'cat2__Ticket_113055', 'cat2__Ticket_113056',\n",
       "       'cat2__Ticket_113059', 'cat2__Ticket_113501',\n",
       "       'cat2__Ticket_113503', 'cat2__Ticket_113505',\n",
       "       'cat2__Ticket_113509', 'cat2__Ticket_113510',\n",
       "       'cat2__Ticket_113514', 'cat2__Ticket_113572',\n",
       "       'cat2__Ticket_113760', 'cat2__Ticket_113767',\n",
       "       'cat2__Ticket_113773', 'cat2__Ticket_113776',\n",
       "       'cat2__Ticket_113781', 'cat2__Ticket_113783',\n",
       "       'cat2__Ticket_113784', 'cat2__Ticket_113786',\n",
       "       'cat2__Ticket_113787', 'cat2__Ticket_113788',\n",
       "       'cat2__Ticket_113789', 'cat2__Ticket_113792',\n",
       "       'cat2__Ticket_113794', 'cat2__Ticket_113796',\n",
       "       'cat2__Ticket_113798', 'cat2__Ticket_113800',\n",
       "       'cat2__Ticket_113803', 'cat2__Ticket_113804',\n",
       "       'cat2__Ticket_113806', 'cat2__Ticket_113807', 'cat2__Ticket_11668',\n",
       "       'cat2__Ticket_11751', 'cat2__Ticket_11752', 'cat2__Ticket_11753',\n",
       "       'cat2__Ticket_11755', 'cat2__Ticket_11765', 'cat2__Ticket_11767',\n",
       "       'cat2__Ticket_11769', 'cat2__Ticket_11771', 'cat2__Ticket_11774',\n",
       "       'cat2__Ticket_11813', 'cat2__Ticket_11967', 'cat2__Ticket_12233',\n",
       "       'cat2__Ticket_12460', 'cat2__Ticket_12749', 'cat2__Ticket_13049',\n",
       "       'cat2__Ticket_13213', 'cat2__Ticket_13214', 'cat2__Ticket_13502',\n",
       "       'cat2__Ticket_13507', 'cat2__Ticket_13509', 'cat2__Ticket_13567',\n",
       "       'cat2__Ticket_13568', 'cat2__Ticket_14311', 'cat2__Ticket_14312',\n",
       "       'cat2__Ticket_14313', 'cat2__Ticket_14973', 'cat2__Ticket_1601',\n",
       "       'cat2__Ticket_16966', 'cat2__Ticket_16988', 'cat2__Ticket_17421',\n",
       "       'cat2__Ticket_17453', 'cat2__Ticket_17463', 'cat2__Ticket_17464',\n",
       "       'cat2__Ticket_17465', 'cat2__Ticket_17466', 'cat2__Ticket_17474',\n",
       "       'cat2__Ticket_17764', 'cat2__Ticket_19877', 'cat2__Ticket_19928',\n",
       "       'cat2__Ticket_19943', 'cat2__Ticket_19947', 'cat2__Ticket_19950',\n",
       "       'cat2__Ticket_19952', 'cat2__Ticket_19972', 'cat2__Ticket_19988',\n",
       "       'cat2__Ticket_19996', 'cat2__Ticket_2003', 'cat2__Ticket_211536',\n",
       "       'cat2__Ticket_21440', 'cat2__Ticket_218629', 'cat2__Ticket_219533',\n",
       "       'cat2__Ticket_220367', 'cat2__Ticket_220845', 'cat2__Ticket_2223',\n",
       "       'cat2__Ticket_223596', 'cat2__Ticket_226593',\n",
       "       'cat2__Ticket_226875', 'cat2__Ticket_228414',\n",
       "       'cat2__Ticket_229236', 'cat2__Ticket_230080',\n",
       "       'cat2__Ticket_230136', 'cat2__Ticket_230433',\n",
       "       'cat2__Ticket_230434', 'cat2__Ticket_231919',\n",
       "       'cat2__Ticket_231945', 'cat2__Ticket_233639',\n",
       "       'cat2__Ticket_233866', 'cat2__Ticket_234360',\n",
       "       'cat2__Ticket_234604', 'cat2__Ticket_234686',\n",
       "       'cat2__Ticket_234818', 'cat2__Ticket_236171',\n",
       "       'cat2__Ticket_236852', 'cat2__Ticket_236853',\n",
       "       'cat2__Ticket_237442', 'cat2__Ticket_237565',\n",
       "       'cat2__Ticket_237668', 'cat2__Ticket_237671',\n",
       "       'cat2__Ticket_237736', 'cat2__Ticket_237789',\n",
       "       'cat2__Ticket_237798', 'cat2__Ticket_239853',\n",
       "       'cat2__Ticket_239854', 'cat2__Ticket_239855',\n",
       "       'cat2__Ticket_239856', 'cat2__Ticket_239865',\n",
       "       'cat2__Ticket_240929', 'cat2__Ticket_24160', 'cat2__Ticket_243847',\n",
       "       'cat2__Ticket_243880', 'cat2__Ticket_244252',\n",
       "       'cat2__Ticket_244270', 'cat2__Ticket_244278',\n",
       "       'cat2__Ticket_244310', 'cat2__Ticket_244358',\n",
       "       'cat2__Ticket_244361', 'cat2__Ticket_244367',\n",
       "       'cat2__Ticket_244373', 'cat2__Ticket_248698',\n",
       "       'cat2__Ticket_248706', 'cat2__Ticket_248723',\n",
       "       'cat2__Ticket_248727', 'cat2__Ticket_248731',\n",
       "       'cat2__Ticket_248733', 'cat2__Ticket_248738',\n",
       "       'cat2__Ticket_248740', 'cat2__Ticket_248747',\n",
       "       'cat2__Ticket_250643', 'cat2__Ticket_250644',\n",
       "       'cat2__Ticket_250646', 'cat2__Ticket_250647',\n",
       "       'cat2__Ticket_250648', 'cat2__Ticket_250649',\n",
       "       'cat2__Ticket_250651', 'cat2__Ticket_250652',\n",
       "       'cat2__Ticket_250653', 'cat2__Ticket_250655', 'cat2__Ticket_2620',\n",
       "       'cat2__Ticket_2623', 'cat2__Ticket_2624', 'cat2__Ticket_2625',\n",
       "       'cat2__Ticket_2626', 'cat2__Ticket_2627', 'cat2__Ticket_2628',\n",
       "       'cat2__Ticket_2629', 'cat2__Ticket_2631', 'cat2__Ticket_26360',\n",
       "       'cat2__Ticket_2641', 'cat2__Ticket_2647', 'cat2__Ticket_2648',\n",
       "       'cat2__Ticket_2649', 'cat2__Ticket_2650', 'cat2__Ticket_2651',\n",
       "       'cat2__Ticket_2653', 'cat2__Ticket_2659', 'cat2__Ticket_2661',\n",
       "       'cat2__Ticket_2662', 'cat2__Ticket_2663', 'cat2__Ticket_2664',\n",
       "       'cat2__Ticket_2665', 'cat2__Ticket_2666', 'cat2__Ticket_2667',\n",
       "       'cat2__Ticket_2668', 'cat2__Ticket_2669', 'cat2__Ticket_26707',\n",
       "       'cat2__Ticket_2671', 'cat2__Ticket_2672', 'cat2__Ticket_2674',\n",
       "       'cat2__Ticket_2677', 'cat2__Ticket_2678', 'cat2__Ticket_2680',\n",
       "       'cat2__Ticket_2683', 'cat2__Ticket_2685', 'cat2__Ticket_2686',\n",
       "       'cat2__Ticket_2687', 'cat2__Ticket_2689', 'cat2__Ticket_2690',\n",
       "       'cat2__Ticket_2691', 'cat2__Ticket_2693', 'cat2__Ticket_2694',\n",
       "       'cat2__Ticket_2695', 'cat2__Ticket_2697', 'cat2__Ticket_2699',\n",
       "       'cat2__Ticket_2700', 'cat2__Ticket_27042', 'cat2__Ticket_27267',\n",
       "       'cat2__Ticket_27849', 'cat2__Ticket_28134', 'cat2__Ticket_28206',\n",
       "       'cat2__Ticket_28213', 'cat2__Ticket_28220', 'cat2__Ticket_28228',\n",
       "       'cat2__Ticket_28403', 'cat2__Ticket_28424', 'cat2__Ticket_28425',\n",
       "       'cat2__Ticket_28551', 'cat2__Ticket_28664', 'cat2__Ticket_28665',\n",
       "       'cat2__Ticket_29011', 'cat2__Ticket_2908', 'cat2__Ticket_29103',\n",
       "       'cat2__Ticket_29104', 'cat2__Ticket_29105', 'cat2__Ticket_29106',\n",
       "       'cat2__Ticket_29108', 'cat2__Ticket_2926', 'cat2__Ticket_29750',\n",
       "       'cat2__Ticket_29751', 'cat2__Ticket_3101264',\n",
       "       'cat2__Ticket_3101265', 'cat2__Ticket_3101267',\n",
       "       'cat2__Ticket_3101276', 'cat2__Ticket_3101277',\n",
       "       'cat2__Ticket_3101278', 'cat2__Ticket_3101281',\n",
       "       'cat2__Ticket_3101295', 'cat2__Ticket_3101296',\n",
       "       'cat2__Ticket_3101298', 'cat2__Ticket_31027', 'cat2__Ticket_31028',\n",
       "       'cat2__Ticket_312991', 'cat2__Ticket_312992',\n",
       "       'cat2__Ticket_312993', 'cat2__Ticket_31418', 'cat2__Ticket_315037',\n",
       "       'cat2__Ticket_315082', 'cat2__Ticket_315084',\n",
       "       'cat2__Ticket_315086', 'cat2__Ticket_315088',\n",
       "       'cat2__Ticket_315089', 'cat2__Ticket_315090',\n",
       "       'cat2__Ticket_315093', 'cat2__Ticket_315094',\n",
       "       'cat2__Ticket_315096', 'cat2__Ticket_315097',\n",
       "       'cat2__Ticket_315098', 'cat2__Ticket_315151',\n",
       "       'cat2__Ticket_315153', 'cat2__Ticket_323592',\n",
       "       'cat2__Ticket_323951', 'cat2__Ticket_324669',\n",
       "       'cat2__Ticket_330877', 'cat2__Ticket_330909',\n",
       "       'cat2__Ticket_330919', 'cat2__Ticket_330923',\n",
       "       'cat2__Ticket_330931', 'cat2__Ticket_330932',\n",
       "       'cat2__Ticket_330935', 'cat2__Ticket_330958',\n",
       "       'cat2__Ticket_330959', 'cat2__Ticket_330979',\n",
       "       'cat2__Ticket_330980', 'cat2__Ticket_334912',\n",
       "       'cat2__Ticket_335097', 'cat2__Ticket_335677', 'cat2__Ticket_33638',\n",
       "       'cat2__Ticket_336439', 'cat2__Ticket_3411', 'cat2__Ticket_341826',\n",
       "       'cat2__Ticket_34218', 'cat2__Ticket_342826', 'cat2__Ticket_343095',\n",
       "       'cat2__Ticket_343120', 'cat2__Ticket_343275',\n",
       "       'cat2__Ticket_343276', 'cat2__Ticket_345364',\n",
       "       'cat2__Ticket_345572', 'cat2__Ticket_345763',\n",
       "       'cat2__Ticket_345764', 'cat2__Ticket_345765',\n",
       "       'cat2__Ticket_345767', 'cat2__Ticket_345769',\n",
       "       'cat2__Ticket_345770', 'cat2__Ticket_345773',\n",
       "       'cat2__Ticket_345774', 'cat2__Ticket_345777',\n",
       "       'cat2__Ticket_345778', 'cat2__Ticket_345779',\n",
       "       'cat2__Ticket_345780', 'cat2__Ticket_345781',\n",
       "       'cat2__Ticket_345783', 'cat2__Ticket_3460', 'cat2__Ticket_347054',\n",
       "       'cat2__Ticket_347060', 'cat2__Ticket_347061',\n",
       "       'cat2__Ticket_347062', 'cat2__Ticket_347063',\n",
       "       'cat2__Ticket_347064', 'cat2__Ticket_347067',\n",
       "       'cat2__Ticket_347068', 'cat2__Ticket_347069',\n",
       "       'cat2__Ticket_347071', 'cat2__Ticket_347073',\n",
       "       'cat2__Ticket_347074', 'cat2__Ticket_347076',\n",
       "       'cat2__Ticket_347077', 'cat2__Ticket_347078',\n",
       "       'cat2__Ticket_347080', 'cat2__Ticket_347081',\n",
       "       'cat2__Ticket_347082', 'cat2__Ticket_347083',\n",
       "       'cat2__Ticket_347085', 'cat2__Ticket_347087',\n",
       "       'cat2__Ticket_347088', 'cat2__Ticket_347089', 'cat2__Ticket_3474',\n",
       "       'cat2__Ticket_347464', 'cat2__Ticket_347466',\n",
       "       'cat2__Ticket_347468', 'cat2__Ticket_347470',\n",
       "       'cat2__Ticket_347742', 'cat2__Ticket_347743',\n",
       "       'cat2__Ticket_348121', 'cat2__Ticket_348123',\n",
       "       'cat2__Ticket_348124', 'cat2__Ticket_349201',\n",
       "       'cat2__Ticket_349203', 'cat2__Ticket_349204',\n",
       "       'cat2__Ticket_349205', 'cat2__Ticket_349206',\n",
       "       'cat2__Ticket_349207', 'cat2__Ticket_349208',\n",
       "       'cat2__Ticket_349209', 'cat2__Ticket_349210',\n",
       "       'cat2__Ticket_349212', 'cat2__Ticket_349213',\n",
       "       'cat2__Ticket_349214', 'cat2__Ticket_349215',\n",
       "       'cat2__Ticket_349216', 'cat2__Ticket_349217',\n",
       "       'cat2__Ticket_349218', 'cat2__Ticket_349219',\n",
       "       'cat2__Ticket_349221', 'cat2__Ticket_349222',\n",
       "       'cat2__Ticket_349223', 'cat2__Ticket_349224',\n",
       "       'cat2__Ticket_349225', 'cat2__Ticket_349227',\n",
       "       'cat2__Ticket_349228', 'cat2__Ticket_349231',\n",
       "       'cat2__Ticket_349233', 'cat2__Ticket_349234',\n",
       "       'cat2__Ticket_349236', 'cat2__Ticket_349237',\n",
       "       'cat2__Ticket_349239', 'cat2__Ticket_349240',\n",
       "       'cat2__Ticket_349241', 'cat2__Ticket_349242',\n",
       "       'cat2__Ticket_349243', 'cat2__Ticket_349244',\n",
       "       'cat2__Ticket_349245', 'cat2__Ticket_349246',\n",
       "       'cat2__Ticket_349247', 'cat2__Ticket_349248',\n",
       "       'cat2__Ticket_349249', 'cat2__Ticket_349251',\n",
       "       'cat2__Ticket_349252', 'cat2__Ticket_349253',\n",
       "       'cat2__Ticket_349254', 'cat2__Ticket_349256',\n",
       "       'cat2__Ticket_349257', 'cat2__Ticket_349909',\n",
       "       'cat2__Ticket_349910', 'cat2__Ticket_349912',\n",
       "       'cat2__Ticket_350025', 'cat2__Ticket_350026',\n",
       "       'cat2__Ticket_350029', 'cat2__Ticket_350034',\n",
       "       'cat2__Ticket_350035', 'cat2__Ticket_350036',\n",
       "       'cat2__Ticket_350042', 'cat2__Ticket_350043',\n",
       "       'cat2__Ticket_350046', 'cat2__Ticket_350047',\n",
       "       'cat2__Ticket_350048', 'cat2__Ticket_350050',\n",
       "       'cat2__Ticket_350052', 'cat2__Ticket_350060',\n",
       "       'cat2__Ticket_350404', 'cat2__Ticket_350406',\n",
       "       'cat2__Ticket_350407', 'cat2__Ticket_350417', 'cat2__Ticket_35273',\n",
       "       'cat2__Ticket_35281', 'cat2__Ticket_35851', 'cat2__Ticket_35852',\n",
       "       'cat2__Ticket_358585', 'cat2__Ticket_36209', 'cat2__Ticket_362316',\n",
       "       'cat2__Ticket_363291', 'cat2__Ticket_363294',\n",
       "       'cat2__Ticket_363592', 'cat2__Ticket_364498',\n",
       "       'cat2__Ticket_364499', 'cat2__Ticket_364500',\n",
       "       'cat2__Ticket_364506', 'cat2__Ticket_364511',\n",
       "       'cat2__Ticket_364512', 'cat2__Ticket_364516',\n",
       "       'cat2__Ticket_364846', 'cat2__Ticket_364848',\n",
       "       'cat2__Ticket_364849', 'cat2__Ticket_364850',\n",
       "       'cat2__Ticket_364851', 'cat2__Ticket_365222',\n",
       "       'cat2__Ticket_365226', 'cat2__Ticket_36568', 'cat2__Ticket_367226',\n",
       "       'cat2__Ticket_367228', 'cat2__Ticket_367229',\n",
       "       'cat2__Ticket_367230', 'cat2__Ticket_367231',\n",
       "       'cat2__Ticket_367232', 'cat2__Ticket_367655',\n",
       "       'cat2__Ticket_368323', 'cat2__Ticket_36864', 'cat2__Ticket_36865',\n",
       "       'cat2__Ticket_36866', 'cat2__Ticket_368703', 'cat2__Ticket_36928',\n",
       "       'cat2__Ticket_36947', 'cat2__Ticket_36963', 'cat2__Ticket_36967',\n",
       "       'cat2__Ticket_36973', 'cat2__Ticket_370129', 'cat2__Ticket_370365',\n",
       "       'cat2__Ticket_370369', 'cat2__Ticket_370370',\n",
       "       'cat2__Ticket_370371', 'cat2__Ticket_370372',\n",
       "       'cat2__Ticket_370373', 'cat2__Ticket_370375',\n",
       "       'cat2__Ticket_370376', 'cat2__Ticket_370377',\n",
       "       'cat2__Ticket_371060', 'cat2__Ticket_371110',\n",
       "       'cat2__Ticket_371362', 'cat2__Ticket_372622',\n",
       "       'cat2__Ticket_373450', 'cat2__Ticket_374746',\n",
       "       'cat2__Ticket_374887', 'cat2__Ticket_374910',\n",
       "       'cat2__Ticket_376564', 'cat2__Ticket_376566',\n",
       "       'cat2__Ticket_382649', 'cat2__Ticket_382651',\n",
       "       'cat2__Ticket_382652', 'cat2__Ticket_383121',\n",
       "       'cat2__Ticket_384461', 'cat2__Ticket_386525',\n",
       "       'cat2__Ticket_392091', 'cat2__Ticket_392092',\n",
       "       'cat2__Ticket_392096', 'cat2__Ticket_394140', 'cat2__Ticket_4133',\n",
       "       'cat2__Ticket_4134', 'cat2__Ticket_4135', 'cat2__Ticket_4136',\n",
       "       'cat2__Ticket_4137', 'cat2__Ticket_4138', 'cat2__Ticket_4579',\n",
       "       'cat2__Ticket_54636', 'cat2__Ticket_5727', 'cat2__Ticket_65303',\n",
       "       'cat2__Ticket_65304', 'cat2__Ticket_65306', 'cat2__Ticket_6563',\n",
       "       'cat2__Ticket_693', 'cat2__Ticket_695', 'cat2__Ticket_7267',\n",
       "       'cat2__Ticket_7534', 'cat2__Ticket_7540', 'cat2__Ticket_7545',\n",
       "       'cat2__Ticket_7546', 'cat2__Ticket_7552', 'cat2__Ticket_7553',\n",
       "       'cat2__Ticket_7598', 'cat2__Ticket_8471', 'cat2__Ticket_8475',\n",
       "       'cat2__Ticket_9234', 'cat2__Ticket_A./5. 2152',\n",
       "       'cat2__Ticket_A./5. 3235', 'cat2__Ticket_A.5. 11206',\n",
       "       'cat2__Ticket_A.5. 18509', 'cat2__Ticket_A/4 45380',\n",
       "       'cat2__Ticket_A/4 48871', 'cat2__Ticket_A/4. 20589',\n",
       "       'cat2__Ticket_A/4. 34244', 'cat2__Ticket_A/4. 39886',\n",
       "       'cat2__Ticket_A/5 21171', 'cat2__Ticket_A/5 21172',\n",
       "       'cat2__Ticket_A/5 21173', 'cat2__Ticket_A/5 21174',\n",
       "       'cat2__Ticket_A/5 2466', 'cat2__Ticket_A/5 2817',\n",
       "       'cat2__Ticket_A/5 3536', 'cat2__Ticket_A/5 3540',\n",
       "       'cat2__Ticket_A/5 3594', 'cat2__Ticket_A/5 3902',\n",
       "       'cat2__Ticket_A/5. 10482', 'cat2__Ticket_A/5. 13032',\n",
       "       'cat2__Ticket_A/5. 2151', 'cat2__Ticket_A/5. 3336',\n",
       "       'cat2__Ticket_A/5. 3337', 'cat2__Ticket_A/5. 851',\n",
       "       'cat2__Ticket_A/S 2816', 'cat2__Ticket_A4. 54510',\n",
       "       'cat2__Ticket_C 17369', 'cat2__Ticket_C 4001',\n",
       "       'cat2__Ticket_C 7075', 'cat2__Ticket_C 7076',\n",
       "       'cat2__Ticket_C 7077', 'cat2__Ticket_C.A. 17248',\n",
       "       'cat2__Ticket_C.A. 18723', 'cat2__Ticket_C.A. 2315',\n",
       "       'cat2__Ticket_C.A. 24579', 'cat2__Ticket_C.A. 24580',\n",
       "       'cat2__Ticket_C.A. 2673', 'cat2__Ticket_C.A. 29178',\n",
       "       'cat2__Ticket_C.A. 29395', 'cat2__Ticket_C.A. 29566',\n",
       "       'cat2__Ticket_C.A. 31026', 'cat2__Ticket_C.A. 31921',\n",
       "       'cat2__Ticket_C.A. 33111', 'cat2__Ticket_C.A. 33112',\n",
       "       'cat2__Ticket_C.A. 33595', 'cat2__Ticket_C.A. 34260',\n",
       "       'cat2__Ticket_C.A. 34651', 'cat2__Ticket_C.A. 37671',\n",
       "       'cat2__Ticket_C.A. 5547', 'cat2__Ticket_C.A. 6212',\n",
       "       'cat2__Ticket_C.A./SOTON 34068', 'cat2__Ticket_CA 2144',\n",
       "       'cat2__Ticket_CA. 2314', 'cat2__Ticket_CA. 2343',\n",
       "       'cat2__Ticket_F.C. 12750', 'cat2__Ticket_F.C.C. 13528',\n",
       "       'cat2__Ticket_F.C.C. 13529', 'cat2__Ticket_F.C.C. 13531',\n",
       "       'cat2__Ticket_Fa 265302', 'cat2__Ticket_LINE',\n",
       "       'cat2__Ticket_P/PP 3381', 'cat2__Ticket_PC 17318',\n",
       "       'cat2__Ticket_PC 17473', 'cat2__Ticket_PC 17474',\n",
       "       'cat2__Ticket_PC 17475', 'cat2__Ticket_PC 17476',\n",
       "       'cat2__Ticket_PC 17477', 'cat2__Ticket_PC 17482',\n",
       "       'cat2__Ticket_PC 17483', 'cat2__Ticket_PC 17485',\n",
       "       'cat2__Ticket_PC 17558', 'cat2__Ticket_PC 17569',\n",
       "       'cat2__Ticket_PC 17572', 'cat2__Ticket_PC 17582',\n",
       "       'cat2__Ticket_PC 17585', 'cat2__Ticket_PC 17590',\n",
       "       'cat2__Ticket_PC 17592', 'cat2__Ticket_PC 17593',\n",
       "       'cat2__Ticket_PC 17595', 'cat2__Ticket_PC 17596',\n",
       "       'cat2__Ticket_PC 17597', 'cat2__Ticket_PC 17599',\n",
       "       'cat2__Ticket_PC 17600', 'cat2__Ticket_PC 17601',\n",
       "       'cat2__Ticket_PC 17603', 'cat2__Ticket_PC 17604',\n",
       "       'cat2__Ticket_PC 17605', 'cat2__Ticket_PC 17608',\n",
       "       'cat2__Ticket_PC 17609', 'cat2__Ticket_PC 17610',\n",
       "       'cat2__Ticket_PC 17611', 'cat2__Ticket_PC 17612',\n",
       "       'cat2__Ticket_PC 17754', 'cat2__Ticket_PC 17755',\n",
       "       'cat2__Ticket_PC 17756', 'cat2__Ticket_PC 17757',\n",
       "       'cat2__Ticket_PC 17758', 'cat2__Ticket_PC 17759',\n",
       "       'cat2__Ticket_PC 17760', 'cat2__Ticket_PC 17761',\n",
       "       'cat2__Ticket_PP 4348', 'cat2__Ticket_PP 9549',\n",
       "       'cat2__Ticket_S.C./A.4. 23567', 'cat2__Ticket_S.C./PARIS 2079',\n",
       "       'cat2__Ticket_S.O./P.P. 3', 'cat2__Ticket_S.O./P.P. 751',\n",
       "       'cat2__Ticket_S.O.C. 14879', 'cat2__Ticket_S.O.P. 1166',\n",
       "       'cat2__Ticket_S.P. 3464', 'cat2__Ticket_S.W./PP 752',\n",
       "       'cat2__Ticket_SC 1748', 'cat2__Ticket_SC/AH 29037',\n",
       "       'cat2__Ticket_SC/AH 3085', 'cat2__Ticket_SC/AH Basle 541',\n",
       "       'cat2__Ticket_SC/PARIS 2131', 'cat2__Ticket_SC/PARIS 2133',\n",
       "       'cat2__Ticket_SC/PARIS 2146', 'cat2__Ticket_SC/PARIS 2149',\n",
       "       'cat2__Ticket_SC/PARIS 2167', 'cat2__Ticket_SC/Paris 2123',\n",
       "       'cat2__Ticket_SC/Paris 2163', 'cat2__Ticket_SCO/W 1585',\n",
       "       'cat2__Ticket_SO/C 14885', 'cat2__Ticket_SOTON/O.Q. 3101305',\n",
       "       'cat2__Ticket_SOTON/O.Q. 3101306',\n",
       "       'cat2__Ticket_SOTON/O.Q. 3101307',\n",
       "       'cat2__Ticket_SOTON/O.Q. 3101310',\n",
       "       'cat2__Ticket_SOTON/O.Q. 3101311',\n",
       "       'cat2__Ticket_SOTON/O.Q. 3101312',\n",
       "       'cat2__Ticket_SOTON/O.Q. 392078', 'cat2__Ticket_SOTON/O.Q. 392087',\n",
       "       'cat2__Ticket_SOTON/O2 3101272', 'cat2__Ticket_SOTON/O2 3101287',\n",
       "       'cat2__Ticket_SOTON/OQ 3101316', 'cat2__Ticket_SOTON/OQ 3101317',\n",
       "       'cat2__Ticket_SOTON/OQ 392076', 'cat2__Ticket_SOTON/OQ 392082',\n",
       "       'cat2__Ticket_SOTON/OQ 392086', 'cat2__Ticket_SOTON/OQ 392089',\n",
       "       'cat2__Ticket_SOTON/OQ 392090', 'cat2__Ticket_STON/O 2. 3101269',\n",
       "       'cat2__Ticket_STON/O 2. 3101273', 'cat2__Ticket_STON/O 2. 3101274',\n",
       "       'cat2__Ticket_STON/O 2. 3101275', 'cat2__Ticket_STON/O 2. 3101280',\n",
       "       'cat2__Ticket_STON/O 2. 3101285', 'cat2__Ticket_STON/O 2. 3101286',\n",
       "       'cat2__Ticket_STON/O 2. 3101288', 'cat2__Ticket_STON/O 2. 3101289',\n",
       "       'cat2__Ticket_STON/O 2. 3101292', 'cat2__Ticket_STON/O 2. 3101293',\n",
       "       'cat2__Ticket_STON/O 2. 3101294', 'cat2__Ticket_STON/O2. 3101271',\n",
       "       'cat2__Ticket_STON/O2. 3101279', 'cat2__Ticket_STON/O2. 3101282',\n",
       "       'cat2__Ticket_STON/O2. 3101283', 'cat2__Ticket_STON/O2. 3101290',\n",
       "       'cat2__Ticket_SW/PP 751', 'cat2__Ticket_W./C. 14258',\n",
       "       'cat2__Ticket_W./C. 14263', 'cat2__Ticket_W./C. 6607',\n",
       "       'cat2__Ticket_W./C. 6608', 'cat2__Ticket_W./C. 6609',\n",
       "       'cat2__Ticket_W.E.P. 5734', 'cat2__Ticket_W/C 14208',\n",
       "       'cat2__Ticket_WE/P 5735', 'cat2__Embarked_C', 'cat2__Embarked_Q',\n",
       "       'cat2__Embarked_S'], dtype=object)"
      ]
     },
     "execution_count": 16,
     "metadata": {},
     "output_type": "execute_result"
    }
   ],
   "source": [
    "cols = pre.get_feature_names_out()\n",
    "cols"
   ]
  },
  {
   "cell_type": "code",
   "execution_count": 17,
   "metadata": {},
   "outputs": [
    {
     "data": {
      "text/html": [
       "<div>\n",
       "<style scoped>\n",
       "    .dataframe tbody tr th:only-of-type {\n",
       "        vertical-align: middle;\n",
       "    }\n",
       "\n",
       "    .dataframe tbody tr th {\n",
       "        vertical-align: top;\n",
       "    }\n",
       "\n",
       "    .dataframe thead th {\n",
       "        text-align: right;\n",
       "    }\n",
       "</style>\n",
       "<table border=\"1\" class=\"dataframe\">\n",
       "  <thead>\n",
       "    <tr style=\"text-align: right;\">\n",
       "      <th></th>\n",
       "      <th>num__Pclass</th>\n",
       "      <th>num__Age</th>\n",
       "      <th>num__SibSp</th>\n",
       "      <th>num__Parch</th>\n",
       "      <th>num__Fare</th>\n",
       "      <th>cat1__Cabin_A10</th>\n",
       "      <th>cat1__Cabin_A14</th>\n",
       "      <th>cat1__Cabin_A16</th>\n",
       "      <th>cat1__Cabin_A19</th>\n",
       "      <th>cat1__Cabin_A20</th>\n",
       "      <th>...</th>\n",
       "      <th>cat2__Ticket_W./C. 14263</th>\n",
       "      <th>cat2__Ticket_W./C. 6607</th>\n",
       "      <th>cat2__Ticket_W./C. 6608</th>\n",
       "      <th>cat2__Ticket_W./C. 6609</th>\n",
       "      <th>cat2__Ticket_W.E.P. 5734</th>\n",
       "      <th>cat2__Ticket_W/C 14208</th>\n",
       "      <th>cat2__Ticket_WE/P 5735</th>\n",
       "      <th>cat2__Embarked_C</th>\n",
       "      <th>cat2__Embarked_Q</th>\n",
       "      <th>cat2__Embarked_S</th>\n",
       "    </tr>\n",
       "  </thead>\n",
       "  <tbody>\n",
       "    <tr>\n",
       "      <th>0</th>\n",
       "      <td>0.827377</td>\n",
       "      <td>-0.565736</td>\n",
       "      <td>0.432793</td>\n",
       "      <td>-0.473674</td>\n",
       "      <td>-0.502445</td>\n",
       "      <td>0.0</td>\n",
       "      <td>0.0</td>\n",
       "      <td>0.0</td>\n",
       "      <td>0.0</td>\n",
       "      <td>0.0</td>\n",
       "      <td>...</td>\n",
       "      <td>0.0</td>\n",
       "      <td>0.0</td>\n",
       "      <td>0.0</td>\n",
       "      <td>0.0</td>\n",
       "      <td>0.0</td>\n",
       "      <td>0.0</td>\n",
       "      <td>0.0</td>\n",
       "      <td>0.0</td>\n",
       "      <td>0.0</td>\n",
       "      <td>1.0</td>\n",
       "    </tr>\n",
       "    <tr>\n",
       "      <th>1</th>\n",
       "      <td>-1.566107</td>\n",
       "      <td>0.663861</td>\n",
       "      <td>0.432793</td>\n",
       "      <td>-0.473674</td>\n",
       "      <td>0.786845</td>\n",
       "      <td>0.0</td>\n",
       "      <td>0.0</td>\n",
       "      <td>0.0</td>\n",
       "      <td>0.0</td>\n",
       "      <td>0.0</td>\n",
       "      <td>...</td>\n",
       "      <td>0.0</td>\n",
       "      <td>0.0</td>\n",
       "      <td>0.0</td>\n",
       "      <td>0.0</td>\n",
       "      <td>0.0</td>\n",
       "      <td>0.0</td>\n",
       "      <td>0.0</td>\n",
       "      <td>1.0</td>\n",
       "      <td>0.0</td>\n",
       "      <td>0.0</td>\n",
       "    </tr>\n",
       "    <tr>\n",
       "      <th>2</th>\n",
       "      <td>0.827377</td>\n",
       "      <td>-0.258337</td>\n",
       "      <td>-0.474545</td>\n",
       "      <td>-0.473674</td>\n",
       "      <td>-0.488854</td>\n",
       "      <td>0.0</td>\n",
       "      <td>0.0</td>\n",
       "      <td>0.0</td>\n",
       "      <td>0.0</td>\n",
       "      <td>0.0</td>\n",
       "      <td>...</td>\n",
       "      <td>0.0</td>\n",
       "      <td>0.0</td>\n",
       "      <td>0.0</td>\n",
       "      <td>0.0</td>\n",
       "      <td>0.0</td>\n",
       "      <td>0.0</td>\n",
       "      <td>0.0</td>\n",
       "      <td>0.0</td>\n",
       "      <td>0.0</td>\n",
       "      <td>1.0</td>\n",
       "    </tr>\n",
       "    <tr>\n",
       "      <th>3</th>\n",
       "      <td>-1.566107</td>\n",
       "      <td>0.433312</td>\n",
       "      <td>0.432793</td>\n",
       "      <td>-0.473674</td>\n",
       "      <td>0.420730</td>\n",
       "      <td>0.0</td>\n",
       "      <td>0.0</td>\n",
       "      <td>0.0</td>\n",
       "      <td>0.0</td>\n",
       "      <td>0.0</td>\n",
       "      <td>...</td>\n",
       "      <td>0.0</td>\n",
       "      <td>0.0</td>\n",
       "      <td>0.0</td>\n",
       "      <td>0.0</td>\n",
       "      <td>0.0</td>\n",
       "      <td>0.0</td>\n",
       "      <td>0.0</td>\n",
       "      <td>0.0</td>\n",
       "      <td>0.0</td>\n",
       "      <td>1.0</td>\n",
       "    </tr>\n",
       "    <tr>\n",
       "      <th>4</th>\n",
       "      <td>0.827377</td>\n",
       "      <td>0.433312</td>\n",
       "      <td>-0.474545</td>\n",
       "      <td>-0.473674</td>\n",
       "      <td>-0.486337</td>\n",
       "      <td>0.0</td>\n",
       "      <td>0.0</td>\n",
       "      <td>0.0</td>\n",
       "      <td>0.0</td>\n",
       "      <td>0.0</td>\n",
       "      <td>...</td>\n",
       "      <td>0.0</td>\n",
       "      <td>0.0</td>\n",
       "      <td>0.0</td>\n",
       "      <td>0.0</td>\n",
       "      <td>0.0</td>\n",
       "      <td>0.0</td>\n",
       "      <td>0.0</td>\n",
       "      <td>0.0</td>\n",
       "      <td>0.0</td>\n",
       "      <td>1.0</td>\n",
       "    </tr>\n",
       "  </tbody>\n",
       "</table>\n",
       "<p>5 rows × 839 columns</p>\n",
       "</div>"
      ],
      "text/plain": [
       "   num__Pclass  num__Age  num__SibSp  num__Parch  num__Fare  cat1__Cabin_A10  \\\n",
       "0     0.827377 -0.565736    0.432793   -0.473674  -0.502445              0.0   \n",
       "1    -1.566107  0.663861    0.432793   -0.473674   0.786845              0.0   \n",
       "2     0.827377 -0.258337   -0.474545   -0.473674  -0.488854              0.0   \n",
       "3    -1.566107  0.433312    0.432793   -0.473674   0.420730              0.0   \n",
       "4     0.827377  0.433312   -0.474545   -0.473674  -0.486337              0.0   \n",
       "\n",
       "   cat1__Cabin_A14  cat1__Cabin_A16  cat1__Cabin_A19  cat1__Cabin_A20  ...  \\\n",
       "0              0.0              0.0              0.0              0.0  ...   \n",
       "1              0.0              0.0              0.0              0.0  ...   \n",
       "2              0.0              0.0              0.0              0.0  ...   \n",
       "3              0.0              0.0              0.0              0.0  ...   \n",
       "4              0.0              0.0              0.0              0.0  ...   \n",
       "\n",
       "   cat2__Ticket_W./C. 14263  cat2__Ticket_W./C. 6607  cat2__Ticket_W./C. 6608  \\\n",
       "0                       0.0                      0.0                      0.0   \n",
       "1                       0.0                      0.0                      0.0   \n",
       "2                       0.0                      0.0                      0.0   \n",
       "3                       0.0                      0.0                      0.0   \n",
       "4                       0.0                      0.0                      0.0   \n",
       "\n",
       "   cat2__Ticket_W./C. 6609  cat2__Ticket_W.E.P. 5734  cat2__Ticket_W/C 14208  \\\n",
       "0                      0.0                       0.0                     0.0   \n",
       "1                      0.0                       0.0                     0.0   \n",
       "2                      0.0                       0.0                     0.0   \n",
       "3                      0.0                       0.0                     0.0   \n",
       "4                      0.0                       0.0                     0.0   \n",
       "\n",
       "   cat2__Ticket_WE/P 5735  cat2__Embarked_C  cat2__Embarked_Q  \\\n",
       "0                     0.0               0.0               0.0   \n",
       "1                     0.0               1.0               0.0   \n",
       "2                     0.0               0.0               0.0   \n",
       "3                     0.0               0.0               0.0   \n",
       "4                     0.0               0.0               0.0   \n",
       "\n",
       "   cat2__Embarked_S  \n",
       "0               1.0  \n",
       "1               0.0  \n",
       "2               1.0  \n",
       "3               1.0  \n",
       "4               1.0  \n",
       "\n",
       "[5 rows x 839 columns]"
      ]
     },
     "execution_count": 17,
     "metadata": {},
     "output_type": "execute_result"
    }
   ],
   "source": [
    "X_pre = pd.DataFrame(X_pre,columns=cols)\n",
    "X_pre.head()"
   ]
  },
  {
   "cell_type": "markdown",
   "metadata": {},
   "source": [
    "### Train Test Split"
   ]
  },
  {
   "cell_type": "code",
   "execution_count": 18,
   "metadata": {},
   "outputs": [],
   "source": [
    "from sklearn.model_selection import train_test_split\n",
    "xtrain, xtest, ytrain, ytest = train_test_split(X_pre,Y,test_size=0.2,random_state=42)"
   ]
  },
  {
   "cell_type": "code",
   "execution_count": 19,
   "metadata": {},
   "outputs": [
    {
     "data": {
      "text/plain": [
       "(179, 839)"
      ]
     },
     "execution_count": 19,
     "metadata": {},
     "output_type": "execute_result"
    }
   ],
   "source": [
    "xtest.shape"
   ]
  },
  {
   "cell_type": "code",
   "execution_count": 20,
   "metadata": {},
   "outputs": [
    {
     "data": {
      "text/plain": [
       "(712, 839)"
      ]
     },
     "execution_count": 20,
     "metadata": {},
     "output_type": "execute_result"
    }
   ],
   "source": [
    "xtrain.shape"
   ]
  },
  {
   "cell_type": "code",
   "execution_count": 23,
   "metadata": {},
   "outputs": [
    {
     "data": {
      "text/plain": [
       "Survived\n",
       "0           549\n",
       "1           342\n",
       "Name: count, dtype: int64"
      ]
     },
     "execution_count": 23,
     "metadata": {},
     "output_type": "execute_result"
    }
   ],
   "source": [
    "Y.value_counts()"
   ]
  },
  {
   "cell_type": "markdown",
   "metadata": {},
   "source": [
    "### Algorithm evaluation"
   ]
  },
  {
   "cell_type": "code",
   "execution_count": 21,
   "metadata": {},
   "outputs": [],
   "source": [
    "from sklearn.linear_model import LogisticRegression\n",
    "from sklearn.tree import DecisionTreeClassifier\n",
    "from sklearn.ensemble import RandomForestClassifier, GradientBoostingClassifier\n",
    "from sklearn.neighbors import KNeighborsClassifier\n",
    "from sklearn.svm import SVC"
   ]
  },
  {
   "cell_type": "code",
   "execution_count": 22,
   "metadata": {},
   "outputs": [],
   "source": [
    "dct = {'Logistic':LogisticRegression(),\n",
    "       'Decision Tree':DecisionTreeClassifier(),\n",
    "       'Random Forest':RandomForestClassifier(),\n",
    "       'Gradient Boost':GradientBoostingClassifier(),\n",
    "       'KNN':KNeighborsClassifier(),\n",
    "       'SVM':SVC()}"
   ]
  },
  {
   "cell_type": "code",
   "execution_count": 24,
   "metadata": {},
   "outputs": [
    {
     "data": {
      "text/plain": [
       "dict_items([('Logistic', LogisticRegression()), ('Decision Tree', DecisionTreeClassifier()), ('Random Forest', RandomForestClassifier()), ('Gradient Boost', GradientBoostingClassifier()), ('KNN', KNeighborsClassifier()), ('SVM', SVC())])"
      ]
     },
     "execution_count": 24,
     "metadata": {},
     "output_type": "execute_result"
    }
   ],
   "source": [
    "dct.items()"
   ]
  },
  {
   "cell_type": "code",
   "execution_count": 25,
   "metadata": {},
   "outputs": [
    {
     "name": "stdout",
     "output_type": "stream",
     "text": [
      "Model : Logistic\n",
      "Training F1 : 0.8336594911937378\n",
      "Testing F1  : 0.7916666666666666\n",
      "Cross Validated : 0.7324169928088509\n",
      "\n",
      "==========================================\n",
      "\n",
      "Model : Decision Tree\n",
      "Training F1 : 0.9981308411214954\n",
      "Testing F1  : 0.7777777777777778\n",
      "Cross Validated : 0.7403456502816079\n",
      "\n",
      "==========================================\n",
      "\n",
      "Model : Random Forest\n",
      "Training F1 : 0.9981308411214954\n",
      "Testing F1  : 0.7555555555555555\n",
      "Cross Validated : 0.7491594257034828\n",
      "\n",
      "==========================================\n",
      "\n",
      "Model : Gradient Boost\n",
      "Training F1 : 0.8070866141732282\n",
      "Testing F1  : 0.7482014388489208\n",
      "Cross Validated : 0.749163790638445\n",
      "\n",
      "==========================================\n",
      "\n",
      "Model : KNN\n",
      "Training F1 : 0.8196078431372549\n",
      "Testing F1  : 0.7482014388489208\n",
      "Cross Validated : 0.7077864992150706\n",
      "\n",
      "==========================================\n",
      "\n",
      "Model : SVM\n",
      "Training F1 : 0.785009861932939\n",
      "Testing F1  : 0.7659574468085106\n",
      "Cross Validated : 0.7527270882677133\n",
      "\n",
      "==========================================\n",
      "\n"
     ]
    }
   ],
   "source": [
    "from sklearn.metrics import f1_score\n",
    "from sklearn.model_selection import cross_val_score\n",
    "tr = []\n",
    "tr_cv = []\n",
    "ts = []\n",
    "for name, model in dct.items():\n",
    "    # Fit the model\n",
    "    model.fit(xtrain,ytrain)\n",
    "    # Predict Training and testing values\n",
    "    ypred_tr = model.predict(xtrain)\n",
    "    ypred_ts = model.predict(xtest)\n",
    "    # Calulate F1 score in training and testing\n",
    "    tr_f1 = f1_score(ytrain,ypred_tr)\n",
    "    ts_f1 = f1_score(ytest,ypred_ts)\n",
    "    # Cross Validation F1 on training\n",
    "    scores = cross_val_score(model,xtrain,ytrain,cv=5,scoring='f1')\n",
    "    f1_cv = scores.mean()\n",
    "    # Append all above values in the lists\n",
    "    tr.append(tr_f1)\n",
    "    ts.append(ts_f1)\n",
    "    tr_cv.append(f1_cv)\n",
    "    # Print the results\n",
    "    print(f'Model : {name}')\n",
    "    print(f'Training F1 : {tr_f1}')\n",
    "    print(f'Testing F1  : {ts_f1}')\n",
    "    print(f'Cross Validated : {f1_cv}')\n",
    "    print('\\n==========================================\\n')"
   ]
  },
  {
   "cell_type": "markdown",
   "metadata": {},
   "source": [
    "### Store above results in a DataFrame format"
   ]
  },
  {
   "cell_type": "code",
   "execution_count": 26,
   "metadata": {},
   "outputs": [],
   "source": [
    "eval_dct = {'Model_name':list(dct.keys()),\n",
    "            'Train F1':tr,\n",
    "            'Test F1':ts,\n",
    "            'F1 CV':tr_cv}\n",
    "\n",
    "eval_df = pd.DataFrame(eval_dct)"
   ]
  },
  {
   "cell_type": "code",
   "execution_count": 27,
   "metadata": {},
   "outputs": [
    {
     "data": {
      "text/html": [
       "<div>\n",
       "<style scoped>\n",
       "    .dataframe tbody tr th:only-of-type {\n",
       "        vertical-align: middle;\n",
       "    }\n",
       "\n",
       "    .dataframe tbody tr th {\n",
       "        vertical-align: top;\n",
       "    }\n",
       "\n",
       "    .dataframe thead th {\n",
       "        text-align: right;\n",
       "    }\n",
       "</style>\n",
       "<table border=\"1\" class=\"dataframe\">\n",
       "  <thead>\n",
       "    <tr style=\"text-align: right;\">\n",
       "      <th></th>\n",
       "      <th>Model_name</th>\n",
       "      <th>Train F1</th>\n",
       "      <th>Test F1</th>\n",
       "      <th>F1 CV</th>\n",
       "    </tr>\n",
       "  </thead>\n",
       "  <tbody>\n",
       "    <tr>\n",
       "      <th>0</th>\n",
       "      <td>Logistic</td>\n",
       "      <td>0.833659</td>\n",
       "      <td>0.791667</td>\n",
       "      <td>0.732417</td>\n",
       "    </tr>\n",
       "    <tr>\n",
       "      <th>1</th>\n",
       "      <td>Decision Tree</td>\n",
       "      <td>0.998131</td>\n",
       "      <td>0.777778</td>\n",
       "      <td>0.740346</td>\n",
       "    </tr>\n",
       "    <tr>\n",
       "      <th>2</th>\n",
       "      <td>Random Forest</td>\n",
       "      <td>0.998131</td>\n",
       "      <td>0.755556</td>\n",
       "      <td>0.749159</td>\n",
       "    </tr>\n",
       "    <tr>\n",
       "      <th>3</th>\n",
       "      <td>Gradient Boost</td>\n",
       "      <td>0.807087</td>\n",
       "      <td>0.748201</td>\n",
       "      <td>0.749164</td>\n",
       "    </tr>\n",
       "    <tr>\n",
       "      <th>4</th>\n",
       "      <td>KNN</td>\n",
       "      <td>0.819608</td>\n",
       "      <td>0.748201</td>\n",
       "      <td>0.707786</td>\n",
       "    </tr>\n",
       "    <tr>\n",
       "      <th>5</th>\n",
       "      <td>SVM</td>\n",
       "      <td>0.785010</td>\n",
       "      <td>0.765957</td>\n",
       "      <td>0.752727</td>\n",
       "    </tr>\n",
       "  </tbody>\n",
       "</table>\n",
       "</div>"
      ],
      "text/plain": [
       "       Model_name  Train F1   Test F1     F1 CV\n",
       "0        Logistic  0.833659  0.791667  0.732417\n",
       "1   Decision Tree  0.998131  0.777778  0.740346\n",
       "2   Random Forest  0.998131  0.755556  0.749159\n",
       "3  Gradient Boost  0.807087  0.748201  0.749164\n",
       "4             KNN  0.819608  0.748201  0.707786\n",
       "5             SVM  0.785010  0.765957  0.752727"
      ]
     },
     "execution_count": 27,
     "metadata": {},
     "output_type": "execute_result"
    }
   ],
   "source": [
    "eval_df"
   ]
  },
  {
   "cell_type": "code",
   "execution_count": 28,
   "metadata": {},
   "outputs": [
    {
     "data": {
      "text/html": [
       "<div>\n",
       "<style scoped>\n",
       "    .dataframe tbody tr th:only-of-type {\n",
       "        vertical-align: middle;\n",
       "    }\n",
       "\n",
       "    .dataframe tbody tr th {\n",
       "        vertical-align: top;\n",
       "    }\n",
       "\n",
       "    .dataframe thead th {\n",
       "        text-align: right;\n",
       "    }\n",
       "</style>\n",
       "<table border=\"1\" class=\"dataframe\">\n",
       "  <thead>\n",
       "    <tr style=\"text-align: right;\">\n",
       "      <th></th>\n",
       "      <th>Model_name</th>\n",
       "      <th>Train F1</th>\n",
       "      <th>Test F1</th>\n",
       "      <th>F1 CV</th>\n",
       "    </tr>\n",
       "  </thead>\n",
       "  <tbody>\n",
       "    <tr>\n",
       "      <th>0</th>\n",
       "      <td>Logistic</td>\n",
       "      <td>0.833659</td>\n",
       "      <td>0.791667</td>\n",
       "      <td>0.732417</td>\n",
       "    </tr>\n",
       "    <tr>\n",
       "      <th>1</th>\n",
       "      <td>Decision Tree</td>\n",
       "      <td>0.998131</td>\n",
       "      <td>0.777778</td>\n",
       "      <td>0.740346</td>\n",
       "    </tr>\n",
       "    <tr>\n",
       "      <th>5</th>\n",
       "      <td>SVM</td>\n",
       "      <td>0.785010</td>\n",
       "      <td>0.765957</td>\n",
       "      <td>0.752727</td>\n",
       "    </tr>\n",
       "    <tr>\n",
       "      <th>2</th>\n",
       "      <td>Random Forest</td>\n",
       "      <td>0.998131</td>\n",
       "      <td>0.755556</td>\n",
       "      <td>0.749159</td>\n",
       "    </tr>\n",
       "    <tr>\n",
       "      <th>3</th>\n",
       "      <td>Gradient Boost</td>\n",
       "      <td>0.807087</td>\n",
       "      <td>0.748201</td>\n",
       "      <td>0.749164</td>\n",
       "    </tr>\n",
       "    <tr>\n",
       "      <th>4</th>\n",
       "      <td>KNN</td>\n",
       "      <td>0.819608</td>\n",
       "      <td>0.748201</td>\n",
       "      <td>0.707786</td>\n",
       "    </tr>\n",
       "  </tbody>\n",
       "</table>\n",
       "</div>"
      ],
      "text/plain": [
       "       Model_name  Train F1   Test F1     F1 CV\n",
       "0        Logistic  0.833659  0.791667  0.732417\n",
       "1   Decision Tree  0.998131  0.777778  0.740346\n",
       "5             SVM  0.785010  0.765957  0.752727\n",
       "2   Random Forest  0.998131  0.755556  0.749159\n",
       "3  Gradient Boost  0.807087  0.748201  0.749164\n",
       "4             KNN  0.819608  0.748201  0.707786"
      ]
     },
     "execution_count": 28,
     "metadata": {},
     "output_type": "execute_result"
    }
   ],
   "source": [
    "eval_df.sort_values(by='Test F1',ascending=False)"
   ]
  },
  {
   "cell_type": "markdown",
   "metadata": {},
   "source": [
    "### Selecting Best model Logistic regression"
   ]
  },
  {
   "cell_type": "code",
   "execution_count": 29,
   "metadata": {},
   "outputs": [],
   "source": [
    "params = {'C':[100,50,10,1,0.5,0.1,0.01]}"
   ]
  },
  {
   "cell_type": "code",
   "execution_count": 30,
   "metadata": {},
   "outputs": [
    {
     "data": {
      "text/html": [
       "<style>#sk-container-id-1 {color: black;background-color: white;}#sk-container-id-1 pre{padding: 0;}#sk-container-id-1 div.sk-toggleable {background-color: white;}#sk-container-id-1 label.sk-toggleable__label {cursor: pointer;display: block;width: 100%;margin-bottom: 0;padding: 0.3em;box-sizing: border-box;text-align: center;}#sk-container-id-1 label.sk-toggleable__label-arrow:before {content: \"▸\";float: left;margin-right: 0.25em;color: #696969;}#sk-container-id-1 label.sk-toggleable__label-arrow:hover:before {color: black;}#sk-container-id-1 div.sk-estimator:hover label.sk-toggleable__label-arrow:before {color: black;}#sk-container-id-1 div.sk-toggleable__content {max-height: 0;max-width: 0;overflow: hidden;text-align: left;background-color: #f0f8ff;}#sk-container-id-1 div.sk-toggleable__content pre {margin: 0.2em;color: black;border-radius: 0.25em;background-color: #f0f8ff;}#sk-container-id-1 input.sk-toggleable__control:checked~div.sk-toggleable__content {max-height: 200px;max-width: 100%;overflow: auto;}#sk-container-id-1 input.sk-toggleable__control:checked~label.sk-toggleable__label-arrow:before {content: \"▾\";}#sk-container-id-1 div.sk-estimator input.sk-toggleable__control:checked~label.sk-toggleable__label {background-color: #d4ebff;}#sk-container-id-1 div.sk-label input.sk-toggleable__control:checked~label.sk-toggleable__label {background-color: #d4ebff;}#sk-container-id-1 input.sk-hidden--visually {border: 0;clip: rect(1px 1px 1px 1px);clip: rect(1px, 1px, 1px, 1px);height: 1px;margin: -1px;overflow: hidden;padding: 0;position: absolute;width: 1px;}#sk-container-id-1 div.sk-estimator {font-family: monospace;background-color: #f0f8ff;border: 1px dotted black;border-radius: 0.25em;box-sizing: border-box;margin-bottom: 0.5em;}#sk-container-id-1 div.sk-estimator:hover {background-color: #d4ebff;}#sk-container-id-1 div.sk-parallel-item::after {content: \"\";width: 100%;border-bottom: 1px solid gray;flex-grow: 1;}#sk-container-id-1 div.sk-label:hover label.sk-toggleable__label {background-color: #d4ebff;}#sk-container-id-1 div.sk-serial::before {content: \"\";position: absolute;border-left: 1px solid gray;box-sizing: border-box;top: 0;bottom: 0;left: 50%;z-index: 0;}#sk-container-id-1 div.sk-serial {display: flex;flex-direction: column;align-items: center;background-color: white;padding-right: 0.2em;padding-left: 0.2em;position: relative;}#sk-container-id-1 div.sk-item {position: relative;z-index: 1;}#sk-container-id-1 div.sk-parallel {display: flex;align-items: stretch;justify-content: center;background-color: white;position: relative;}#sk-container-id-1 div.sk-item::before, #sk-container-id-1 div.sk-parallel-item::before {content: \"\";position: absolute;border-left: 1px solid gray;box-sizing: border-box;top: 0;bottom: 0;left: 50%;z-index: -1;}#sk-container-id-1 div.sk-parallel-item {display: flex;flex-direction: column;z-index: 1;position: relative;background-color: white;}#sk-container-id-1 div.sk-parallel-item:first-child::after {align-self: flex-end;width: 50%;}#sk-container-id-1 div.sk-parallel-item:last-child::after {align-self: flex-start;width: 50%;}#sk-container-id-1 div.sk-parallel-item:only-child::after {width: 0;}#sk-container-id-1 div.sk-dashed-wrapped {border: 1px dashed gray;margin: 0 0.4em 0.5em 0.4em;box-sizing: border-box;padding-bottom: 0.4em;background-color: white;}#sk-container-id-1 div.sk-label label {font-family: monospace;font-weight: bold;display: inline-block;line-height: 1.2em;}#sk-container-id-1 div.sk-label-container {text-align: center;}#sk-container-id-1 div.sk-container {/* jupyter's `normalize.less` sets `[hidden] { display: none; }` but bootstrap.min.css set `[hidden] { display: none !important; }` so we also need the `!important` here to be able to override the default hidden behavior on the sphinx rendered scikit-learn.org. See: https://github.com/scikit-learn/scikit-learn/issues/21755 */display: inline-block !important;position: relative;}#sk-container-id-1 div.sk-text-repr-fallback {display: none;}</style><div id=\"sk-container-id-1\" class=\"sk-top-container\"><div class=\"sk-text-repr-fallback\"><pre>RandomizedSearchCV(cv=5, estimator=LogisticRegression(),\n",
       "                   param_distributions={&#x27;C&#x27;: [100, 50, 10, 1, 0.5, 0.1, 0.01]},\n",
       "                   scoring=&#x27;f1&#x27;)</pre><b>In a Jupyter environment, please rerun this cell to show the HTML representation or trust the notebook. <br />On GitHub, the HTML representation is unable to render, please try loading this page with nbviewer.org.</b></div><div class=\"sk-container\" hidden><div class=\"sk-item sk-dashed-wrapped\"><div class=\"sk-label-container\"><div class=\"sk-label sk-toggleable\"><input class=\"sk-toggleable__control sk-hidden--visually\" id=\"sk-estimator-id-1\" type=\"checkbox\" ><label for=\"sk-estimator-id-1\" class=\"sk-toggleable__label sk-toggleable__label-arrow\">RandomizedSearchCV</label><div class=\"sk-toggleable__content\"><pre>RandomizedSearchCV(cv=5, estimator=LogisticRegression(),\n",
       "                   param_distributions={&#x27;C&#x27;: [100, 50, 10, 1, 0.5, 0.1, 0.01]},\n",
       "                   scoring=&#x27;f1&#x27;)</pre></div></div></div><div class=\"sk-parallel\"><div class=\"sk-parallel-item\"><div class=\"sk-item\"><div class=\"sk-label-container\"><div class=\"sk-label sk-toggleable\"><input class=\"sk-toggleable__control sk-hidden--visually\" id=\"sk-estimator-id-2\" type=\"checkbox\" ><label for=\"sk-estimator-id-2\" class=\"sk-toggleable__label sk-toggleable__label-arrow\">estimator: LogisticRegression</label><div class=\"sk-toggleable__content\"><pre>LogisticRegression()</pre></div></div></div><div class=\"sk-serial\"><div class=\"sk-item\"><div class=\"sk-estimator sk-toggleable\"><input class=\"sk-toggleable__control sk-hidden--visually\" id=\"sk-estimator-id-3\" type=\"checkbox\" ><label for=\"sk-estimator-id-3\" class=\"sk-toggleable__label sk-toggleable__label-arrow\">LogisticRegression</label><div class=\"sk-toggleable__content\"><pre>LogisticRegression()</pre></div></div></div></div></div></div></div></div></div></div>"
      ],
      "text/plain": [
       "RandomizedSearchCV(cv=5, estimator=LogisticRegression(),\n",
       "                   param_distributions={'C': [100, 50, 10, 1, 0.5, 0.1, 0.01]},\n",
       "                   scoring='f1')"
      ]
     },
     "execution_count": 30,
     "metadata": {},
     "output_type": "execute_result"
    }
   ],
   "source": [
    "from sklearn.linear_model import LogisticRegression\n",
    "from sklearn.model_selection import RandomizedSearchCV\n",
    "lr = LogisticRegression()\n",
    "rscv = RandomizedSearchCV(lr,param_distributions=params,cv=5,scoring='f1')\n",
    "rscv.fit(xtrain,ytrain)"
   ]
  },
  {
   "cell_type": "code",
   "execution_count": 31,
   "metadata": {},
   "outputs": [
    {
     "data": {
      "text/plain": [
       "{'C': 50}"
      ]
     },
     "execution_count": 31,
     "metadata": {},
     "output_type": "execute_result"
    }
   ],
   "source": [
    "rscv.best_params_"
   ]
  },
  {
   "cell_type": "code",
   "execution_count": 32,
   "metadata": {},
   "outputs": [
    {
     "data": {
      "text/plain": [
       "0.750017617109737"
      ]
     },
     "execution_count": 32,
     "metadata": {},
     "output_type": "execute_result"
    }
   ],
   "source": [
    "rscv.best_score_"
   ]
  },
  {
   "cell_type": "code",
   "execution_count": 33,
   "metadata": {},
   "outputs": [
    {
     "data": {
      "text/html": [
       "<style>#sk-container-id-2 {color: black;background-color: white;}#sk-container-id-2 pre{padding: 0;}#sk-container-id-2 div.sk-toggleable {background-color: white;}#sk-container-id-2 label.sk-toggleable__label {cursor: pointer;display: block;width: 100%;margin-bottom: 0;padding: 0.3em;box-sizing: border-box;text-align: center;}#sk-container-id-2 label.sk-toggleable__label-arrow:before {content: \"▸\";float: left;margin-right: 0.25em;color: #696969;}#sk-container-id-2 label.sk-toggleable__label-arrow:hover:before {color: black;}#sk-container-id-2 div.sk-estimator:hover label.sk-toggleable__label-arrow:before {color: black;}#sk-container-id-2 div.sk-toggleable__content {max-height: 0;max-width: 0;overflow: hidden;text-align: left;background-color: #f0f8ff;}#sk-container-id-2 div.sk-toggleable__content pre {margin: 0.2em;color: black;border-radius: 0.25em;background-color: #f0f8ff;}#sk-container-id-2 input.sk-toggleable__control:checked~div.sk-toggleable__content {max-height: 200px;max-width: 100%;overflow: auto;}#sk-container-id-2 input.sk-toggleable__control:checked~label.sk-toggleable__label-arrow:before {content: \"▾\";}#sk-container-id-2 div.sk-estimator input.sk-toggleable__control:checked~label.sk-toggleable__label {background-color: #d4ebff;}#sk-container-id-2 div.sk-label input.sk-toggleable__control:checked~label.sk-toggleable__label {background-color: #d4ebff;}#sk-container-id-2 input.sk-hidden--visually {border: 0;clip: rect(1px 1px 1px 1px);clip: rect(1px, 1px, 1px, 1px);height: 1px;margin: -1px;overflow: hidden;padding: 0;position: absolute;width: 1px;}#sk-container-id-2 div.sk-estimator {font-family: monospace;background-color: #f0f8ff;border: 1px dotted black;border-radius: 0.25em;box-sizing: border-box;margin-bottom: 0.5em;}#sk-container-id-2 div.sk-estimator:hover {background-color: #d4ebff;}#sk-container-id-2 div.sk-parallel-item::after {content: \"\";width: 100%;border-bottom: 1px solid gray;flex-grow: 1;}#sk-container-id-2 div.sk-label:hover label.sk-toggleable__label {background-color: #d4ebff;}#sk-container-id-2 div.sk-serial::before {content: \"\";position: absolute;border-left: 1px solid gray;box-sizing: border-box;top: 0;bottom: 0;left: 50%;z-index: 0;}#sk-container-id-2 div.sk-serial {display: flex;flex-direction: column;align-items: center;background-color: white;padding-right: 0.2em;padding-left: 0.2em;position: relative;}#sk-container-id-2 div.sk-item {position: relative;z-index: 1;}#sk-container-id-2 div.sk-parallel {display: flex;align-items: stretch;justify-content: center;background-color: white;position: relative;}#sk-container-id-2 div.sk-item::before, #sk-container-id-2 div.sk-parallel-item::before {content: \"\";position: absolute;border-left: 1px solid gray;box-sizing: border-box;top: 0;bottom: 0;left: 50%;z-index: -1;}#sk-container-id-2 div.sk-parallel-item {display: flex;flex-direction: column;z-index: 1;position: relative;background-color: white;}#sk-container-id-2 div.sk-parallel-item:first-child::after {align-self: flex-end;width: 50%;}#sk-container-id-2 div.sk-parallel-item:last-child::after {align-self: flex-start;width: 50%;}#sk-container-id-2 div.sk-parallel-item:only-child::after {width: 0;}#sk-container-id-2 div.sk-dashed-wrapped {border: 1px dashed gray;margin: 0 0.4em 0.5em 0.4em;box-sizing: border-box;padding-bottom: 0.4em;background-color: white;}#sk-container-id-2 div.sk-label label {font-family: monospace;font-weight: bold;display: inline-block;line-height: 1.2em;}#sk-container-id-2 div.sk-label-container {text-align: center;}#sk-container-id-2 div.sk-container {/* jupyter's `normalize.less` sets `[hidden] { display: none; }` but bootstrap.min.css set `[hidden] { display: none !important; }` so we also need the `!important` here to be able to override the default hidden behavior on the sphinx rendered scikit-learn.org. See: https://github.com/scikit-learn/scikit-learn/issues/21755 */display: inline-block !important;position: relative;}#sk-container-id-2 div.sk-text-repr-fallback {display: none;}</style><div id=\"sk-container-id-2\" class=\"sk-top-container\"><div class=\"sk-text-repr-fallback\"><pre>LogisticRegression(C=50)</pre><b>In a Jupyter environment, please rerun this cell to show the HTML representation or trust the notebook. <br />On GitHub, the HTML representation is unable to render, please try loading this page with nbviewer.org.</b></div><div class=\"sk-container\" hidden><div class=\"sk-item\"><div class=\"sk-estimator sk-toggleable\"><input class=\"sk-toggleable__control sk-hidden--visually\" id=\"sk-estimator-id-4\" type=\"checkbox\" checked><label for=\"sk-estimator-id-4\" class=\"sk-toggleable__label sk-toggleable__label-arrow\">LogisticRegression</label><div class=\"sk-toggleable__content\"><pre>LogisticRegression(C=50)</pre></div></div></div></div></div>"
      ],
      "text/plain": [
       "LogisticRegression(C=50)"
      ]
     },
     "execution_count": 33,
     "metadata": {},
     "output_type": "execute_result"
    }
   ],
   "source": [
    "best_lr = rscv.best_estimator_\n",
    "best_lr"
   ]
  },
  {
   "cell_type": "code",
   "execution_count": 34,
   "metadata": {},
   "outputs": [],
   "source": [
    "ypred_tr = best_lr.predict(xtrain)\n",
    "ypred_ts = best_lr.predict(xtest)"
   ]
  },
  {
   "cell_type": "code",
   "execution_count": 35,
   "metadata": {},
   "outputs": [],
   "source": [
    "tr_f1 = f1_score(ytrain,ypred_tr)\n",
    "ts_f1 = f1_score(ytest,ypred_ts)"
   ]
  },
  {
   "cell_type": "code",
   "execution_count": 36,
   "metadata": {},
   "outputs": [
    {
     "data": {
      "text/plain": [
       "0.9869646182495344"
      ]
     },
     "execution_count": 36,
     "metadata": {},
     "output_type": "execute_result"
    }
   ],
   "source": [
    "tr_f1"
   ]
  },
  {
   "cell_type": "code",
   "execution_count": 37,
   "metadata": {},
   "outputs": [
    {
     "data": {
      "text/plain": [
       "0.8085106382978724"
      ]
     },
     "execution_count": 37,
     "metadata": {},
     "output_type": "execute_result"
    }
   ],
   "source": [
    "ts_f1"
   ]
  },
  {
   "cell_type": "markdown",
   "metadata": {},
   "source": [
    "### Confusion Matrix"
   ]
  },
  {
   "cell_type": "code",
   "execution_count": 38,
   "metadata": {},
   "outputs": [
    {
     "data": {
      "text/plain": [
       "<sklearn.metrics._plot.confusion_matrix.ConfusionMatrixDisplay at 0x25a11e617b0>"
      ]
     },
     "execution_count": 38,
     "metadata": {},
     "output_type": "execute_result"
    },
    {
     "data": {
      "image/png": "[encoded data removed]",
      "text/plain": [
       "<Figure size 640x480 with 2 Axes>"
      ]
     },
     "metadata": {},
     "output_type": "display_data"
    }
   ],
   "source": [
    "from sklearn.metrics import confusion_matrix, ConfusionMatrixDisplay\n",
    "cf = confusion_matrix(ytest,ypred_ts)\n",
    "cfd = ConfusionMatrixDisplay(cf,display_labels=best_lr.classes_)\n",
    "cfd.plot()"
   ]
  },
  {
   "cell_type": "markdown",
   "metadata": {},
   "source": [
    "### Print Classification Report"
   ]
  },
  {
   "cell_type": "code",
   "execution_count": 39,
   "metadata": {},
   "outputs": [
    {
     "name": "stdout",
     "output_type": "stream",
     "text": [
      "              precision    recall  f1-score   support\n",
      "\n",
      "           0       0.85      0.90      0.88       105\n",
      "           1       0.85      0.77      0.81        74\n",
      "\n",
      "    accuracy                           0.85       179\n",
      "   macro avg       0.85      0.84      0.84       179\n",
      "weighted avg       0.85      0.85      0.85       179\n",
      "\n"
     ]
    }
   ],
   "source": [
    "from sklearn.metrics import classification_report\n",
    "print(classification_report(ytest,ypred_ts))"
   ]
  },
  {
   "cell_type": "markdown",
   "metadata": {},
   "source": [
    "### Creating Voting Classifier"
   ]
  },
  {
   "cell_type": "code",
   "execution_count": 40,
   "metadata": {},
   "outputs": [],
   "source": [
    "params1 = {'max_depth':[2,3,4,5,6],\n",
    "           'min_samples_split':[6,7,8,9,10],\n",
    "           'criterion':['gini','entropy']}"
   ]
  },
  {
   "cell_type": "code",
   "execution_count": 41,
   "metadata": {},
   "outputs": [
    {
     "data": {
      "text/html": [
       "<style>#sk-container-id-3 {color: black;background-color: white;}#sk-container-id-3 pre{padding: 0;}#sk-container-id-3 div.sk-toggleable {background-color: white;}#sk-container-id-3 label.sk-toggleable__label {cursor: pointer;display: block;width: 100%;margin-bottom: 0;padding: 0.3em;box-sizing: border-box;text-align: center;}#sk-container-id-3 label.sk-toggleable__label-arrow:before {content: \"▸\";float: left;margin-right: 0.25em;color: #696969;}#sk-container-id-3 label.sk-toggleable__label-arrow:hover:before {color: black;}#sk-container-id-3 div.sk-estimator:hover label.sk-toggleable__label-arrow:before {color: black;}#sk-container-id-3 div.sk-toggleable__content {max-height: 0;max-width: 0;overflow: hidden;text-align: left;background-color: #f0f8ff;}#sk-container-id-3 div.sk-toggleable__content pre {margin: 0.2em;color: black;border-radius: 0.25em;background-color: #f0f8ff;}#sk-container-id-3 input.sk-toggleable__control:checked~div.sk-toggleable__content {max-height: 200px;max-width: 100%;overflow: auto;}#sk-container-id-3 input.sk-toggleable__control:checked~label.sk-toggleable__label-arrow:before {content: \"▾\";}#sk-container-id-3 div.sk-estimator input.sk-toggleable__control:checked~label.sk-toggleable__label {background-color: #d4ebff;}#sk-container-id-3 div.sk-label input.sk-toggleable__control:checked~label.sk-toggleable__label {background-color: #d4ebff;}#sk-container-id-3 input.sk-hidden--visually {border: 0;clip: rect(1px 1px 1px 1px);clip: rect(1px, 1px, 1px, 1px);height: 1px;margin: -1px;overflow: hidden;padding: 0;position: absolute;width: 1px;}#sk-container-id-3 div.sk-estimator {font-family: monospace;background-color: #f0f8ff;border: 1px dotted black;border-radius: 0.25em;box-sizing: border-box;margin-bottom: 0.5em;}#sk-container-id-3 div.sk-estimator:hover {background-color: #d4ebff;}#sk-container-id-3 div.sk-parallel-item::after {content: \"\";width: 100%;border-bottom: 1px solid gray;flex-grow: 1;}#sk-container-id-3 div.sk-label:hover label.sk-toggleable__label {background-color: #d4ebff;}#sk-container-id-3 div.sk-serial::before {content: \"\";position: absolute;border-left: 1px solid gray;box-sizing: border-box;top: 0;bottom: 0;left: 50%;z-index: 0;}#sk-container-id-3 div.sk-serial {display: flex;flex-direction: column;align-items: center;background-color: white;padding-right: 0.2em;padding-left: 0.2em;position: relative;}#sk-container-id-3 div.sk-item {position: relative;z-index: 1;}#sk-container-id-3 div.sk-parallel {display: flex;align-items: stretch;justify-content: center;background-color: white;position: relative;}#sk-container-id-3 div.sk-item::before, #sk-container-id-3 div.sk-parallel-item::before {content: \"\";position: absolute;border-left: 1px solid gray;box-sizing: border-box;top: 0;bottom: 0;left: 50%;z-index: -1;}#sk-container-id-3 div.sk-parallel-item {display: flex;flex-direction: column;z-index: 1;position: relative;background-color: white;}#sk-container-id-3 div.sk-parallel-item:first-child::after {align-self: flex-end;width: 50%;}#sk-container-id-3 div.sk-parallel-item:last-child::after {align-self: flex-start;width: 50%;}#sk-container-id-3 div.sk-parallel-item:only-child::after {width: 0;}#sk-container-id-3 div.sk-dashed-wrapped {border: 1px dashed gray;margin: 0 0.4em 0.5em 0.4em;box-sizing: border-box;padding-bottom: 0.4em;background-color: white;}#sk-container-id-3 div.sk-label label {font-family: monospace;font-weight: bold;display: inline-block;line-height: 1.2em;}#sk-container-id-3 div.sk-label-container {text-align: center;}#sk-container-id-3 div.sk-container {/* jupyter's `normalize.less` sets `[hidden] { display: none; }` but bootstrap.min.css set `[hidden] { display: none !important; }` so we also need the `!important` here to be able to override the default hidden behavior on the sphinx rendered scikit-learn.org. See: https://github.com/scikit-learn/scikit-learn/issues/21755 */display: inline-block !important;position: relative;}#sk-container-id-3 div.sk-text-repr-fallback {display: none;}</style><div id=\"sk-container-id-3\" class=\"sk-top-container\"><div class=\"sk-text-repr-fallback\"><pre>RandomizedSearchCV(cv=5, estimator=DecisionTreeClassifier(),\n",
       "                   param_distributions={&#x27;criterion&#x27;: [&#x27;gini&#x27;, &#x27;entropy&#x27;],\n",
       "                                        &#x27;max_depth&#x27;: [2, 3, 4, 5, 6],\n",
       "                                        &#x27;min_samples_split&#x27;: [6, 7, 8, 9, 10]},\n",
       "                   scoring=&#x27;f1&#x27;)</pre><b>In a Jupyter environment, please rerun this cell to show the HTML representation or trust the notebook. <br />On GitHub, the HTML representation is unable to render, please try loading this page with nbviewer.org.</b></div><div class=\"sk-container\" hidden><div class=\"sk-item sk-dashed-wrapped\"><div class=\"sk-label-container\"><div class=\"sk-label sk-toggleable\"><input class=\"sk-toggleable__control sk-hidden--visually\" id=\"sk-estimator-id-5\" type=\"checkbox\" ><label for=\"sk-estimator-id-5\" class=\"sk-toggleable__label sk-toggleable__label-arrow\">RandomizedSearchCV</label><div class=\"sk-toggleable__content\"><pre>RandomizedSearchCV(cv=5, estimator=DecisionTreeClassifier(),\n",
       "                   param_distributions={&#x27;criterion&#x27;: [&#x27;gini&#x27;, &#x27;entropy&#x27;],\n",
       "                                        &#x27;max_depth&#x27;: [2, 3, 4, 5, 6],\n",
       "                                        &#x27;min_samples_split&#x27;: [6, 7, 8, 9, 10]},\n",
       "                   scoring=&#x27;f1&#x27;)</pre></div></div></div><div class=\"sk-parallel\"><div class=\"sk-parallel-item\"><div class=\"sk-item\"><div class=\"sk-label-container\"><div class=\"sk-label sk-toggleable\"><input class=\"sk-toggleable__control sk-hidden--visually\" id=\"sk-estimator-id-6\" type=\"checkbox\" ><label for=\"sk-estimator-id-6\" class=\"sk-toggleable__label sk-toggleable__label-arrow\">estimator: DecisionTreeClassifier</label><div class=\"sk-toggleable__content\"><pre>DecisionTreeClassifier()</pre></div></div></div><div class=\"sk-serial\"><div class=\"sk-item\"><div class=\"sk-estimator sk-toggleable\"><input class=\"sk-toggleable__control sk-hidden--visually\" id=\"sk-estimator-id-7\" type=\"checkbox\" ><label for=\"sk-estimator-id-7\" class=\"sk-toggleable__label sk-toggleable__label-arrow\">DecisionTreeClassifier</label><div class=\"sk-toggleable__content\"><pre>DecisionTreeClassifier()</pre></div></div></div></div></div></div></div></div></div></div>"
      ],
      "text/plain": [
       "RandomizedSearchCV(cv=5, estimator=DecisionTreeClassifier(),\n",
       "                   param_distributions={'criterion': ['gini', 'entropy'],\n",
       "                                        'max_depth': [2, 3, 4, 5, 6],\n",
       "                                        'min_samples_split': [6, 7, 8, 9, 10]},\n",
       "                   scoring='f1')"
      ]
     },
     "execution_count": 41,
     "metadata": {},
     "output_type": "execute_result"
    }
   ],
   "source": [
    "dtc = DecisionTreeClassifier()\n",
    "rscv1 = RandomizedSearchCV(dtc,param_distributions=params1,cv=5,scoring='f1')\n",
    "rscv1.fit(xtrain,ytrain)"
   ]
  },
  {
   "cell_type": "code",
   "execution_count": 42,
   "metadata": {},
   "outputs": [
    {
     "data": {
      "text/plain": [
       "{'min_samples_split': 10, 'max_depth': 5, 'criterion': 'entropy'}"
      ]
     },
     "execution_count": 42,
     "metadata": {},
     "output_type": "execute_result"
    }
   ],
   "source": [
    "rscv1.best_params_"
   ]
  },
  {
   "cell_type": "code",
   "execution_count": 43,
   "metadata": {},
   "outputs": [
    {
     "data": {
      "text/plain": [
       "0.7388521478372557"
      ]
     },
     "execution_count": 43,
     "metadata": {},
     "output_type": "execute_result"
    }
   ],
   "source": [
    "rscv1.best_score_"
   ]
  },
  {
   "cell_type": "code",
   "execution_count": 45,
   "metadata": {},
   "outputs": [
    {
     "data": {
      "text/html": [
       "<style>#sk-container-id-5 {color: black;background-color: white;}#sk-container-id-5 pre{padding: 0;}#sk-container-id-5 div.sk-toggleable {background-color: white;}#sk-container-id-5 label.sk-toggleable__label {cursor: pointer;display: block;width: 100%;margin-bottom: 0;padding: 0.3em;box-sizing: border-box;text-align: center;}#sk-container-id-5 label.sk-toggleable__label-arrow:before {content: \"▸\";float: left;margin-right: 0.25em;color: #696969;}#sk-container-id-5 label.sk-toggleable__label-arrow:hover:before {color: black;}#sk-container-id-5 div.sk-estimator:hover label.sk-toggleable__label-arrow:before {color: black;}#sk-container-id-5 div.sk-toggleable__content {max-height: 0;max-width: 0;overflow: hidden;text-align: left;background-color: #f0f8ff;}#sk-container-id-5 div.sk-toggleable__content pre {margin: 0.2em;color: black;border-radius: 0.25em;background-color: #f0f8ff;}#sk-container-id-5 input.sk-toggleable__control:checked~div.sk-toggleable__content {max-height: 200px;max-width: 100%;overflow: auto;}#sk-container-id-5 input.sk-toggleable__control:checked~label.sk-toggleable__label-arrow:before {content: \"▾\";}#sk-container-id-5 div.sk-estimator input.sk-toggleable__control:checked~label.sk-toggleable__label {background-color: #d4ebff;}#sk-container-id-5 div.sk-label input.sk-toggleable__control:checked~label.sk-toggleable__label {background-color: #d4ebff;}#sk-container-id-5 input.sk-hidden--visually {border: 0;clip: rect(1px 1px 1px 1px);clip: rect(1px, 1px, 1px, 1px);height: 1px;margin: -1px;overflow: hidden;padding: 0;position: absolute;width: 1px;}#sk-container-id-5 div.sk-estimator {font-family: monospace;background-color: #f0f8ff;border: 1px dotted black;border-radius: 0.25em;box-sizing: border-box;margin-bottom: 0.5em;}#sk-container-id-5 div.sk-estimator:hover {background-color: #d4ebff;}#sk-container-id-5 div.sk-parallel-item::after {content: \"\";width: 100%;border-bottom: 1px solid gray;flex-grow: 1;}#sk-container-id-5 div.sk-label:hover label.sk-toggleable__label {background-color: #d4ebff;}#sk-container-id-5 div.sk-serial::before {content: \"\";position: absolute;border-left: 1px solid gray;box-sizing: border-box;top: 0;bottom: 0;left: 50%;z-index: 0;}#sk-container-id-5 div.sk-serial {display: flex;flex-direction: column;align-items: center;background-color: white;padding-right: 0.2em;padding-left: 0.2em;position: relative;}#sk-container-id-5 div.sk-item {position: relative;z-index: 1;}#sk-container-id-5 div.sk-parallel {display: flex;align-items: stretch;justify-content: center;background-color: white;position: relative;}#sk-container-id-5 div.sk-item::before, #sk-container-id-5 div.sk-parallel-item::before {content: \"\";position: absolute;border-left: 1px solid gray;box-sizing: border-box;top: 0;bottom: 0;left: 50%;z-index: -1;}#sk-container-id-5 div.sk-parallel-item {display: flex;flex-direction: column;z-index: 1;position: relative;background-color: white;}#sk-container-id-5 div.sk-parallel-item:first-child::after {align-self: flex-end;width: 50%;}#sk-container-id-5 div.sk-parallel-item:last-child::after {align-self: flex-start;width: 50%;}#sk-container-id-5 div.sk-parallel-item:only-child::after {width: 0;}#sk-container-id-5 div.sk-dashed-wrapped {border: 1px dashed gray;margin: 0 0.4em 0.5em 0.4em;box-sizing: border-box;padding-bottom: 0.4em;background-color: white;}#sk-container-id-5 div.sk-label label {font-family: monospace;font-weight: bold;display: inline-block;line-height: 1.2em;}#sk-container-id-5 div.sk-label-container {text-align: center;}#sk-container-id-5 div.sk-container {/* jupyter's `normalize.less` sets `[hidden] { display: none; }` but bootstrap.min.css set `[hidden] { display: none !important; }` so we also need the `!important` here to be able to override the default hidden behavior on the sphinx rendered scikit-learn.org. See: https://github.com/scikit-learn/scikit-learn/issues/21755 */display: inline-block !important;position: relative;}#sk-container-id-5 div.sk-text-repr-fallback {display: none;}</style><div id=\"sk-container-id-5\" class=\"sk-top-container\"><div class=\"sk-text-repr-fallback\"><pre>DecisionTreeClassifier(criterion=&#x27;entropy&#x27;, max_depth=5, min_samples_split=10)</pre><b>In a Jupyter environment, please rerun this cell to show the HTML representation or trust the notebook. <br />On GitHub, the HTML representation is unable to render, please try loading this page with nbviewer.org.</b></div><div class=\"sk-container\" hidden><div class=\"sk-item\"><div class=\"sk-estimator sk-toggleable\"><input class=\"sk-toggleable__control sk-hidden--visually\" id=\"sk-estimator-id-9\" type=\"checkbox\" checked><label for=\"sk-estimator-id-9\" class=\"sk-toggleable__label sk-toggleable__label-arrow\">DecisionTreeClassifier</label><div class=\"sk-toggleable__content\"><pre>DecisionTreeClassifier(criterion=&#x27;entropy&#x27;, max_depth=5, min_samples_split=10)</pre></div></div></div></div></div>"
      ],
      "text/plain": [
       "DecisionTreeClassifier(criterion='entropy', max_depth=5, min_samples_split=10)"
      ]
     },
     "execution_count": 45,
     "metadata": {},
     "output_type": "execute_result"
    }
   ],
   "source": [
    "best_dtc = rscv1.best_estimator_\n",
    "best_dtc"
   ]
  },
  {
   "cell_type": "code",
   "execution_count": 47,
   "metadata": {},
   "outputs": [],
   "source": [
    "ypred_tr = best_dtc.predict(xtrain)\n",
    "ypred_ts = best_dtc.predict(xtest)\n",
    "dtc_f1tr = f1_score(ytrain,ypred_tr)\n",
    "dtc_f1ts = f1_score(ytest,ypred_ts)"
   ]
  },
  {
   "cell_type": "code",
   "execution_count": 48,
   "metadata": {},
   "outputs": [
    {
     "data": {
      "text/plain": [
       "0.7984344422700587"
      ]
     },
     "execution_count": 48,
     "metadata": {},
     "output_type": "execute_result"
    }
   ],
   "source": [
    "dtc_f1tr"
   ]
  },
  {
   "cell_type": "code",
   "execution_count": 50,
   "metadata": {},
   "outputs": [
    {
     "data": {
      "text/plain": [
       "0.7746478873239436"
      ]
     },
     "execution_count": 50,
     "metadata": {},
     "output_type": "execute_result"
    }
   ],
   "source": [
    "dtc_f1ts"
   ]
  },
  {
   "cell_type": "markdown",
   "metadata": {},
   "source": [
    "### SVM model"
   ]
  },
  {
   "cell_type": "code",
   "execution_count": 51,
   "metadata": {},
   "outputs": [
    {
     "data": {
      "text/html": [
       "<style>#sk-container-id-6 {color: black;background-color: white;}#sk-container-id-6 pre{padding: 0;}#sk-container-id-6 div.sk-toggleable {background-color: white;}#sk-container-id-6 label.sk-toggleable__label {cursor: pointer;display: block;width: 100%;margin-bottom: 0;padding: 0.3em;box-sizing: border-box;text-align: center;}#sk-container-id-6 label.sk-toggleable__label-arrow:before {content: \"▸\";float: left;margin-right: 0.25em;color: #696969;}#sk-container-id-6 label.sk-toggleable__label-arrow:hover:before {color: black;}#sk-container-id-6 div.sk-estimator:hover label.sk-toggleable__label-arrow:before {color: black;}#sk-container-id-6 div.sk-toggleable__content {max-height: 0;max-width: 0;overflow: hidden;text-align: left;background-color: #f0f8ff;}#sk-container-id-6 div.sk-toggleable__content pre {margin: 0.2em;color: black;border-radius: 0.25em;background-color: #f0f8ff;}#sk-container-id-6 input.sk-toggleable__control:checked~div.sk-toggleable__content {max-height: 200px;max-width: 100%;overflow: auto;}#sk-container-id-6 input.sk-toggleable__control:checked~label.sk-toggleable__label-arrow:before {content: \"▾\";}#sk-container-id-6 div.sk-estimator input.sk-toggleable__control:checked~label.sk-toggleable__label {background-color: #d4ebff;}#sk-container-id-6 div.sk-label input.sk-toggleable__control:checked~label.sk-toggleable__label {background-color: #d4ebff;}#sk-container-id-6 input.sk-hidden--visually {border: 0;clip: rect(1px 1px 1px 1px);clip: rect(1px, 1px, 1px, 1px);height: 1px;margin: -1px;overflow: hidden;padding: 0;position: absolute;width: 1px;}#sk-container-id-6 div.sk-estimator {font-family: monospace;background-color: #f0f8ff;border: 1px dotted black;border-radius: 0.25em;box-sizing: border-box;margin-bottom: 0.5em;}#sk-container-id-6 div.sk-estimator:hover {background-color: #d4ebff;}#sk-container-id-6 div.sk-parallel-item::after {content: \"\";width: 100%;border-bottom: 1px solid gray;flex-grow: 1;}#sk-container-id-6 div.sk-label:hover label.sk-toggleable__label {background-color: #d4ebff;}#sk-container-id-6 div.sk-serial::before {content: \"\";position: absolute;border-left: 1px solid gray;box-sizing: border-box;top: 0;bottom: 0;left: 50%;z-index: 0;}#sk-container-id-6 div.sk-serial {display: flex;flex-direction: column;align-items: center;background-color: white;padding-right: 0.2em;padding-left: 0.2em;position: relative;}#sk-container-id-6 div.sk-item {position: relative;z-index: 1;}#sk-container-id-6 div.sk-parallel {display: flex;align-items: stretch;justify-content: center;background-color: white;position: relative;}#sk-container-id-6 div.sk-item::before, #sk-container-id-6 div.sk-parallel-item::before {content: \"\";position: absolute;border-left: 1px solid gray;box-sizing: border-box;top: 0;bottom: 0;left: 50%;z-index: -1;}#sk-container-id-6 div.sk-parallel-item {display: flex;flex-direction: column;z-index: 1;position: relative;background-color: white;}#sk-container-id-6 div.sk-parallel-item:first-child::after {align-self: flex-end;width: 50%;}#sk-container-id-6 div.sk-parallel-item:last-child::after {align-self: flex-start;width: 50%;}#sk-container-id-6 div.sk-parallel-item:only-child::after {width: 0;}#sk-container-id-6 div.sk-dashed-wrapped {border: 1px dashed gray;margin: 0 0.4em 0.5em 0.4em;box-sizing: border-box;padding-bottom: 0.4em;background-color: white;}#sk-container-id-6 div.sk-label label {font-family: monospace;font-weight: bold;display: inline-block;line-height: 1.2em;}#sk-container-id-6 div.sk-label-container {text-align: center;}#sk-container-id-6 div.sk-container {/* jupyter's `normalize.less` sets `[hidden] { display: none; }` but bootstrap.min.css set `[hidden] { display: none !important; }` so we also need the `!important` here to be able to override the default hidden behavior on the sphinx rendered scikit-learn.org. See: https://github.com/scikit-learn/scikit-learn/issues/21755 */display: inline-block !important;position: relative;}#sk-container-id-6 div.sk-text-repr-fallback {display: none;}</style><div id=\"sk-container-id-6\" class=\"sk-top-container\"><div class=\"sk-text-repr-fallback\"><pre>SVC(probability=True)</pre><b>In a Jupyter environment, please rerun this cell to show the HTML representation or trust the notebook. <br />On GitHub, the HTML representation is unable to render, please try loading this page with nbviewer.org.</b></div><div class=\"sk-container\" hidden><div class=\"sk-item\"><div class=\"sk-estimator sk-toggleable\"><input class=\"sk-toggleable__control sk-hidden--visually\" id=\"sk-estimator-id-10\" type=\"checkbox\" checked><label for=\"sk-estimator-id-10\" class=\"sk-toggleable__label sk-toggleable__label-arrow\">SVC</label><div class=\"sk-toggleable__content\"><pre>SVC(probability=True)</pre></div></div></div></div></div>"
      ],
      "text/plain": [
       "SVC(probability=True)"
      ]
     },
     "execution_count": 51,
     "metadata": {},
     "output_type": "execute_result"
    }
   ],
   "source": [
    "svm = SVC(probability=True)\n",
    "svm.fit(xtrain,ytrain)"
   ]
  },
  {
   "cell_type": "code",
   "execution_count": 52,
   "metadata": {},
   "outputs": [],
   "source": [
    "ypred_tr = svm.predict(xtrain)\n",
    "ypred_ts = svm.predict(xtest)"
   ]
  },
  {
   "cell_type": "code",
   "execution_count": 53,
   "metadata": {},
   "outputs": [
    {
     "data": {
      "text/plain": [
       "0.785009861932939"
      ]
     },
     "execution_count": 53,
     "metadata": {},
     "output_type": "execute_result"
    }
   ],
   "source": [
    "f1_score(ytrain,ypred_tr)"
   ]
  },
  {
   "cell_type": "code",
   "execution_count": 54,
   "metadata": {},
   "outputs": [
    {
     "data": {
      "text/plain": [
       "0.7659574468085106"
      ]
     },
     "execution_count": 54,
     "metadata": {},
     "output_type": "execute_result"
    }
   ],
   "source": [
    "f1_score(ytest,ypred_ts)"
   ]
  },
  {
   "cell_type": "markdown",
   "metadata": {},
   "source": [
    "### Combine top3 classifiers with Voting Classifier"
   ]
  },
  {
   "cell_type": "code",
   "execution_count": 66,
   "metadata": {},
   "outputs": [
    {
     "data": {
      "text/html": [
       "<style>#sk-container-id-10 {color: black;background-color: white;}#sk-container-id-10 pre{padding: 0;}#sk-container-id-10 div.sk-toggleable {background-color: white;}#sk-container-id-10 label.sk-toggleable__label {cursor: pointer;display: block;width: 100%;margin-bottom: 0;padding: 0.3em;box-sizing: border-box;text-align: center;}#sk-container-id-10 label.sk-toggleable__label-arrow:before {content: \"▸\";float: left;margin-right: 0.25em;color: #696969;}#sk-container-id-10 label.sk-toggleable__label-arrow:hover:before {color: black;}#sk-container-id-10 div.sk-estimator:hover label.sk-toggleable__label-arrow:before {color: black;}#sk-container-id-10 div.sk-toggleable__content {max-height: 0;max-width: 0;overflow: hidden;text-align: left;background-color: #f0f8ff;}#sk-container-id-10 div.sk-toggleable__content pre {margin: 0.2em;color: black;border-radius: 0.25em;background-color: #f0f8ff;}#sk-container-id-10 input.sk-toggleable__control:checked~div.sk-toggleable__content {max-height: 200px;max-width: 100%;overflow: auto;}#sk-container-id-10 input.sk-toggleable__control:checked~label.sk-toggleable__label-arrow:before {content: \"▾\";}#sk-container-id-10 div.sk-estimator input.sk-toggleable__control:checked~label.sk-toggleable__label {background-color: #d4ebff;}#sk-container-id-10 div.sk-label input.sk-toggleable__control:checked~label.sk-toggleable__label {background-color: #d4ebff;}#sk-container-id-10 input.sk-hidden--visually {border: 0;clip: rect(1px 1px 1px 1px);clip: rect(1px, 1px, 1px, 1px);height: 1px;margin: -1px;overflow: hidden;padding: 0;position: absolute;width: 1px;}#sk-container-id-10 div.sk-estimator {font-family: monospace;background-color: #f0f8ff;border: 1px dotted black;border-radius: 0.25em;box-sizing: border-box;margin-bottom: 0.5em;}#sk-container-id-10 div.sk-estimator:hover {background-color: #d4ebff;}#sk-container-id-10 div.sk-parallel-item::after {content: \"\";width: 100%;border-bottom: 1px solid gray;flex-grow: 1;}#sk-container-id-10 div.sk-label:hover label.sk-toggleable__label {background-color: #d4ebff;}#sk-container-id-10 div.sk-serial::before {content: \"\";position: absolute;border-left: 1px solid gray;box-sizing: border-box;top: 0;bottom: 0;left: 50%;z-index: 0;}#sk-container-id-10 div.sk-serial {display: flex;flex-direction: column;align-items: center;background-color: white;padding-right: 0.2em;padding-left: 0.2em;position: relative;}#sk-container-id-10 div.sk-item {position: relative;z-index: 1;}#sk-container-id-10 div.sk-parallel {display: flex;align-items: stretch;justify-content: center;background-color: white;position: relative;}#sk-container-id-10 div.sk-item::before, #sk-container-id-10 div.sk-parallel-item::before {content: \"\";position: absolute;border-left: 1px solid gray;box-sizing: border-box;top: 0;bottom: 0;left: 50%;z-index: -1;}#sk-container-id-10 div.sk-parallel-item {display: flex;flex-direction: column;z-index: 1;position: relative;background-color: white;}#sk-container-id-10 div.sk-parallel-item:first-child::after {align-self: flex-end;width: 50%;}#sk-container-id-10 div.sk-parallel-item:last-child::after {align-self: flex-start;width: 50%;}#sk-container-id-10 div.sk-parallel-item:only-child::after {width: 0;}#sk-container-id-10 div.sk-dashed-wrapped {border: 1px dashed gray;margin: 0 0.4em 0.5em 0.4em;box-sizing: border-box;padding-bottom: 0.4em;background-color: white;}#sk-container-id-10 div.sk-label label {font-family: monospace;font-weight: bold;display: inline-block;line-height: 1.2em;}#sk-container-id-10 div.sk-label-container {text-align: center;}#sk-container-id-10 div.sk-container {/* jupyter's `normalize.less` sets `[hidden] { display: none; }` but bootstrap.min.css set `[hidden] { display: none !important; }` so we also need the `!important` here to be able to override the default hidden behavior on the sphinx rendered scikit-learn.org. See: https://github.com/scikit-learn/scikit-learn/issues/21755 */display: inline-block !important;position: relative;}#sk-container-id-10 div.sk-text-repr-fallback {display: none;}</style><div id=\"sk-container-id-10\" class=\"sk-top-container\"><div class=\"sk-text-repr-fallback\"><pre>VotingClassifier(estimators=[(&#x27;lr&#x27;, LogisticRegression(C=50)),\n",
       "                             (&#x27;dtc&#x27;,\n",
       "                              DecisionTreeClassifier(criterion=&#x27;entropy&#x27;,\n",
       "                                                     max_depth=5,\n",
       "                                                     min_samples_split=10)),\n",
       "                             (&#x27;svm&#x27;, SVC(probability=True))],\n",
       "                 voting=&#x27;soft&#x27;, weights=[5, 2, 1])</pre><b>In a Jupyter environment, please rerun this cell to show the HTML representation or trust the notebook. <br />On GitHub, the HTML representation is unable to render, please try loading this page with nbviewer.org.</b></div><div class=\"sk-container\" hidden><div class=\"sk-item sk-dashed-wrapped\"><div class=\"sk-label-container\"><div class=\"sk-label sk-toggleable\"><input class=\"sk-toggleable__control sk-hidden--visually\" id=\"sk-estimator-id-23\" type=\"checkbox\" ><label for=\"sk-estimator-id-23\" class=\"sk-toggleable__label sk-toggleable__label-arrow\">VotingClassifier</label><div class=\"sk-toggleable__content\"><pre>VotingClassifier(estimators=[(&#x27;lr&#x27;, LogisticRegression(C=50)),\n",
       "                             (&#x27;dtc&#x27;,\n",
       "                              DecisionTreeClassifier(criterion=&#x27;entropy&#x27;,\n",
       "                                                     max_depth=5,\n",
       "                                                     min_samples_split=10)),\n",
       "                             (&#x27;svm&#x27;, SVC(probability=True))],\n",
       "                 voting=&#x27;soft&#x27;, weights=[5, 2, 1])</pre></div></div></div><div class=\"sk-parallel\"><div class=\"sk-parallel-item\"><div class=\"sk-item\"><div class=\"sk-label-container\"><div class=\"sk-label sk-toggleable\"><label>lr</label></div></div><div class=\"sk-serial\"><div class=\"sk-item\"><div class=\"sk-estimator sk-toggleable\"><input class=\"sk-toggleable__control sk-hidden--visually\" id=\"sk-estimator-id-24\" type=\"checkbox\" ><label for=\"sk-estimator-id-24\" class=\"sk-toggleable__label sk-toggleable__label-arrow\">LogisticRegression</label><div class=\"sk-toggleable__content\"><pre>LogisticRegression(C=50)</pre></div></div></div></div></div></div><div class=\"sk-parallel-item\"><div class=\"sk-item\"><div class=\"sk-label-container\"><div class=\"sk-label sk-toggleable\"><label>dtc</label></div></div><div class=\"sk-serial\"><div class=\"sk-item\"><div class=\"sk-estimator sk-toggleable\"><input class=\"sk-toggleable__control sk-hidden--visually\" id=\"sk-estimator-id-25\" type=\"checkbox\" ><label for=\"sk-estimator-id-25\" class=\"sk-toggleable__label sk-toggleable__label-arrow\">DecisionTreeClassifier</label><div class=\"sk-toggleable__content\"><pre>DecisionTreeClassifier(criterion=&#x27;entropy&#x27;, max_depth=5, min_samples_split=10)</pre></div></div></div></div></div></div><div class=\"sk-parallel-item\"><div class=\"sk-item\"><div class=\"sk-label-container\"><div class=\"sk-label sk-toggleable\"><label>svm</label></div></div><div class=\"sk-serial\"><div class=\"sk-item\"><div class=\"sk-estimator sk-toggleable\"><input class=\"sk-toggleable__control sk-hidden--visually\" id=\"sk-estimator-id-26\" type=\"checkbox\" ><label for=\"sk-estimator-id-26\" class=\"sk-toggleable__label sk-toggleable__label-arrow\">SVC</label><div class=\"sk-toggleable__content\"><pre>SVC(probability=True)</pre></div></div></div></div></div></div></div></div></div></div>"
      ],
      "text/plain": [
       "VotingClassifier(estimators=[('lr', LogisticRegression(C=50)),\n",
       "                             ('dtc',\n",
       "                              DecisionTreeClassifier(criterion='entropy',\n",
       "                                                     max_depth=5,\n",
       "                                                     min_samples_split=10)),\n",
       "                             ('svm', SVC(probability=True))],\n",
       "                 voting='soft', weights=[5, 2, 1])"
      ]
     },
     "execution_count": 66,
     "metadata": {},
     "output_type": "execute_result"
    }
   ],
   "source": [
    "from sklearn.ensemble import VotingClassifier\n",
    "vc = VotingClassifier(estimators=[('lr',best_lr),('dtc',best_dtc),('svm',svm)],voting='soft',weights=[5,2,1])\n",
    "vc.fit(xtrain,ytrain)"
   ]
  },
  {
   "cell_type": "code",
   "execution_count": 67,
   "metadata": {},
   "outputs": [],
   "source": [
    "ypred_tr = vc.predict(xtrain)\n",
    "ypred_ts = vc.predict(xtest)"
   ]
  },
  {
   "cell_type": "code",
   "execution_count": 68,
   "metadata": {},
   "outputs": [
    {
     "name": "stdout",
     "output_type": "stream",
     "text": [
      "              precision    recall  f1-score   support\n",
      "\n",
      "           0       0.85      0.89      0.87       105\n",
      "           1       0.83      0.77      0.80        74\n",
      "\n",
      "    accuracy                           0.84       179\n",
      "   macro avg       0.84      0.83      0.83       179\n",
      "weighted avg       0.84      0.84      0.84       179\n",
      "\n"
     ]
    }
   ],
   "source": [
    "print(classification_report(ytest,ypred_ts))"
   ]
  },
  {
   "cell_type": "code",
   "execution_count": 69,
   "metadata": {},
   "outputs": [
    {
     "data": {
      "text/plain": [
       "<sklearn.metrics._plot.confusion_matrix.ConfusionMatrixDisplay at 0x25a1cb57310>"
      ]
     },
     "execution_count": 69,
     "metadata": {},
     "output_type": "execute_result"
    },
    {
     "data": {
      "image/png": "[encoded data removed]",
      "text/plain": [
       "<Figure size 640x480 with 2 Axes>"
      ]
     },
     "metadata": {},
     "output_type": "display_data"
    }
   ],
   "source": [
    "cf = confusion_matrix(ytest,ypred_ts)\n",
    "cfd = ConfusionMatrixDisplay(cf,display_labels=vc.classes_)\n",
    "cfd.plot()"
   ]
  },
  {
   "cell_type": "markdown",
   "metadata": {},
   "source": [
    "### Select Best Logistic regression for final model"
   ]
  },
  {
   "cell_type": "markdown",
   "metadata": {},
   "source": [
    "### Find the roc auc "
   ]
  },
  {
   "cell_type": "code",
   "execution_count": 72,
   "metadata": {},
   "outputs": [
    {
     "data": {
      "text/plain": [
       "array([1.45122270e-02, 2.77698380e-02, 8.71209689e-03, 9.48165256e-03,\n",
       "       2.87480329e-02, 4.48065269e-02, 2.43936884e-02, 2.64344557e-02,\n",
       "       1.08008570e-02, 9.75811594e-01, 9.63732435e-01, 5.55659676e-05,\n",
       "       1.93121998e-02, 1.48315014e-02, 8.79821454e-01, 9.57020112e-01,\n",
       "       9.99809589e-01, 9.87770075e-01, 1.65176358e-02, 9.99926489e-01,\n",
       "       1.96266858e-02, 1.27875255e-03, 7.11638406e-02, 9.95386890e-01,\n",
       "       9.19444946e-01, 9.02939891e-01, 9.66742644e-01, 1.02857449e-02,\n",
       "       9.58025367e-01, 2.66225667e-04, 2.81340620e-03, 4.03014436e-02,\n",
       "       9.70436534e-03, 9.68419046e-01, 1.36732005e-02, 3.23703906e-02,\n",
       "       3.29567426e-04, 9.73367282e-01, 2.49885452e-02, 9.93683325e-01,\n",
       "       1.07859275e-02, 1.08008570e-02, 1.01175758e-01, 1.25471930e-02,\n",
       "       9.67308251e-01, 1.25431195e-02, 9.97642386e-01, 1.44802834e-02,\n",
       "       1.77636117e-02, 9.47953532e-01, 9.62007389e-01, 1.55617803e-02,\n",
       "       9.98155447e-01, 1.36738664e-02, 9.68363711e-01, 1.08185947e-02,\n",
       "       9.65990886e-01, 9.86260622e-01, 9.69902108e-01, 9.08291007e-01,\n",
       "       7.49556407e-03, 4.12458794e-01, 9.59628203e-01, 1.60908821e-02,\n",
       "       8.34835356e-02, 1.18428302e-02, 1.08379869e-02, 1.08044233e-02,\n",
       "       1.38309694e-02, 1.44728781e-02, 9.52180491e-01, 9.58073252e-01,\n",
       "       2.97250819e-01, 1.36738664e-02, 2.06239837e-02, 8.94039033e-01,\n",
       "       8.82293013e-01, 1.44947595e-02, 9.88352889e-01, 1.70004706e-02,\n",
       "       9.72347210e-01, 9.56718516e-01, 3.16759555e-02, 9.65717763e-01,\n",
       "       8.82371546e-01, 3.94034192e-02, 1.40096583e-02, 1.80608430e-02,\n",
       "       9.75482423e-01, 9.78703367e-01, 1.08008570e-02, 9.99528339e-01,\n",
       "       5.57128526e-02, 6.26392654e-02, 3.92236064e-02, 9.26765620e-01,\n",
       "       1.02536240e-02, 1.73082140e-02, 3.10628367e-02, 9.64036899e-01,\n",
       "       1.49577571e-02, 7.38088313e-03, 1.58363750e-02, 9.99914610e-01,\n",
       "       6.29751140e-02, 3.59744967e-02, 3.20474913e-03, 9.64942680e-01,\n",
       "       3.75306842e-04, 8.38680428e-01, 9.06417924e-01, 1.58048141e-02,\n",
       "       6.99858171e-03, 9.99861021e-01, 7.70705764e-02, 1.51680324e-02,\n",
       "       2.01199795e-02, 1.38809872e-02, 7.15490749e-02, 1.46024398e-02,\n",
       "       8.10947763e-02, 9.11438474e-01, 9.58590137e-01, 3.76450395e-01,\n",
       "       2.67782993e-02, 8.96626605e-01, 9.72038110e-01, 4.56636039e-03,\n",
       "       4.63341267e-02, 1.29785499e-02, 2.68703325e-02, 3.43534188e-02,\n",
       "       9.12751193e-02, 9.15675208e-01, 6.14131903e-03, 4.20747985e-03,\n",
       "       9.82210639e-01, 9.45047184e-01, 9.60703771e-01, 5.87978943e-01,\n",
       "       3.44519008e-02, 3.40071989e-02, 9.40344792e-01, 5.26244917e-02,\n",
       "       1.51645296e-02, 9.55303410e-01, 7.97167417e-02, 8.75872630e-01,\n",
       "       8.00173866e-02, 2.44007180e-02, 1.36738664e-02, 1.82864936e-02,\n",
       "       2.02125119e-02, 6.50198914e-02, 2.59824730e-02, 4.89922397e-03,\n",
       "       4.14839335e-02, 9.97872298e-01, 9.61909012e-01, 1.28076701e-02,\n",
       "       7.66081079e-03, 1.22023107e-01, 1.58650442e-02, 4.06316499e-01,\n",
       "       8.81051345e-01, 1.36759760e-02, 1.08008570e-02, 9.74413883e-01,\n",
       "       1.19582198e-02, 9.48896495e-01, 6.68746112e-01, 9.94386741e-01,\n",
       "       8.85745910e-01, 1.93293884e-04, 3.42707403e-02, 9.26055828e-03,\n",
       "       1.80608430e-02, 9.57918230e-01, 8.60901037e-01, 6.00267463e-03,\n",
       "       5.96210001e-01, 7.80061854e-02, 9.76717071e-01, 8.88966811e-02,\n",
       "       3.68539710e-03, 9.82217466e-02, 9.64937336e-01, 2.21223068e-02,\n",
       "       1.09680939e-02, 1.31928560e-02, 6.73291153e-02, 9.90380780e-01,\n",
       "       2.16279551e-01, 8.88458177e-01, 8.94723208e-01, 4.84027918e-02,\n",
       "       1.48409176e-03, 9.85907602e-01, 9.12417356e-01, 9.86756073e-01,\n",
       "       1.61103632e-02, 9.99368477e-01, 2.50166352e-03, 9.94230197e-01,\n",
       "       9.82647565e-01, 6.96028915e-03, 1.31862493e-02, 2.17279569e-02,\n",
       "       3.48005684e-02, 1.25431195e-02, 7.22405930e-02, 6.84198006e-02,\n",
       "       9.93918521e-01, 9.98518740e-01, 9.92582332e-01, 9.48408516e-01,\n",
       "       9.97491569e-01, 2.77698380e-02, 1.08008570e-02, 2.47020061e-02,\n",
       "       9.50095710e-01, 9.93773162e-01, 1.36501242e-02, 9.94296965e-01,\n",
       "       8.73449234e-03, 9.95437794e-01, 9.64936645e-01, 9.98438562e-01,\n",
       "       2.62576351e-03, 9.68964299e-01, 9.54255238e-03, 1.61103632e-02,\n",
       "       8.49367080e-05, 9.96841336e-01, 9.70027331e-01, 5.37140254e-03,\n",
       "       9.76872770e-01, 9.97925987e-01, 2.42427873e-02, 1.08008570e-02,\n",
       "       5.05173953e-02, 9.37144757e-01, 5.77708988e-03, 8.48983129e-01,\n",
       "       1.07377514e-02, 8.71150849e-03, 6.48337911e-03, 9.88430787e-01,\n",
       "       2.42071804e-01, 9.98316732e-01, 9.08163425e-01, 9.46787973e-01,\n",
       "       3.38009034e-02, 9.77389080e-01, 3.06318617e-02, 2.22116944e-02,\n",
       "       3.55252360e-03, 1.17428441e-02, 1.08008570e-02, 2.61797543e-03,\n",
       "       1.21246005e-02, 9.45260455e-01, 1.36525649e-02, 4.59069093e-03,\n",
       "       3.05118288e-01, 2.32871062e-02, 2.88694913e-02, 9.61518222e-03,\n",
       "       9.45791607e-01, 3.23737793e-02, 4.96180203e-04, 9.07744966e-01,\n",
       "       6.15839919e-01, 9.70681405e-01, 3.13807493e-02, 1.16737556e-02,\n",
       "       8.23651896e-03, 1.56373709e-02, 7.63089371e-01, 1.44878052e-02,\n",
       "       1.60910041e-02, 1.36738664e-02, 6.48779236e-03, 9.85683368e-01,\n",
       "       8.97873724e-04, 3.24338947e-02, 8.93845148e-01, 8.45549156e-03,\n",
       "       1.60908821e-02, 9.89958620e-01, 9.64937336e-01, 9.98192318e-01,\n",
       "       9.71833904e-03, 3.23737793e-02, 3.24543636e-02, 9.59798070e-01,\n",
       "       9.99671585e-01, 1.95106841e-02, 9.98785479e-01, 9.76593588e-01,\n",
       "       1.51660484e-02, 9.46467681e-01, 6.43227194e-02, 9.99105978e-01,\n",
       "       1.60908821e-02, 1.11419419e-02, 4.79528421e-03, 1.41492284e-02,\n",
       "       9.81100838e-01, 9.71424028e-01, 5.22489337e-01, 9.91561313e-01,\n",
       "       1.12135550e-02, 8.77165721e-01, 8.81035755e-01, 9.80725733e-01,\n",
       "       4.23020310e-04, 2.77698380e-02, 2.65345763e-02, 1.60910041e-02,\n",
       "       7.35613562e-02, 9.76717071e-01, 8.73449234e-03, 1.66371370e-02,\n",
       "       1.51401112e-02, 1.58594291e-02, 6.68746112e-01, 1.56658881e-01,\n",
       "       1.08044233e-02, 9.41639387e-01, 1.57394941e-02, 9.70692279e-01,\n",
       "       1.29945867e-02, 2.82204656e-03, 1.57084796e-02, 2.00692308e-03,\n",
       "       1.02273528e-02, 9.98629015e-01, 9.23938362e-01, 1.07859275e-02,\n",
       "       9.76704972e-01, 1.37141037e-02, 1.44728781e-02, 9.68363546e-01,\n",
       "       1.44854528e-02, 9.68099219e-01, 8.56894104e-03, 9.55964583e-01,\n",
       "       1.46080243e-01, 7.53993832e-02, 1.22352188e-02, 4.96350542e-02,\n",
       "       9.67295744e-01, 4.12736280e-02, 7.76086877e-03, 1.87901055e-02,\n",
       "       1.07873719e-02, 1.44905408e-02, 9.88834514e-01, 9.04420212e-01,\n",
       "       8.86189178e-01, 9.79082618e-01, 9.61752805e-01, 1.32305700e-02,\n",
       "       9.77032095e-01, 9.73236993e-01, 1.51680324e-02, 9.90402532e-01,\n",
       "       1.44854528e-02, 8.78177416e-01, 9.63269924e-01, 3.65945773e-02,\n",
       "       9.64998525e-01, 2.48432725e-04, 9.36671597e-01, 1.11030595e-02,\n",
       "       9.79701541e-01, 1.08044233e-02, 8.59341920e-02, 9.72167715e-03,\n",
       "       4.54084751e-03, 8.18926600e-03, 9.56250206e-03, 1.08044233e-02,\n",
       "       1.08160234e-02, 9.90279082e-01, 1.18006437e-02, 2.34755091e-02,\n",
       "       7.04656882e-02, 4.94604894e-04, 8.92727497e-01, 1.08044233e-02,\n",
       "       1.45303468e-02, 1.60908821e-02, 6.23864804e-02, 9.96751923e-01,\n",
       "       1.80608430e-02, 6.03914570e-02, 3.23703906e-02, 1.51715355e-02,\n",
       "       9.52752089e-01, 5.01109778e-02, 9.93918521e-01, 1.60910041e-02,\n",
       "       7.78327506e-03, 9.92257130e-01, 9.94607198e-01, 6.83140864e-03,\n",
       "       1.08379869e-02, 6.28001598e-02, 2.54767709e-02, 2.79713884e-02,\n",
       "       8.75875804e-01, 6.10028998e-02, 1.19552511e-02, 9.32349556e-01,\n",
       "       1.91363313e-03, 3.05961487e-03, 1.36734215e-02, 1.72924896e-02,\n",
       "       7.39491432e-02, 9.15719399e-01, 9.99733368e-01, 8.25124022e-03,\n",
       "       1.86552613e-02, 7.58559092e-02, 1.01310731e-02, 3.88958495e-02,\n",
       "       9.72347210e-01, 9.55743105e-01, 4.88359293e-02, 9.72355437e-01,\n",
       "       3.31556787e-01, 8.26767570e-03, 9.94109890e-01, 9.96784179e-01,\n",
       "       1.85664092e-02, 8.92632535e-01, 3.79777334e-02, 3.20316883e-04,\n",
       "       9.95368223e-01, 1.07980636e-02, 9.84435934e-01, 8.71209689e-03,\n",
       "       4.09303482e-03, 4.75452037e-02, 3.11702365e-03, 7.41994047e-01,\n",
       "       8.60508388e-01, 8.09186366e-03, 3.33684347e-02, 3.00134427e-02,\n",
       "       9.65263011e-01, 9.72167715e-03, 6.00880441e-02, 8.82331203e-01,\n",
       "       1.51887056e-02, 6.68746112e-01, 1.19582198e-02, 9.55889945e-01,\n",
       "       9.56197155e-03, 9.80601594e-01, 9.17502292e-01, 9.91783108e-01,\n",
       "       9.96830384e-01, 9.44010986e-01, 2.01896180e-02, 4.86973263e-04,\n",
       "       3.90277781e-03, 9.95455327e-01, 8.44774259e-01, 7.85291895e-02,\n",
       "       8.66884561e-01, 4.21579059e-02, 9.64786926e-01, 7.75430942e-03,\n",
       "       5.07314988e-03, 7.72378119e-02, 7.35695745e-02, 6.92914240e-01,\n",
       "       3.92858238e-03, 6.81497565e-02, 7.67692477e-02, 1.25645004e-02,\n",
       "       9.99275801e-01, 1.19580158e-02, 2.16444508e-02, 9.98785479e-01,\n",
       "       1.77369361e-02, 2.39464618e-03, 3.32116718e-02, 1.24438159e-02,\n",
       "       9.66979377e-01, 8.00382909e-02, 9.24240215e-04, 1.44854528e-02,\n",
       "       7.02437061e-01, 8.79271397e-01, 2.29438538e-02, 1.59066525e-02,\n",
       "       9.90307920e-01, 1.44947595e-02, 5.02189449e-03, 9.35692282e-01,\n",
       "       9.28618592e-01, 3.01334447e-02, 9.68843580e-02, 4.36563101e-02,\n",
       "       9.56046133e-01, 9.93862050e-01, 2.70842032e-02, 1.28783875e-02,\n",
       "       6.82588148e-03, 1.07928616e-02, 1.08008570e-02, 1.47105207e-02,\n",
       "       9.64942680e-01, 9.99681841e-01, 9.98773627e-01, 9.70090096e-01,\n",
       "       1.88439114e-02, 9.65969409e-01, 1.08008570e-02, 9.59998621e-01,\n",
       "       8.49367080e-05, 2.25850004e-02, 9.28102243e-01, 9.55508488e-01,\n",
       "       8.63329940e-02, 5.67869527e-02, 1.08008570e-02, 2.96438498e-03,\n",
       "       9.23811488e-01, 2.50172816e-02, 5.08857934e-03, 9.63675130e-01,\n",
       "       9.53448099e-01, 9.92017623e-01, 1.99977408e-04, 9.57841463e-01,\n",
       "       8.73161074e-01, 2.24681992e-02, 6.61792525e-02, 8.49367080e-05,\n",
       "       1.60910041e-02, 5.78937348e-02, 9.82126568e-01, 1.61094318e-02,\n",
       "       9.26902098e-02, 9.69811064e-01, 9.31359484e-01, 5.96210001e-01,\n",
       "       1.08044233e-02, 1.08044233e-02, 2.70321639e-02, 1.87986790e-02,\n",
       "       9.63372162e-01, 9.54748254e-01, 9.00368150e-01, 9.81258724e-01,\n",
       "       8.14286823e-02, 6.54234575e-03, 9.11999224e-03, 1.07985445e-02,\n",
       "       4.11755496e-02, 7.34578222e-03, 5.48111906e-02, 9.56847671e-01,\n",
       "       9.75418572e-01, 1.08008570e-02, 9.99754039e-01, 1.58826146e-02,\n",
       "       3.34585565e-04, 9.73452784e-01, 9.64936819e-01, 9.64937336e-01,\n",
       "       2.62341525e-03, 8.00108697e-02, 9.64937336e-01, 9.64937336e-01,\n",
       "       1.08379869e-02, 2.59824730e-02, 1.21159837e-01, 1.15846089e-02,\n",
       "       9.57690009e-01, 9.31293010e-01, 2.21471749e-02, 8.86432648e-01,\n",
       "       2.17279569e-02, 2.29438538e-02, 8.90115866e-01, 3.44175711e-03,\n",
       "       3.22487374e-01, 1.88350704e-02, 5.64628558e-02, 6.15337801e-03,\n",
       "       9.55530261e-01, 9.92986707e-01, 3.26704678e-02, 9.96633741e-01,\n",
       "       4.99449813e-02, 9.09607911e-02, 9.76017001e-01, 5.39892084e-02,\n",
       "       1.91267599e-02, 1.65668415e-02, 9.06110012e-01, 9.99746859e-01,\n",
       "       9.60986466e-01, 9.99764496e-01, 9.96457752e-01, 3.70016157e-02,\n",
       "       8.23417551e-03, 9.65664513e-01, 4.99449813e-02, 9.74605340e-01,\n",
       "       8.02665149e-03, 9.05105311e-01, 7.78327506e-03, 8.91373734e-01,\n",
       "       9.98018886e-01, 9.74558581e-01, 8.49367080e-05, 9.65830345e-01,\n",
       "       1.17592385e-02, 7.17522523e-02, 1.19620099e-02, 9.34837717e-02,\n",
       "       7.67010859e-02, 3.22297941e-03, 1.08008570e-02, 7.14350347e-03,\n",
       "       9.90164982e-01, 9.95518269e-01, 1.60910041e-02, 5.42936956e-03,\n",
       "       1.45207619e-02, 8.75531147e-02, 4.74695380e-02, 1.72917409e-02,\n",
       "       1.11417773e-02, 9.66150650e-01, 1.08044233e-02, 9.87700423e-01,\n",
       "       1.58594291e-02, 2.45945956e-02, 7.35695745e-02, 9.94516466e-01,\n",
       "       1.70878790e-02, 9.75418572e-01, 1.80697169e-05, 9.62004353e-01,\n",
       "       9.42748447e-01, 9.69565266e-01, 3.21464815e-02, 9.96688251e-01,\n",
       "       2.33051487e-02, 1.65703830e-02, 4.46993012e-03, 9.72907953e-01,\n",
       "       3.45909347e-03, 9.98948360e-01, 9.62580733e-01, 1.44694604e-02,\n",
       "       1.65703830e-02, 2.34088572e-02, 1.16184795e-03, 6.92420695e-03,\n",
       "       3.33265406e-02, 8.39829746e-03, 3.43997934e-02, 9.85896777e-01,\n",
       "       8.87191754e-01, 9.91402476e-01, 8.10585548e-02, 1.36738664e-02,\n",
       "       9.75002098e-01, 1.54689258e-02, 9.51850191e-01, 1.08008570e-02,\n",
       "       1.36738664e-02, 3.49117799e-03, 5.33754939e-02, 3.14795744e-02,\n",
       "       2.73258814e-02, 9.20291683e-03, 1.21246005e-02, 1.51491214e-02,\n",
       "       2.59824730e-02, 8.72091545e-03, 6.86312363e-02, 8.88931219e-03,\n",
       "       1.27880386e-02, 6.91734071e-03, 9.99445337e-01, 4.59402313e-02,\n",
       "       1.65749041e-02, 1.08044233e-02, 9.55303410e-01, 9.99198948e-01,\n",
       "       1.09587136e-02, 1.21246005e-02, 1.08044233e-02, 7.34578222e-03,\n",
       "       7.10021146e-03, 9.94935362e-01, 4.71917902e-02, 9.66958961e-01,\n",
       "       4.07660043e-02, 2.85911400e-03, 9.99954685e-01, 3.60306080e-02])"
      ]
     },
     "execution_count": 72,
     "metadata": {},
     "output_type": "execute_result"
    }
   ],
   "source": [
    "yprob_tr = best_lr.predict_proba(xtrain)[:,-1]\n",
    "yprob_tr"
   ]
  },
  {
   "cell_type": "code",
   "execution_count": 73,
   "metadata": {},
   "outputs": [
    {
     "data": {
      "text/plain": [
       "array([2.00384872e-02, 5.64939757e-02, 3.38235905e-02, 9.84693132e-01,\n",
       "       9.99313691e-01, 9.49566286e-01, 8.23411576e-01, 5.50764482e-04,\n",
       "       9.22592109e-01, 9.95738289e-01, 4.40959090e-01, 5.33202729e-03,\n",
       "       3.23703906e-02, 3.04005421e-02, 3.92514639e-02, 9.97489948e-01,\n",
       "       2.19812317e-01, 8.23451978e-01, 7.62886170e-02, 4.48126968e-02,\n",
       "       2.49622444e-02, 1.67168556e-01, 8.20209692e-01, 3.39729646e-02,\n",
       "       1.88029104e-02, 1.79235042e-04, 1.98343772e-01, 5.69633388e-02,\n",
       "       2.86524126e-04, 7.19262275e-01, 3.64710041e-02, 8.38117514e-01,\n",
       "       3.89889664e-01, 7.63931102e-01, 3.93415137e-02, 2.75466071e-02,\n",
       "       5.32399192e-01, 8.23411576e-01, 9.25053548e-01, 1.83801455e-02,\n",
       "       1.06674687e-02, 1.18838354e-02, 1.83899094e-02, 2.62403598e-02,\n",
       "       1.23293682e-02, 2.38739142e-04, 3.65033828e-02, 2.70606058e-02,\n",
       "       2.48901183e-02, 1.58438902e-01, 9.91541044e-01, 9.59996709e-01,\n",
       "       2.14284827e-05, 9.93836588e-01, 1.49003679e-03, 9.95144117e-01,\n",
       "       5.24671633e-02, 5.15145710e-01, 8.87159584e-01, 9.04126163e-01,\n",
       "       3.13430019e-02, 9.95586621e-01, 9.05981743e-01, 2.42542680e-01,\n",
       "       2.62403598e-02, 4.60945519e-01, 2.17355508e-02, 1.70198034e-02,\n",
       "       4.48850584e-02, 9.91699608e-01, 8.97656534e-01, 9.98540627e-01,\n",
       "       7.19335278e-01, 9.90552567e-01, 2.69342655e-02, 7.11633392e-03,\n",
       "       7.93166836e-01, 9.97464764e-01, 8.58071694e-01, 2.89083049e-01,\n",
       "       9.93788729e-04, 9.89056797e-01, 9.92825749e-01, 2.62392392e-02,\n",
       "       1.97411445e-01, 2.30985785e-02, 9.97084931e-01, 9.97202783e-01,\n",
       "       1.17969246e-01, 1.83393090e-02, 2.70784973e-01, 2.28736003e-02,\n",
       "       7.85544239e-02, 2.62384952e-02, 1.83801455e-02, 1.83775123e-02,\n",
       "       1.49575174e-01, 4.93290157e-03, 9.68967681e-01, 1.98456008e-02,\n",
       "       1.88184726e-02, 1.06860257e-02, 9.99899352e-01, 8.46802388e-03,\n",
       "       1.51736434e-02, 1.62186580e-02, 7.17319706e-01, 2.06591132e-01,\n",
       "       1.58483394e-02, 4.62520590e-01, 9.93170630e-01, 3.24942287e-02,\n",
       "       9.99951687e-01, 3.70939855e-01, 6.86402780e-01, 1.38758261e-02,\n",
       "       7.16414791e-02, 2.61446849e-01, 9.23776486e-01, 3.37166628e-03,\n",
       "       4.07066234e-02, 9.96944809e-01, 9.50927547e-01, 2.90680681e-01,\n",
       "       2.30767401e-02, 2.67026961e-01, 9.83315405e-01, 4.39680268e-01,\n",
       "       8.19263638e-01, 3.13723089e-02, 8.23477480e-01, 2.00384872e-02,\n",
       "       6.80083806e-02, 9.93843882e-01, 2.45164019e-01, 9.26083035e-01,\n",
       "       9.94131513e-01, 1.70139345e-02, 6.21829954e-03, 7.55567168e-01,\n",
       "       3.14132018e-02, 6.71344711e-01, 7.09569802e-02, 2.68096414e-02,\n",
       "       1.26050054e-01, 8.27586240e-01, 6.13128998e-02, 3.86217333e-03,\n",
       "       9.98287943e-01, 5.76325962e-03, 3.55439975e-02, 2.49281088e-02,\n",
       "       3.93078199e-02, 5.75085413e-01, 1.83899094e-02, 1.83266803e-02,\n",
       "       6.68746112e-01, 8.23430707e-01, 8.37519624e-01, 5.98692340e-01,\n",
       "       4.95443541e-02, 2.42945772e-01, 3.12999057e-02, 8.96085405e-01,\n",
       "       2.63039342e-02, 9.55975347e-02, 1.00667842e-01, 9.93167357e-01,\n",
       "       2.90656707e-02, 1.06832442e-02, 7.39300380e-01, 9.45961074e-01,\n",
       "       3.71021729e-01, 2.48254685e-01, 4.22744331e-02, 3.53655192e-02,\n",
       "       9.44766567e-01, 9.68717259e-01, 9.86584709e-01])"
      ]
     },
     "execution_count": 73,
     "metadata": {},
     "output_type": "execute_result"
    }
   ],
   "source": [
    "yprob_ts = best_lr.predict_proba(xtest)[:,-1]\n",
    "yprob_ts"
   ]
  },
  {
   "cell_type": "code",
   "execution_count": 74,
   "metadata": {},
   "outputs": [
    {
     "data": {
      "text/plain": [
       "0.9981763479897808"
      ]
     },
     "execution_count": 74,
     "metadata": {},
     "output_type": "execute_result"
    }
   ],
   "source": [
    "# Calcuate roc auc\n",
    "from sklearn.metrics import roc_auc_score\n",
    "tr_roc = roc_auc_score(ytrain,yprob_tr)\n",
    "tr_roc"
   ]
  },
  {
   "cell_type": "code",
   "execution_count": 75,
   "metadata": {},
   "outputs": [
    {
     "data": {
      "text/plain": [
       "0.9166023166023167"
      ]
     },
     "execution_count": 75,
     "metadata": {},
     "output_type": "execute_result"
    }
   ],
   "source": [
    "ts_roc = roc_auc_score(ytest,yprob_ts)\n",
    "ts_roc"
   ]
  },
  {
   "cell_type": "code",
   "execution_count": 76,
   "metadata": {},
   "outputs": [
    {
     "data": {
      "text/plain": [
       "array([0.85996671, 0.85299625, 0.87937248, 0.84810261, 0.89814815])"
      ]
     },
     "execution_count": 76,
     "metadata": {},
     "output_type": "execute_result"
    }
   ],
   "source": [
    "scores = cross_val_score(best_lr,xtrain,ytrain,cv=5,scoring='roc_auc')\n",
    "scores"
   ]
  },
  {
   "cell_type": "code",
   "execution_count": 77,
   "metadata": {},
   "outputs": [
    {
     "data": {
      "text/plain": [
       "0.8677172402421501"
      ]
     },
     "execution_count": 77,
     "metadata": {},
     "output_type": "execute_result"
    }
   ],
   "source": [
    "scores.mean()"
   ]
  },
  {
   "cell_type": "markdown",
   "metadata": {},
   "source": [
    "## Plot the roc curve"
   ]
  },
  {
   "cell_type": "code",
   "execution_count": 78,
   "metadata": {},
   "outputs": [
    {
     "data": {
      "text/plain": [
       "<sklearn.metrics._plot.roc_curve.RocCurveDisplay at 0x25a1c85edd0>"
      ]
     },
     "execution_count": 78,
     "metadata": {},
     "output_type": "execute_result"
    },
    {
     "data": {
      "image/png": "[encoded data removed]",
      "text/plain": [
       "<Figure size 640x480 with 1 Axes>"
      ]
     },
     "metadata": {},
     "output_type": "display_data"
    }
   ],
   "source": [
    "from sklearn.metrics import RocCurveDisplay\n",
    "RocCurveDisplay.from_estimator(best_lr,xtest,ytest)"
   ]
  },
  {
   "cell_type": "markdown",
   "metadata": {},
   "source": [
    "### Testing.csv predictions"
   ]
  },
  {
   "cell_type": "code",
   "execution_count": 79,
   "metadata": {},
   "outputs": [
    {
     "data": {
      "text/html": [
       "<div>\n",
       "<style scoped>\n",
       "    .dataframe tbody tr th:only-of-type {\n",
       "        vertical-align: middle;\n",
       "    }\n",
       "\n",
       "    .dataframe tbody tr th {\n",
       "        vertical-align: top;\n",
       "    }\n",
       "\n",
       "    .dataframe thead th {\n",
       "        text-align: right;\n",
       "    }\n",
       "</style>\n",
       "<table border=\"1\" class=\"dataframe\">\n",
       "  <thead>\n",
       "    <tr style=\"text-align: right;\">\n",
       "      <th></th>\n",
       "      <th>PassengerId</th>\n",
       "      <th>Pclass</th>\n",
       "      <th>Name</th>\n",
       "      <th>Sex</th>\n",
       "      <th>Age</th>\n",
       "      <th>SibSp</th>\n",
       "      <th>Parch</th>\n",
       "      <th>Ticket</th>\n",
       "      <th>Fare</th>\n",
       "      <th>Cabin</th>\n",
       "      <th>Embarked</th>\n",
       "    </tr>\n",
       "  </thead>\n",
       "  <tbody>\n",
       "    <tr>\n",
       "      <th>0</th>\n",
       "      <td>892</td>\n",
       "      <td>3</td>\n",
       "      <td>Kelly, Mr. James</td>\n",
       "      <td>male</td>\n",
       "      <td>34.5</td>\n",
       "      <td>0</td>\n",
       "      <td>0</td>\n",
       "      <td>330911</td>\n",
       "      <td>7.8292</td>\n",
       "      <td>NaN</td>\n",
       "      <td>Q</td>\n",
       "    </tr>\n",
       "    <tr>\n",
       "      <th>1</th>\n",
       "      <td>893</td>\n",
       "      <td>3</td>\n",
       "      <td>Wilkes, Mrs. James (Ellen Needs)</td>\n",
       "      <td>female</td>\n",
       "      <td>47.0</td>\n",
       "      <td>1</td>\n",
       "      <td>0</td>\n",
       "      <td>363272</td>\n",
       "      <td>7.0000</td>\n",
       "      <td>NaN</td>\n",
       "      <td>S</td>\n",
       "    </tr>\n",
       "    <tr>\n",
       "      <th>2</th>\n",
       "      <td>894</td>\n",
       "      <td>2</td>\n",
       "      <td>Myles, Mr. Thomas Francis</td>\n",
       "      <td>male</td>\n",
       "      <td>62.0</td>\n",
       "      <td>0</td>\n",
       "      <td>0</td>\n",
       "      <td>240276</td>\n",
       "      <td>9.6875</td>\n",
       "      <td>NaN</td>\n",
       "      <td>Q</td>\n",
       "    </tr>\n",
       "    <tr>\n",
       "      <th>3</th>\n",
       "      <td>895</td>\n",
       "      <td>3</td>\n",
       "      <td>Wirz, Mr. Albert</td>\n",
       "      <td>male</td>\n",
       "      <td>27.0</td>\n",
       "      <td>0</td>\n",
       "      <td>0</td>\n",
       "      <td>315154</td>\n",
       "      <td>8.6625</td>\n",
       "      <td>NaN</td>\n",
       "      <td>S</td>\n",
       "    </tr>\n",
       "    <tr>\n",
       "      <th>4</th>\n",
       "      <td>896</td>\n",
       "      <td>3</td>\n",
       "      <td>Hirvonen, Mrs. Alexander (Helga E Lindqvist)</td>\n",
       "      <td>female</td>\n",
       "      <td>22.0</td>\n",
       "      <td>1</td>\n",
       "      <td>1</td>\n",
       "      <td>3101298</td>\n",
       "      <td>12.2875</td>\n",
       "      <td>NaN</td>\n",
       "      <td>S</td>\n",
       "    </tr>\n",
       "  </tbody>\n",
       "</table>\n",
       "</div>"
      ],
      "text/plain": [
       "   PassengerId  Pclass                                          Name     Sex  \\\n",
       "0          892       3                              Kelly, Mr. James    male   \n",
       "1          893       3              Wilkes, Mrs. James (Ellen Needs)  female   \n",
       "2          894       2                     Myles, Mr. Thomas Francis    male   \n",
       "3          895       3                              Wirz, Mr. Albert    male   \n",
       "4          896       3  Hirvonen, Mrs. Alexander (Helga E Lindqvist)  female   \n",
       "\n",
       "    Age  SibSp  Parch   Ticket     Fare Cabin Embarked  \n",
       "0  34.5      0      0   330911   7.8292   NaN        Q  \n",
       "1  47.0      1      0   363272   7.0000   NaN        S  \n",
       "2  62.0      0      0   240276   9.6875   NaN        Q  \n",
       "3  27.0      0      0   315154   8.6625   NaN        S  \n",
       "4  22.0      1      1  3101298  12.2875   NaN        S  "
      ]
     },
     "execution_count": 79,
     "metadata": {},
     "output_type": "execute_result"
    }
   ],
   "source": [
    "df2 = pd.read_csv('test_titanic.csv')\n",
    "df2.head()"
   ]
  },
  {
   "cell_type": "code",
   "execution_count": 81,
   "metadata": {},
   "outputs": [
    {
     "data": {
      "text/plain": [
       "array([[ 0.82737724,  0.39488658, -0.4745452 , ...,  0.        ,\n",
       "         1.        ,  0.        ],\n",
       "       [ 0.82737724,  1.35550962,  0.43279337, ...,  0.        ,\n",
       "         0.        ,  1.        ],\n",
       "       [-0.36936484,  2.50825727, -0.4745452 , ...,  0.        ,\n",
       "         1.        ,  0.        ],\n",
       "       ...,\n",
       "       [ 0.82737724,  0.70228595, -0.4745452 , ...,  0.        ,\n",
       "         0.        ,  1.        ],\n",
       "       [ 0.82737724, -0.1046374 , -0.4745452 , ...,  0.        ,\n",
       "         0.        ,  1.        ],\n",
       "       [ 0.82737724, -0.1046374 ,  0.43279337, ...,  1.        ,\n",
       "         0.        ,  0.        ]])"
      ]
     },
     "execution_count": 81,
     "metadata": {},
     "output_type": "execute_result"
    }
   ],
   "source": [
    "xnew = pre.transform(df2).toarray()\n",
    "xnew"
   ]
  },
  {
   "cell_type": "code",
   "execution_count": 82,
   "metadata": {},
   "outputs": [
    {
     "data": {
      "text/html": [
       "<div>\n",
       "<style scoped>\n",
       "    .dataframe tbody tr th:only-of-type {\n",
       "        vertical-align: middle;\n",
       "    }\n",
       "\n",
       "    .dataframe tbody tr th {\n",
       "        vertical-align: top;\n",
       "    }\n",
       "\n",
       "    .dataframe thead th {\n",
       "        text-align: right;\n",
       "    }\n",
       "</style>\n",
       "<table border=\"1\" class=\"dataframe\">\n",
       "  <thead>\n",
       "    <tr style=\"text-align: right;\">\n",
       "      <th></th>\n",
       "      <th>num__Pclass</th>\n",
       "      <th>num__Age</th>\n",
       "      <th>num__SibSp</th>\n",
       "      <th>num__Parch</th>\n",
       "      <th>num__Fare</th>\n",
       "      <th>cat1__Cabin_A10</th>\n",
       "      <th>cat1__Cabin_A14</th>\n",
       "      <th>cat1__Cabin_A16</th>\n",
       "      <th>cat1__Cabin_A19</th>\n",
       "      <th>cat1__Cabin_A20</th>\n",
       "      <th>...</th>\n",
       "      <th>cat2__Ticket_W./C. 14263</th>\n",
       "      <th>cat2__Ticket_W./C. 6607</th>\n",
       "      <th>cat2__Ticket_W./C. 6608</th>\n",
       "      <th>cat2__Ticket_W./C. 6609</th>\n",
       "      <th>cat2__Ticket_W.E.P. 5734</th>\n",
       "      <th>cat2__Ticket_W/C 14208</th>\n",
       "      <th>cat2__Ticket_WE/P 5735</th>\n",
       "      <th>cat2__Embarked_C</th>\n",
       "      <th>cat2__Embarked_Q</th>\n",
       "      <th>cat2__Embarked_S</th>\n",
       "    </tr>\n",
       "  </thead>\n",
       "  <tbody>\n",
       "    <tr>\n",
       "      <th>0</th>\n",
       "      <td>0.827377</td>\n",
       "      <td>0.394887</td>\n",
       "      <td>-0.474545</td>\n",
       "      <td>-0.473674</td>\n",
       "      <td>-0.490783</td>\n",
       "      <td>0.0</td>\n",
       "      <td>0.0</td>\n",
       "      <td>0.0</td>\n",
       "      <td>0.0</td>\n",
       "      <td>0.0</td>\n",
       "      <td>...</td>\n",
       "      <td>0.0</td>\n",
       "      <td>0.0</td>\n",
       "      <td>0.0</td>\n",
       "      <td>0.0</td>\n",
       "      <td>0.0</td>\n",
       "      <td>0.0</td>\n",
       "      <td>0.0</td>\n",
       "      <td>0.0</td>\n",
       "      <td>1.0</td>\n",
       "      <td>0.0</td>\n",
       "    </tr>\n",
       "    <tr>\n",
       "      <th>1</th>\n",
       "      <td>0.827377</td>\n",
       "      <td>1.355510</td>\n",
       "      <td>0.432793</td>\n",
       "      <td>-0.473674</td>\n",
       "      <td>-0.507479</td>\n",
       "      <td>0.0</td>\n",
       "      <td>0.0</td>\n",
       "      <td>0.0</td>\n",
       "      <td>0.0</td>\n",
       "      <td>0.0</td>\n",
       "      <td>...</td>\n",
       "      <td>0.0</td>\n",
       "      <td>0.0</td>\n",
       "      <td>0.0</td>\n",
       "      <td>0.0</td>\n",
       "      <td>0.0</td>\n",
       "      <td>0.0</td>\n",
       "      <td>0.0</td>\n",
       "      <td>0.0</td>\n",
       "      <td>0.0</td>\n",
       "      <td>1.0</td>\n",
       "    </tr>\n",
       "    <tr>\n",
       "      <th>2</th>\n",
       "      <td>-0.369365</td>\n",
       "      <td>2.508257</td>\n",
       "      <td>-0.474545</td>\n",
       "      <td>-0.473674</td>\n",
       "      <td>-0.453367</td>\n",
       "      <td>0.0</td>\n",
       "      <td>0.0</td>\n",
       "      <td>0.0</td>\n",
       "      <td>0.0</td>\n",
       "      <td>0.0</td>\n",
       "      <td>...</td>\n",
       "      <td>0.0</td>\n",
       "      <td>0.0</td>\n",
       "      <td>0.0</td>\n",
       "      <td>0.0</td>\n",
       "      <td>0.0</td>\n",
       "      <td>0.0</td>\n",
       "      <td>0.0</td>\n",
       "      <td>0.0</td>\n",
       "      <td>1.0</td>\n",
       "      <td>0.0</td>\n",
       "    </tr>\n",
       "    <tr>\n",
       "      <th>3</th>\n",
       "      <td>0.827377</td>\n",
       "      <td>-0.181487</td>\n",
       "      <td>-0.474545</td>\n",
       "      <td>-0.473674</td>\n",
       "      <td>-0.474005</td>\n",
       "      <td>0.0</td>\n",
       "      <td>0.0</td>\n",
       "      <td>0.0</td>\n",
       "      <td>0.0</td>\n",
       "      <td>0.0</td>\n",
       "      <td>...</td>\n",
       "      <td>0.0</td>\n",
       "      <td>0.0</td>\n",
       "      <td>0.0</td>\n",
       "      <td>0.0</td>\n",
       "      <td>0.0</td>\n",
       "      <td>0.0</td>\n",
       "      <td>0.0</td>\n",
       "      <td>0.0</td>\n",
       "      <td>0.0</td>\n",
       "      <td>1.0</td>\n",
       "    </tr>\n",
       "    <tr>\n",
       "      <th>4</th>\n",
       "      <td>0.827377</td>\n",
       "      <td>-0.565736</td>\n",
       "      <td>0.432793</td>\n",
       "      <td>0.767630</td>\n",
       "      <td>-0.401017</td>\n",
       "      <td>0.0</td>\n",
       "      <td>0.0</td>\n",
       "      <td>0.0</td>\n",
       "      <td>0.0</td>\n",
       "      <td>0.0</td>\n",
       "      <td>...</td>\n",
       "      <td>0.0</td>\n",
       "      <td>0.0</td>\n",
       "      <td>0.0</td>\n",
       "      <td>0.0</td>\n",
       "      <td>0.0</td>\n",
       "      <td>0.0</td>\n",
       "      <td>0.0</td>\n",
       "      <td>0.0</td>\n",
       "      <td>0.0</td>\n",
       "      <td>1.0</td>\n",
       "    </tr>\n",
       "  </tbody>\n",
       "</table>\n",
       "<p>5 rows × 839 columns</p>\n",
       "</div>"
      ],
      "text/plain": [
       "   num__Pclass  num__Age  num__SibSp  num__Parch  num__Fare  cat1__Cabin_A10  \\\n",
       "0     0.827377  0.394887   -0.474545   -0.473674  -0.490783              0.0   \n",
       "1     0.827377  1.355510    0.432793   -0.473674  -0.507479              0.0   \n",
       "2    -0.369365  2.508257   -0.474545   -0.473674  -0.453367              0.0   \n",
       "3     0.827377 -0.181487   -0.474545   -0.473674  -0.474005              0.0   \n",
       "4     0.827377 -0.565736    0.432793    0.767630  -0.401017              0.0   \n",
       "\n",
       "   cat1__Cabin_A14  cat1__Cabin_A16  cat1__Cabin_A19  cat1__Cabin_A20  ...  \\\n",
       "0              0.0              0.0              0.0              0.0  ...   \n",
       "1              0.0              0.0              0.0              0.0  ...   \n",
       "2              0.0              0.0              0.0              0.0  ...   \n",
       "3              0.0              0.0              0.0              0.0  ...   \n",
       "4              0.0              0.0              0.0              0.0  ...   \n",
       "\n",
       "   cat2__Ticket_W./C. 14263  cat2__Ticket_W./C. 6607  cat2__Ticket_W./C. 6608  \\\n",
       "0                       0.0                      0.0                      0.0   \n",
       "1                       0.0                      0.0                      0.0   \n",
       "2                       0.0                      0.0                      0.0   \n",
       "3                       0.0                      0.0                      0.0   \n",
       "4                       0.0                      0.0                      0.0   \n",
       "\n",
       "   cat2__Ticket_W./C. 6609  cat2__Ticket_W.E.P. 5734  cat2__Ticket_W/C 14208  \\\n",
       "0                      0.0                       0.0                     0.0   \n",
       "1                      0.0                       0.0                     0.0   \n",
       "2                      0.0                       0.0                     0.0   \n",
       "3                      0.0                       0.0                     0.0   \n",
       "4                      0.0                       0.0                     0.0   \n",
       "\n",
       "   cat2__Ticket_WE/P 5735  cat2__Embarked_C  cat2__Embarked_Q  \\\n",
       "0                     0.0               0.0               1.0   \n",
       "1                     0.0               0.0               0.0   \n",
       "2                     0.0               0.0               1.0   \n",
       "3                     0.0               0.0               0.0   \n",
       "4                     0.0               0.0               0.0   \n",
       "\n",
       "   cat2__Embarked_S  \n",
       "0               0.0  \n",
       "1               1.0  \n",
       "2               0.0  \n",
       "3               1.0  \n",
       "4               1.0  \n",
       "\n",
       "[5 rows x 839 columns]"
      ]
     },
     "execution_count": 82,
     "metadata": {},
     "output_type": "execute_result"
    }
   ],
   "source": [
    "xnew = pd.DataFrame(xnew,columns=cols)\n",
    "xnew.head()"
   ]
  },
  {
   "cell_type": "code",
   "execution_count": 86,
   "metadata": {},
   "outputs": [],
   "source": [
    "prob = best_lr.predict_proba(xnew)[:,-1]\n",
    "pred = best_lr.predict(xnew)"
   ]
  },
  {
   "cell_type": "code",
   "execution_count": 87,
   "metadata": {},
   "outputs": [],
   "source": [
    "df_final = df2[['PassengerId']]"
   ]
  },
  {
   "cell_type": "code",
   "execution_count": 88,
   "metadata": {},
   "outputs": [],
   "source": [
    "df_final['Survived_pred']=pred\n",
    "df_final['Survived_prob']=prob"
   ]
  },
  {
   "cell_type": "code",
   "execution_count": 89,
   "metadata": {},
   "outputs": [
    {
     "data": {
      "text/html": [
       "<div>\n",
       "<style scoped>\n",
       "    .dataframe tbody tr th:only-of-type {\n",
       "        vertical-align: middle;\n",
       "    }\n",
       "\n",
       "    .dataframe tbody tr th {\n",
       "        vertical-align: top;\n",
       "    }\n",
       "\n",
       "    .dataframe thead th {\n",
       "        text-align: right;\n",
       "    }\n",
       "</style>\n",
       "<table border=\"1\" class=\"dataframe\">\n",
       "  <thead>\n",
       "    <tr style=\"text-align: right;\">\n",
       "      <th></th>\n",
       "      <th>PassengerId</th>\n",
       "      <th>Survived_pred</th>\n",
       "      <th>Survived_prob</th>\n",
       "    </tr>\n",
       "  </thead>\n",
       "  <tbody>\n",
       "    <tr>\n",
       "      <th>0</th>\n",
       "      <td>892</td>\n",
       "      <td>0</td>\n",
       "      <td>0.015955</td>\n",
       "    </tr>\n",
       "    <tr>\n",
       "      <th>1</th>\n",
       "      <td>893</td>\n",
       "      <td>0</td>\n",
       "      <td>0.337383</td>\n",
       "    </tr>\n",
       "    <tr>\n",
       "      <th>2</th>\n",
       "      <td>894</td>\n",
       "      <td>0</td>\n",
       "      <td>0.007554</td>\n",
       "    </tr>\n",
       "    <tr>\n",
       "      <th>3</th>\n",
       "      <td>895</td>\n",
       "      <td>0</td>\n",
       "      <td>0.019898</td>\n",
       "    </tr>\n",
       "    <tr>\n",
       "      <th>4</th>\n",
       "      <td>896</td>\n",
       "      <td>1</td>\n",
       "      <td>0.883289</td>\n",
       "    </tr>\n",
       "    <tr>\n",
       "      <th>...</th>\n",
       "      <td>...</td>\n",
       "      <td>...</td>\n",
       "      <td>...</td>\n",
       "    </tr>\n",
       "    <tr>\n",
       "      <th>413</th>\n",
       "      <td>1305</td>\n",
       "      <td>0</td>\n",
       "      <td>0.018390</td>\n",
       "    </tr>\n",
       "    <tr>\n",
       "      <th>414</th>\n",
       "      <td>1306</td>\n",
       "      <td>1</td>\n",
       "      <td>0.968754</td>\n",
       "    </tr>\n",
       "    <tr>\n",
       "      <th>415</th>\n",
       "      <td>1307</td>\n",
       "      <td>0</td>\n",
       "      <td>0.008152</td>\n",
       "    </tr>\n",
       "    <tr>\n",
       "      <th>416</th>\n",
       "      <td>1308</td>\n",
       "      <td>0</td>\n",
       "      <td>0.018390</td>\n",
       "    </tr>\n",
       "    <tr>\n",
       "      <th>417</th>\n",
       "      <td>1309</td>\n",
       "      <td>0</td>\n",
       "      <td>0.130692</td>\n",
       "    </tr>\n",
       "  </tbody>\n",
       "</table>\n",
       "<p>418 rows × 3 columns</p>\n",
       "</div>"
      ],
      "text/plain": [
       "     PassengerId  Survived_pred  Survived_prob\n",
       "0            892              0       0.015955\n",
       "1            893              0       0.337383\n",
       "2            894              0       0.007554\n",
       "3            895              0       0.019898\n",
       "4            896              1       0.883289\n",
       "..           ...            ...            ...\n",
       "413         1305              0       0.018390\n",
       "414         1306              1       0.968754\n",
       "415         1307              0       0.008152\n",
       "416         1308              0       0.018390\n",
       "417         1309              0       0.130692\n",
       "\n",
       "[418 rows x 3 columns]"
      ]
     },
     "execution_count": 89,
     "metadata": {},
     "output_type": "execute_result"
    }
   ],
   "source": [
    "df_final"
   ]
  },
  {
   "cell_type": "code",
   "execution_count": 90,
   "metadata": {},
   "outputs": [
    {
     "data": {
      "text/plain": [
       "Survived_pred\n",
       "0    263\n",
       "1    155\n",
       "Name: count, dtype: int64"
      ]
     },
     "execution_count": 90,
     "metadata": {},
     "output_type": "execute_result"
    }
   ],
   "source": [
    "df_final['Survived_pred'].value_counts()"
   ]
  },
  {
   "cell_type": "code",
   "execution_count": 91,
   "metadata": {},
   "outputs": [
    {
     "data": {
      "text/plain": [
       "<Axes: xlabel='Survived_pred'>"
      ]
     },
     "execution_count": 91,
     "metadata": {},
     "output_type": "execute_result"
    },
    {
     "data": {
      "image/png": "[encoded data removed]",
      "text/plain": [
       "<Figure size 640x480 with 1 Axes>"
      ]
     },
     "metadata": {},
     "output_type": "display_data"
    }
   ],
   "source": [
    "df_final['Survived_pred'].value_counts().plot(kind='bar')"
   ]
  },
  {
   "cell_type": "code",
   "execution_count": 93,
   "metadata": {},
   "outputs": [
    {
     "data": {
      "text/plain": [
       "<Axes: xlabel='Survived_prob', ylabel='Count'>"
      ]
     },
     "execution_count": 93,
     "metadata": {},
     "output_type": "execute_result"
    },
    {
     "data": {
      "image/png": "[encoded data removed]",
      "text/plain": [
       "<Figure size 640x480 with 1 Axes>"
      ]
     },
     "metadata": {},
     "output_type": "display_data"
    }
   ],
   "source": [
    "import seaborn as sns\n",
    "sns.histplot(data=df_final,x='Survived_prob',kde=True)"
   ]
  },
  {
   "cell_type": "markdown",
   "metadata": {},
   "source": [
    "### Store the dataframe in predictions.csv"
   ]
  },
  {
   "cell_type": "code",
   "execution_count": 94,
   "metadata": {},
   "outputs": [],
   "source": [
    "df_final.to_csv('pred.csv',index=False)"
   ]
  },
  {
   "cell_type": "code",
   "execution_count": 2,
   "metadata": {},
   "outputs": [
    {
     "data": {
      "text/plain": [
       "'1.2.2'"
      ]
     },
     "execution_count": 2,
     "metadata": {},
     "output_type": "execute_result"
    }
   ],
   "source": [
    "import sklearn\n",
    "sklearn.__version__"
   ]
  },
  {
   "cell_type": "code",
   "execution_count": null,
   "metadata": {},
   "outputs": [],
   "source": []
  }
 ],
 "metadata": {
  "kernelspec": {
   "display_name": "venv",
   "language": "python",
   "name": "python3"
  },
  "language_info": {
   "codemirror_mode": {
    "name": "ipython",
    "version": 3
   },
   "file_extension": ".py",
   "mimetype": "text/x-python",
   "name": "python",
   "nbconvert_exporter": "python",
   "pygments_lexer": "ipython3",
   "version": "3.10.7"
  },
  "orig_nbformat": 4
 },
 "nbformat": 4,
 "nbformat_minor": 2
}
