{
 "cells": [
  {
   "attachments": {},
   "cell_type": "markdown",
   "metadata": {},
   "source": [
    "# KNN Regression"
   ]
  },
  {
   "cell_type": "code",
   "execution_count": 1,
   "metadata": {},
   "outputs": [],
   "source": [
    "from warnings import filterwarnings\n",
    "filterwarnings('ignore')"
   ]
  },
  {
   "attachments": {},
   "cell_type": "markdown",
   "metadata": {},
   "source": [
    "### Read IRIS dataset"
   ]
  },
  {
   "cell_type": "code",
   "execution_count": 2,
   "metadata": {},
   "outputs": [
    {
     "data": {
      "text/html": [
       "<div>\n",
       "<style scoped>\n",
       "    .dataframe tbody tr th:only-of-type {\n",
       "        vertical-align: middle;\n",
       "    }\n",
       "\n",
       "    .dataframe tbody tr th {\n",
       "        vertical-align: top;\n",
       "    }\n",
       "\n",
       "    .dataframe thead th {\n",
       "        text-align: right;\n",
       "    }\n",
       "</style>\n",
       "<table border=\"1\" class=\"dataframe\">\n",
       "  <thead>\n",
       "    <tr style=\"text-align: right;\">\n",
       "      <th></th>\n",
       "      <th>sepal_length</th>\n",
       "      <th>sepal_width</th>\n",
       "      <th>petal_length</th>\n",
       "      <th>petal_width</th>\n",
       "      <th>species</th>\n",
       "    </tr>\n",
       "  </thead>\n",
       "  <tbody>\n",
       "    <tr>\n",
       "      <th>0</th>\n",
       "      <td>5.1</td>\n",
       "      <td>3.5</td>\n",
       "      <td>1.4</td>\n",
       "      <td>0.2</td>\n",
       "      <td>setosa</td>\n",
       "    </tr>\n",
       "    <tr>\n",
       "      <th>1</th>\n",
       "      <td>4.9</td>\n",
       "      <td>3.0</td>\n",
       "      <td>1.4</td>\n",
       "      <td>0.2</td>\n",
       "      <td>setosa</td>\n",
       "    </tr>\n",
       "    <tr>\n",
       "      <th>2</th>\n",
       "      <td>4.7</td>\n",
       "      <td>3.2</td>\n",
       "      <td>1.3</td>\n",
       "      <td>0.2</td>\n",
       "      <td>setosa</td>\n",
       "    </tr>\n",
       "    <tr>\n",
       "      <th>3</th>\n",
       "      <td>4.6</td>\n",
       "      <td>3.1</td>\n",
       "      <td>1.5</td>\n",
       "      <td>0.2</td>\n",
       "      <td>setosa</td>\n",
       "    </tr>\n",
       "    <tr>\n",
       "      <th>4</th>\n",
       "      <td>5.0</td>\n",
       "      <td>3.6</td>\n",
       "      <td>1.4</td>\n",
       "      <td>0.2</td>\n",
       "      <td>setosa</td>\n",
       "    </tr>\n",
       "    <tr>\n",
       "      <th>...</th>\n",
       "      <td>...</td>\n",
       "      <td>...</td>\n",
       "      <td>...</td>\n",
       "      <td>...</td>\n",
       "      <td>...</td>\n",
       "    </tr>\n",
       "    <tr>\n",
       "      <th>145</th>\n",
       "      <td>6.7</td>\n",
       "      <td>3.0</td>\n",
       "      <td>5.2</td>\n",
       "      <td>2.3</td>\n",
       "      <td>virginica</td>\n",
       "    </tr>\n",
       "    <tr>\n",
       "      <th>146</th>\n",
       "      <td>6.3</td>\n",
       "      <td>2.5</td>\n",
       "      <td>5.0</td>\n",
       "      <td>1.9</td>\n",
       "      <td>virginica</td>\n",
       "    </tr>\n",
       "    <tr>\n",
       "      <th>147</th>\n",
       "      <td>6.5</td>\n",
       "      <td>3.0</td>\n",
       "      <td>5.2</td>\n",
       "      <td>2.0</td>\n",
       "      <td>virginica</td>\n",
       "    </tr>\n",
       "    <tr>\n",
       "      <th>148</th>\n",
       "      <td>6.2</td>\n",
       "      <td>3.4</td>\n",
       "      <td>5.4</td>\n",
       "      <td>2.3</td>\n",
       "      <td>virginica</td>\n",
       "    </tr>\n",
       "    <tr>\n",
       "      <th>149</th>\n",
       "      <td>5.9</td>\n",
       "      <td>3.0</td>\n",
       "      <td>5.1</td>\n",
       "      <td>1.8</td>\n",
       "      <td>virginica</td>\n",
       "    </tr>\n",
       "  </tbody>\n",
       "</table>\n",
       "<p>150 rows × 5 columns</p>\n",
       "</div>"
      ],
      "text/plain": [
       "     sepal_length  sepal_width  petal_length  petal_width    species\n",
       "0             5.1          3.5           1.4          0.2     setosa\n",
       "1             4.9          3.0           1.4          0.2     setosa\n",
       "2             4.7          3.2           1.3          0.2     setosa\n",
       "3             4.6          3.1           1.5          0.2     setosa\n",
       "4             5.0          3.6           1.4          0.2     setosa\n",
       "..            ...          ...           ...          ...        ...\n",
       "145           6.7          3.0           5.2          2.3  virginica\n",
       "146           6.3          2.5           5.0          1.9  virginica\n",
       "147           6.5          3.0           5.2          2.0  virginica\n",
       "148           6.2          3.4           5.4          2.3  virginica\n",
       "149           5.9          3.0           5.1          1.8  virginica\n",
       "\n",
       "[150 rows x 5 columns]"
      ]
     },
     "execution_count": 2,
     "metadata": {},
     "output_type": "execute_result"
    }
   ],
   "source": [
    "import pandas as pd\n",
    "df = pd.read_csv('iris.csv')\n",
    "df"
   ]
  },
  {
   "cell_type": "code",
   "execution_count": 3,
   "metadata": {},
   "outputs": [
    {
     "name": "stdout",
     "output_type": "stream",
     "text": [
      "<class 'pandas.core.frame.DataFrame'>\n",
      "RangeIndex: 150 entries, 0 to 149\n",
      "Data columns (total 5 columns):\n",
      " #   Column        Non-Null Count  Dtype  \n",
      "---  ------        --------------  -----  \n",
      " 0   sepal_length  150 non-null    float64\n",
      " 1   sepal_width   150 non-null    float64\n",
      " 2   petal_length  150 non-null    float64\n",
      " 3   petal_width   150 non-null    float64\n",
      " 4   species       150 non-null    object \n",
      "dtypes: float64(4), object(1)\n",
      "memory usage: 6.0+ KB\n"
     ]
    }
   ],
   "source": [
    "df.info()"
   ]
  },
  {
   "cell_type": "code",
   "execution_count": 4,
   "metadata": {},
   "outputs": [
    {
     "data": {
      "text/plain": [
       "sepal_length    0\n",
       "sepal_width     0\n",
       "petal_length    0\n",
       "petal_width     0\n",
       "species         0\n",
       "dtype: int64"
      ]
     },
     "execution_count": 4,
     "metadata": {},
     "output_type": "execute_result"
    }
   ],
   "source": [
    "s = df.isna().sum()\n",
    "s"
   ]
  },
  {
   "cell_type": "code",
   "execution_count": 5,
   "metadata": {},
   "outputs": [
    {
     "data": {
      "text/plain": [
       "Series([], dtype: int64)"
      ]
     },
     "execution_count": 5,
     "metadata": {},
     "output_type": "execute_result"
    }
   ],
   "source": [
    "s[s>0]"
   ]
  },
  {
   "attachments": {},
   "cell_type": "markdown",
   "metadata": {},
   "source": [
    "### Seperating X and Y"
   ]
  },
  {
   "cell_type": "code",
   "execution_count": 6,
   "metadata": {},
   "outputs": [],
   "source": [
    "X = df.drop(labels=['petal_width'],axis=1)\n",
    "Y = df[['petal_width']]"
   ]
  },
  {
   "cell_type": "code",
   "execution_count": 7,
   "metadata": {},
   "outputs": [
    {
     "data": {
      "text/html": [
       "<div>\n",
       "<style scoped>\n",
       "    .dataframe tbody tr th:only-of-type {\n",
       "        vertical-align: middle;\n",
       "    }\n",
       "\n",
       "    .dataframe tbody tr th {\n",
       "        vertical-align: top;\n",
       "    }\n",
       "\n",
       "    .dataframe thead th {\n",
       "        text-align: right;\n",
       "    }\n",
       "</style>\n",
       "<table border=\"1\" class=\"dataframe\">\n",
       "  <thead>\n",
       "    <tr style=\"text-align: right;\">\n",
       "      <th></th>\n",
       "      <th>sepal_length</th>\n",
       "      <th>sepal_width</th>\n",
       "      <th>petal_length</th>\n",
       "      <th>species</th>\n",
       "    </tr>\n",
       "  </thead>\n",
       "  <tbody>\n",
       "    <tr>\n",
       "      <th>0</th>\n",
       "      <td>5.1</td>\n",
       "      <td>3.5</td>\n",
       "      <td>1.4</td>\n",
       "      <td>setosa</td>\n",
       "    </tr>\n",
       "    <tr>\n",
       "      <th>1</th>\n",
       "      <td>4.9</td>\n",
       "      <td>3.0</td>\n",
       "      <td>1.4</td>\n",
       "      <td>setosa</td>\n",
       "    </tr>\n",
       "    <tr>\n",
       "      <th>2</th>\n",
       "      <td>4.7</td>\n",
       "      <td>3.2</td>\n",
       "      <td>1.3</td>\n",
       "      <td>setosa</td>\n",
       "    </tr>\n",
       "    <tr>\n",
       "      <th>3</th>\n",
       "      <td>4.6</td>\n",
       "      <td>3.1</td>\n",
       "      <td>1.5</td>\n",
       "      <td>setosa</td>\n",
       "    </tr>\n",
       "    <tr>\n",
       "      <th>4</th>\n",
       "      <td>5.0</td>\n",
       "      <td>3.6</td>\n",
       "      <td>1.4</td>\n",
       "      <td>setosa</td>\n",
       "    </tr>\n",
       "  </tbody>\n",
       "</table>\n",
       "</div>"
      ],
      "text/plain": [
       "   sepal_length  sepal_width  petal_length species\n",
       "0           5.1          3.5           1.4  setosa\n",
       "1           4.9          3.0           1.4  setosa\n",
       "2           4.7          3.2           1.3  setosa\n",
       "3           4.6          3.1           1.5  setosa\n",
       "4           5.0          3.6           1.4  setosa"
      ]
     },
     "execution_count": 7,
     "metadata": {},
     "output_type": "execute_result"
    }
   ],
   "source": [
    "X.head()"
   ]
  },
  {
   "cell_type": "code",
   "execution_count": 8,
   "metadata": {},
   "outputs": [
    {
     "data": {
      "text/html": [
       "<div>\n",
       "<style scoped>\n",
       "    .dataframe tbody tr th:only-of-type {\n",
       "        vertical-align: middle;\n",
       "    }\n",
       "\n",
       "    .dataframe tbody tr th {\n",
       "        vertical-align: top;\n",
       "    }\n",
       "\n",
       "    .dataframe thead th {\n",
       "        text-align: right;\n",
       "    }\n",
       "</style>\n",
       "<table border=\"1\" class=\"dataframe\">\n",
       "  <thead>\n",
       "    <tr style=\"text-align: right;\">\n",
       "      <th></th>\n",
       "      <th>petal_width</th>\n",
       "    </tr>\n",
       "  </thead>\n",
       "  <tbody>\n",
       "    <tr>\n",
       "      <th>0</th>\n",
       "      <td>0.2</td>\n",
       "    </tr>\n",
       "    <tr>\n",
       "      <th>1</th>\n",
       "      <td>0.2</td>\n",
       "    </tr>\n",
       "    <tr>\n",
       "      <th>2</th>\n",
       "      <td>0.2</td>\n",
       "    </tr>\n",
       "    <tr>\n",
       "      <th>3</th>\n",
       "      <td>0.2</td>\n",
       "    </tr>\n",
       "    <tr>\n",
       "      <th>4</th>\n",
       "      <td>0.2</td>\n",
       "    </tr>\n",
       "  </tbody>\n",
       "</table>\n",
       "</div>"
      ],
      "text/plain": [
       "   petal_width\n",
       "0          0.2\n",
       "1          0.2\n",
       "2          0.2\n",
       "3          0.2\n",
       "4          0.2"
      ]
     },
     "execution_count": 8,
     "metadata": {},
     "output_type": "execute_result"
    }
   ],
   "source": [
    "Y.head()"
   ]
  },
  {
   "attachments": {},
   "cell_type": "markdown",
   "metadata": {},
   "source": [
    "### Cat Con Seperation"
   ]
  },
  {
   "cell_type": "code",
   "execution_count": 9,
   "metadata": {},
   "outputs": [],
   "source": [
    "cat = list(X.columns[X.dtypes=='object'])\n",
    "con = list(X.columns[X.dtypes!='object'])"
   ]
  },
  {
   "cell_type": "code",
   "execution_count": 11,
   "metadata": {},
   "outputs": [
    {
     "data": {
      "text/plain": [
       "['species']"
      ]
     },
     "execution_count": 11,
     "metadata": {},
     "output_type": "execute_result"
    }
   ],
   "source": [
    "cat"
   ]
  },
  {
   "cell_type": "code",
   "execution_count": 12,
   "metadata": {},
   "outputs": [
    {
     "data": {
      "text/plain": [
       "['sepal_length', 'sepal_width', 'petal_length']"
      ]
     },
     "execution_count": 12,
     "metadata": {},
     "output_type": "execute_result"
    }
   ],
   "source": [
    "con"
   ]
  },
  {
   "attachments": {},
   "cell_type": "markdown",
   "metadata": {},
   "source": [
    "### Build the sklearn pipeline"
   ]
  },
  {
   "cell_type": "code",
   "execution_count": 13,
   "metadata": {},
   "outputs": [],
   "source": [
    "from sklearn.pipeline import Pipeline\n",
    "from sklearn.preprocessing import OneHotEncoder, StandardScaler\n",
    "from sklearn.impute import SimpleImputer\n",
    "from sklearn.compose import ColumnTransformer"
   ]
  },
  {
   "cell_type": "code",
   "execution_count": 14,
   "metadata": {},
   "outputs": [],
   "source": [
    "num_pipe = Pipeline(steps=[('imputer',SimpleImputer(strategy='mean')),\n",
    "                           ('scaler',StandardScaler())])\n",
    "\n",
    "cat_pipe = Pipeline(steps=[('imputer',SimpleImputer(strategy='most_frequent')),\n",
    "                           ('ohe',OneHotEncoder(handle_unknown='ignore'))])\n",
    "\n",
    "pre = ColumnTransformer([('num',num_pipe,con),\n",
    "                         ('cat',cat_pipe,cat)])"
   ]
  },
  {
   "cell_type": "code",
   "execution_count": 15,
   "metadata": {},
   "outputs": [
    {
     "data": {
      "text/plain": [
       "array([[-0.90068117,  1.01900435, -1.34022653,  1.        ,  0.        ,\n",
       "         0.        ],\n",
       "       [-1.14301691, -0.13197948, -1.34022653,  1.        ,  0.        ,\n",
       "         0.        ],\n",
       "       [-1.38535265,  0.32841405, -1.39706395,  1.        ,  0.        ,\n",
       "         0.        ],\n",
       "       [-1.50652052,  0.09821729, -1.2833891 ,  1.        ,  0.        ,\n",
       "         0.        ],\n",
       "       [-1.02184904,  1.24920112, -1.34022653,  1.        ,  0.        ,\n",
       "         0.        ],\n",
       "       [-0.53717756,  1.93979142, -1.16971425,  1.        ,  0.        ,\n",
       "         0.        ],\n",
       "       [-1.50652052,  0.78880759, -1.34022653,  1.        ,  0.        ,\n",
       "         0.        ],\n",
       "       [-1.02184904,  0.78880759, -1.2833891 ,  1.        ,  0.        ,\n",
       "         0.        ],\n",
       "       [-1.74885626, -0.36217625, -1.34022653,  1.        ,  0.        ,\n",
       "         0.        ],\n",
       "       [-1.14301691,  0.09821729, -1.2833891 ,  1.        ,  0.        ,\n",
       "         0.        ],\n",
       "       [-0.53717756,  1.47939788, -1.2833891 ,  1.        ,  0.        ,\n",
       "         0.        ],\n",
       "       [-1.26418478,  0.78880759, -1.22655167,  1.        ,  0.        ,\n",
       "         0.        ],\n",
       "       [-1.26418478, -0.13197948, -1.34022653,  1.        ,  0.        ,\n",
       "         0.        ],\n",
       "       [-1.87002413, -0.13197948, -1.51073881,  1.        ,  0.        ,\n",
       "         0.        ],\n",
       "       [-0.05250608,  2.16998818, -1.45390138,  1.        ,  0.        ,\n",
       "         0.        ],\n",
       "       [-0.17367395,  3.09077525, -1.2833891 ,  1.        ,  0.        ,\n",
       "         0.        ],\n",
       "       [-0.53717756,  1.93979142, -1.39706395,  1.        ,  0.        ,\n",
       "         0.        ],\n",
       "       [-0.90068117,  1.01900435, -1.34022653,  1.        ,  0.        ,\n",
       "         0.        ],\n",
       "       [-0.17367395,  1.70959465, -1.16971425,  1.        ,  0.        ,\n",
       "         0.        ],\n",
       "       [-0.90068117,  1.70959465, -1.2833891 ,  1.        ,  0.        ,\n",
       "         0.        ],\n",
       "       [-0.53717756,  0.78880759, -1.16971425,  1.        ,  0.        ,\n",
       "         0.        ],\n",
       "       [-0.90068117,  1.47939788, -1.2833891 ,  1.        ,  0.        ,\n",
       "         0.        ],\n",
       "       [-1.50652052,  1.24920112, -1.56757623,  1.        ,  0.        ,\n",
       "         0.        ],\n",
       "       [-0.90068117,  0.55861082, -1.16971425,  1.        ,  0.        ,\n",
       "         0.        ],\n",
       "       [-1.26418478,  0.78880759, -1.05603939,  1.        ,  0.        ,\n",
       "         0.        ],\n",
       "       [-1.02184904, -0.13197948, -1.22655167,  1.        ,  0.        ,\n",
       "         0.        ],\n",
       "       [-1.02184904,  0.78880759, -1.22655167,  1.        ,  0.        ,\n",
       "         0.        ],\n",
       "       [-0.7795133 ,  1.01900435, -1.2833891 ,  1.        ,  0.        ,\n",
       "         0.        ],\n",
       "       [-0.7795133 ,  0.78880759, -1.34022653,  1.        ,  0.        ,\n",
       "         0.        ],\n",
       "       [-1.38535265,  0.32841405, -1.22655167,  1.        ,  0.        ,\n",
       "         0.        ],\n",
       "       [-1.26418478,  0.09821729, -1.22655167,  1.        ,  0.        ,\n",
       "         0.        ],\n",
       "       [-0.53717756,  0.78880759, -1.2833891 ,  1.        ,  0.        ,\n",
       "         0.        ],\n",
       "       [-0.7795133 ,  2.40018495, -1.2833891 ,  1.        ,  0.        ,\n",
       "         0.        ],\n",
       "       [-0.41600969,  2.63038172, -1.34022653,  1.        ,  0.        ,\n",
       "         0.        ],\n",
       "       [-1.14301691,  0.09821729, -1.2833891 ,  1.        ,  0.        ,\n",
       "         0.        ],\n",
       "       [-1.02184904,  0.32841405, -1.45390138,  1.        ,  0.        ,\n",
       "         0.        ],\n",
       "       [-0.41600969,  1.01900435, -1.39706395,  1.        ,  0.        ,\n",
       "         0.        ],\n",
       "       [-1.14301691,  1.24920112, -1.34022653,  1.        ,  0.        ,\n",
       "         0.        ],\n",
       "       [-1.74885626, -0.13197948, -1.39706395,  1.        ,  0.        ,\n",
       "         0.        ],\n",
       "       [-0.90068117,  0.78880759, -1.2833891 ,  1.        ,  0.        ,\n",
       "         0.        ],\n",
       "       [-1.02184904,  1.01900435, -1.39706395,  1.        ,  0.        ,\n",
       "         0.        ],\n",
       "       [-1.62768839, -1.74335684, -1.39706395,  1.        ,  0.        ,\n",
       "         0.        ],\n",
       "       [-1.74885626,  0.32841405, -1.39706395,  1.        ,  0.        ,\n",
       "         0.        ],\n",
       "       [-1.02184904,  1.01900435, -1.22655167,  1.        ,  0.        ,\n",
       "         0.        ],\n",
       "       [-0.90068117,  1.70959465, -1.05603939,  1.        ,  0.        ,\n",
       "         0.        ],\n",
       "       [-1.26418478, -0.13197948, -1.34022653,  1.        ,  0.        ,\n",
       "         0.        ],\n",
       "       [-0.90068117,  1.70959465, -1.22655167,  1.        ,  0.        ,\n",
       "         0.        ],\n",
       "       [-1.50652052,  0.32841405, -1.34022653,  1.        ,  0.        ,\n",
       "         0.        ],\n",
       "       [-0.65834543,  1.47939788, -1.2833891 ,  1.        ,  0.        ,\n",
       "         0.        ],\n",
       "       [-1.02184904,  0.55861082, -1.34022653,  1.        ,  0.        ,\n",
       "         0.        ],\n",
       "       [ 1.40150837,  0.32841405,  0.53540856,  0.        ,  1.        ,\n",
       "         0.        ],\n",
       "       [ 0.67450115,  0.32841405,  0.42173371,  0.        ,  1.        ,\n",
       "         0.        ],\n",
       "       [ 1.2803405 ,  0.09821729,  0.64908342,  0.        ,  1.        ,\n",
       "         0.        ],\n",
       "       [-0.41600969, -1.74335684,  0.13754657,  0.        ,  1.        ,\n",
       "         0.        ],\n",
       "       [ 0.79566902, -0.59237301,  0.47857113,  0.        ,  1.        ,\n",
       "         0.        ],\n",
       "       [-0.17367395, -0.59237301,  0.42173371,  0.        ,  1.        ,\n",
       "         0.        ],\n",
       "       [ 0.55333328,  0.55861082,  0.53540856,  0.        ,  1.        ,\n",
       "         0.        ],\n",
       "       [-1.14301691, -1.51316008, -0.26031542,  0.        ,  1.        ,\n",
       "         0.        ],\n",
       "       [ 0.91683689, -0.36217625,  0.47857113,  0.        ,  1.        ,\n",
       "         0.        ],\n",
       "       [-0.7795133 , -0.82256978,  0.08070915,  0.        ,  1.        ,\n",
       "         0.        ],\n",
       "       [-1.02184904, -2.43394714, -0.14664056,  0.        ,  1.        ,\n",
       "         0.        ],\n",
       "       [ 0.06866179, -0.13197948,  0.25122143,  0.        ,  1.        ,\n",
       "         0.        ],\n",
       "       [ 0.18982966, -1.97355361,  0.13754657,  0.        ,  1.        ,\n",
       "         0.        ],\n",
       "       [ 0.31099753, -0.36217625,  0.53540856,  0.        ,  1.        ,\n",
       "         0.        ],\n",
       "       [-0.29484182, -0.36217625, -0.08980313,  0.        ,  1.        ,\n",
       "         0.        ],\n",
       "       [ 1.03800476,  0.09821729,  0.36489628,  0.        ,  1.        ,\n",
       "         0.        ],\n",
       "       [-0.29484182, -0.13197948,  0.42173371,  0.        ,  1.        ,\n",
       "         0.        ],\n",
       "       [-0.05250608, -0.82256978,  0.194384  ,  0.        ,  1.        ,\n",
       "         0.        ],\n",
       "       [ 0.4321654 , -1.97355361,  0.42173371,  0.        ,  1.        ,\n",
       "         0.        ],\n",
       "       [-0.29484182, -1.28296331,  0.08070915,  0.        ,  1.        ,\n",
       "         0.        ],\n",
       "       [ 0.06866179,  0.32841405,  0.59224599,  0.        ,  1.        ,\n",
       "         0.        ],\n",
       "       [ 0.31099753, -0.59237301,  0.13754657,  0.        ,  1.        ,\n",
       "         0.        ],\n",
       "       [ 0.55333328, -1.28296331,  0.64908342,  0.        ,  1.        ,\n",
       "         0.        ],\n",
       "       [ 0.31099753, -0.59237301,  0.53540856,  0.        ,  1.        ,\n",
       "         0.        ],\n",
       "       [ 0.67450115, -0.36217625,  0.30805885,  0.        ,  1.        ,\n",
       "         0.        ],\n",
       "       [ 0.91683689, -0.13197948,  0.36489628,  0.        ,  1.        ,\n",
       "         0.        ],\n",
       "       [ 1.15917263, -0.59237301,  0.59224599,  0.        ,  1.        ,\n",
       "         0.        ],\n",
       "       [ 1.03800476, -0.13197948,  0.70592084,  0.        ,  1.        ,\n",
       "         0.        ],\n",
       "       [ 0.18982966, -0.36217625,  0.42173371,  0.        ,  1.        ,\n",
       "         0.        ],\n",
       "       [-0.17367395, -1.05276654, -0.14664056,  0.        ,  1.        ,\n",
       "         0.        ],\n",
       "       [-0.41600969, -1.51316008,  0.02387172,  0.        ,  1.        ,\n",
       "         0.        ],\n",
       "       [-0.41600969, -1.51316008, -0.03296571,  0.        ,  1.        ,\n",
       "         0.        ],\n",
       "       [-0.05250608, -0.82256978,  0.08070915,  0.        ,  1.        ,\n",
       "         0.        ],\n",
       "       [ 0.18982966, -0.82256978,  0.76275827,  0.        ,  1.        ,\n",
       "         0.        ],\n",
       "       [-0.53717756, -0.13197948,  0.42173371,  0.        ,  1.        ,\n",
       "         0.        ],\n",
       "       [ 0.18982966,  0.78880759,  0.42173371,  0.        ,  1.        ,\n",
       "         0.        ],\n",
       "       [ 1.03800476,  0.09821729,  0.53540856,  0.        ,  1.        ,\n",
       "         0.        ],\n",
       "       [ 0.55333328, -1.74335684,  0.36489628,  0.        ,  1.        ,\n",
       "         0.        ],\n",
       "       [-0.29484182, -0.13197948,  0.194384  ,  0.        ,  1.        ,\n",
       "         0.        ],\n",
       "       [-0.41600969, -1.28296331,  0.13754657,  0.        ,  1.        ,\n",
       "         0.        ],\n",
       "       [-0.41600969, -1.05276654,  0.36489628,  0.        ,  1.        ,\n",
       "         0.        ],\n",
       "       [ 0.31099753, -0.13197948,  0.47857113,  0.        ,  1.        ,\n",
       "         0.        ],\n",
       "       [-0.05250608, -1.05276654,  0.13754657,  0.        ,  1.        ,\n",
       "         0.        ],\n",
       "       [-1.02184904, -1.74335684, -0.26031542,  0.        ,  1.        ,\n",
       "         0.        ],\n",
       "       [-0.29484182, -0.82256978,  0.25122143,  0.        ,  1.        ,\n",
       "         0.        ],\n",
       "       [-0.17367395, -0.13197948,  0.25122143,  0.        ,  1.        ,\n",
       "         0.        ],\n",
       "       [-0.17367395, -0.36217625,  0.25122143,  0.        ,  1.        ,\n",
       "         0.        ],\n",
       "       [ 0.4321654 , -0.36217625,  0.30805885,  0.        ,  1.        ,\n",
       "         0.        ],\n",
       "       [-0.90068117, -1.28296331, -0.4308277 ,  0.        ,  1.        ,\n",
       "         0.        ],\n",
       "       [-0.17367395, -0.59237301,  0.194384  ,  0.        ,  1.        ,\n",
       "         0.        ],\n",
       "       [ 0.55333328,  0.55861082,  1.27429511,  0.        ,  0.        ,\n",
       "         1.        ],\n",
       "       [-0.05250608, -0.82256978,  0.76275827,  0.        ,  0.        ,\n",
       "         1.        ],\n",
       "       [ 1.52267624, -0.13197948,  1.21745768,  0.        ,  0.        ,\n",
       "         1.        ],\n",
       "       [ 0.55333328, -0.36217625,  1.0469454 ,  0.        ,  0.        ,\n",
       "         1.        ],\n",
       "       [ 0.79566902, -0.13197948,  1.16062026,  0.        ,  0.        ,\n",
       "         1.        ],\n",
       "       [ 2.12851559, -0.13197948,  1.61531967,  0.        ,  0.        ,\n",
       "         1.        ],\n",
       "       [-1.14301691, -1.28296331,  0.42173371,  0.        ,  0.        ,\n",
       "         1.        ],\n",
       "       [ 1.76501198, -0.36217625,  1.44480739,  0.        ,  0.        ,\n",
       "         1.        ],\n",
       "       [ 1.03800476, -1.28296331,  1.16062026,  0.        ,  0.        ,\n",
       "         1.        ],\n",
       "       [ 1.64384411,  1.24920112,  1.33113254,  0.        ,  0.        ,\n",
       "         1.        ],\n",
       "       [ 0.79566902,  0.32841405,  0.76275827,  0.        ,  0.        ,\n",
       "         1.        ],\n",
       "       [ 0.67450115, -0.82256978,  0.87643312,  0.        ,  0.        ,\n",
       "         1.        ],\n",
       "       [ 1.15917263, -0.13197948,  0.99010798,  0.        ,  0.        ,\n",
       "         1.        ],\n",
       "       [-0.17367395, -1.28296331,  0.70592084,  0.        ,  0.        ,\n",
       "         1.        ],\n",
       "       [-0.05250608, -0.59237301,  0.76275827,  0.        ,  0.        ,\n",
       "         1.        ],\n",
       "       [ 0.67450115,  0.32841405,  0.87643312,  0.        ,  0.        ,\n",
       "         1.        ],\n",
       "       [ 0.79566902, -0.13197948,  0.99010798,  0.        ,  0.        ,\n",
       "         1.        ],\n",
       "       [ 2.24968346,  1.70959465,  1.6721571 ,  0.        ,  0.        ,\n",
       "         1.        ],\n",
       "       [ 2.24968346, -1.05276654,  1.78583195,  0.        ,  0.        ,\n",
       "         1.        ],\n",
       "       [ 0.18982966, -1.97355361,  0.70592084,  0.        ,  0.        ,\n",
       "         1.        ],\n",
       "       [ 1.2803405 ,  0.32841405,  1.10378283,  0.        ,  0.        ,\n",
       "         1.        ],\n",
       "       [-0.29484182, -0.59237301,  0.64908342,  0.        ,  0.        ,\n",
       "         1.        ],\n",
       "       [ 2.24968346, -0.59237301,  1.6721571 ,  0.        ,  0.        ,\n",
       "         1.        ],\n",
       "       [ 0.55333328, -0.82256978,  0.64908342,  0.        ,  0.        ,\n",
       "         1.        ],\n",
       "       [ 1.03800476,  0.55861082,  1.10378283,  0.        ,  0.        ,\n",
       "         1.        ],\n",
       "       [ 1.64384411,  0.32841405,  1.27429511,  0.        ,  0.        ,\n",
       "         1.        ],\n",
       "       [ 0.4321654 , -0.59237301,  0.59224599,  0.        ,  0.        ,\n",
       "         1.        ],\n",
       "       [ 0.31099753, -0.13197948,  0.64908342,  0.        ,  0.        ,\n",
       "         1.        ],\n",
       "       [ 0.67450115, -0.59237301,  1.0469454 ,  0.        ,  0.        ,\n",
       "         1.        ],\n",
       "       [ 1.64384411, -0.13197948,  1.16062026,  0.        ,  0.        ,\n",
       "         1.        ],\n",
       "       [ 1.88617985, -0.59237301,  1.33113254,  0.        ,  0.        ,\n",
       "         1.        ],\n",
       "       [ 2.4920192 ,  1.70959465,  1.50164482,  0.        ,  0.        ,\n",
       "         1.        ],\n",
       "       [ 0.67450115, -0.59237301,  1.0469454 ,  0.        ,  0.        ,\n",
       "         1.        ],\n",
       "       [ 0.55333328, -0.59237301,  0.76275827,  0.        ,  0.        ,\n",
       "         1.        ],\n",
       "       [ 0.31099753, -1.05276654,  1.0469454 ,  0.        ,  0.        ,\n",
       "         1.        ],\n",
       "       [ 2.24968346, -0.13197948,  1.33113254,  0.        ,  0.        ,\n",
       "         1.        ],\n",
       "       [ 0.55333328,  0.78880759,  1.0469454 ,  0.        ,  0.        ,\n",
       "         1.        ],\n",
       "       [ 0.67450115,  0.09821729,  0.99010798,  0.        ,  0.        ,\n",
       "         1.        ],\n",
       "       [ 0.18982966, -0.13197948,  0.59224599,  0.        ,  0.        ,\n",
       "         1.        ],\n",
       "       [ 1.2803405 ,  0.09821729,  0.93327055,  0.        ,  0.        ,\n",
       "         1.        ],\n",
       "       [ 1.03800476,  0.09821729,  1.0469454 ,  0.        ,  0.        ,\n",
       "         1.        ],\n",
       "       [ 1.2803405 ,  0.09821729,  0.76275827,  0.        ,  0.        ,\n",
       "         1.        ],\n",
       "       [-0.05250608, -0.82256978,  0.76275827,  0.        ,  0.        ,\n",
       "         1.        ],\n",
       "       [ 1.15917263,  0.32841405,  1.21745768,  0.        ,  0.        ,\n",
       "         1.        ],\n",
       "       [ 1.03800476,  0.55861082,  1.10378283,  0.        ,  0.        ,\n",
       "         1.        ],\n",
       "       [ 1.03800476, -0.13197948,  0.8195957 ,  0.        ,  0.        ,\n",
       "         1.        ],\n",
       "       [ 0.55333328, -1.28296331,  0.70592084,  0.        ,  0.        ,\n",
       "         1.        ],\n",
       "       [ 0.79566902, -0.13197948,  0.8195957 ,  0.        ,  0.        ,\n",
       "         1.        ],\n",
       "       [ 0.4321654 ,  0.78880759,  0.93327055,  0.        ,  0.        ,\n",
       "         1.        ],\n",
       "       [ 0.06866179, -0.13197948,  0.76275827,  0.        ,  0.        ,\n",
       "         1.        ]])"
      ]
     },
     "execution_count": 15,
     "metadata": {},
     "output_type": "execute_result"
    }
   ],
   "source": [
    "X_pre = pre.fit_transform(X)\n",
    "X_pre"
   ]
  },
  {
   "cell_type": "code",
   "execution_count": 16,
   "metadata": {},
   "outputs": [
    {
     "data": {
      "text/plain": [
       "array(['num__sepal_length', 'num__sepal_width', 'num__petal_length',\n",
       "       'cat__species_setosa', 'cat__species_versicolor',\n",
       "       'cat__species_virginica'], dtype=object)"
      ]
     },
     "execution_count": 16,
     "metadata": {},
     "output_type": "execute_result"
    }
   ],
   "source": [
    "cols = pre.get_feature_names_out()\n",
    "cols"
   ]
  },
  {
   "cell_type": "code",
   "execution_count": 17,
   "metadata": {},
   "outputs": [
    {
     "data": {
      "text/html": [
       "<div>\n",
       "<style scoped>\n",
       "    .dataframe tbody tr th:only-of-type {\n",
       "        vertical-align: middle;\n",
       "    }\n",
       "\n",
       "    .dataframe tbody tr th {\n",
       "        vertical-align: top;\n",
       "    }\n",
       "\n",
       "    .dataframe thead th {\n",
       "        text-align: right;\n",
       "    }\n",
       "</style>\n",
       "<table border=\"1\" class=\"dataframe\">\n",
       "  <thead>\n",
       "    <tr style=\"text-align: right;\">\n",
       "      <th></th>\n",
       "      <th>num__sepal_length</th>\n",
       "      <th>num__sepal_width</th>\n",
       "      <th>num__petal_length</th>\n",
       "      <th>cat__species_setosa</th>\n",
       "      <th>cat__species_versicolor</th>\n",
       "      <th>cat__species_virginica</th>\n",
       "    </tr>\n",
       "  </thead>\n",
       "  <tbody>\n",
       "    <tr>\n",
       "      <th>0</th>\n",
       "      <td>-0.900681</td>\n",
       "      <td>1.019004</td>\n",
       "      <td>-1.340227</td>\n",
       "      <td>1.0</td>\n",
       "      <td>0.0</td>\n",
       "      <td>0.0</td>\n",
       "    </tr>\n",
       "    <tr>\n",
       "      <th>1</th>\n",
       "      <td>-1.143017</td>\n",
       "      <td>-0.131979</td>\n",
       "      <td>-1.340227</td>\n",
       "      <td>1.0</td>\n",
       "      <td>0.0</td>\n",
       "      <td>0.0</td>\n",
       "    </tr>\n",
       "    <tr>\n",
       "      <th>2</th>\n",
       "      <td>-1.385353</td>\n",
       "      <td>0.328414</td>\n",
       "      <td>-1.397064</td>\n",
       "      <td>1.0</td>\n",
       "      <td>0.0</td>\n",
       "      <td>0.0</td>\n",
       "    </tr>\n",
       "    <tr>\n",
       "      <th>3</th>\n",
       "      <td>-1.506521</td>\n",
       "      <td>0.098217</td>\n",
       "      <td>-1.283389</td>\n",
       "      <td>1.0</td>\n",
       "      <td>0.0</td>\n",
       "      <td>0.0</td>\n",
       "    </tr>\n",
       "    <tr>\n",
       "      <th>4</th>\n",
       "      <td>-1.021849</td>\n",
       "      <td>1.249201</td>\n",
       "      <td>-1.340227</td>\n",
       "      <td>1.0</td>\n",
       "      <td>0.0</td>\n",
       "      <td>0.0</td>\n",
       "    </tr>\n",
       "  </tbody>\n",
       "</table>\n",
       "</div>"
      ],
      "text/plain": [
       "   num__sepal_length  num__sepal_width  num__petal_length  \\\n",
       "0          -0.900681          1.019004          -1.340227   \n",
       "1          -1.143017         -0.131979          -1.340227   \n",
       "2          -1.385353          0.328414          -1.397064   \n",
       "3          -1.506521          0.098217          -1.283389   \n",
       "4          -1.021849          1.249201          -1.340227   \n",
       "\n",
       "   cat__species_setosa  cat__species_versicolor  cat__species_virginica  \n",
       "0                  1.0                      0.0                     0.0  \n",
       "1                  1.0                      0.0                     0.0  \n",
       "2                  1.0                      0.0                     0.0  \n",
       "3                  1.0                      0.0                     0.0  \n",
       "4                  1.0                      0.0                     0.0  "
      ]
     },
     "execution_count": 17,
     "metadata": {},
     "output_type": "execute_result"
    }
   ],
   "source": [
    "X_pre = pd.DataFrame(X_pre,columns=cols)\n",
    "X_pre.head()"
   ]
  },
  {
   "attachments": {},
   "cell_type": "markdown",
   "metadata": {},
   "source": [
    "### Train Test Split"
   ]
  },
  {
   "cell_type": "code",
   "execution_count": 19,
   "metadata": {},
   "outputs": [],
   "source": [
    "from sklearn.model_selection import train_test_split\n",
    "xtrain, xtest, ytrain, ytest = train_test_split(X_pre, Y, test_size=0.33, random_state=42)"
   ]
  },
  {
   "cell_type": "code",
   "execution_count": 20,
   "metadata": {},
   "outputs": [
    {
     "data": {
      "text/plain": [
       "(100, 6)"
      ]
     },
     "execution_count": 20,
     "metadata": {},
     "output_type": "execute_result"
    }
   ],
   "source": [
    "xtrain.shape"
   ]
  },
  {
   "cell_type": "code",
   "execution_count": 21,
   "metadata": {},
   "outputs": [
    {
     "data": {
      "text/plain": [
       "(50, 6)"
      ]
     },
     "execution_count": 21,
     "metadata": {},
     "output_type": "execute_result"
    }
   ],
   "source": [
    "xtest.shape"
   ]
  },
  {
   "attachments": {},
   "cell_type": "markdown",
   "metadata": {},
   "source": [
    "### Building KNN regressor tuned"
   ]
  },
  {
   "cell_type": "code",
   "execution_count": 18,
   "metadata": {},
   "outputs": [],
   "source": [
    "params = {'n_neighbors':[2,3,4,5,6,7,8,9]}"
   ]
  },
  {
   "cell_type": "code",
   "execution_count": 23,
   "metadata": {},
   "outputs": [
    {
     "data": {
      "text/html": [
       "<style>#sk-container-id-1 {color: black;background-color: white;}#sk-container-id-1 pre{padding: 0;}#sk-container-id-1 div.sk-toggleable {background-color: white;}#sk-container-id-1 label.sk-toggleable__label {cursor: pointer;display: block;width: 100%;margin-bottom: 0;padding: 0.3em;box-sizing: border-box;text-align: center;}#sk-container-id-1 label.sk-toggleable__label-arrow:before {content: \"▸\";float: left;margin-right: 0.25em;color: #696969;}#sk-container-id-1 label.sk-toggleable__label-arrow:hover:before {color: black;}#sk-container-id-1 div.sk-estimator:hover label.sk-toggleable__label-arrow:before {color: black;}#sk-container-id-1 div.sk-toggleable__content {max-height: 0;max-width: 0;overflow: hidden;text-align: left;background-color: #f0f8ff;}#sk-container-id-1 div.sk-toggleable__content pre {margin: 0.2em;color: black;border-radius: 0.25em;background-color: #f0f8ff;}#sk-container-id-1 input.sk-toggleable__control:checked~div.sk-toggleable__content {max-height: 200px;max-width: 100%;overflow: auto;}#sk-container-id-1 input.sk-toggleable__control:checked~label.sk-toggleable__label-arrow:before {content: \"▾\";}#sk-container-id-1 div.sk-estimator input.sk-toggleable__control:checked~label.sk-toggleable__label {background-color: #d4ebff;}#sk-container-id-1 div.sk-label input.sk-toggleable__control:checked~label.sk-toggleable__label {background-color: #d4ebff;}#sk-container-id-1 input.sk-hidden--visually {border: 0;clip: rect(1px 1px 1px 1px);clip: rect(1px, 1px, 1px, 1px);height: 1px;margin: -1px;overflow: hidden;padding: 0;position: absolute;width: 1px;}#sk-container-id-1 div.sk-estimator {font-family: monospace;background-color: #f0f8ff;border: 1px dotted black;border-radius: 0.25em;box-sizing: border-box;margin-bottom: 0.5em;}#sk-container-id-1 div.sk-estimator:hover {background-color: #d4ebff;}#sk-container-id-1 div.sk-parallel-item::after {content: \"\";width: 100%;border-bottom: 1px solid gray;flex-grow: 1;}#sk-container-id-1 div.sk-label:hover label.sk-toggleable__label {background-color: #d4ebff;}#sk-container-id-1 div.sk-serial::before {content: \"\";position: absolute;border-left: 1px solid gray;box-sizing: border-box;top: 0;bottom: 0;left: 50%;z-index: 0;}#sk-container-id-1 div.sk-serial {display: flex;flex-direction: column;align-items: center;background-color: white;padding-right: 0.2em;padding-left: 0.2em;position: relative;}#sk-container-id-1 div.sk-item {position: relative;z-index: 1;}#sk-container-id-1 div.sk-parallel {display: flex;align-items: stretch;justify-content: center;background-color: white;position: relative;}#sk-container-id-1 div.sk-item::before, #sk-container-id-1 div.sk-parallel-item::before {content: \"\";position: absolute;border-left: 1px solid gray;box-sizing: border-box;top: 0;bottom: 0;left: 50%;z-index: -1;}#sk-container-id-1 div.sk-parallel-item {display: flex;flex-direction: column;z-index: 1;position: relative;background-color: white;}#sk-container-id-1 div.sk-parallel-item:first-child::after {align-self: flex-end;width: 50%;}#sk-container-id-1 div.sk-parallel-item:last-child::after {align-self: flex-start;width: 50%;}#sk-container-id-1 div.sk-parallel-item:only-child::after {width: 0;}#sk-container-id-1 div.sk-dashed-wrapped {border: 1px dashed gray;margin: 0 0.4em 0.5em 0.4em;box-sizing: border-box;padding-bottom: 0.4em;background-color: white;}#sk-container-id-1 div.sk-label label {font-family: monospace;font-weight: bold;display: inline-block;line-height: 1.2em;}#sk-container-id-1 div.sk-label-container {text-align: center;}#sk-container-id-1 div.sk-container {/* jupyter's `normalize.less` sets `[hidden] { display: none; }` but bootstrap.min.css set `[hidden] { display: none !important; }` so we also need the `!important` here to be able to override the default hidden behavior on the sphinx rendered scikit-learn.org. See: https://github.com/scikit-learn/scikit-learn/issues/21755 */display: inline-block !important;position: relative;}#sk-container-id-1 div.sk-text-repr-fallback {display: none;}</style><div id=\"sk-container-id-1\" class=\"sk-top-container\"><div class=\"sk-text-repr-fallback\"><pre>RandomizedSearchCV(cv=5, estimator=KNeighborsRegressor(),\n",
       "                   param_distributions={&#x27;n_neighbors&#x27;: [2, 3, 4, 5, 6, 7, 8,\n",
       "                                                        9]},\n",
       "                   scoring=&#x27;neg_mean_squared_error&#x27;)</pre><b>In a Jupyter environment, please rerun this cell to show the HTML representation or trust the notebook. <br />On GitHub, the HTML representation is unable to render, please try loading this page with nbviewer.org.</b></div><div class=\"sk-container\" hidden><div class=\"sk-item sk-dashed-wrapped\"><div class=\"sk-label-container\"><div class=\"sk-label sk-toggleable\"><input class=\"sk-toggleable__control sk-hidden--visually\" id=\"sk-estimator-id-1\" type=\"checkbox\" ><label for=\"sk-estimator-id-1\" class=\"sk-toggleable__label sk-toggleable__label-arrow\">RandomizedSearchCV</label><div class=\"sk-toggleable__content\"><pre>RandomizedSearchCV(cv=5, estimator=KNeighborsRegressor(),\n",
       "                   param_distributions={&#x27;n_neighbors&#x27;: [2, 3, 4, 5, 6, 7, 8,\n",
       "                                                        9]},\n",
       "                   scoring=&#x27;neg_mean_squared_error&#x27;)</pre></div></div></div><div class=\"sk-parallel\"><div class=\"sk-parallel-item\"><div class=\"sk-item\"><div class=\"sk-label-container\"><div class=\"sk-label sk-toggleable\"><input class=\"sk-toggleable__control sk-hidden--visually\" id=\"sk-estimator-id-2\" type=\"checkbox\" ><label for=\"sk-estimator-id-2\" class=\"sk-toggleable__label sk-toggleable__label-arrow\">estimator: KNeighborsRegressor</label><div class=\"sk-toggleable__content\"><pre>KNeighborsRegressor()</pre></div></div></div><div class=\"sk-serial\"><div class=\"sk-item\"><div class=\"sk-estimator sk-toggleable\"><input class=\"sk-toggleable__control sk-hidden--visually\" id=\"sk-estimator-id-3\" type=\"checkbox\" ><label for=\"sk-estimator-id-3\" class=\"sk-toggleable__label sk-toggleable__label-arrow\">KNeighborsRegressor</label><div class=\"sk-toggleable__content\"><pre>KNeighborsRegressor()</pre></div></div></div></div></div></div></div></div></div></div>"
      ],
      "text/plain": [
       "RandomizedSearchCV(cv=5, estimator=KNeighborsRegressor(),\n",
       "                   param_distributions={'n_neighbors': [2, 3, 4, 5, 6, 7, 8,\n",
       "                                                        9]},\n",
       "                   scoring='neg_mean_squared_error')"
      ]
     },
     "execution_count": 23,
     "metadata": {},
     "output_type": "execute_result"
    }
   ],
   "source": [
    "from sklearn.neighbors import KNeighborsRegressor\n",
    "from sklearn.model_selection import RandomizedSearchCV\n",
    "knnr = KNeighborsRegressor()\n",
    "rscv = RandomizedSearchCV(knnr,param_distributions=params,cv=5,scoring='neg_mean_squared_error')\n",
    "rscv.fit(xtrain,ytrain)"
   ]
  },
  {
   "cell_type": "code",
   "execution_count": 24,
   "metadata": {},
   "outputs": [
    {
     "data": {
      "text/plain": [
       "{'n_neighbors': 3}"
      ]
     },
     "execution_count": 24,
     "metadata": {},
     "output_type": "execute_result"
    }
   ],
   "source": [
    "rscv.best_params_"
   ]
  },
  {
   "cell_type": "code",
   "execution_count": 25,
   "metadata": {},
   "outputs": [
    {
     "data": {
      "text/plain": [
       "-0.03272222222222222"
      ]
     },
     "execution_count": 25,
     "metadata": {},
     "output_type": "execute_result"
    }
   ],
   "source": [
    "rscv.best_score_"
   ]
  },
  {
   "cell_type": "code",
   "execution_count": 26,
   "metadata": {},
   "outputs": [
    {
     "data": {
      "text/html": [
       "<style>#sk-container-id-2 {color: black;background-color: white;}#sk-container-id-2 pre{padding: 0;}#sk-container-id-2 div.sk-toggleable {background-color: white;}#sk-container-id-2 label.sk-toggleable__label {cursor: pointer;display: block;width: 100%;margin-bottom: 0;padding: 0.3em;box-sizing: border-box;text-align: center;}#sk-container-id-2 label.sk-toggleable__label-arrow:before {content: \"▸\";float: left;margin-right: 0.25em;color: #696969;}#sk-container-id-2 label.sk-toggleable__label-arrow:hover:before {color: black;}#sk-container-id-2 div.sk-estimator:hover label.sk-toggleable__label-arrow:before {color: black;}#sk-container-id-2 div.sk-toggleable__content {max-height: 0;max-width: 0;overflow: hidden;text-align: left;background-color: #f0f8ff;}#sk-container-id-2 div.sk-toggleable__content pre {margin: 0.2em;color: black;border-radius: 0.25em;background-color: #f0f8ff;}#sk-container-id-2 input.sk-toggleable__control:checked~div.sk-toggleable__content {max-height: 200px;max-width: 100%;overflow: auto;}#sk-container-id-2 input.sk-toggleable__control:checked~label.sk-toggleable__label-arrow:before {content: \"▾\";}#sk-container-id-2 div.sk-estimator input.sk-toggleable__control:checked~label.sk-toggleable__label {background-color: #d4ebff;}#sk-container-id-2 div.sk-label input.sk-toggleable__control:checked~label.sk-toggleable__label {background-color: #d4ebff;}#sk-container-id-2 input.sk-hidden--visually {border: 0;clip: rect(1px 1px 1px 1px);clip: rect(1px, 1px, 1px, 1px);height: 1px;margin: -1px;overflow: hidden;padding: 0;position: absolute;width: 1px;}#sk-container-id-2 div.sk-estimator {font-family: monospace;background-color: #f0f8ff;border: 1px dotted black;border-radius: 0.25em;box-sizing: border-box;margin-bottom: 0.5em;}#sk-container-id-2 div.sk-estimator:hover {background-color: #d4ebff;}#sk-container-id-2 div.sk-parallel-item::after {content: \"\";width: 100%;border-bottom: 1px solid gray;flex-grow: 1;}#sk-container-id-2 div.sk-label:hover label.sk-toggleable__label {background-color: #d4ebff;}#sk-container-id-2 div.sk-serial::before {content: \"\";position: absolute;border-left: 1px solid gray;box-sizing: border-box;top: 0;bottom: 0;left: 50%;z-index: 0;}#sk-container-id-2 div.sk-serial {display: flex;flex-direction: column;align-items: center;background-color: white;padding-right: 0.2em;padding-left: 0.2em;position: relative;}#sk-container-id-2 div.sk-item {position: relative;z-index: 1;}#sk-container-id-2 div.sk-parallel {display: flex;align-items: stretch;justify-content: center;background-color: white;position: relative;}#sk-container-id-2 div.sk-item::before, #sk-container-id-2 div.sk-parallel-item::before {content: \"\";position: absolute;border-left: 1px solid gray;box-sizing: border-box;top: 0;bottom: 0;left: 50%;z-index: -1;}#sk-container-id-2 div.sk-parallel-item {display: flex;flex-direction: column;z-index: 1;position: relative;background-color: white;}#sk-container-id-2 div.sk-parallel-item:first-child::after {align-self: flex-end;width: 50%;}#sk-container-id-2 div.sk-parallel-item:last-child::after {align-self: flex-start;width: 50%;}#sk-container-id-2 div.sk-parallel-item:only-child::after {width: 0;}#sk-container-id-2 div.sk-dashed-wrapped {border: 1px dashed gray;margin: 0 0.4em 0.5em 0.4em;box-sizing: border-box;padding-bottom: 0.4em;background-color: white;}#sk-container-id-2 div.sk-label label {font-family: monospace;font-weight: bold;display: inline-block;line-height: 1.2em;}#sk-container-id-2 div.sk-label-container {text-align: center;}#sk-container-id-2 div.sk-container {/* jupyter's `normalize.less` sets `[hidden] { display: none; }` but bootstrap.min.css set `[hidden] { display: none !important; }` so we also need the `!important` here to be able to override the default hidden behavior on the sphinx rendered scikit-learn.org. See: https://github.com/scikit-learn/scikit-learn/issues/21755 */display: inline-block !important;position: relative;}#sk-container-id-2 div.sk-text-repr-fallback {display: none;}</style><div id=\"sk-container-id-2\" class=\"sk-top-container\"><div class=\"sk-text-repr-fallback\"><pre>KNeighborsRegressor(n_neighbors=3)</pre><b>In a Jupyter environment, please rerun this cell to show the HTML representation or trust the notebook. <br />On GitHub, the HTML representation is unable to render, please try loading this page with nbviewer.org.</b></div><div class=\"sk-container\" hidden><div class=\"sk-item\"><div class=\"sk-estimator sk-toggleable\"><input class=\"sk-toggleable__control sk-hidden--visually\" id=\"sk-estimator-id-4\" type=\"checkbox\" checked><label for=\"sk-estimator-id-4\" class=\"sk-toggleable__label sk-toggleable__label-arrow\">KNeighborsRegressor</label><div class=\"sk-toggleable__content\"><pre>KNeighborsRegressor(n_neighbors=3)</pre></div></div></div></div></div>"
      ],
      "text/plain": [
       "KNeighborsRegressor(n_neighbors=3)"
      ]
     },
     "execution_count": 26,
     "metadata": {},
     "output_type": "execute_result"
    }
   ],
   "source": [
    "best_knnr = rscv.best_estimator_\n",
    "best_knnr"
   ]
  },
  {
   "attachments": {},
   "cell_type": "markdown",
   "metadata": {},
   "source": [
    "### Evaluate r2 scores"
   ]
  },
  {
   "cell_type": "code",
   "execution_count": 27,
   "metadata": {},
   "outputs": [
    {
     "data": {
      "text/plain": [
       "0.9735458829172137"
      ]
     },
     "execution_count": 27,
     "metadata": {},
     "output_type": "execute_result"
    }
   ],
   "source": [
    "best_knnr.score(xtrain,ytrain)"
   ]
  },
  {
   "cell_type": "code",
   "execution_count": 28,
   "metadata": {},
   "outputs": [
    {
     "data": {
      "text/plain": [
       "0.9505024588411375"
      ]
     },
     "execution_count": 28,
     "metadata": {},
     "output_type": "execute_result"
    }
   ],
   "source": [
    "best_knnr.score(xtest,ytest)"
   ]
  },
  {
   "attachments": {},
   "cell_type": "markdown",
   "metadata": {},
   "source": [
    "### Predict values for training and testing"
   ]
  },
  {
   "cell_type": "code",
   "execution_count": 29,
   "metadata": {},
   "outputs": [],
   "source": [
    "ypred_tr = best_knnr.predict(xtrain)\n",
    "ypred_ts = best_knnr.predict(xtest)"
   ]
  },
  {
   "cell_type": "code",
   "execution_count": 31,
   "metadata": {},
   "outputs": [
    {
     "data": {
      "text/plain": [
       "array([[1.26666667],\n",
       "       [2.06666667],\n",
       "       [1.33333333],\n",
       "       [0.26666667],\n",
       "       [2.        ]])"
      ]
     },
     "execution_count": 31,
     "metadata": {},
     "output_type": "execute_result"
    }
   ],
   "source": [
    "ypred_tr[0:5]"
   ]
  },
  {
   "cell_type": "code",
   "execution_count": 32,
   "metadata": {},
   "outputs": [
    {
     "data": {
      "text/html": [
       "<div>\n",
       "<style scoped>\n",
       "    .dataframe tbody tr th:only-of-type {\n",
       "        vertical-align: middle;\n",
       "    }\n",
       "\n",
       "    .dataframe tbody tr th {\n",
       "        vertical-align: top;\n",
       "    }\n",
       "\n",
       "    .dataframe thead th {\n",
       "        text-align: right;\n",
       "    }\n",
       "</style>\n",
       "<table border=\"1\" class=\"dataframe\">\n",
       "  <thead>\n",
       "    <tr style=\"text-align: right;\">\n",
       "      <th></th>\n",
       "      <th>petal_width</th>\n",
       "    </tr>\n",
       "  </thead>\n",
       "  <tbody>\n",
       "    <tr>\n",
       "      <th>96</th>\n",
       "      <td>1.3</td>\n",
       "    </tr>\n",
       "    <tr>\n",
       "      <th>105</th>\n",
       "      <td>2.1</td>\n",
       "    </tr>\n",
       "    <tr>\n",
       "      <th>66</th>\n",
       "      <td>1.5</td>\n",
       "    </tr>\n",
       "    <tr>\n",
       "      <th>0</th>\n",
       "      <td>0.2</td>\n",
       "    </tr>\n",
       "    <tr>\n",
       "      <th>122</th>\n",
       "      <td>2.0</td>\n",
       "    </tr>\n",
       "  </tbody>\n",
       "</table>\n",
       "</div>"
      ],
      "text/plain": [
       "     petal_width\n",
       "96           1.3\n",
       "105          2.1\n",
       "66           1.5\n",
       "0            0.2\n",
       "122          2.0"
      ]
     },
     "execution_count": 32,
     "metadata": {},
     "output_type": "execute_result"
    }
   ],
   "source": [
    "ytrain.head()"
   ]
  },
  {
   "cell_type": "code",
   "execution_count": 35,
   "metadata": {},
   "outputs": [
    {
     "data": {
      "text/plain": [
       "array([[1.43333333],\n",
       "       [0.26666667],\n",
       "       [1.9       ],\n",
       "       [1.36666667],\n",
       "       [1.5       ]])"
      ]
     },
     "execution_count": 35,
     "metadata": {},
     "output_type": "execute_result"
    }
   ],
   "source": [
    "ypred_ts[0:5]"
   ]
  },
  {
   "cell_type": "code",
   "execution_count": 36,
   "metadata": {},
   "outputs": [
    {
     "data": {
      "text/html": [
       "<div>\n",
       "<style scoped>\n",
       "    .dataframe tbody tr th:only-of-type {\n",
       "        vertical-align: middle;\n",
       "    }\n",
       "\n",
       "    .dataframe tbody tr th {\n",
       "        vertical-align: top;\n",
       "    }\n",
       "\n",
       "    .dataframe thead th {\n",
       "        text-align: right;\n",
       "    }\n",
       "</style>\n",
       "<table border=\"1\" class=\"dataframe\">\n",
       "  <thead>\n",
       "    <tr style=\"text-align: right;\">\n",
       "      <th></th>\n",
       "      <th>petal_width</th>\n",
       "    </tr>\n",
       "  </thead>\n",
       "  <tbody>\n",
       "    <tr>\n",
       "      <th>73</th>\n",
       "      <td>1.2</td>\n",
       "    </tr>\n",
       "    <tr>\n",
       "      <th>18</th>\n",
       "      <td>0.3</td>\n",
       "    </tr>\n",
       "    <tr>\n",
       "      <th>118</th>\n",
       "      <td>2.3</td>\n",
       "    </tr>\n",
       "    <tr>\n",
       "      <th>78</th>\n",
       "      <td>1.5</td>\n",
       "    </tr>\n",
       "    <tr>\n",
       "      <th>76</th>\n",
       "      <td>1.4</td>\n",
       "    </tr>\n",
       "  </tbody>\n",
       "</table>\n",
       "</div>"
      ],
      "text/plain": [
       "     petal_width\n",
       "73           1.2\n",
       "18           0.3\n",
       "118          2.3\n",
       "78           1.5\n",
       "76           1.4"
      ]
     },
     "execution_count": 36,
     "metadata": {},
     "output_type": "execute_result"
    }
   ],
   "source": [
    "ytest.head()"
   ]
  },
  {
   "attachments": {},
   "cell_type": "markdown",
   "metadata": {},
   "source": [
    "### Evaluate all the scores"
   ]
  },
  {
   "cell_type": "code",
   "execution_count": 37,
   "metadata": {},
   "outputs": [
    {
     "name": "stdout",
     "output_type": "stream",
     "text": [
      "Training Results:\n",
      "MSE  : 0.01\n",
      "RMSE : 0.12\n",
      "MAE  : 0.09\n",
      "R2   : 0.9735\n",
      "\n",
      "=======================\n",
      "\n",
      "Testing Results:\n",
      "MSE  : 0.03\n",
      "RMSE : 0.18\n",
      "MAE  : 0.13\n",
      "R2   : 0.9505\n"
     ]
    }
   ],
   "source": [
    "from custom_def import evaluate_model\n",
    "evaluate_model(xtrain,ytrain,xtest,ytest,best_knnr)"
   ]
  },
  {
   "cell_type": "code",
   "execution_count": 38,
   "metadata": {},
   "outputs": [
    {
     "data": {
      "text/plain": [
       "0.9718391656860662"
      ]
     },
     "execution_count": 38,
     "metadata": {},
     "output_type": "execute_result"
    }
   ],
   "source": [
    "from custom_def import r2_adj\n",
    "r2_adj(xtrain,ytrain,best_knnr)"
   ]
  },
  {
   "cell_type": "code",
   "execution_count": 39,
   "metadata": {},
   "outputs": [
    {
     "data": {
      "text/plain": [
       "Index(['sepal_length', 'sepal_width', 'petal_length', 'species'], dtype='object')"
      ]
     },
     "execution_count": 39,
     "metadata": {},
     "output_type": "execute_result"
    }
   ],
   "source": [
    "X.columns"
   ]
  },
  {
   "attachments": {},
   "cell_type": "markdown",
   "metadata": {},
   "source": [
    "### Predict the new datapoint"
   ]
  },
  {
   "cell_type": "code",
   "execution_count": 40,
   "metadata": {},
   "outputs": [],
   "source": [
    "def predict_data(model, pre):\n",
    "    sep_len = float(input('Please enter Sepal Length : '))\n",
    "    sep_wid = float(input('Please enter Sepal Width : '))\n",
    "    pet_len = float(input('Please enter petal length : '))\n",
    "    spe = input('Please Enter the species : ')\n",
    "    xnew = pd.DataFrame([sep_len,sep_wid,pet_len,spe]).T\n",
    "    xnew.columns = ['sepal_length', 'sepal_width', 'petal_length', 'species']\n",
    "    print('DataFrame Before Preprocessing : \\n')\n",
    "    display(xnew)\n",
    "    xnew_pre = pre.transform(xnew)\n",
    "    xnew_pre = pd.DataFrame(xnew_pre,columns=pre.get_feature_names_out())\n",
    "    print('DataFrame After Preprocessing : \\n')\n",
    "    display(xnew_pre)\n",
    "    pred = model.predict(xnew_pre)\n",
    "    print(f'Predicted Petal Width is : {pred}')\n",
    "    return pred"
   ]
  },
  {
   "cell_type": "code",
   "execution_count": 41,
   "metadata": {},
   "outputs": [
    {
     "name": "stdout",
     "output_type": "stream",
     "text": [
      "DataFrame Before Preprocessing : \n",
      "\n"
     ]
    },
    {
     "data": {
      "text/html": [
       "<div>\n",
       "<style scoped>\n",
       "    .dataframe tbody tr th:only-of-type {\n",
       "        vertical-align: middle;\n",
       "    }\n",
       "\n",
       "    .dataframe tbody tr th {\n",
       "        vertical-align: top;\n",
       "    }\n",
       "\n",
       "    .dataframe thead th {\n",
       "        text-align: right;\n",
       "    }\n",
       "</style>\n",
       "<table border=\"1\" class=\"dataframe\">\n",
       "  <thead>\n",
       "    <tr style=\"text-align: right;\">\n",
       "      <th></th>\n",
       "      <th>sepal_length</th>\n",
       "      <th>sepal_width</th>\n",
       "      <th>petal_length</th>\n",
       "      <th>species</th>\n",
       "    </tr>\n",
       "  </thead>\n",
       "  <tbody>\n",
       "    <tr>\n",
       "      <th>0</th>\n",
       "      <td>6.2</td>\n",
       "      <td>2.2</td>\n",
       "      <td>4.5</td>\n",
       "      <td>versicolor</td>\n",
       "    </tr>\n",
       "  </tbody>\n",
       "</table>\n",
       "</div>"
      ],
      "text/plain": [
       "  sepal_length sepal_width petal_length     species\n",
       "0          6.2         2.2          4.5  versicolor"
      ]
     },
     "metadata": {},
     "output_type": "display_data"
    },
    {
     "name": "stdout",
     "output_type": "stream",
     "text": [
      "DataFrame After Preprocessing : \n",
      "\n"
     ]
    },
    {
     "data": {
      "text/html": [
       "<div>\n",
       "<style scoped>\n",
       "    .dataframe tbody tr th:only-of-type {\n",
       "        vertical-align: middle;\n",
       "    }\n",
       "\n",
       "    .dataframe tbody tr th {\n",
       "        vertical-align: top;\n",
       "    }\n",
       "\n",
       "    .dataframe thead th {\n",
       "        text-align: right;\n",
       "    }\n",
       "</style>\n",
       "<table border=\"1\" class=\"dataframe\">\n",
       "  <thead>\n",
       "    <tr style=\"text-align: right;\">\n",
       "      <th></th>\n",
       "      <th>num__sepal_length</th>\n",
       "      <th>num__sepal_width</th>\n",
       "      <th>num__petal_length</th>\n",
       "      <th>cat__species_setosa</th>\n",
       "      <th>cat__species_versicolor</th>\n",
       "      <th>cat__species_virginica</th>\n",
       "    </tr>\n",
       "  </thead>\n",
       "  <tbody>\n",
       "    <tr>\n",
       "      <th>0</th>\n",
       "      <td>0.432165</td>\n",
       "      <td>-1.973554</td>\n",
       "      <td>0.421734</td>\n",
       "      <td>0.0</td>\n",
       "      <td>1.0</td>\n",
       "      <td>0.0</td>\n",
       "    </tr>\n",
       "  </tbody>\n",
       "</table>\n",
       "</div>"
      ],
      "text/plain": [
       "   num__sepal_length  num__sepal_width  num__petal_length  \\\n",
       "0           0.432165         -1.973554           0.421734   \n",
       "\n",
       "   cat__species_setosa  cat__species_versicolor  cat__species_virginica  \n",
       "0                  0.0                      1.0                     0.0  "
      ]
     },
     "metadata": {},
     "output_type": "display_data"
    },
    {
     "name": "stdout",
     "output_type": "stream",
     "text": [
      "Predicted Petal Width is : [[1.26666667]]\n"
     ]
    },
    {
     "data": {
      "text/plain": [
       "array([[1.26666667]])"
      ]
     },
     "execution_count": 41,
     "metadata": {},
     "output_type": "execute_result"
    }
   ],
   "source": [
    "predict_data(best_knnr,pre)"
   ]
  }
 ],
 "metadata": {
  "kernelspec": {
   "display_name": "venv",
   "language": "python",
   "name": "python3"
  },
  "language_info": {
   "codemirror_mode": {
    "name": "ipython",
    "version": 3
   },
   "file_extension": ".py",
   "mimetype": "text/x-python",
   "name": "python",
   "nbconvert_exporter": "python",
   "pygments_lexer": "ipython3",
   "version": "3.10.7"
  },
  "orig_nbformat": 4
 },
 "nbformat": 4,
 "nbformat_minor": 2
}
